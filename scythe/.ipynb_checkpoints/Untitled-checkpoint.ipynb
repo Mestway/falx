{
 "cells": [
  {
   "cell_type": "code",
   "execution_count": 1,
   "metadata": {},
   "outputs": [
    {
     "ename": "NameError",
     "evalue": "name 'NamedTable' is not defined",
     "output_type": "error",
     "traceback": [
      "\u001b[0;31m---------------------------------------------------------------------------\u001b[0m",
      "\u001b[0;31mNameError\u001b[0m                                 Traceback (most recent call last)",
      "\u001b[0;32m<ipython-input-1-fbd64b2fc5dd>\u001b[0m in \u001b[0;36m<module>\u001b[0;34m\u001b[0m\n\u001b[1;32m     27\u001b[0m               [2, 3, \"E\"]])\n\u001b[1;32m     28\u001b[0m \u001b[0;34m\u001b[0m\u001b[0m\n\u001b[0;32m---> 29\u001b[0;31m q1 = As(Aggr(NamedTable(T), \n\u001b[0m\u001b[1;32m     30\u001b[0m              \u001b[0mgb_fields\u001b[0m\u001b[0;34m=\u001b[0m\u001b[0;34m[\u001b[0m\u001b[0mColRef\u001b[0m\u001b[0;34m(\u001b[0m\u001b[0;34m\"T.id\"\u001b[0m\u001b[0;34m)\u001b[0m\u001b[0;34m]\u001b[0m\u001b[0;34m,\u001b[0m\u001b[0;34m\u001b[0m\u001b[0;34m\u001b[0m\u001b[0m\n\u001b[1;32m     31\u001b[0m              \u001b[0mtargets\u001b[0m\u001b[0;34m=\u001b[0m\u001b[0;34m[\u001b[0m\u001b[0;34m(\u001b[0m\u001b[0mmax\u001b[0m\u001b[0;34m,\u001b[0m \u001b[0mColRef\u001b[0m\u001b[0;34m(\u001b[0m\u001b[0;34m\"T.rev\"\u001b[0m\u001b[0;34m)\u001b[0m\u001b[0;34m,\u001b[0m \u001b[0;34m\"max-rev\"\u001b[0m\u001b[0;34m)\u001b[0m\u001b[0;34m]\u001b[0m\u001b[0;34m,\u001b[0m\u001b[0;34m\u001b[0m\u001b[0;34m\u001b[0m\u001b[0m\n",
      "\u001b[0;31mNameError\u001b[0m: name 'NamedTable' is not defined"
     ]
    }
   ],
   "source": [
    "from sql import *\n",
    "import operator as ops\n",
    "\n",
    "## input\n",
    "\n",
    "# | id   |  rev   |  content  |\n",
    "# |---------------------------|\n",
    "# | 1    |  1     |  A        |\n",
    "# | 2    |  1     |  B        |\n",
    "# | 1    |  2     |  C        |\n",
    "# | 1    |  3     |  D        |\n",
    "# | 2    |  3     |  E        |\n",
    "\n",
    "## output\n",
    "\n",
    "# | c1   | c2   | c3   |\n",
    "# |--------------------|\n",
    "# |  1   |  3   |  D   |\n",
    "# |  2   |  3   |  E   |\n",
    "\n",
    "T = Table(name=\"T\", fields=[\"id\", \"rev\", \"content\"], \n",
    "          values = [\n",
    "              [1, 1, \"A\"],\n",
    "              [2, 1, \"B\"],\n",
    "              [1, 2, \"C\"],\n",
    "              [1, 3, \"D\"],\n",
    "              [2, 3, \"E\"]])\n",
    "\n",
    "q1 = As(Aggr(T, \n",
    "             gb_fields=[ColRef(\"T.id\")], \n",
    "             targets=[(max, ColRef(\"T.rev\"), \"max-rev\")], \n",
    "             having_pred=TruePred()),\n",
    "        name=\"t1\",\n",
    "        fields=[\"id\", \"max-rev\"])\n",
    "\n",
    "q2 = As(Join(q1, T, \n",
    "             ConjPred(\n",
    "                 BasicPred(ops.eq, ColRef(\"t1.id\"), ColRef(\"T.id\")),\n",
    "                 BasicPred(ops.eq, ColRef(\"t1.max-rev\"), ColRef(\"T.rev\")))), \"t2\", [\"id\", \"max-rev\", \"id1\", \"rev\", \"content\"])\n",
    "\n",
    "q3 = Select(q2, [ColRef(\"t2.id\"), ColRef(\"t2.rev\"), ColRef(\"t2.content\")], pred=TruePred())\n",
    "\n",
    "print(q3.eval())"
   ]
  }
 ],
 "metadata": {
  "kernelspec": {
   "display_name": "Python 3",
   "language": "python",
   "name": "python3"
  },
  "language_info": {
   "codemirror_mode": {
    "name": "ipython",
    "version": 3
   },
   "file_extension": ".py",
   "mimetype": "text/x-python",
   "name": "python",
   "nbconvert_exporter": "python",
   "pygments_lexer": "ipython3",
   "version": "3.7.1"
  }
 },
 "nbformat": 4,
 "nbformat_minor": 2
}
