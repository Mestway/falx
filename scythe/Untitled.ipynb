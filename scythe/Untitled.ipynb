{
 "cells": [
  {
   "cell_type": "code",
   "execution_count": 4,
   "metadata": {},
   "outputs": [
    {
     "name": "stdout",
     "output_type": "stream",
     "text": [
      "[[1, 3, 'D'], [2, 3, 'E']]\n",
      "[[3]]\n"
     ]
    }
   ],
   "source": [
    "from sql import *\n",
    "import operator as ops\n",
    "\n",
    "## input\n",
    "\n",
    "# | id   |  rev   |  content  |\n",
    "# |---------------------------|\n",
    "# | 1    |  1     |  A        |\n",
    "# | 2    |  1     |  B        |\n",
    "# | 1    |  2     |  C        |\n",
    "# | 1    |  3     |  D        |\n",
    "# | 2    |  3     |  E        |\n",
    "\n",
    "## output\n",
    "\n",
    "# | c1   | c2   | c3   |\n",
    "# |--------------------|\n",
    "# |  1   |  3   |  D   |\n",
    "# |  2   |  3   |  E   |\n",
    "\n",
    "T = Table(name=\"T\", fields=[\"id\", \"rev\", \"content\"], \n",
    "          values = [\n",
    "              [1, 1, \"A\"],\n",
    "              [2, 1, \"B\"],\n",
    "              [1, 2, \"C\"],\n",
    "              [1, 3, \"D\"],\n",
    "              [2, 3, \"E\"]])\n",
    "\n",
    "q1 = As(Aggr(T, \n",
    "             gb_fields=[ColRef(\"T.id\")], \n",
    "             targets=[(max, ColRef(\"T.rev\"), \"max-rev\")], \n",
    "             having_pred=TruePred()),\n",
    "        name=\"t1\",\n",
    "        fields=[\"id\", \"max-rev\"])\n",
    "\n",
    "q2 = As(Join(q1, T, \n",
    "             ConjPred(\n",
    "                 BasicPred(ops.eq, ColRef(\"t1.id\"), ColRef(\"T.id\")),\n",
    "                 BasicPred(ops.eq, ColRef(\"t1.max-rev\"), ColRef(\"T.rev\")))), \n",
    "        \"t2\", [\"id\", \"max-rev\", \"id1\", \"rev\", \"content\"])\n",
    "\n",
    "q3 = Select(q2, [ColRef(\"t2.id\"), ColRef(\"t2.rev\"), ColRef(\"t2.content\")], pred=TruePred())\n",
    "\n",
    "print(q3.eval())\n",
    "\n",
    "q4 = As(Aggr(T, \n",
    "             gb_fields=[], \n",
    "             targets=[(max, ColRef(\"T.rev\"), \"max-rev\")], \n",
    "             having_pred=TruePred()),\n",
    "        name=\"t1\",\n",
    "        fields=[\"id\", \"max-rev\"])\n",
    "\n",
    "print(q4.eval())\n"
   ]
  }
 ],
 "metadata": {
  "kernelspec": {
   "display_name": "Python 3",
   "language": "python",
   "name": "python3"
  },
  "language_info": {
   "codemirror_mode": {
    "name": "ipython",
    "version": 3
   },
   "file_extension": ".py",
   "mimetype": "text/x-python",
   "name": "python",
   "nbconvert_exporter": "python",
   "pygments_lexer": "ipython3",
   "version": "3.7.1"
  }
 },
 "nbformat": 4,
 "nbformat_minor": 2
}
