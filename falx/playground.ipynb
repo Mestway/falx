{
 "cells": [
  {
   "cell_type": "code",
   "execution_count": 7,
   "metadata": {
    "scrolled": false
   },
   "outputs": [
    {
     "name": "stderr",
     "output_type": "stream",
     "text": [
      "[info] Parsing spec ...\n",
      "[info] Parsing succeeded\n",
      "[info] Building synthesizer ...\n"
     ]
    },
    {
     "name": "stdout",
     "output_type": "stream",
     "text": [
      "# run synthesize 043.json\n"
     ]
    },
    {
     "name": "stderr",
     "output_type": "stream",
     "text": [
      "[info] Synthesizing programs ...\n",
      "[info] Solution not found!\n"
     ]
    }
   ],
   "source": [
    "import rpy2.ipython\n",
    "import warnings\n",
    "warnings.filterwarnings('ignore')\n",
    "\n",
    "%reload_ext rpy2.ipython\n",
    "%reload_ext autoreload\n",
    "\n",
    "import json\n",
    "import pandas as pd\n",
    "import os\n",
    "from vega import VegaLite\n",
    "from ipywidgets import widgets\n",
    "\n",
    "from falx.chart import *\n",
    "from interface import Falx\n",
    "\n",
    "DATA_DIR = os.path.join(\"..\", \"benchmarks\")\n",
    "\n",
    "def render_ggplot2(vis):\n",
    "    \"\"\"Given a visualization (VisDesign object), \n",
    "        render it using ggplot\"\"\"\n",
    "    \n",
    "    ggplot_script = vis.to_ggplot2()\n",
    "    print(\"\\n\".join(ggplot_script))\n",
    "    for l in ggplot_script:\n",
    "        %R -i l\n",
    "        %R eval(parse(text=l))\n",
    "    %R print(p)\n",
    "\n",
    "def render_vegalite(vis):\n",
    "    # Render a visualization using vegalite\n",
    "    VegaLite(vis.to_vl_obj()).display()\n",
    "    \n",
    "def run_synthesis(fname):\n",
    "\n",
    "    with open(os.path.join(DATA_DIR, fname), \"r\") as f:\n",
    "        data = json.load(f)\n",
    "\n",
    "    print(\"# run synthesize {}\".format(fname))\n",
    "\n",
    "    input_data = table_utils.load_and_clean_table(data[\"input_data\"])\n",
    "    vis = VisDesign.load_from_vegalite(data[\"vl_spec\"], data[\"output_data\"])\n",
    "    \n",
    "    trace = vis.eval()\n",
    "    candidates = Falx.synthesize(inputs=[input_data], vtrace=trace)\n",
    "    \n",
    "    for pt, pv in candidates:\n",
    "        render_vegalite(pv)\n",
    "        #render_ggplot2(pv)\n",
    "        \n",
    "def view_benchmarks(dirname):\n",
    "\n",
    "    for fname in os.listdir(dirname):\n",
    "        if not fname.endswith(\".json\"): continue\n",
    "            \n",
    "        if \"003\" not in fname: continue\n",
    "    \n",
    "        with open(os.path.join(dirname, fname), \"r\") as f:\n",
    "            data = json.load(f)\n",
    "\n",
    "        print(\"# run synthesize {}\".format(fname))\n",
    "\n",
    "        input_data = table_utils.load_and_clean_table(data[\"input_data\"])\n",
    "        vis = VisDesign.load_from_vegalite(data[\"vl_spec\"], data[\"output_data\"])\n",
    "        try:\n",
    "            render_vegalite(vis)\n",
    "            render_ggplot2(vis)\n",
    "        except:\n",
    "            pass\n",
    "run_synthesis('043.json')\n",
    "#view_benchmarks(DATA_DIR)"
   ]
  }
 ],
 "metadata": {
  "kernelspec": {
   "display_name": "falx",
   "language": "python",
   "name": "falx"
  },
  "language_info": {
   "codemirror_mode": {
    "name": "ipython",
    "version": 3
   },
   "file_extension": ".py",
   "mimetype": "text/x-python",
   "name": "python",
   "nbconvert_exporter": "python",
   "pygments_lexer": "ipython3",
   "version": "3.7.2"
  }
 },
 "nbformat": 4,
 "nbformat_minor": 2
}
