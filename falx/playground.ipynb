{
 "cells": [
  {
   "cell_type": "code",
   "execution_count": 1,
   "metadata": {},
   "outputs": [
    {
     "name": "stderr",
     "output_type": "stream",
     "text": [
      "R[write to console]: \n",
      "Attaching package: ‘dplyr’\n",
      "\n",
      "\n",
      "R[write to console]: The following objects are masked from ‘package:stats’:\n",
      "\n",
      "    filter, lag\n",
      "\n",
      "\n",
      "R[write to console]: The following objects are masked from ‘package:base’:\n",
      "\n",
      "    intersect, setdiff, setequal, union\n",
      "\n",
      "\n",
      "Widget Javascript not detected.  It may not be installed or enabled properly.\n"
     ]
    },
    {
     "data": {
      "application/vnd.jupyter.widget-view+json": {
       "model_id": "36da517613f34f8fbf077bc49c6a491d"
      }
     },
     "metadata": {},
     "output_type": "display_data"
    },
    {
     "name": "stderr",
     "output_type": "stream",
     "text": [
      "Widget Javascript not detected.  It may not be installed or enabled properly.\n"
     ]
    },
    {
     "data": {
      "application/vnd.jupyter.widget-view+json": {
       "model_id": "73ee3ff649424786989a87ae6e810bae"
      }
     },
     "metadata": {},
     "output_type": "display_data"
    },
    {
     "name": "stdout",
     "output_type": "stream",
     "text": [
      "# run synthesize 003.json\n"
     ]
    },
    {
     "data": {
      "application/javascript": [
       "var spec = {\"mark\": \"bar\", \"encoding\": {\"x\": {\"field\": \"Month\", \"type\": \"nominal\", \"sort_order\": \"none\"}, \"y2\": {\"field\": \"Net Cash Flow Sum\"}, \"y\": {\"field\": \"c\", \"type\": \"quantitative\"}, \"color\": {\"field\": \"d\", \"type\": \"nominal\"}}, \"data\": {\"values\": [{\"Month\": \"Start\", \"Net Cash Flow\": 80000, \"Net Cash Flow Sum\": 80000, \"c\": 0, \"d\": false}, {\"Month\": \"Apr\", \"Net Cash Flow\": -5003, \"Net Cash Flow Sum\": 74997, \"c\": 80000, \"d\": true}, {\"Month\": \"May\", \"Net Cash Flow\": -16700, \"Net Cash Flow Sum\": 58297, \"c\": 74997, \"d\": true}, {\"Month\": \"Jun\", \"Net Cash Flow\": 48802, \"Net Cash Flow Sum\": 107099, \"c\": 58297, \"d\": false}, {\"Month\": \"Jul\", \"Net Cash Flow\": -11198, \"Net Cash Flow Sum\": 95901, \"c\": 107099, \"d\": true}, {\"Month\": \"Aug\", \"Net Cash Flow\": -35260, \"Net Cash Flow Sum\": 60641, \"c\": 95901, \"d\": true}, {\"Month\": \"Sep\", \"Net Cash Flow\": 18220, \"Net Cash Flow Sum\": 78861, \"c\": 60641, \"d\": false}, {\"Month\": \"Oct\", \"Net Cash Flow\": -23840, \"Net Cash Flow Sum\": 55021, \"c\": 78861, \"d\": true}, {\"Month\": \"Nov\", \"Net Cash Flow\": 43250, \"Net Cash Flow Sum\": 98271, \"c\": 55021, \"d\": false}, {\"Month\": \"Dec\", \"Net Cash Flow\": -18280, \"Net Cash Flow Sum\": 79991, \"c\": 98271, \"d\": true}, {\"Month\": \"Jan\", \"Net Cash Flow\": 26670, \"Net Cash Flow Sum\": 106661, \"c\": 79991, \"d\": false}, {\"Month\": \"Feb\", \"Net Cash Flow\": 15000, \"Net Cash Flow Sum\": 121661, \"c\": 106661, \"d\": false}, {\"Month\": \"Mar\", \"Net Cash Flow\": 24750, \"Net Cash Flow Sum\": 146411, \"c\": 121661, \"d\": false}]}};\n",
       "var opt = {};\n",
       "var type = \"vega-lite\";\n",
       "var id = \"1c366801-2a09-4f22-bcd7-acc9df4f1f6f\";\n",
       "\n",
       "var output_area = this;\n",
       "\n",
       "require([\"nbextensions/jupyter-vega/index\"], function(vega) {\n",
       "  var target = document.createElement(\"div\");\n",
       "  target.id = id;\n",
       "  target.className = \"vega-embed\";\n",
       "\n",
       "  var style = document.createElement(\"style\");\n",
       "  style.textContent = [\n",
       "    \".vega-embed .error p {\",\n",
       "    \"  color: firebrick;\",\n",
       "    \"  font-size: 14px;\",\n",
       "    \"}\",\n",
       "  ].join(\"\\\\n\");\n",
       "\n",
       "  // element is a jQuery wrapped DOM element inside the output area\n",
       "  // see http://ipython.readthedocs.io/en/stable/api/generated/\\\n",
       "  // IPython.display.html#IPython.display.Javascript.__init__\n",
       "  element[0].appendChild(target);\n",
       "  element[0].appendChild(style);\n",
       "\n",
       "  vega.render(\"#\" + id, spec, type, opt, output_area);\n",
       "}, function (err) {\n",
       "  if (err.requireType !== \"scripterror\") {\n",
       "    throw(err);\n",
       "  }\n",
       "});\n"
      ],
      "text/plain": [
       "<vega.vegalite.VegaLite at 0x7fd7743de080>"
      ]
     },
     "metadata": {
      "jupyter-vega": "#1c366801-2a09-4f22-bcd7-acc9df4f1f6f"
     },
     "output_type": "display_data"
    },
    {
     "name": "stdout",
     "output_type": "stream",
     "text": [
      "----------\n",
      "library(jsonlite)\n",
      "library(ggplot2)\n",
      "data <- fromJSON('[{\"Month\": \"Start\", \"Net Cash Flow\": 80000, \"Net Cash Flow Sum\": 80000, \"c\": 0, \"d\": false}, {\"Month\": \"Apr\", \"Net Cash Flow\": -5003, \"Net Cash Flow Sum\": 74997, \"c\": 80000, \"d\": true}, {\"Month\": \"May\", \"Net Cash Flow\": -16700, \"Net Cash Flow Sum\": 58297, \"c\": 74997, \"d\": true}, {\"Month\": \"Jun\", \"Net Cash Flow\": 48802, \"Net Cash Flow Sum\": 107099, \"c\": 58297, \"d\": false}, {\"Month\": \"Jul\", \"Net Cash Flow\": -11198, \"Net Cash Flow Sum\": 95901, \"c\": 107099, \"d\": true}, {\"Month\": \"Aug\", \"Net Cash Flow\": -35260, \"Net Cash Flow Sum\": 60641, \"c\": 95901, \"d\": true}, {\"Month\": \"Sep\", \"Net Cash Flow\": 18220, \"Net Cash Flow Sum\": 78861, \"c\": 60641, \"d\": false}, {\"Month\": \"Oct\", \"Net Cash Flow\": -23840, \"Net Cash Flow Sum\": 55021, \"c\": 78861, \"d\": true}, {\"Month\": \"Nov\", \"Net Cash Flow\": 43250, \"Net Cash Flow Sum\": 98271, \"c\": 55021, \"d\": false}, {\"Month\": \"Dec\", \"Net Cash Flow\": -18280, \"Net Cash Flow Sum\": 79991, \"c\": 98271, \"d\": true}, {\"Month\": \"Jan\", \"Net Cash Flow\": 26670, \"Net Cash Flow Sum\": 106661, \"c\": 79991, \"d\": false}, {\"Month\": \"Feb\", \"Net Cash Flow\": 15000, \"Net Cash Flow Sum\": 121661, \"c\": 106661, \"d\": false}, {\"Month\": \"Mar\", \"Net Cash Flow\": 24750, \"Net Cash Flow Sum\": 146411, \"c\": 121661, \"d\": false}]')\n",
      "p <- ggplot() + geom_bar(data=data,aes(x=`Month`,y2=`Net Cash Flow Sum`,y=`c`,fill=`d`),stat ='identity',alpha=1)\n",
      "p\n",
      "----------\n"
     ]
    },
    {
     "data": {
      "image/png": "[encoded data removed]"
     },
     "metadata": {
      "jupyter-vega": "#1c366801-2a09-4f22-bcd7-acc9df4f1f6f"
     },
     "output_type": "display_data"
    }
   ],
   "source": [
    "import json\n",
    "import pandas as pd\n",
    "import os\n",
    "from vega import VegaLite\n",
    "from ipywidgets import widgets\n",
    "\n",
    "from falx.chart import *\n",
    "from interface import Falx\n",
    "\n",
    "DATA_DIR = os.path.join(\"..\", \"benchmarks\")\n",
    "\n",
    "def try_example(fname):\n",
    "\n",
    "    with open(os.path.join(DATA_DIR, fname), \"r\") as f:\n",
    "        data = json.load(f)\n",
    "\n",
    "    print(\"# run synthesize {}\".format(fname))\n",
    "\n",
    "    input_data = table_utils.load_and_clean_table(data[\"input_data\"])\n",
    "    vis = VisDesign.load_from_vegalite(data[\"vl_spec\"], data[\"output_data\"])\n",
    "    ggplot_script = \"\\n\".join(vis.to_ggplot2())\n",
    "    \n",
    "    # display plot\n",
    "    VegaLite(vis.to_vl_obj()).display()\n",
    "    \n",
    "    print('----------')\n",
    "    print(ggplot_script)\n",
    "    print('----------')\n",
    "    \n",
    "    \n",
    "text_box = widgets.Text(value='001.json')\n",
    "button = widgets.Button(description=\"run\")\n",
    "\n",
    "display(text_box)\n",
    "display(button)\n",
    "\n",
    "def on_button_clicked(b):\n",
    "    try_example(text_box.value)\n",
    "\n",
    "button.on_click(on_button_clicked)"
   ]
  }
 ],
 "metadata": {
  "kernelspec": {
   "display_name": "Python 3",
   "language": "python",
   "name": "python3"
  },
  "language_info": {
   "codemirror_mode": {
    "name": "ipython",
    "version": 3
   },
   "file_extension": ".py",
   "mimetype": "text/x-python",
   "name": "python",
   "nbconvert_exporter": "python",
   "pygments_lexer": "ipython3",
   "version": "3.7.3"
  }
 },
 "nbformat": 4,
 "nbformat_minor": 2
}
