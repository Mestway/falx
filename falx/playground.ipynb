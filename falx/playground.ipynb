{
 "cells": [
  {
   "cell_type": "code",
   "execution_count": 1,
   "metadata": {
    "scrolled": false
   },
   "outputs": [
    {
     "name": "stderr",
     "output_type": "stream",
     "text": [
      "R[write to console]: \n",
      "Attaching package: ‘dplyr’\n",
      "\n",
      "\n",
      "R[write to console]: The following objects are masked from ‘package:stats’:\n",
      "\n",
      "    filter, lag\n",
      "\n",
      "\n",
      "R[write to console]: The following objects are masked from ‘package:base’:\n",
      "\n",
      "    intersect, setdiff, setequal, union\n",
      "\n",
      "\n"
     ]
    }
   ],
   "source": [
    "import rpy2.ipython\n",
    "import warnings\n",
    "warnings.filterwarnings('ignore')\n",
    "\n",
    "%reload_ext rpy2.ipython\n",
    "%reload_ext autoreload\n",
    "\n",
    "import json\n",
    "import pandas as pd\n",
    "import os\n",
    "from vega import VegaLite\n",
    "from ipywidgets import widgets\n",
    "\n",
    "from falx.chart import *\n",
    "from falx.interface import *\n",
    "\n",
    "DATA_DIR = os.path.join(\"..\", \"benchmarks\")\n",
    "\n",
    "def render_ggplot2(vis):\n",
    "    \"\"\"Given a visualization (VisDesign object), \n",
    "        render it using ggplot\"\"\"\n",
    "    \n",
    "    ggplot_script = vis.to_ggplot2()\n",
    "    print(\"\\n\".join(ggplot_script))\n",
    "    for l in ggplot_script:\n",
    "        %R -i l\n",
    "        %R eval(parse(text=l))\n",
    "    %R print(p)\n",
    "\n",
    "def render_vegalite(vis):\n",
    "    # Render a visualization using vegalite\n",
    "    VegaLite(vis.to_vl_obj()).display()\n",
    "    \n",
    "\n",
    "def view_benchmarks(dirname):\n",
    "\n",
    "    for fname in os.listdir(dirname):\n",
    "        if not fname.endswith(\".json\"): continue\n",
    "            \n",
    "        if \"003\" not in fname: continue\n",
    "    \n",
    "        with open(os.path.join(dirname, fname), \"r\") as f:\n",
    "            data = json.load(f)\n",
    "\n",
    "        input_data = table_utils.load_and_clean_table(data[\"input_data\"])\n",
    "        vis = VisDesign.load_from_vegalite(data[\"vl_spec\"], data[\"output_data\"])\n",
    "        try:\n",
    "            render_vegalite(vis)\n",
    "            render_ggplot2(vis)\n",
    "        except:\n",
    "            pass\n",
    "#view_benchmarks(DATA_DIR)"
   ]
  },
  {
   "cell_type": "code",
   "execution_count": 2,
   "metadata": {
    "scrolled": false
   },
   "outputs": [
    {
     "name": "stderr",
     "output_type": "stream",
     "text": [
      "[info] Parsing spec ...\n",
      "[info] Parsing succeeded\n",
      "[info] Building synthesizer ...\n",
      "[info] Synthesizing programs ...\n",
      "[info] Solution not found!\n"
     ]
    },
    {
     "name": "stdout",
     "output_type": "stream",
     "text": [
      "         Value      Y1      Y2      Y3      Y4      Y5\n",
      "1        means  0.5200  0.5700  0.6000  0.6300  0.6300\n",
      "2       stddev  0.1328  0.1321  0.1303  0.1266  0.1225\n",
      "3  upper range  0.6600  0.7000  0.7300  0.7500  0.7500\n",
      "4  lower range  0.3900  0.4400  0.4700  0.5000  0.5100\n",
      "  c_x   c_y  c_y2\n",
      "1  Y1  0.66  0.39\n",
      "2  Y2  0.70  0.44\n"
     ]
    },
    {
     "name": "stderr",
     "output_type": "stream",
     "text": [
      "[info] Synthesizing programs ...\n",
      "R[write to console]: Error: Each row of output must be identified by a unique combination of keys.\n",
      "Keys are shared for 4 rows:\n",
      "* 9, 13\n",
      "* 11, 15\n",
      "Do you need to create unique ID with tibble::rowid_to_column()?\n",
      "Backtrace:\n",
      "\u001b[90m    \u001b[39m█\n",
      "\u001b[90m 1. \u001b[39m├─(function (expr, envir = parent.frame(), enclos = if (is.list(envir) || ...\n",
      "\u001b[90m 2. \u001b[39m│ └─(function (expr, envir = parent.frame(), enclos = if (is.list(envir) || ...\n",
      "\u001b[90m 3. \u001b[39m├─tidyr::spread(RET_DF134, 1, 3)\n",
      "\u001b[90m 4. \u001b[39m└─tidyr:::spread.data.frame(RET_DF134, 1, 3)\n",
      "\n",
      "[error] Error in interpreting spread...\n",
      "R[write to console]: Error: Each row of output must be identified by a unique combination of keys.\n",
      "Keys are shared for 4 rows:\n",
      "* 13, 17\n",
      "* 15, 19\n",
      "Do you need to create unique ID with tibble::rowid_to_column()?\n",
      "Backtrace:\n",
      "\u001b[90m    \u001b[39m█\n",
      "\u001b[90m 1. \u001b[39m├─(function (expr, envir = parent.frame(), enclos = if (is.list(envir) || ...\n",
      "\u001b[90m 2. \u001b[39m│ └─(function (expr, envir = parent.frame(), enclos = if (is.list(envir) || ...\n",
      "\u001b[90m 3. \u001b[39m├─tidyr::spread(RET_DF389, 1, 2)\n",
      "\u001b[90m 4. \u001b[39m└─tidyr:::spread.data.frame(RET_DF389, 1, 2)\n",
      "\n",
      "[error] Error in interpreting spread...\n",
      "[info] # Solutions found:\n",
      "[info]   [gatherNeg(@param0, ['-1']), spread(gatherNeg(@param0, ['-1']), 1, 3)]\n",
      "[info] # Continue searching for solutions: 1 found (expecting 10)\n",
      "[info] Parsing spec ...\n",
      "[info] Parsing succeeded\n",
      "[info] Building synthesizer ...\n",
      "[info] Synthesizing programs ...\n"
     ]
    },
    {
     "name": "stdout",
     "output_type": "stream",
     "text": [
      "         Value      Y1      Y2      Y3      Y4      Y5\n",
      "1        means  0.5200  0.5700  0.6000  0.6300  0.6300\n",
      "2       stddev  0.1328  0.1321  0.1303  0.1266  0.1225\n",
      "3  upper range  0.6600  0.7000  0.7300  0.7500  0.7500\n",
      "4  lower range  0.3900  0.4400  0.4700  0.5000  0.5100\n",
      "  c_x   c_y\n",
      "1  Y1  0.52\n",
      "2  Y2  0.57\n",
      "3  Y3  0.60\n"
     ]
    },
    {
     "name": "stderr",
     "output_type": "stream",
     "text": [
      "[info] # Solutions found:\n",
      "[info]   [gather(@param0, ['2', '3', '4'])]\n",
      "[info]   [gatherNeg(@param0, ['-1', '-6'])]\n",
      "[info]   [gatherNeg(@param0, ['-1'])]\n",
      "[info]   [gatherNeg(@param0, ['-1', '-5', '-6'])]\n",
      "[info]   [gatherNeg(@param0, ['-1', '-5'])]\n",
      "[info] # Continue searching for solutions: 5 found (expecting 10)\n",
      "[info] Synthesizing programs ...\n",
      "R[write to console]: Error: Each row of output must be identified by a unique combination of keys.\n",
      "Keys are shared for 4 rows:\n",
      "* 5, 9\n",
      "* 7, 11\n",
      "Do you need to create unique ID with tibble::rowid_to_column()?\n",
      "Backtrace:\n",
      "\u001b[90m    \u001b[39m█\n",
      "\u001b[90m 1. \u001b[39m├─(function (expr, envir = parent.frame(), enclos = if (is.list(envir) || ...\n",
      "\u001b[90m 2. \u001b[39m│ └─(function (expr, envir = parent.frame(), enclos = if (is.list(envir) || ...\n",
      "\u001b[90m 3. \u001b[39m├─tidyr::spread(RET_DF1354, 1, 4)\n",
      "\u001b[90m 4. \u001b[39m└─tidyr:::spread.data.frame(RET_DF1354, 1, 4)\n",
      "\n",
      "R[write to console]: In addition: \n",
      "R[write to console]: Warning messages:\n",
      "\n",
      "R[write to console]: 1: Expected 2 pieces. Missing pieces filled with `NA` in 2 rows [1, 2]. \n",
      "\n",
      "R[write to console]: 2: NAs introduced by coercion \n",
      "\n",
      "[error] Error in interpreting spread...\n",
      "[info] # candidates before getting the correct solution: 2\n",
      "[info] # Solutions found:\n",
      "[info]   [gatherNeg(@param0, ['-1', '-5', '-6']), spread(gatherNeg(@param0, ['-1', '-5', '-6']), 1, 3)]\n",
      "[info]   [mutate(@param0, +, 4, 5), gatherNeg(mutate(@param0, +, 4, 5), ['-1'])]\n",
      "[info] # Continue searching for solutions: 7 found (expecting 10)\n"
     ]
    },
    {
     "name": "stdout",
     "output_type": "stream",
     "text": [
      "# candidates before getting the correct solution: 2\n",
      "[{'c_x': 'KEY', 'c_y': 'upper range', 'c_y2': 'lower range'}, {'c_x': 'KEY', 'c_y': 'VALUE'}]\n",
      "[{'c_x': 'KEY', 'c_y': 'upper range', 'c_y2': 'lower range'}, {'c_x': 'KEY', 'c_y': 'VALUE'}]\n",
      "[{'c_x': 'KEY', 'c_y': 'upper range', 'c_y2': 'lower range'}, {'c_x': 'KEY', 'c_y': 'VALUE'}]\n",
      "[{'c_x': 'KEY', 'c_y': 'upper range', 'c_y2': 'lower range'}, {'c_x': 'KEY', 'c_y': 'VALUE'}]\n",
      "[{'c_x': 'KEY', 'c_y': 'upper range', 'c_y2': 'lower range'}, {'c_x': 'KEY', 'c_y': 'VALUE'}]\n",
      "[{'c_x': 'KEY', 'c_y': 'upper range', 'c_y2': 'lower range'}, {'c_x': 'KEY', 'c_y': 'VALUE'}]\n",
      "[{'c_x': 'KEY', 'c_y': 'upper range', 'c_y2': 'lower range'}, {'c_x': 'KEY', 'c_y': 'VALUE'}]\n"
     ]
    },
    {
     "data": {
      "text/plain": [
       "[[gatherNeg(@param0, ['-1']), spread(gatherNeg(@param0, ['-1']), 1, 3)],\n",
       " [gather(@param0, ['2', '3', '4'])]]"
      ]
     },
     "metadata": {},
     "output_type": "display_data"
    },
    {
     "data": {
      "application/javascript": [
       "const spec = {\"layer\": [{\"mark\": {\"type\": \"area\", \"opacity\": 0.7}, \"encoding\": {\"x\": {\"field\": \"KEY\", \"type\": \"nominal\"}, \"y\": {\"field\": \"upper range\", \"type\": \"quantitative\"}, \"y2\": {\"field\": \"lower range\"}}, \"transform\": [{\"filter\": \"datum.layer_id == 0\"}]}, {\"mark\": {\"type\": \"line\", \"opacity\": 0.7}, \"encoding\": {\"x\": {\"field\": \"KEY\", \"type\": \"nominal\"}, \"y\": {\"field\": \"VALUE\", \"type\": \"quantitative\"}, \"order\": {\"field\": \"KEY\", \"type\": \"quantitative\"}}, \"transform\": [{\"filter\": \"datum.layer_id == 1\"}]}], \"resolve\": {}, \"data\": {\"values\": [{\"KEY\": \"Y1\", \"lower range\": 0.39, \"means\": 0.52, \"stddev\": 0.1328, \"upper range\": 0.66, \"layer_id\": 0}, {\"KEY\": \"Y2\", \"lower range\": 0.44, \"means\": 0.57, \"stddev\": 0.1321, \"upper range\": 0.7, \"layer_id\": 0}, {\"KEY\": \"Y3\", \"lower range\": 0.47, \"means\": 0.6, \"stddev\": 0.1303, \"upper range\": 0.73, \"layer_id\": 0}, {\"KEY\": \"Y4\", \"lower range\": 0.5, \"means\": 0.63, \"stddev\": 0.1266, \"upper range\": 0.75, \"layer_id\": 0}, {\"KEY\": \"Y5\", \"lower range\": 0.51, \"means\": 0.63, \"stddev\": 0.1225, \"upper range\": 0.75, \"layer_id\": 0}, {\"Value\": \"means\", \"Y4\": 0.63, \"Y5\": 0.63, \"KEY\": \"Y1\", \"VALUE\": 0.52, \"layer_id\": 1}, {\"Value\": \"stddev\", \"Y4\": 0.1266, \"Y5\": 0.1225, \"KEY\": \"Y1\", \"VALUE\": 0.1328, \"layer_id\": 1}, {\"Value\": \"upper range\", \"Y4\": 0.75, \"Y5\": 0.75, \"KEY\": \"Y1\", \"VALUE\": 0.66, \"layer_id\": 1}, {\"Value\": \"lower range\", \"Y4\": 0.5, \"Y5\": 0.51, \"KEY\": \"Y1\", \"VALUE\": 0.39, \"layer_id\": 1}, {\"Value\": \"means\", \"Y4\": 0.63, \"Y5\": 0.63, \"KEY\": \"Y2\", \"VALUE\": 0.57, \"layer_id\": 1}, {\"Value\": \"stddev\", \"Y4\": 0.1266, \"Y5\": 0.1225, \"KEY\": \"Y2\", \"VALUE\": 0.1321, \"layer_id\": 1}, {\"Value\": \"upper range\", \"Y4\": 0.75, \"Y5\": 0.75, \"KEY\": \"Y2\", \"VALUE\": 0.7, \"layer_id\": 1}, {\"Value\": \"lower range\", \"Y4\": 0.5, \"Y5\": 0.51, \"KEY\": \"Y2\", \"VALUE\": 0.44, \"layer_id\": 1}, {\"Value\": \"means\", \"Y4\": 0.63, \"Y5\": 0.63, \"KEY\": \"Y3\", \"VALUE\": 0.6, \"layer_id\": 1}, {\"Value\": \"stddev\", \"Y4\": 0.1266, \"Y5\": 0.1225, \"KEY\": \"Y3\", \"VALUE\": 0.1303, \"layer_id\": 1}, {\"Value\": \"upper range\", \"Y4\": 0.75, \"Y5\": 0.75, \"KEY\": \"Y3\", \"VALUE\": 0.73, \"layer_id\": 1}, {\"Value\": \"lower range\", \"Y4\": 0.5, \"Y5\": 0.51, \"KEY\": \"Y3\", \"VALUE\": 0.47, \"layer_id\": 1}]}};\n",
       "const opt = {};\n",
       "const type = \"vega-lite\";\n",
       "const id = \"dd71f8e4-5d1b-4890-ae4c-e8f5f9a960ad\";\n",
       "\n",
       "const output_area = this;\n",
       "\n",
       "require([\"nbextensions/jupyter-vega/index\"], function(vega) {\n",
       "  const target = document.createElement(\"div\");\n",
       "  target.id = id;\n",
       "  target.className = \"vega-embed\";\n",
       "\n",
       "  const style = document.createElement(\"style\");\n",
       "  style.textContent = [\n",
       "    \".vega-embed .error p {\",\n",
       "    \"  color: firebrick;\",\n",
       "    \"  font-size: 14px;\",\n",
       "    \"}\",\n",
       "  ].join(\"\\\\n\");\n",
       "\n",
       "  // element is a jQuery wrapped DOM element inside the output area\n",
       "  // see http://ipython.readthedocs.io/en/stable/api/generated/\\\n",
       "  // IPython.display.html#IPython.display.Javascript.__init__\n",
       "  element[0].appendChild(target);\n",
       "  element[0].appendChild(style);\n",
       "\n",
       "  vega.render(\"#\" + id, spec, type, opt, output_area);\n",
       "}, function (err) {\n",
       "  if (err.requireType !== \"scripterror\") {\n",
       "    throw(err);\n",
       "  }\n",
       "});\n"
      ],
      "text/plain": [
       "<vega.vegalite.VegaLite at 0x125131490>"
      ]
     },
     "metadata": {
      "jupyter-vega": "#dd71f8e4-5d1b-4890-ae4c-e8f5f9a960ad"
     },
     "output_type": "display_data"
    },
    {
     "data": {
      "text/plain": [
       "[[gatherNeg(@param0, ['-1']), spread(gatherNeg(@param0, ['-1']), 1, 3)],\n",
       " [gatherNeg(@param0, ['-1', '-6'])]]"
      ]
     },
     "metadata": {},
     "output_type": "display_data"
    },
    {
     "data": {
      "application/javascript": [
       "const spec = {\"layer\": [{\"mark\": {\"type\": \"area\", \"opacity\": 0.7}, \"encoding\": {\"x\": {\"field\": \"KEY\", \"type\": \"nominal\"}, \"y\": {\"field\": \"upper range\", \"type\": \"quantitative\"}, \"y2\": {\"field\": \"lower range\"}}, \"transform\": [{\"filter\": \"datum.layer_id == 0\"}]}, {\"mark\": {\"type\": \"line\", \"opacity\": 0.7}, \"encoding\": {\"x\": {\"field\": \"KEY\", \"type\": \"nominal\"}, \"y\": {\"field\": \"VALUE\", \"type\": \"quantitative\"}, \"order\": {\"field\": \"KEY\", \"type\": \"quantitative\"}}, \"transform\": [{\"filter\": \"datum.layer_id == 1\"}]}], \"resolve\": {}, \"data\": {\"values\": [{\"KEY\": \"Y1\", \"lower range\": 0.39, \"means\": 0.52, \"stddev\": 0.1328, \"upper range\": 0.66, \"layer_id\": 0}, {\"KEY\": \"Y2\", \"lower range\": 0.44, \"means\": 0.57, \"stddev\": 0.1321, \"upper range\": 0.7, \"layer_id\": 0}, {\"KEY\": \"Y3\", \"lower range\": 0.47, \"means\": 0.6, \"stddev\": 0.1303, \"upper range\": 0.73, \"layer_id\": 0}, {\"KEY\": \"Y4\", \"lower range\": 0.5, \"means\": 0.63, \"stddev\": 0.1266, \"upper range\": 0.75, \"layer_id\": 0}, {\"KEY\": \"Y5\", \"lower range\": 0.51, \"means\": 0.63, \"stddev\": 0.1225, \"upper range\": 0.75, \"layer_id\": 0}, {\"Value\": \"means\", \"Y5\": 0.63, \"KEY\": \"Y1\", \"VALUE\": 0.52, \"layer_id\": 1}, {\"Value\": \"stddev\", \"Y5\": 0.1225, \"KEY\": \"Y1\", \"VALUE\": 0.1328, \"layer_id\": 1}, {\"Value\": \"upper range\", \"Y5\": 0.75, \"KEY\": \"Y1\", \"VALUE\": 0.66, \"layer_id\": 1}, {\"Value\": \"lower range\", \"Y5\": 0.51, \"KEY\": \"Y1\", \"VALUE\": 0.39, \"layer_id\": 1}, {\"Value\": \"means\", \"Y5\": 0.63, \"KEY\": \"Y2\", \"VALUE\": 0.57, \"layer_id\": 1}, {\"Value\": \"stddev\", \"Y5\": 0.1225, \"KEY\": \"Y2\", \"VALUE\": 0.1321, \"layer_id\": 1}, {\"Value\": \"upper range\", \"Y5\": 0.75, \"KEY\": \"Y2\", \"VALUE\": 0.7, \"layer_id\": 1}, {\"Value\": \"lower range\", \"Y5\": 0.51, \"KEY\": \"Y2\", \"VALUE\": 0.44, \"layer_id\": 1}, {\"Value\": \"means\", \"Y5\": 0.63, \"KEY\": \"Y3\", \"VALUE\": 0.6, \"layer_id\": 1}, {\"Value\": \"stddev\", \"Y5\": 0.1225, \"KEY\": \"Y3\", \"VALUE\": 0.1303, \"layer_id\": 1}, {\"Value\": \"upper range\", \"Y5\": 0.75, \"KEY\": \"Y3\", \"VALUE\": 0.73, \"layer_id\": 1}, {\"Value\": \"lower range\", \"Y5\": 0.51, \"KEY\": \"Y3\", \"VALUE\": 0.47, \"layer_id\": 1}, {\"Value\": \"means\", \"Y5\": 0.63, \"KEY\": \"Y4\", \"VALUE\": 0.63, \"layer_id\": 1}, {\"Value\": \"stddev\", \"Y5\": 0.1225, \"KEY\": \"Y4\", \"VALUE\": 0.1266, \"layer_id\": 1}, {\"Value\": \"upper range\", \"Y5\": 0.75, \"KEY\": \"Y4\", \"VALUE\": 0.75, \"layer_id\": 1}, {\"Value\": \"lower range\", \"Y5\": 0.51, \"KEY\": \"Y4\", \"VALUE\": 0.5, \"layer_id\": 1}]}};\n",
       "const opt = {};\n",
       "const type = \"vega-lite\";\n",
       "const id = \"8b931ea6-31dc-42a1-837d-25b641443f7e\";\n",
       "\n",
       "const output_area = this;\n",
       "\n",
       "require([\"nbextensions/jupyter-vega/index\"], function(vega) {\n",
       "  const target = document.createElement(\"div\");\n",
       "  target.id = id;\n",
       "  target.className = \"vega-embed\";\n",
       "\n",
       "  const style = document.createElement(\"style\");\n",
       "  style.textContent = [\n",
       "    \".vega-embed .error p {\",\n",
       "    \"  color: firebrick;\",\n",
       "    \"  font-size: 14px;\",\n",
       "    \"}\",\n",
       "  ].join(\"\\\\n\");\n",
       "\n",
       "  // element is a jQuery wrapped DOM element inside the output area\n",
       "  // see http://ipython.readthedocs.io/en/stable/api/generated/\\\n",
       "  // IPython.display.html#IPython.display.Javascript.__init__\n",
       "  element[0].appendChild(target);\n",
       "  element[0].appendChild(style);\n",
       "\n",
       "  vega.render(\"#\" + id, spec, type, opt, output_area);\n",
       "}, function (err) {\n",
       "  if (err.requireType !== \"scripterror\") {\n",
       "    throw(err);\n",
       "  }\n",
       "});\n"
      ],
      "text/plain": [
       "<vega.vegalite.VegaLite at 0x125131490>"
      ]
     },
     "metadata": {
      "jupyter-vega": "#8b931ea6-31dc-42a1-837d-25b641443f7e"
     },
     "output_type": "display_data"
    },
    {
     "data": {
      "text/plain": [
       "[[gatherNeg(@param0, ['-1']), spread(gatherNeg(@param0, ['-1']), 1, 3)],\n",
       " [gatherNeg(@param0, ['-1'])]]"
      ]
     },
     "metadata": {},
     "output_type": "display_data"
    },
    {
     "data": {
      "application/javascript": [
       "const spec = {\"layer\": [{\"mark\": {\"type\": \"area\", \"opacity\": 0.7}, \"encoding\": {\"x\": {\"field\": \"KEY\", \"type\": \"nominal\"}, \"y\": {\"field\": \"upper range\", \"type\": \"quantitative\"}, \"y2\": {\"field\": \"lower range\"}}, \"transform\": [{\"filter\": \"datum.layer_id == 0\"}]}, {\"mark\": {\"type\": \"line\", \"opacity\": 0.7}, \"encoding\": {\"x\": {\"field\": \"KEY\", \"type\": \"nominal\"}, \"y\": {\"field\": \"VALUE\", \"type\": \"quantitative\"}, \"order\": {\"field\": \"KEY\", \"type\": \"quantitative\"}}, \"transform\": [{\"filter\": \"datum.layer_id == 1\"}]}], \"resolve\": {}, \"data\": {\"values\": [{\"KEY\": \"Y1\", \"lower range\": 0.39, \"means\": 0.52, \"stddev\": 0.1328, \"upper range\": 0.66, \"layer_id\": 0}, {\"KEY\": \"Y2\", \"lower range\": 0.44, \"means\": 0.57, \"stddev\": 0.1321, \"upper range\": 0.7, \"layer_id\": 0}, {\"KEY\": \"Y3\", \"lower range\": 0.47, \"means\": 0.6, \"stddev\": 0.1303, \"upper range\": 0.73, \"layer_id\": 0}, {\"KEY\": \"Y4\", \"lower range\": 0.5, \"means\": 0.63, \"stddev\": 0.1266, \"upper range\": 0.75, \"layer_id\": 0}, {\"KEY\": \"Y5\", \"lower range\": 0.51, \"means\": 0.63, \"stddev\": 0.1225, \"upper range\": 0.75, \"layer_id\": 0}, {\"Value\": \"means\", \"KEY\": \"Y1\", \"VALUE\": 0.52, \"layer_id\": 1}, {\"Value\": \"stddev\", \"KEY\": \"Y1\", \"VALUE\": 0.1328, \"layer_id\": 1}, {\"Value\": \"upper range\", \"KEY\": \"Y1\", \"VALUE\": 0.66, \"layer_id\": 1}, {\"Value\": \"lower range\", \"KEY\": \"Y1\", \"VALUE\": 0.39, \"layer_id\": 1}, {\"Value\": \"means\", \"KEY\": \"Y2\", \"VALUE\": 0.57, \"layer_id\": 1}, {\"Value\": \"stddev\", \"KEY\": \"Y2\", \"VALUE\": 0.1321, \"layer_id\": 1}, {\"Value\": \"upper range\", \"KEY\": \"Y2\", \"VALUE\": 0.7, \"layer_id\": 1}, {\"Value\": \"lower range\", \"KEY\": \"Y2\", \"VALUE\": 0.44, \"layer_id\": 1}, {\"Value\": \"means\", \"KEY\": \"Y3\", \"VALUE\": 0.6, \"layer_id\": 1}, {\"Value\": \"stddev\", \"KEY\": \"Y3\", \"VALUE\": 0.1303, \"layer_id\": 1}, {\"Value\": \"upper range\", \"KEY\": \"Y3\", \"VALUE\": 0.73, \"layer_id\": 1}, {\"Value\": \"lower range\", \"KEY\": \"Y3\", \"VALUE\": 0.47, \"layer_id\": 1}, {\"Value\": \"means\", \"KEY\": \"Y4\", \"VALUE\": 0.63, \"layer_id\": 1}, {\"Value\": \"stddev\", \"KEY\": \"Y4\", \"VALUE\": 0.1266, \"layer_id\": 1}, {\"Value\": \"upper range\", \"KEY\": \"Y4\", \"VALUE\": 0.75, \"layer_id\": 1}, {\"Value\": \"lower range\", \"KEY\": \"Y4\", \"VALUE\": 0.5, \"layer_id\": 1}, {\"Value\": \"means\", \"KEY\": \"Y5\", \"VALUE\": 0.63, \"layer_id\": 1}, {\"Value\": \"stddev\", \"KEY\": \"Y5\", \"VALUE\": 0.1225, \"layer_id\": 1}, {\"Value\": \"upper range\", \"KEY\": \"Y5\", \"VALUE\": 0.75, \"layer_id\": 1}, {\"Value\": \"lower range\", \"KEY\": \"Y5\", \"VALUE\": 0.51, \"layer_id\": 1}]}};\n",
       "const opt = {};\n",
       "const type = \"vega-lite\";\n",
       "const id = \"089cd81f-b2d0-4b9d-8a0b-b19f65b6ca7c\";\n",
       "\n",
       "const output_area = this;\n",
       "\n",
       "require([\"nbextensions/jupyter-vega/index\"], function(vega) {\n",
       "  const target = document.createElement(\"div\");\n",
       "  target.id = id;\n",
       "  target.className = \"vega-embed\";\n",
       "\n",
       "  const style = document.createElement(\"style\");\n",
       "  style.textContent = [\n",
       "    \".vega-embed .error p {\",\n",
       "    \"  color: firebrick;\",\n",
       "    \"  font-size: 14px;\",\n",
       "    \"}\",\n",
       "  ].join(\"\\\\n\");\n",
       "\n",
       "  // element is a jQuery wrapped DOM element inside the output area\n",
       "  // see http://ipython.readthedocs.io/en/stable/api/generated/\\\n",
       "  // IPython.display.html#IPython.display.Javascript.__init__\n",
       "  element[0].appendChild(target);\n",
       "  element[0].appendChild(style);\n",
       "\n",
       "  vega.render(\"#\" + id, spec, type, opt, output_area);\n",
       "}, function (err) {\n",
       "  if (err.requireType !== \"scripterror\") {\n",
       "    throw(err);\n",
       "  }\n",
       "});\n"
      ],
      "text/plain": [
       "<vega.vegalite.VegaLite at 0x124b9bc10>"
      ]
     },
     "metadata": {
      "jupyter-vega": "#089cd81f-b2d0-4b9d-8a0b-b19f65b6ca7c"
     },
     "output_type": "display_data"
    },
    {
     "data": {
      "text/plain": [
       "[[gatherNeg(@param0, ['-1']), spread(gatherNeg(@param0, ['-1']), 1, 3)],\n",
       " [gatherNeg(@param0, ['-1', '-5', '-6'])]]"
      ]
     },
     "metadata": {},
     "output_type": "display_data"
    },
    {
     "data": {
      "application/javascript": [
       "const spec = {\"layer\": [{\"mark\": {\"type\": \"area\", \"opacity\": 0.7}, \"encoding\": {\"x\": {\"field\": \"KEY\", \"type\": \"nominal\"}, \"y\": {\"field\": \"upper range\", \"type\": \"quantitative\"}, \"y2\": {\"field\": \"lower range\"}}, \"transform\": [{\"filter\": \"datum.layer_id == 0\"}]}, {\"mark\": {\"type\": \"line\", \"opacity\": 0.7}, \"encoding\": {\"x\": {\"field\": \"KEY\", \"type\": \"nominal\"}, \"y\": {\"field\": \"VALUE\", \"type\": \"quantitative\"}, \"order\": {\"field\": \"KEY\", \"type\": \"quantitative\"}}, \"transform\": [{\"filter\": \"datum.layer_id == 1\"}]}], \"resolve\": {}, \"data\": {\"values\": [{\"KEY\": \"Y1\", \"lower range\": 0.39, \"means\": 0.52, \"stddev\": 0.1328, \"upper range\": 0.66, \"layer_id\": 0}, {\"KEY\": \"Y2\", \"lower range\": 0.44, \"means\": 0.57, \"stddev\": 0.1321, \"upper range\": 0.7, \"layer_id\": 0}, {\"KEY\": \"Y3\", \"lower range\": 0.47, \"means\": 0.6, \"stddev\": 0.1303, \"upper range\": 0.73, \"layer_id\": 0}, {\"KEY\": \"Y4\", \"lower range\": 0.5, \"means\": 0.63, \"stddev\": 0.1266, \"upper range\": 0.75, \"layer_id\": 0}, {\"KEY\": \"Y5\", \"lower range\": 0.51, \"means\": 0.63, \"stddev\": 0.1225, \"upper range\": 0.75, \"layer_id\": 0}, {\"Value\": \"means\", \"Y4\": 0.63, \"Y5\": 0.63, \"KEY\": \"Y1\", \"VALUE\": 0.52, \"layer_id\": 1}, {\"Value\": \"stddev\", \"Y4\": 0.1266, \"Y5\": 0.1225, \"KEY\": \"Y1\", \"VALUE\": 0.1328, \"layer_id\": 1}, {\"Value\": \"upper range\", \"Y4\": 0.75, \"Y5\": 0.75, \"KEY\": \"Y1\", \"VALUE\": 0.66, \"layer_id\": 1}, {\"Value\": \"lower range\", \"Y4\": 0.5, \"Y5\": 0.51, \"KEY\": \"Y1\", \"VALUE\": 0.39, \"layer_id\": 1}, {\"Value\": \"means\", \"Y4\": 0.63, \"Y5\": 0.63, \"KEY\": \"Y2\", \"VALUE\": 0.57, \"layer_id\": 1}, {\"Value\": \"stddev\", \"Y4\": 0.1266, \"Y5\": 0.1225, \"KEY\": \"Y2\", \"VALUE\": 0.1321, \"layer_id\": 1}, {\"Value\": \"upper range\", \"Y4\": 0.75, \"Y5\": 0.75, \"KEY\": \"Y2\", \"VALUE\": 0.7, \"layer_id\": 1}, {\"Value\": \"lower range\", \"Y4\": 0.5, \"Y5\": 0.51, \"KEY\": \"Y2\", \"VALUE\": 0.44, \"layer_id\": 1}, {\"Value\": \"means\", \"Y4\": 0.63, \"Y5\": 0.63, \"KEY\": \"Y3\", \"VALUE\": 0.6, \"layer_id\": 1}, {\"Value\": \"stddev\", \"Y4\": 0.1266, \"Y5\": 0.1225, \"KEY\": \"Y3\", \"VALUE\": 0.1303, \"layer_id\": 1}, {\"Value\": \"upper range\", \"Y4\": 0.75, \"Y5\": 0.75, \"KEY\": \"Y3\", \"VALUE\": 0.73, \"layer_id\": 1}, {\"Value\": \"lower range\", \"Y4\": 0.5, \"Y5\": 0.51, \"KEY\": \"Y3\", \"VALUE\": 0.47, \"layer_id\": 1}]}};\n",
       "const opt = {};\n",
       "const type = \"vega-lite\";\n",
       "const id = \"f1347ba8-bc76-45e7-96e5-d8fc604d8cc8\";\n",
       "\n",
       "const output_area = this;\n",
       "\n",
       "require([\"nbextensions/jupyter-vega/index\"], function(vega) {\n",
       "  const target = document.createElement(\"div\");\n",
       "  target.id = id;\n",
       "  target.className = \"vega-embed\";\n",
       "\n",
       "  const style = document.createElement(\"style\");\n",
       "  style.textContent = [\n",
       "    \".vega-embed .error p {\",\n",
       "    \"  color: firebrick;\",\n",
       "    \"  font-size: 14px;\",\n",
       "    \"}\",\n",
       "  ].join(\"\\\\n\");\n",
       "\n",
       "  // element is a jQuery wrapped DOM element inside the output area\n",
       "  // see http://ipython.readthedocs.io/en/stable/api/generated/\\\n",
       "  // IPython.display.html#IPython.display.Javascript.__init__\n",
       "  element[0].appendChild(target);\n",
       "  element[0].appendChild(style);\n",
       "\n",
       "  vega.render(\"#\" + id, spec, type, opt, output_area);\n",
       "}, function (err) {\n",
       "  if (err.requireType !== \"scripterror\") {\n",
       "    throw(err);\n",
       "  }\n",
       "});\n"
      ],
      "text/plain": [
       "<vega.vegalite.VegaLite at 0x1251e15d0>"
      ]
     },
     "metadata": {
      "jupyter-vega": "#f1347ba8-bc76-45e7-96e5-d8fc604d8cc8"
     },
     "output_type": "display_data"
    },
    {
     "data": {
      "text/plain": [
       "[[gatherNeg(@param0, ['-1']), spread(gatherNeg(@param0, ['-1']), 1, 3)],\n",
       " [gatherNeg(@param0, ['-1', '-5'])]]"
      ]
     },
     "metadata": {},
     "output_type": "display_data"
    },
    {
     "data": {
      "application/javascript": [
       "const spec = {\"layer\": [{\"mark\": {\"type\": \"area\", \"opacity\": 0.7}, \"encoding\": {\"x\": {\"field\": \"KEY\", \"type\": \"nominal\"}, \"y\": {\"field\": \"upper range\", \"type\": \"quantitative\"}, \"y2\": {\"field\": \"lower range\"}}, \"transform\": [{\"filter\": \"datum.layer_id == 0\"}]}, {\"mark\": {\"type\": \"line\", \"opacity\": 0.7}, \"encoding\": {\"x\": {\"field\": \"KEY\", \"type\": \"nominal\"}, \"y\": {\"field\": \"VALUE\", \"type\": \"quantitative\"}, \"order\": {\"field\": \"KEY\", \"type\": \"quantitative\"}}, \"transform\": [{\"filter\": \"datum.layer_id == 1\"}]}], \"resolve\": {}, \"data\": {\"values\": [{\"KEY\": \"Y1\", \"lower range\": 0.39, \"means\": 0.52, \"stddev\": 0.1328, \"upper range\": 0.66, \"layer_id\": 0}, {\"KEY\": \"Y2\", \"lower range\": 0.44, \"means\": 0.57, \"stddev\": 0.1321, \"upper range\": 0.7, \"layer_id\": 0}, {\"KEY\": \"Y3\", \"lower range\": 0.47, \"means\": 0.6, \"stddev\": 0.1303, \"upper range\": 0.73, \"layer_id\": 0}, {\"KEY\": \"Y4\", \"lower range\": 0.5, \"means\": 0.63, \"stddev\": 0.1266, \"upper range\": 0.75, \"layer_id\": 0}, {\"KEY\": \"Y5\", \"lower range\": 0.51, \"means\": 0.63, \"stddev\": 0.1225, \"upper range\": 0.75, \"layer_id\": 0}, {\"Value\": \"means\", \"Y4\": 0.63, \"KEY\": \"Y1\", \"VALUE\": 0.52, \"layer_id\": 1}, {\"Value\": \"stddev\", \"Y4\": 0.1266, \"KEY\": \"Y1\", \"VALUE\": 0.1328, \"layer_id\": 1}, {\"Value\": \"upper range\", \"Y4\": 0.75, \"KEY\": \"Y1\", \"VALUE\": 0.66, \"layer_id\": 1}, {\"Value\": \"lower range\", \"Y4\": 0.5, \"KEY\": \"Y1\", \"VALUE\": 0.39, \"layer_id\": 1}, {\"Value\": \"means\", \"Y4\": 0.63, \"KEY\": \"Y2\", \"VALUE\": 0.57, \"layer_id\": 1}, {\"Value\": \"stddev\", \"Y4\": 0.1266, \"KEY\": \"Y2\", \"VALUE\": 0.1321, \"layer_id\": 1}, {\"Value\": \"upper range\", \"Y4\": 0.75, \"KEY\": \"Y2\", \"VALUE\": 0.7, \"layer_id\": 1}, {\"Value\": \"lower range\", \"Y4\": 0.5, \"KEY\": \"Y2\", \"VALUE\": 0.44, \"layer_id\": 1}, {\"Value\": \"means\", \"Y4\": 0.63, \"KEY\": \"Y3\", \"VALUE\": 0.6, \"layer_id\": 1}, {\"Value\": \"stddev\", \"Y4\": 0.1266, \"KEY\": \"Y3\", \"VALUE\": 0.1303, \"layer_id\": 1}, {\"Value\": \"upper range\", \"Y4\": 0.75, \"KEY\": \"Y3\", \"VALUE\": 0.73, \"layer_id\": 1}, {\"Value\": \"lower range\", \"Y4\": 0.5, \"KEY\": \"Y3\", \"VALUE\": 0.47, \"layer_id\": 1}, {\"Value\": \"means\", \"Y4\": 0.63, \"KEY\": \"Y5\", \"VALUE\": 0.63, \"layer_id\": 1}, {\"Value\": \"stddev\", \"Y4\": 0.1266, \"KEY\": \"Y5\", \"VALUE\": 0.1225, \"layer_id\": 1}, {\"Value\": \"upper range\", \"Y4\": 0.75, \"KEY\": \"Y5\", \"VALUE\": 0.75, \"layer_id\": 1}, {\"Value\": \"lower range\", \"Y4\": 0.5, \"KEY\": \"Y5\", \"VALUE\": 0.51, \"layer_id\": 1}]}};\n",
       "const opt = {};\n",
       "const type = \"vega-lite\";\n",
       "const id = \"ca004e59-9503-46ed-85f4-e30459ddc0df\";\n",
       "\n",
       "const output_area = this;\n",
       "\n",
       "require([\"nbextensions/jupyter-vega/index\"], function(vega) {\n",
       "  const target = document.createElement(\"div\");\n",
       "  target.id = id;\n",
       "  target.className = \"vega-embed\";\n",
       "\n",
       "  const style = document.createElement(\"style\");\n",
       "  style.textContent = [\n",
       "    \".vega-embed .error p {\",\n",
       "    \"  color: firebrick;\",\n",
       "    \"  font-size: 14px;\",\n",
       "    \"}\",\n",
       "  ].join(\"\\\\n\");\n",
       "\n",
       "  // element is a jQuery wrapped DOM element inside the output area\n",
       "  // see http://ipython.readthedocs.io/en/stable/api/generated/\\\n",
       "  // IPython.display.html#IPython.display.Javascript.__init__\n",
       "  element[0].appendChild(target);\n",
       "  element[0].appendChild(style);\n",
       "\n",
       "  vega.render(\"#\" + id, spec, type, opt, output_area);\n",
       "}, function (err) {\n",
       "  if (err.requireType !== \"scripterror\") {\n",
       "    throw(err);\n",
       "  }\n",
       "});\n"
      ],
      "text/plain": [
       "<vega.vegalite.VegaLite at 0x1251e15d0>"
      ]
     },
     "metadata": {
      "jupyter-vega": "#ca004e59-9503-46ed-85f4-e30459ddc0df"
     },
     "output_type": "display_data"
    },
    {
     "data": {
      "text/plain": [
       "[[gatherNeg(@param0, ['-1']), spread(gatherNeg(@param0, ['-1']), 1, 3)],\n",
       " [gatherNeg(@param0, ['-1', '-5', '-6']),\n",
       "  spread(gatherNeg(@param0, ['-1', '-5', '-6']), 1, 3)]]"
      ]
     },
     "metadata": {},
     "output_type": "display_data"
    },
    {
     "data": {
      "application/javascript": [
       "const spec = {\"layer\": [{\"mark\": {\"type\": \"area\", \"opacity\": 0.7}, \"encoding\": {\"x\": {\"field\": \"KEY\", \"type\": \"nominal\"}, \"y\": {\"field\": \"upper range\", \"type\": \"quantitative\"}, \"y2\": {\"field\": \"lower range\"}}, \"transform\": [{\"filter\": \"datum.layer_id == 0\"}]}, {\"mark\": {\"type\": \"line\", \"opacity\": 0.7}, \"encoding\": {\"x\": {\"field\": \"KEY\", \"type\": \"nominal\"}, \"y\": {\"field\": \"VALUE\", \"type\": \"quantitative\"}, \"order\": {\"field\": \"KEY\", \"type\": \"quantitative\"}}, \"transform\": [{\"filter\": \"datum.layer_id == 1\"}]}], \"resolve\": {}, \"data\": {\"values\": [{\"KEY\": \"Y1\", \"lower range\": 0.39, \"means\": 0.52, \"stddev\": 0.1328, \"upper range\": 0.66, \"layer_id\": 0}, {\"KEY\": \"Y2\", \"lower range\": 0.44, \"means\": 0.57, \"stddev\": 0.1321, \"upper range\": 0.7, \"layer_id\": 0}, {\"KEY\": \"Y3\", \"lower range\": 0.47, \"means\": 0.6, \"stddev\": 0.1303, \"upper range\": 0.73, \"layer_id\": 0}, {\"KEY\": \"Y4\", \"lower range\": 0.5, \"means\": 0.63, \"stddev\": 0.1266, \"upper range\": 0.75, \"layer_id\": 0}, {\"KEY\": \"Y5\", \"lower range\": 0.51, \"means\": 0.63, \"stddev\": 0.1225, \"upper range\": 0.75, \"layer_id\": 0}, {\"Y4\": 0.1266, \"KEY\": \"Y1\", \"VALUE\": 0.1328, \"stddev\": 0.1225, \"layer_id\": 1}, {\"Y4\": 0.1266, \"KEY\": \"Y2\", \"VALUE\": 0.1321, \"stddev\": 0.1225, \"layer_id\": 1}, {\"Y4\": 0.1266, \"KEY\": \"Y3\", \"VALUE\": 0.1303, \"stddev\": 0.1225, \"layer_id\": 1}, {\"Y4\": 0.5, \"KEY\": \"Y1\", \"VALUE\": 0.39, \"lower range\": 0.51, \"layer_id\": 1}, {\"Y4\": 0.5, \"KEY\": \"Y2\", \"VALUE\": 0.44, \"lower range\": 0.51, \"layer_id\": 1}, {\"Y4\": 0.5, \"KEY\": \"Y3\", \"VALUE\": 0.47, \"lower range\": 0.51, \"layer_id\": 1}, {\"Y4\": 0.63, \"KEY\": \"Y1\", \"VALUE\": 0.52, \"means\": 0.63, \"layer_id\": 1}, {\"Y4\": 0.63, \"KEY\": \"Y2\", \"VALUE\": 0.57, \"means\": 0.63, \"layer_id\": 1}, {\"Y4\": 0.63, \"KEY\": \"Y3\", \"VALUE\": 0.6, \"means\": 0.63, \"layer_id\": 1}, {\"Y4\": 0.75, \"KEY\": \"Y1\", \"VALUE\": 0.66, \"upper range\": 0.75, \"layer_id\": 1}, {\"Y4\": 0.75, \"KEY\": \"Y2\", \"VALUE\": 0.7, \"upper range\": 0.75, \"layer_id\": 1}, {\"Y4\": 0.75, \"KEY\": \"Y3\", \"VALUE\": 0.73, \"upper range\": 0.75, \"layer_id\": 1}]}};\n",
       "const opt = {};\n",
       "const type = \"vega-lite\";\n",
       "const id = \"0d360df3-7550-41d3-8d00-0facc0591dea\";\n",
       "\n",
       "const output_area = this;\n",
       "\n",
       "require([\"nbextensions/jupyter-vega/index\"], function(vega) {\n",
       "  const target = document.createElement(\"div\");\n",
       "  target.id = id;\n",
       "  target.className = \"vega-embed\";\n",
       "\n",
       "  const style = document.createElement(\"style\");\n",
       "  style.textContent = [\n",
       "    \".vega-embed .error p {\",\n",
       "    \"  color: firebrick;\",\n",
       "    \"  font-size: 14px;\",\n",
       "    \"}\",\n",
       "  ].join(\"\\\\n\");\n",
       "\n",
       "  // element is a jQuery wrapped DOM element inside the output area\n",
       "  // see http://ipython.readthedocs.io/en/stable/api/generated/\\\n",
       "  // IPython.display.html#IPython.display.Javascript.__init__\n",
       "  element[0].appendChild(target);\n",
       "  element[0].appendChild(style);\n",
       "\n",
       "  vega.render(\"#\" + id, spec, type, opt, output_area);\n",
       "}, function (err) {\n",
       "  if (err.requireType !== \"scripterror\") {\n",
       "    throw(err);\n",
       "  }\n",
       "});\n"
      ],
      "text/plain": [
       "<vega.vegalite.VegaLite at 0x125131490>"
      ]
     },
     "metadata": {
      "jupyter-vega": "#0d360df3-7550-41d3-8d00-0facc0591dea"
     },
     "output_type": "display_data"
    },
    {
     "data": {
      "text/plain": [
       "[[gatherNeg(@param0, ['-1']), spread(gatherNeg(@param0, ['-1']), 1, 3)],\n",
       " [mutate(@param0, +, 4, 5), gatherNeg(mutate(@param0, +, 4, 5), ['-1'])]]"
      ]
     },
     "metadata": {},
     "output_type": "display_data"
    },
    {
     "data": {
      "application/javascript": [
       "const spec = {\"layer\": [{\"mark\": {\"type\": \"area\", \"opacity\": 0.7}, \"encoding\": {\"x\": {\"field\": \"KEY\", \"type\": \"nominal\"}, \"y\": {\"field\": \"upper range\", \"type\": \"quantitative\"}, \"y2\": {\"field\": \"lower range\"}}, \"transform\": [{\"filter\": \"datum.layer_id == 0\"}]}, {\"mark\": {\"type\": \"line\", \"opacity\": 0.7}, \"encoding\": {\"x\": {\"field\": \"KEY\", \"type\": \"nominal\"}, \"y\": {\"field\": \"VALUE\", \"type\": \"quantitative\"}, \"order\": {\"field\": \"KEY\", \"type\": \"quantitative\"}}, \"transform\": [{\"filter\": \"datum.layer_id == 1\"}]}], \"resolve\": {}, \"data\": {\"values\": [{\"KEY\": \"Y1\", \"lower range\": 0.39, \"means\": 0.52, \"stddev\": 0.1328, \"upper range\": 0.66, \"layer_id\": 0}, {\"KEY\": \"Y2\", \"lower range\": 0.44, \"means\": 0.57, \"stddev\": 0.1321, \"upper range\": 0.7, \"layer_id\": 0}, {\"KEY\": \"Y3\", \"lower range\": 0.47, \"means\": 0.6, \"stddev\": 0.1303, \"upper range\": 0.73, \"layer_id\": 0}, {\"KEY\": \"Y4\", \"lower range\": 0.5, \"means\": 0.63, \"stddev\": 0.1266, \"upper range\": 0.75, \"layer_id\": 0}, {\"KEY\": \"Y5\", \"lower range\": 0.51, \"means\": 0.63, \"stddev\": 0.1225, \"upper range\": 0.75, \"layer_id\": 0}, {\"Value\": \"means\", \"KEY\": \"Y1\", \"VALUE\": 0.52, \"layer_id\": 1}, {\"Value\": \"stddev\", \"KEY\": \"Y1\", \"VALUE\": 0.1328, \"layer_id\": 1}, {\"Value\": \"upper range\", \"KEY\": \"Y1\", \"VALUE\": 0.66, \"layer_id\": 1}, {\"Value\": \"lower range\", \"KEY\": \"Y1\", \"VALUE\": 0.39, \"layer_id\": 1}, {\"Value\": \"means\", \"KEY\": \"Y2\", \"VALUE\": 0.57, \"layer_id\": 1}, {\"Value\": \"stddev\", \"KEY\": \"Y2\", \"VALUE\": 0.1321, \"layer_id\": 1}, {\"Value\": \"upper range\", \"KEY\": \"Y2\", \"VALUE\": 0.7, \"layer_id\": 1}, {\"Value\": \"lower range\", \"KEY\": \"Y2\", \"VALUE\": 0.44, \"layer_id\": 1}, {\"Value\": \"means\", \"KEY\": \"Y3\", \"VALUE\": 0.6, \"layer_id\": 1}, {\"Value\": \"stddev\", \"KEY\": \"Y3\", \"VALUE\": 0.1303, \"layer_id\": 1}, {\"Value\": \"upper range\", \"KEY\": \"Y3\", \"VALUE\": 0.73, \"layer_id\": 1}, {\"Value\": \"lower range\", \"KEY\": \"Y3\", \"VALUE\": 0.47, \"layer_id\": 1}, {\"Value\": \"means\", \"KEY\": \"Y4\", \"VALUE\": 0.63, \"layer_id\": 1}, {\"Value\": \"stddev\", \"KEY\": \"Y4\", \"VALUE\": 0.1266, \"layer_id\": 1}, {\"Value\": \"upper range\", \"KEY\": \"Y4\", \"VALUE\": 0.75, \"layer_id\": 1}, {\"Value\": \"lower range\", \"KEY\": \"Y4\", \"VALUE\": 0.5, \"layer_id\": 1}, {\"Value\": \"means\", \"KEY\": \"Y5\", \"VALUE\": 0.63, \"layer_id\": 1}, {\"Value\": \"stddev\", \"KEY\": \"Y5\", \"VALUE\": 0.1225, \"layer_id\": 1}, {\"Value\": \"upper range\", \"KEY\": \"Y5\", \"VALUE\": 0.75, \"layer_id\": 1}, {\"Value\": \"lower range\", \"KEY\": \"Y5\", \"VALUE\": 0.51, \"layer_id\": 1}, {\"Value\": \"means\", \"KEY\": \"mutate_a\", \"VALUE\": 1.23, \"layer_id\": 1}, {\"Value\": \"stddev\", \"KEY\": \"mutate_a\", \"VALUE\": 0.2569, \"layer_id\": 1}, {\"Value\": \"upper range\", \"KEY\": \"mutate_a\", \"VALUE\": 1.48, \"layer_id\": 1}, {\"Value\": \"lower range\", \"KEY\": \"mutate_a\", \"VALUE\": 0.97, \"layer_id\": 1}]}};\n",
       "const opt = {};\n",
       "const type = \"vega-lite\";\n",
       "const id = \"a15db6ea-5a46-4ab6-886e-84fde66bcc7c\";\n",
       "\n",
       "const output_area = this;\n",
       "\n",
       "require([\"nbextensions/jupyter-vega/index\"], function(vega) {\n",
       "  const target = document.createElement(\"div\");\n",
       "  target.id = id;\n",
       "  target.className = \"vega-embed\";\n",
       "\n",
       "  const style = document.createElement(\"style\");\n",
       "  style.textContent = [\n",
       "    \".vega-embed .error p {\",\n",
       "    \"  color: firebrick;\",\n",
       "    \"  font-size: 14px;\",\n",
       "    \"}\",\n",
       "  ].join(\"\\\\n\");\n",
       "\n",
       "  // element is a jQuery wrapped DOM element inside the output area\n",
       "  // see http://ipython.readthedocs.io/en/stable/api/generated/\\\n",
       "  // IPython.display.html#IPython.display.Javascript.__init__\n",
       "  element[0].appendChild(target);\n",
       "  element[0].appendChild(style);\n",
       "\n",
       "  vega.render(\"#\" + id, spec, type, opt, output_area);\n",
       "}, function (err) {\n",
       "  if (err.requireType !== \"scripterror\") {\n",
       "    throw(err);\n",
       "  }\n",
       "});\n"
      ],
      "text/plain": [
       "<vega.vegalite.VegaLite at 0x124bc7310>"
      ]
     },
     "metadata": {
      "jupyter-vega": "#a15db6ea-5a46-4ab6-886e-84fde66bcc7c"
     },
     "output_type": "display_data"
    },
    {
     "data": {
      "image/png": "[encoded data removed]"
     },
     "metadata": {
      "jupyter-vega": "#dd71f8e4-5d1b-4890-ae4c-e8f5f9a960ad"
     },
     "output_type": "display_data"
    },
    {
     "data": {
      "image/png": "[encoded data removed]"
     },
     "metadata": {
      "jupyter-vega": "#8b931ea6-31dc-42a1-837d-25b641443f7e"
     },
     "output_type": "display_data"
    },
    {
     "data": {
      "image/png": "[encoded data removed]"
     },
     "metadata": {
      "jupyter-vega": "#089cd81f-b2d0-4b9d-8a0b-b19f65b6ca7c"
     },
     "output_type": "display_data"
    },
    {
     "data": {
      "image/png": "[encoded data removed]"
     },
     "metadata": {
      "jupyter-vega": "#f1347ba8-bc76-45e7-96e5-d8fc604d8cc8"
     },
     "output_type": "display_data"
    },
    {
     "data": {
      "image/png": "[encoded data removed]"
     },
     "metadata": {
      "jupyter-vega": "#ca004e59-9503-46ed-85f4-e30459ddc0df"
     },
     "output_type": "display_data"
    },
    {
     "data": {
      "image/png": "[encoded data removed]"
     },
     "metadata": {
      "jupyter-vega": "#0d360df3-7550-41d3-8d00-0facc0591dea"
     },
     "output_type": "display_data"
    },
    {
     "data": {
      "image/png": "[encoded data removed]"
     },
     "metadata": {
      "jupyter-vega": "#a15db6ea-5a46-4ab6-886e-84fde66bcc7c"
     },
     "output_type": "display_data"
    }
   ],
   "source": [
    "inputs = [[\n",
    "  {\"Value\":\"means\",\"Y1\":0.52,\"Y2\":0.57,\"Y3\":0.6,\"Y4\":0.63,\"Y5\":0.63},\n",
    "  {\"Value\":\"stddev\",\"Y1\":0.1328,\"Y2\":0.1321,\"Y3\":0.1303,\"Y4\":0.1266,\"Y5\":0.1225},\n",
    "  {\"Value\":\"upper range\",\"Y1\":0.66,\"Y2\":0.7,\"Y3\":0.73,\"Y4\":0.75,\"Y5\":0.75},\n",
    "  {\"Value\":\"lower range\",\"Y1\":0.39,\"Y2\":0.44,\"Y3\":0.47,\"Y4\":0.5,\"Y5\":0.51}\n",
    "]]\n",
    "\n",
    "vtrace = [\n",
    "  {\"type\": \"area\", \n",
    "   \"props\": {\"x_left\": \"Y1\", \"y_top_left\": 0.66, \"y_bot_left\": 0.39,  \n",
    "             \"x_right\": \"Y2\", \"y_top_right\": 0.7, \"y_bot_right\": 0.44}},\n",
    "  {\"type\": \"line\", \"props\": {\"x1\": \"Y1\", \"y1\": 0.52, \"x2\": \"Y2\", \"y2\": 0.57}},\n",
    "  {\"type\": \"line\", \"props\": {\"x1\": \"Y2\", \"y1\": 0.57, \"x2\": \"Y3\", \"y2\": 0.6}}\n",
    "]\n",
    "\n",
    "candidates = FalxInterface.synthesize(inputs=inputs, raw_trace=vtrace)\n",
    "\n",
    "for table_prog, vis_design in candidates:\n",
    "    display(table_prog)\n",
    "    render_vegalite(vis_design)"
   ]
  }
 ],
 "metadata": {
  "kernelspec": {
   "display_name": "Python 3",
   "language": "python",
   "name": "python3"
  },
  "language_info": {
   "codemirror_mode": {
    "name": "ipython",
    "version": 3
   },
   "file_extension": ".py",
   "mimetype": "text/x-python",
   "name": "python",
   "nbconvert_exporter": "python",
   "pygments_lexer": "ipython3",
   "version": "3.7.5"
  }
 },
 "nbformat": 4,
 "nbformat_minor": 2
}
