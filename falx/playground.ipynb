{
 "cells": [
  {
   "cell_type": "code",
   "execution_count": 5,
   "metadata": {
    "scrolled": false
   },
   "outputs": [
    {
     "name": "stderr",
     "output_type": "stream",
     "text": [
      "[info] Parsing spec ...\n",
      "[info] Parsing succeeded\n",
      "[info] Building synthesizer ...\n"
     ]
    },
    {
     "name": "stdout",
     "output_type": "stream",
     "text": [
      "# run synthesize 001.json\n"
     ]
    },
    {
     "name": "stderr",
     "output_type": "stream",
     "text": [
      "[info] Synthesizing programs ...\n",
      "[info] Solution found: select(@param0, ['2', '3'])\n",
      "[info] Parsing spec ...\n",
      "[info] Parsing succeeded\n",
      "[info] Building synthesizer ...\n",
      "[info] Synthesizing programs ...\n",
      "[info] Solution found: select(@param0, ['1', '3'])\n"
     ]
    },
    {
     "data": {
      "application/javascript": [
       "var spec = {\"layer\": [{\"mark\": {\"type\": \"line\", \"opacity\": 0.7}, \"encoding\": {\"x\": {\"field\": \"Quarter\", \"type\": \"nominal\"}, \"y\": {\"field\": \"_1\", \"type\": \"quantitative\"}, \"order\": {\"field\": \"Quarter\", \"type\": \"quantitative\"}}, \"transform\": [{\"filter\": \"datum.layer_id == 0\"}]}, {\"mark\": {\"type\": \"bar\", \"opacity\": 0.7}, \"encoding\": {\"x\": {\"field\": \"Quarter\", \"type\": \"nominal\", \"sort\": null}, \"y\": {\"field\": \"_0\", \"type\": \"quantitative\"}}, \"transform\": [{\"filter\": \"datum.layer_id == 1\"}]}], \"resolve\": {}, \"data\": {\"values\": [{\"_1\": 23, \"Quarter\": \"Quarter1\", \"layer_id\": 0}, {\"_1\": 27, \"Quarter\": \"Quarter2\", \"layer_id\": 0}, {\"_1\": 15, \"Quarter\": \"Quarter3\", \"layer_id\": 0}, {\"_1\": 43, \"Quarter\": \"Quarter4\", \"layer_id\": 0}, {\"_0\": 3358, \"Quarter\": \"Quarter1\", \"layer_id\": 1}, {\"_0\": 3829, \"Quarter\": \"Quarter2\", \"layer_id\": 1}, {\"_0\": 2374, \"Quarter\": \"Quarter3\", \"layer_id\": 1}, {\"_0\": 3373, \"Quarter\": \"Quarter4\", \"layer_id\": 1}]}};\n",
       "var opt = {};\n",
       "var type = \"vega-lite\";\n",
       "var id = \"fc26b87e-3c80-4c1e-826c-6284dd4f97a5\";\n",
       "\n",
       "var output_area = this;\n",
       "\n",
       "require([\"nbextensions/jupyter-vega/index\"], function(vega) {\n",
       "  var target = document.createElement(\"div\");\n",
       "  target.id = id;\n",
       "  target.className = \"vega-embed\";\n",
       "\n",
       "  var style = document.createElement(\"style\");\n",
       "  style.textContent = [\n",
       "    \".vega-embed .error p {\",\n",
       "    \"  color: firebrick;\",\n",
       "    \"  font-size: 14px;\",\n",
       "    \"}\",\n",
       "  ].join(\"\\\\n\");\n",
       "\n",
       "  // element is a jQuery wrapped DOM element inside the output area\n",
       "  // see http://ipython.readthedocs.io/en/stable/api/generated/\\\n",
       "  // IPython.display.html#IPython.display.Javascript.__init__\n",
       "  element[0].appendChild(target);\n",
       "  element[0].appendChild(style);\n",
       "\n",
       "  vega.render(\"#\" + id, spec, type, opt, output_area);\n",
       "}, function (err) {\n",
       "  if (err.requireType !== \"scripterror\") {\n",
       "    throw(err);\n",
       "  }\n",
       "});\n"
      ],
      "text/plain": [
       "<vega.vegalite.VegaLite at 0x1237de470>"
      ]
     },
     "metadata": {
      "jupyter-vega": "#fc26b87e-3c80-4c1e-826c-6284dd4f97a5"
     },
     "output_type": "display_data"
    },
    {
     "data": {
      "image/png": "[encoded data removed]"
     },
     "metadata": {
      "jupyter-vega": "#fc26b87e-3c80-4c1e-826c-6284dd4f97a5"
     },
     "output_type": "display_data"
    }
   ],
   "source": [
    "import rpy2.ipython\n",
    "import warnings\n",
    "warnings.filterwarnings('ignore')\n",
    "\n",
    "%reload_ext rpy2.ipython\n",
    "%reload_ext autoreload\n",
    "\n",
    "import json\n",
    "import pandas as pd\n",
    "import os\n",
    "from vega import VegaLite\n",
    "from ipywidgets import widgets\n",
    "\n",
    "from falx.chart import *\n",
    "from interface import Falx\n",
    "\n",
    "DATA_DIR = os.path.join(\"..\", \"benchmarks\")\n",
    "\n",
    "def render_ggplot2(vis):\n",
    "    \"\"\"Given a visualization (VisDesign object), \n",
    "        render it using ggplot\"\"\"\n",
    "    ggplot_script = vis.to_ggplot2()\n",
    "    for l in ggplot_script:\n",
    "        %R -i l\n",
    "        %R eval(parse(text=l))\n",
    "    %R print(p)\n",
    "\n",
    "def render_vegalite(vis):\n",
    "    # Render a visualization using vegalite\n",
    "    VegaLite(vis.to_vl_obj()).display()\n",
    "    \n",
    "def try_example(fname):\n",
    "\n",
    "    with open(os.path.join(DATA_DIR, fname), \"r\") as f:\n",
    "        data = json.load(f)\n",
    "\n",
    "    print(\"# run synthesize {}\".format(fname))\n",
    "\n",
    "    input_data = table_utils.load_and_clean_table(data[\"input_data\"])\n",
    "    vis = VisDesign.load_from_vegalite(data[\"vl_spec\"], data[\"output_data\"])\n",
    "    \n",
    "    trace = vis.eval()\n",
    "    candidates = Falx.synthesize(inputs=[input_data], vtrace=trace)\n",
    "    \n",
    "    for pt, pv in candidates:\n",
    "        render_vegalite(pv)\n",
    "        #render_ggplot2(pv)\n",
    "    \n",
    "try_example('001.json')"
   ]
  }
 ],
 "metadata": {
  "kernelspec": {
   "display_name": "falx",
   "language": "python",
   "name": "falx"
  },
  "language_info": {
   "codemirror_mode": {
    "name": "ipython",
    "version": 3
   },
   "file_extension": ".py",
   "mimetype": "text/x-python",
   "name": "python",
   "nbconvert_exporter": "python",
   "pygments_lexer": "ipython3",
   "version": "3.7.2"
  }
 },
 "nbformat": 4,
 "nbformat_minor": 2
}
