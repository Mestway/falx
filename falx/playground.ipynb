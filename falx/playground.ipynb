{
 "cells": [
  {
   "cell_type": "code",
   "execution_count": 5,
   "metadata": {
    "scrolled": false
   },
   "outputs": [],
   "source": [
    "import rpy2.ipython\n",
    "import warnings\n",
    "warnings.filterwarnings('ignore')\n",
    "\n",
    "%reload_ext rpy2.ipython\n",
    "%reload_ext autoreload\n",
    "\n",
    "import json\n",
    "import pandas as pd\n",
    "import os\n",
    "from vega import VegaLite\n",
    "from ipywidgets import widgets\n",
    "\n",
    "from falx.chart import *\n",
    "from falx.interface import *\n",
    "\n",
    "DATA_DIR = os.path.join(\"..\", \"benchmarks\")\n",
    "\n",
    "def render_ggplot2(vis):\n",
    "    \"\"\"Given a visualization (VisDesign object), \n",
    "        render it using ggplot\"\"\"\n",
    "    \n",
    "    ggplot_script = vis.to_ggplot2()\n",
    "    print(\"\\n\".join(ggplot_script))\n",
    "    for l in ggplot_script:\n",
    "        %R -i l\n",
    "        %R eval(parse(text=l))\n",
    "    %R print(p)\n",
    "\n",
    "def render_vegalite(vis):\n",
    "    # Render a visualization using vegalite\n",
    "    VegaLite(vis.to_vl_obj()).display()\n",
    "    \n",
    "\n",
    "def view_benchmarks(dirname):\n",
    "\n",
    "    for fname in os.listdir(dirname):\n",
    "        if not fname.endswith(\".json\"): continue\n",
    "            \n",
    "        if \"003\" not in fname: continue\n",
    "    \n",
    "        with open(os.path.join(dirname, fname), \"r\") as f:\n",
    "            data = json.load(f)\n",
    "\n",
    "        input_data = table_utils.load_and_clean_table(data[\"input_data\"])\n",
    "        vis = VisDesign.load_from_vegalite(data[\"vl_spec\"], data[\"output_data\"])\n",
    "        try:\n",
    "            render_vegalite(vis)\n",
    "            render_ggplot2(vis)\n",
    "        except:\n",
    "            pass\n",
    "#view_benchmarks(DATA_DIR)"
   ]
  },
  {
   "cell_type": "code",
   "execution_count": 8,
   "metadata": {
    "scrolled": false
   },
   "outputs": [
    {
     "name": "stderr",
     "output_type": "stream",
     "text": [
      "[info] Parsing spec ...\n",
      "[info] Parsing succeeded\n",
      "[info] Building synthesizer ...\n",
      "[info] Synthesizing programs ...\n"
     ]
    },
    {
     "name": "stdout",
     "output_type": "stream",
     "text": [
      "         Value      Y1      Y2      Y3      Y4      Y5\n",
      "1        means  0.5200  0.5700  0.6000  0.6300  0.6300\n",
      "2       stddev  0.1328  0.1321  0.1303  0.1266  0.1225\n",
      "3  upper range  0.6600  0.7000  0.7300  0.7500  0.7500\n",
      "4  lower range  0.3900  0.4400  0.4700  0.5000  0.5100\n",
      "  c_x   c_y  c_y2\n",
      "1  Y1  0.66  0.39\n",
      "2  Y2  0.70  0.44\n"
     ]
    },
    {
     "name": "stderr",
     "output_type": "stream",
     "text": [
      "[info] Solution not found!\n",
      "[info] Synthesizing programs ...\n",
      "R[write to console]: Error: Each row of output must be identified by a unique combination of keys.\n",
      "Keys are shared for 4 rows:\n",
      "* 9, 13\n",
      "* 11, 15\n",
      "Do you need to create unique ID with tibble::rowid_to_column()?\n",
      "Backtrace:\n",
      "\u001b[90m    \u001b[39m█\n",
      "\u001b[90m 1. \u001b[39m├─(function (expr, envir = parent.frame(), enclos = if (is.list(envir) || ...\n",
      "\u001b[90m 2. \u001b[39m│ └─(function (expr, envir = parent.frame(), enclos = if (is.list(envir) || ...\n",
      "\u001b[90m 3. \u001b[39m├─tidyr::spread(RET_DF6158, 1, 3)\n",
      "\u001b[90m 4. \u001b[39m└─tidyr:::spread.data.frame(RET_DF6158, 1, 3)\n",
      "\n",
      "R[write to console]: In addition: \n",
      "R[write to console]: Warning messages:\n",
      "\n",
      "R[write to console]: 1: Expected 2 pieces. Missing pieces filled with `NA` in 2 rows [1, 2]. \n",
      "\n",
      "R[write to console]: 2: NAs introduced by coercion \n",
      "\n",
      "[error] Error in interpreting spread...\n",
      "R[write to console]: Error: Each row of output must be identified by a unique combination of keys.\n",
      "Keys are shared for 4 rows:\n",
      "* 13, 17\n",
      "* 15, 19\n",
      "Do you need to create unique ID with tibble::rowid_to_column()?\n",
      "Backtrace:\n",
      "\u001b[90m    \u001b[39m█\n",
      "\u001b[90m 1. \u001b[39m├─(function (expr, envir = parent.frame(), enclos = if (is.list(envir) || ...\n",
      "\u001b[90m 2. \u001b[39m│ └─(function (expr, envir = parent.frame(), enclos = if (is.list(envir) || ...\n",
      "\u001b[90m 3. \u001b[39m├─tidyr::spread(RET_DF6177, 1, 2)\n",
      "\u001b[90m 4. \u001b[39m└─tidyr:::spread.data.frame(RET_DF6177, 1, 2)\n",
      "\n",
      "[error] Error in interpreting spread...\n",
      "[info] # Solutions found:\n",
      "[info]   [gatherNeg(@param0, ['-1']), spread(gatherNeg(@param0, ['-1']), 1, 3)]\n",
      "[info] # Continue searching for solutions: 1 found (expecting 10)\n",
      "[info] Parsing spec ...\n",
      "[info] Parsing succeeded\n",
      "[info] Building synthesizer ...\n",
      "[info] Synthesizing programs ...\n"
     ]
    },
    {
     "name": "stdout",
     "output_type": "stream",
     "text": [
      "         Value      Y1      Y2      Y3      Y4      Y5\n",
      "1        means  0.5200  0.5700  0.6000  0.6300  0.6300\n",
      "2       stddev  0.1328  0.1321  0.1303  0.1266  0.1225\n",
      "3  upper range  0.6600  0.7000  0.7300  0.7500  0.7500\n",
      "4  lower range  0.3900  0.4400  0.4700  0.5000  0.5100\n",
      "  c_x   c_y\n",
      "1  Y1  0.52\n",
      "2  Y2  0.57\n",
      "3  Y3  0.60\n"
     ]
    },
    {
     "name": "stderr",
     "output_type": "stream",
     "text": [
      "[info] # Solutions found:\n",
      "[info]   [gatherNeg(@param0, ['-1', '-5'])]\n",
      "[info]   [gatherNeg(@param0, ['-1', '-5', '-6'])]\n",
      "[info]   [gatherNeg(@param0, ['-1', '-6'])]\n",
      "[info]   [gatherNeg(@param0, ['-1'])]\n",
      "[info]   [gather(@param0, ['2', '3', '4'])]\n",
      "[info] # Continue searching for solutions: 5 found (expecting 10)\n",
      "[info] Synthesizing programs ...\n",
      "[info] # Solutions found:\n",
      "[info]   [mutate(@param0, +, 2, 6), gatherNeg(mutate(@param0, +, 2, 6), ['-1', '-6'])]\n",
      "[info]   [spread(@param0, 1, 5), gatherNeg(spread(@param0, 1, 5), ['-4'])]\n",
      "[info] # Continue searching for solutions: 7 found (expecting 10)\n"
     ]
    },
    {
     "name": "stdout",
     "output_type": "stream",
     "text": [
      "[{'c_x': 'KEY', 'c_y': 'upper range', 'c_y2': 'lower range'}, {'c_x': 'KEY', 'c_y': 'VALUE'}]\n",
      "[{'c_x': 'KEY', 'c_y': 'upper range', 'c_y2': 'lower range'}, {'c_x': 'KEY', 'c_y': 'VALUE'}]\n",
      "[{'c_x': 'KEY', 'c_y': 'upper range', 'c_y2': 'lower range'}, {'c_x': 'KEY', 'c_y': 'VALUE'}]\n",
      "[{'c_x': 'KEY', 'c_y': 'upper range', 'c_y2': 'lower range'}, {'c_x': 'KEY', 'c_y': 'VALUE'}]\n",
      "[{'c_x': 'KEY', 'c_y': 'upper range', 'c_y2': 'lower range'}, {'c_x': 'KEY', 'c_y': 'VALUE'}]\n",
      "[{'c_x': 'KEY', 'c_y': 'upper range', 'c_y2': 'lower range'}, {'c_x': 'KEY', 'c_y': 'VALUE'}]\n",
      "[{'c_x': 'KEY', 'c_y': 'upper range', 'c_y2': 'lower range'}, {'c_x': 'KEY', 'c_y': 'VALUE'}]\n"
     ]
    },
    {
     "data": {
      "text/plain": [
       "[[gatherNeg(@param0, ['-1']), spread(gatherNeg(@param0, ['-1']), 1, 3)],\n",
       " [gatherNeg(@param0, ['-1', '-5'])]]"
      ]
     },
     "metadata": {},
     "output_type": "display_data"
    },
    {
     "data": {
      "application/javascript": [
       "const spec = {\"layer\": [{\"mark\": {\"type\": \"area\", \"opacity\": 0.7}, \"encoding\": {\"x\": {\"field\": \"KEY\", \"type\": \"nominal\"}, \"y\": {\"field\": \"upper range\", \"type\": \"quantitative\"}, \"y2\": {\"field\": \"lower range\"}}, \"transform\": [{\"filter\": \"datum.layer_id == 0\"}]}, {\"mark\": {\"type\": \"line\", \"opacity\": 0.7}, \"encoding\": {\"x\": {\"field\": \"KEY\", \"type\": \"nominal\"}, \"y\": {\"field\": \"VALUE\", \"type\": \"quantitative\"}, \"order\": {\"field\": \"KEY\", \"type\": \"quantitative\"}}, \"transform\": [{\"filter\": \"datum.layer_id == 1\"}]}], \"resolve\": {}, \"data\": {\"values\": [{\"KEY\": \"Y1\", \"lower range\": 0.39, \"means\": 0.52, \"stddev\": 0.1328, \"upper range\": 0.66, \"layer_id\": 0}, {\"KEY\": \"Y2\", \"lower range\": 0.44, \"means\": 0.57, \"stddev\": 0.1321, \"upper range\": 0.7, \"layer_id\": 0}, {\"KEY\": \"Y3\", \"lower range\": 0.47, \"means\": 0.6, \"stddev\": 0.1303, \"upper range\": 0.73, \"layer_id\": 0}, {\"KEY\": \"Y4\", \"lower range\": 0.5, \"means\": 0.63, \"stddev\": 0.1266, \"upper range\": 0.75, \"layer_id\": 0}, {\"KEY\": \"Y5\", \"lower range\": 0.51, \"means\": 0.63, \"stddev\": 0.1225, \"upper range\": 0.75, \"layer_id\": 0}, {\"Value\": \"means\", \"Y4\": 0.63, \"KEY\": \"Y1\", \"VALUE\": 0.52, \"layer_id\": 1}, {\"Value\": \"stddev\", \"Y4\": 0.1266, \"KEY\": \"Y1\", \"VALUE\": 0.1328, \"layer_id\": 1}, {\"Value\": \"upper range\", \"Y4\": 0.75, \"KEY\": \"Y1\", \"VALUE\": 0.66, \"layer_id\": 1}, {\"Value\": \"lower range\", \"Y4\": 0.5, \"KEY\": \"Y1\", \"VALUE\": 0.39, \"layer_id\": 1}, {\"Value\": \"means\", \"Y4\": 0.63, \"KEY\": \"Y2\", \"VALUE\": 0.57, \"layer_id\": 1}, {\"Value\": \"stddev\", \"Y4\": 0.1266, \"KEY\": \"Y2\", \"VALUE\": 0.1321, \"layer_id\": 1}, {\"Value\": \"upper range\", \"Y4\": 0.75, \"KEY\": \"Y2\", \"VALUE\": 0.7, \"layer_id\": 1}, {\"Value\": \"lower range\", \"Y4\": 0.5, \"KEY\": \"Y2\", \"VALUE\": 0.44, \"layer_id\": 1}, {\"Value\": \"means\", \"Y4\": 0.63, \"KEY\": \"Y3\", \"VALUE\": 0.6, \"layer_id\": 1}, {\"Value\": \"stddev\", \"Y4\": 0.1266, \"KEY\": \"Y3\", \"VALUE\": 0.1303, \"layer_id\": 1}, {\"Value\": \"upper range\", \"Y4\": 0.75, \"KEY\": \"Y3\", \"VALUE\": 0.73, \"layer_id\": 1}, {\"Value\": \"lower range\", \"Y4\": 0.5, \"KEY\": \"Y3\", \"VALUE\": 0.47, \"layer_id\": 1}, {\"Value\": \"means\", \"Y4\": 0.63, \"KEY\": \"Y5\", \"VALUE\": 0.63, \"layer_id\": 1}, {\"Value\": \"stddev\", \"Y4\": 0.1266, \"KEY\": \"Y5\", \"VALUE\": 0.1225, \"layer_id\": 1}, {\"Value\": \"upper range\", \"Y4\": 0.75, \"KEY\": \"Y5\", \"VALUE\": 0.75, \"layer_id\": 1}, {\"Value\": \"lower range\", \"Y4\": 0.5, \"KEY\": \"Y5\", \"VALUE\": 0.51, \"layer_id\": 1}]}};\n",
       "const opt = {};\n",
       "const type = \"vega-lite\";\n",
       "const id = \"9607e076-fd73-4513-9233-ae856de33e3f\";\n",
       "\n",
       "const output_area = this;\n",
       "\n",
       "require([\"nbextensions/jupyter-vega/index\"], function(vega) {\n",
       "  const target = document.createElement(\"div\");\n",
       "  target.id = id;\n",
       "  target.className = \"vega-embed\";\n",
       "\n",
       "  const style = document.createElement(\"style\");\n",
       "  style.textContent = [\n",
       "    \".vega-embed .error p {\",\n",
       "    \"  color: firebrick;\",\n",
       "    \"  font-size: 14px;\",\n",
       "    \"}\",\n",
       "  ].join(\"\\\\n\");\n",
       "\n",
       "  // element is a jQuery wrapped DOM element inside the output area\n",
       "  // see http://ipython.readthedocs.io/en/stable/api/generated/\\\n",
       "  // IPython.display.html#IPython.display.Javascript.__init__\n",
       "  element[0].appendChild(target);\n",
       "  element[0].appendChild(style);\n",
       "\n",
       "  vega.render(\"#\" + id, spec, type, opt, output_area);\n",
       "}, function (err) {\n",
       "  if (err.requireType !== \"scripterror\") {\n",
       "    throw(err);\n",
       "  }\n",
       "});\n"
      ],
      "text/plain": [
       "<vega.vegalite.VegaLite at 0x1207fc050>"
      ]
     },
     "metadata": {
      "jupyter-vega": "#9607e076-fd73-4513-9233-ae856de33e3f"
     },
     "output_type": "display_data"
    },
    {
     "data": {
      "text/plain": [
       "[[gatherNeg(@param0, ['-1']), spread(gatherNeg(@param0, ['-1']), 1, 3)],\n",
       " [gatherNeg(@param0, ['-1', '-5', '-6'])]]"
      ]
     },
     "metadata": {},
     "output_type": "display_data"
    },
    {
     "data": {
      "application/javascript": [
       "const spec = {\"layer\": [{\"mark\": {\"type\": \"area\", \"opacity\": 0.7}, \"encoding\": {\"x\": {\"field\": \"KEY\", \"type\": \"nominal\"}, \"y\": {\"field\": \"upper range\", \"type\": \"quantitative\"}, \"y2\": {\"field\": \"lower range\"}}, \"transform\": [{\"filter\": \"datum.layer_id == 0\"}]}, {\"mark\": {\"type\": \"line\", \"opacity\": 0.7}, \"encoding\": {\"x\": {\"field\": \"KEY\", \"type\": \"nominal\"}, \"y\": {\"field\": \"VALUE\", \"type\": \"quantitative\"}, \"order\": {\"field\": \"KEY\", \"type\": \"quantitative\"}}, \"transform\": [{\"filter\": \"datum.layer_id == 1\"}]}], \"resolve\": {}, \"data\": {\"values\": [{\"KEY\": \"Y1\", \"lower range\": 0.39, \"means\": 0.52, \"stddev\": 0.1328, \"upper range\": 0.66, \"layer_id\": 0}, {\"KEY\": \"Y2\", \"lower range\": 0.44, \"means\": 0.57, \"stddev\": 0.1321, \"upper range\": 0.7, \"layer_id\": 0}, {\"KEY\": \"Y3\", \"lower range\": 0.47, \"means\": 0.6, \"stddev\": 0.1303, \"upper range\": 0.73, \"layer_id\": 0}, {\"KEY\": \"Y4\", \"lower range\": 0.5, \"means\": 0.63, \"stddev\": 0.1266, \"upper range\": 0.75, \"layer_id\": 0}, {\"KEY\": \"Y5\", \"lower range\": 0.51, \"means\": 0.63, \"stddev\": 0.1225, \"upper range\": 0.75, \"layer_id\": 0}, {\"Value\": \"means\", \"Y4\": 0.63, \"Y5\": 0.63, \"KEY\": \"Y1\", \"VALUE\": 0.52, \"layer_id\": 1}, {\"Value\": \"stddev\", \"Y4\": 0.1266, \"Y5\": 0.1225, \"KEY\": \"Y1\", \"VALUE\": 0.1328, \"layer_id\": 1}, {\"Value\": \"upper range\", \"Y4\": 0.75, \"Y5\": 0.75, \"KEY\": \"Y1\", \"VALUE\": 0.66, \"layer_id\": 1}, {\"Value\": \"lower range\", \"Y4\": 0.5, \"Y5\": 0.51, \"KEY\": \"Y1\", \"VALUE\": 0.39, \"layer_id\": 1}, {\"Value\": \"means\", \"Y4\": 0.63, \"Y5\": 0.63, \"KEY\": \"Y2\", \"VALUE\": 0.57, \"layer_id\": 1}, {\"Value\": \"stddev\", \"Y4\": 0.1266, \"Y5\": 0.1225, \"KEY\": \"Y2\", \"VALUE\": 0.1321, \"layer_id\": 1}, {\"Value\": \"upper range\", \"Y4\": 0.75, \"Y5\": 0.75, \"KEY\": \"Y2\", \"VALUE\": 0.7, \"layer_id\": 1}, {\"Value\": \"lower range\", \"Y4\": 0.5, \"Y5\": 0.51, \"KEY\": \"Y2\", \"VALUE\": 0.44, \"layer_id\": 1}, {\"Value\": \"means\", \"Y4\": 0.63, \"Y5\": 0.63, \"KEY\": \"Y3\", \"VALUE\": 0.6, \"layer_id\": 1}, {\"Value\": \"stddev\", \"Y4\": 0.1266, \"Y5\": 0.1225, \"KEY\": \"Y3\", \"VALUE\": 0.1303, \"layer_id\": 1}, {\"Value\": \"upper range\", \"Y4\": 0.75, \"Y5\": 0.75, \"KEY\": \"Y3\", \"VALUE\": 0.73, \"layer_id\": 1}, {\"Value\": \"lower range\", \"Y4\": 0.5, \"Y5\": 0.51, \"KEY\": \"Y3\", \"VALUE\": 0.47, \"layer_id\": 1}]}};\n",
       "const opt = {};\n",
       "const type = \"vega-lite\";\n",
       "const id = \"719e44d1-167b-4f39-9c6d-df8100c1c123\";\n",
       "\n",
       "const output_area = this;\n",
       "\n",
       "require([\"nbextensions/jupyter-vega/index\"], function(vega) {\n",
       "  const target = document.createElement(\"div\");\n",
       "  target.id = id;\n",
       "  target.className = \"vega-embed\";\n",
       "\n",
       "  const style = document.createElement(\"style\");\n",
       "  style.textContent = [\n",
       "    \".vega-embed .error p {\",\n",
       "    \"  color: firebrick;\",\n",
       "    \"  font-size: 14px;\",\n",
       "    \"}\",\n",
       "  ].join(\"\\\\n\");\n",
       "\n",
       "  // element is a jQuery wrapped DOM element inside the output area\n",
       "  // see http://ipython.readthedocs.io/en/stable/api/generated/\\\n",
       "  // IPython.display.html#IPython.display.Javascript.__init__\n",
       "  element[0].appendChild(target);\n",
       "  element[0].appendChild(style);\n",
       "\n",
       "  vega.render(\"#\" + id, spec, type, opt, output_area);\n",
       "}, function (err) {\n",
       "  if (err.requireType !== \"scripterror\") {\n",
       "    throw(err);\n",
       "  }\n",
       "});\n"
      ],
      "text/plain": [
       "<vega.vegalite.VegaLite at 0x1207fcc90>"
      ]
     },
     "metadata": {
      "jupyter-vega": "#719e44d1-167b-4f39-9c6d-df8100c1c123"
     },
     "output_type": "display_data"
    },
    {
     "data": {
      "text/plain": [
       "[[gatherNeg(@param0, ['-1']), spread(gatherNeg(@param0, ['-1']), 1, 3)],\n",
       " [gatherNeg(@param0, ['-1', '-6'])]]"
      ]
     },
     "metadata": {},
     "output_type": "display_data"
    },
    {
     "data": {
      "application/javascript": [
       "const spec = {\"layer\": [{\"mark\": {\"type\": \"area\", \"opacity\": 0.7}, \"encoding\": {\"x\": {\"field\": \"KEY\", \"type\": \"nominal\"}, \"y\": {\"field\": \"upper range\", \"type\": \"quantitative\"}, \"y2\": {\"field\": \"lower range\"}}, \"transform\": [{\"filter\": \"datum.layer_id == 0\"}]}, {\"mark\": {\"type\": \"line\", \"opacity\": 0.7}, \"encoding\": {\"x\": {\"field\": \"KEY\", \"type\": \"nominal\"}, \"y\": {\"field\": \"VALUE\", \"type\": \"quantitative\"}, \"order\": {\"field\": \"KEY\", \"type\": \"quantitative\"}}, \"transform\": [{\"filter\": \"datum.layer_id == 1\"}]}], \"resolve\": {}, \"data\": {\"values\": [{\"KEY\": \"Y1\", \"lower range\": 0.39, \"means\": 0.52, \"stddev\": 0.1328, \"upper range\": 0.66, \"layer_id\": 0}, {\"KEY\": \"Y2\", \"lower range\": 0.44, \"means\": 0.57, \"stddev\": 0.1321, \"upper range\": 0.7, \"layer_id\": 0}, {\"KEY\": \"Y3\", \"lower range\": 0.47, \"means\": 0.6, \"stddev\": 0.1303, \"upper range\": 0.73, \"layer_id\": 0}, {\"KEY\": \"Y4\", \"lower range\": 0.5, \"means\": 0.63, \"stddev\": 0.1266, \"upper range\": 0.75, \"layer_id\": 0}, {\"KEY\": \"Y5\", \"lower range\": 0.51, \"means\": 0.63, \"stddev\": 0.1225, \"upper range\": 0.75, \"layer_id\": 0}, {\"Value\": \"means\", \"Y5\": 0.63, \"KEY\": \"Y1\", \"VALUE\": 0.52, \"layer_id\": 1}, {\"Value\": \"stddev\", \"Y5\": 0.1225, \"KEY\": \"Y1\", \"VALUE\": 0.1328, \"layer_id\": 1}, {\"Value\": \"upper range\", \"Y5\": 0.75, \"KEY\": \"Y1\", \"VALUE\": 0.66, \"layer_id\": 1}, {\"Value\": \"lower range\", \"Y5\": 0.51, \"KEY\": \"Y1\", \"VALUE\": 0.39, \"layer_id\": 1}, {\"Value\": \"means\", \"Y5\": 0.63, \"KEY\": \"Y2\", \"VALUE\": 0.57, \"layer_id\": 1}, {\"Value\": \"stddev\", \"Y5\": 0.1225, \"KEY\": \"Y2\", \"VALUE\": 0.1321, \"layer_id\": 1}, {\"Value\": \"upper range\", \"Y5\": 0.75, \"KEY\": \"Y2\", \"VALUE\": 0.7, \"layer_id\": 1}, {\"Value\": \"lower range\", \"Y5\": 0.51, \"KEY\": \"Y2\", \"VALUE\": 0.44, \"layer_id\": 1}, {\"Value\": \"means\", \"Y5\": 0.63, \"KEY\": \"Y3\", \"VALUE\": 0.6, \"layer_id\": 1}, {\"Value\": \"stddev\", \"Y5\": 0.1225, \"KEY\": \"Y3\", \"VALUE\": 0.1303, \"layer_id\": 1}, {\"Value\": \"upper range\", \"Y5\": 0.75, \"KEY\": \"Y3\", \"VALUE\": 0.73, \"layer_id\": 1}, {\"Value\": \"lower range\", \"Y5\": 0.51, \"KEY\": \"Y3\", \"VALUE\": 0.47, \"layer_id\": 1}, {\"Value\": \"means\", \"Y5\": 0.63, \"KEY\": \"Y4\", \"VALUE\": 0.63, \"layer_id\": 1}, {\"Value\": \"stddev\", \"Y5\": 0.1225, \"KEY\": \"Y4\", \"VALUE\": 0.1266, \"layer_id\": 1}, {\"Value\": \"upper range\", \"Y5\": 0.75, \"KEY\": \"Y4\", \"VALUE\": 0.75, \"layer_id\": 1}, {\"Value\": \"lower range\", \"Y5\": 0.51, \"KEY\": \"Y4\", \"VALUE\": 0.5, \"layer_id\": 1}]}};\n",
       "const opt = {};\n",
       "const type = \"vega-lite\";\n",
       "const id = \"480df465-32bb-408d-8031-b7b91f473888\";\n",
       "\n",
       "const output_area = this;\n",
       "\n",
       "require([\"nbextensions/jupyter-vega/index\"], function(vega) {\n",
       "  const target = document.createElement(\"div\");\n",
       "  target.id = id;\n",
       "  target.className = \"vega-embed\";\n",
       "\n",
       "  const style = document.createElement(\"style\");\n",
       "  style.textContent = [\n",
       "    \".vega-embed .error p {\",\n",
       "    \"  color: firebrick;\",\n",
       "    \"  font-size: 14px;\",\n",
       "    \"}\",\n",
       "  ].join(\"\\\\n\");\n",
       "\n",
       "  // element is a jQuery wrapped DOM element inside the output area\n",
       "  // see http://ipython.readthedocs.io/en/stable/api/generated/\\\n",
       "  // IPython.display.html#IPython.display.Javascript.__init__\n",
       "  element[0].appendChild(target);\n",
       "  element[0].appendChild(style);\n",
       "\n",
       "  vega.render(\"#\" + id, spec, type, opt, output_area);\n",
       "}, function (err) {\n",
       "  if (err.requireType !== \"scripterror\") {\n",
       "    throw(err);\n",
       "  }\n",
       "});\n"
      ],
      "text/plain": [
       "<vega.vegalite.VegaLite at 0x12083e950>"
      ]
     },
     "metadata": {
      "jupyter-vega": "#480df465-32bb-408d-8031-b7b91f473888"
     },
     "output_type": "display_data"
    },
    {
     "data": {
      "text/plain": [
       "[[gatherNeg(@param0, ['-1']), spread(gatherNeg(@param0, ['-1']), 1, 3)],\n",
       " [gatherNeg(@param0, ['-1'])]]"
      ]
     },
     "metadata": {},
     "output_type": "display_data"
    },
    {
     "data": {
      "application/javascript": [
       "const spec = {\"layer\": [{\"mark\": {\"type\": \"area\", \"opacity\": 0.7}, \"encoding\": {\"x\": {\"field\": \"KEY\", \"type\": \"nominal\"}, \"y\": {\"field\": \"upper range\", \"type\": \"quantitative\"}, \"y2\": {\"field\": \"lower range\"}}, \"transform\": [{\"filter\": \"datum.layer_id == 0\"}]}, {\"mark\": {\"type\": \"line\", \"opacity\": 0.7}, \"encoding\": {\"x\": {\"field\": \"KEY\", \"type\": \"nominal\"}, \"y\": {\"field\": \"VALUE\", \"type\": \"quantitative\"}, \"order\": {\"field\": \"KEY\", \"type\": \"quantitative\"}}, \"transform\": [{\"filter\": \"datum.layer_id == 1\"}]}], \"resolve\": {}, \"data\": {\"values\": [{\"KEY\": \"Y1\", \"lower range\": 0.39, \"means\": 0.52, \"stddev\": 0.1328, \"upper range\": 0.66, \"layer_id\": 0}, {\"KEY\": \"Y2\", \"lower range\": 0.44, \"means\": 0.57, \"stddev\": 0.1321, \"upper range\": 0.7, \"layer_id\": 0}, {\"KEY\": \"Y3\", \"lower range\": 0.47, \"means\": 0.6, \"stddev\": 0.1303, \"upper range\": 0.73, \"layer_id\": 0}, {\"KEY\": \"Y4\", \"lower range\": 0.5, \"means\": 0.63, \"stddev\": 0.1266, \"upper range\": 0.75, \"layer_id\": 0}, {\"KEY\": \"Y5\", \"lower range\": 0.51, \"means\": 0.63, \"stddev\": 0.1225, \"upper range\": 0.75, \"layer_id\": 0}, {\"Value\": \"means\", \"KEY\": \"Y1\", \"VALUE\": 0.52, \"layer_id\": 1}, {\"Value\": \"stddev\", \"KEY\": \"Y1\", \"VALUE\": 0.1328, \"layer_id\": 1}, {\"Value\": \"upper range\", \"KEY\": \"Y1\", \"VALUE\": 0.66, \"layer_id\": 1}, {\"Value\": \"lower range\", \"KEY\": \"Y1\", \"VALUE\": 0.39, \"layer_id\": 1}, {\"Value\": \"means\", \"KEY\": \"Y2\", \"VALUE\": 0.57, \"layer_id\": 1}, {\"Value\": \"stddev\", \"KEY\": \"Y2\", \"VALUE\": 0.1321, \"layer_id\": 1}, {\"Value\": \"upper range\", \"KEY\": \"Y2\", \"VALUE\": 0.7, \"layer_id\": 1}, {\"Value\": \"lower range\", \"KEY\": \"Y2\", \"VALUE\": 0.44, \"layer_id\": 1}, {\"Value\": \"means\", \"KEY\": \"Y3\", \"VALUE\": 0.6, \"layer_id\": 1}, {\"Value\": \"stddev\", \"KEY\": \"Y3\", \"VALUE\": 0.1303, \"layer_id\": 1}, {\"Value\": \"upper range\", \"KEY\": \"Y3\", \"VALUE\": 0.73, \"layer_id\": 1}, {\"Value\": \"lower range\", \"KEY\": \"Y3\", \"VALUE\": 0.47, \"layer_id\": 1}, {\"Value\": \"means\", \"KEY\": \"Y4\", \"VALUE\": 0.63, \"layer_id\": 1}, {\"Value\": \"stddev\", \"KEY\": \"Y4\", \"VALUE\": 0.1266, \"layer_id\": 1}, {\"Value\": \"upper range\", \"KEY\": \"Y4\", \"VALUE\": 0.75, \"layer_id\": 1}, {\"Value\": \"lower range\", \"KEY\": \"Y4\", \"VALUE\": 0.5, \"layer_id\": 1}, {\"Value\": \"means\", \"KEY\": \"Y5\", \"VALUE\": 0.63, \"layer_id\": 1}, {\"Value\": \"stddev\", \"KEY\": \"Y5\", \"VALUE\": 0.1225, \"layer_id\": 1}, {\"Value\": \"upper range\", \"KEY\": \"Y5\", \"VALUE\": 0.75, \"layer_id\": 1}, {\"Value\": \"lower range\", \"KEY\": \"Y5\", \"VALUE\": 0.51, \"layer_id\": 1}]}};\n",
       "const opt = {};\n",
       "const type = \"vega-lite\";\n",
       "const id = \"257cef8f-b04b-4188-b1aa-6b3b09bf427a\";\n",
       "\n",
       "const output_area = this;\n",
       "\n",
       "require([\"nbextensions/jupyter-vega/index\"], function(vega) {\n",
       "  const target = document.createElement(\"div\");\n",
       "  target.id = id;\n",
       "  target.className = \"vega-embed\";\n",
       "\n",
       "  const style = document.createElement(\"style\");\n",
       "  style.textContent = [\n",
       "    \".vega-embed .error p {\",\n",
       "    \"  color: firebrick;\",\n",
       "    \"  font-size: 14px;\",\n",
       "    \"}\",\n",
       "  ].join(\"\\\\n\");\n",
       "\n",
       "  // element is a jQuery wrapped DOM element inside the output area\n",
       "  // see http://ipython.readthedocs.io/en/stable/api/generated/\\\n",
       "  // IPython.display.html#IPython.display.Javascript.__init__\n",
       "  element[0].appendChild(target);\n",
       "  element[0].appendChild(style);\n",
       "\n",
       "  vega.render(\"#\" + id, spec, type, opt, output_area);\n",
       "}, function (err) {\n",
       "  if (err.requireType !== \"scripterror\") {\n",
       "    throw(err);\n",
       "  }\n",
       "});\n"
      ],
      "text/plain": [
       "<vega.vegalite.VegaLite at 0x11ca22090>"
      ]
     },
     "metadata": {
      "jupyter-vega": "#257cef8f-b04b-4188-b1aa-6b3b09bf427a"
     },
     "output_type": "display_data"
    },
    {
     "data": {
      "text/plain": [
       "[[gatherNeg(@param0, ['-1']), spread(gatherNeg(@param0, ['-1']), 1, 3)],\n",
       " [gather(@param0, ['2', '3', '4'])]]"
      ]
     },
     "metadata": {},
     "output_type": "display_data"
    },
    {
     "data": {
      "application/javascript": [
       "const spec = {\"layer\": [{\"mark\": {\"type\": \"area\", \"opacity\": 0.7}, \"encoding\": {\"x\": {\"field\": \"KEY\", \"type\": \"nominal\"}, \"y\": {\"field\": \"upper range\", \"type\": \"quantitative\"}, \"y2\": {\"field\": \"lower range\"}}, \"transform\": [{\"filter\": \"datum.layer_id == 0\"}]}, {\"mark\": {\"type\": \"line\", \"opacity\": 0.7}, \"encoding\": {\"x\": {\"field\": \"KEY\", \"type\": \"nominal\"}, \"y\": {\"field\": \"VALUE\", \"type\": \"quantitative\"}, \"order\": {\"field\": \"KEY\", \"type\": \"quantitative\"}}, \"transform\": [{\"filter\": \"datum.layer_id == 1\"}]}], \"resolve\": {}, \"data\": {\"values\": [{\"KEY\": \"Y1\", \"lower range\": 0.39, \"means\": 0.52, \"stddev\": 0.1328, \"upper range\": 0.66, \"layer_id\": 0}, {\"KEY\": \"Y2\", \"lower range\": 0.44, \"means\": 0.57, \"stddev\": 0.1321, \"upper range\": 0.7, \"layer_id\": 0}, {\"KEY\": \"Y3\", \"lower range\": 0.47, \"means\": 0.6, \"stddev\": 0.1303, \"upper range\": 0.73, \"layer_id\": 0}, {\"KEY\": \"Y4\", \"lower range\": 0.5, \"means\": 0.63, \"stddev\": 0.1266, \"upper range\": 0.75, \"layer_id\": 0}, {\"KEY\": \"Y5\", \"lower range\": 0.51, \"means\": 0.63, \"stddev\": 0.1225, \"upper range\": 0.75, \"layer_id\": 0}, {\"Value\": \"means\", \"Y4\": 0.63, \"Y5\": 0.63, \"KEY\": \"Y1\", \"VALUE\": 0.52, \"layer_id\": 1}, {\"Value\": \"stddev\", \"Y4\": 0.1266, \"Y5\": 0.1225, \"KEY\": \"Y1\", \"VALUE\": 0.1328, \"layer_id\": 1}, {\"Value\": \"upper range\", \"Y4\": 0.75, \"Y5\": 0.75, \"KEY\": \"Y1\", \"VALUE\": 0.66, \"layer_id\": 1}, {\"Value\": \"lower range\", \"Y4\": 0.5, \"Y5\": 0.51, \"KEY\": \"Y1\", \"VALUE\": 0.39, \"layer_id\": 1}, {\"Value\": \"means\", \"Y4\": 0.63, \"Y5\": 0.63, \"KEY\": \"Y2\", \"VALUE\": 0.57, \"layer_id\": 1}, {\"Value\": \"stddev\", \"Y4\": 0.1266, \"Y5\": 0.1225, \"KEY\": \"Y2\", \"VALUE\": 0.1321, \"layer_id\": 1}, {\"Value\": \"upper range\", \"Y4\": 0.75, \"Y5\": 0.75, \"KEY\": \"Y2\", \"VALUE\": 0.7, \"layer_id\": 1}, {\"Value\": \"lower range\", \"Y4\": 0.5, \"Y5\": 0.51, \"KEY\": \"Y2\", \"VALUE\": 0.44, \"layer_id\": 1}, {\"Value\": \"means\", \"Y4\": 0.63, \"Y5\": 0.63, \"KEY\": \"Y3\", \"VALUE\": 0.6, \"layer_id\": 1}, {\"Value\": \"stddev\", \"Y4\": 0.1266, \"Y5\": 0.1225, \"KEY\": \"Y3\", \"VALUE\": 0.1303, \"layer_id\": 1}, {\"Value\": \"upper range\", \"Y4\": 0.75, \"Y5\": 0.75, \"KEY\": \"Y3\", \"VALUE\": 0.73, \"layer_id\": 1}, {\"Value\": \"lower range\", \"Y4\": 0.5, \"Y5\": 0.51, \"KEY\": \"Y3\", \"VALUE\": 0.47, \"layer_id\": 1}]}};\n",
       "const opt = {};\n",
       "const type = \"vega-lite\";\n",
       "const id = \"e4f66fcf-0360-4044-89b3-d0aca19ac7e2\";\n",
       "\n",
       "const output_area = this;\n",
       "\n",
       "require([\"nbextensions/jupyter-vega/index\"], function(vega) {\n",
       "  const target = document.createElement(\"div\");\n",
       "  target.id = id;\n",
       "  target.className = \"vega-embed\";\n",
       "\n",
       "  const style = document.createElement(\"style\");\n",
       "  style.textContent = [\n",
       "    \".vega-embed .error p {\",\n",
       "    \"  color: firebrick;\",\n",
       "    \"  font-size: 14px;\",\n",
       "    \"}\",\n",
       "  ].join(\"\\\\n\");\n",
       "\n",
       "  // element is a jQuery wrapped DOM element inside the output area\n",
       "  // see http://ipython.readthedocs.io/en/stable/api/generated/\\\n",
       "  // IPython.display.html#IPython.display.Javascript.__init__\n",
       "  element[0].appendChild(target);\n",
       "  element[0].appendChild(style);\n",
       "\n",
       "  vega.render(\"#\" + id, spec, type, opt, output_area);\n",
       "}, function (err) {\n",
       "  if (err.requireType !== \"scripterror\") {\n",
       "    throw(err);\n",
       "  }\n",
       "});\n"
      ],
      "text/plain": [
       "<vega.vegalite.VegaLite at 0x11ca22090>"
      ]
     },
     "metadata": {
      "jupyter-vega": "#e4f66fcf-0360-4044-89b3-d0aca19ac7e2"
     },
     "output_type": "display_data"
    },
    {
     "data": {
      "text/plain": [
       "[[gatherNeg(@param0, ['-1']), spread(gatherNeg(@param0, ['-1']), 1, 3)],\n",
       " [mutate(@param0, +, 2, 6), gatherNeg(mutate(@param0, +, 2, 6), ['-1', '-6'])]]"
      ]
     },
     "metadata": {},
     "output_type": "display_data"
    },
    {
     "data": {
      "application/javascript": [
       "const spec = {\"layer\": [{\"mark\": {\"type\": \"area\", \"opacity\": 0.7}, \"encoding\": {\"x\": {\"field\": \"KEY\", \"type\": \"nominal\"}, \"y\": {\"field\": \"upper range\", \"type\": \"quantitative\"}, \"y2\": {\"field\": \"lower range\"}}, \"transform\": [{\"filter\": \"datum.layer_id == 0\"}]}, {\"mark\": {\"type\": \"line\", \"opacity\": 0.7}, \"encoding\": {\"x\": {\"field\": \"KEY\", \"type\": \"nominal\"}, \"y\": {\"field\": \"VALUE\", \"type\": \"quantitative\"}, \"order\": {\"field\": \"KEY\", \"type\": \"quantitative\"}}, \"transform\": [{\"filter\": \"datum.layer_id == 1\"}]}], \"resolve\": {}, \"data\": {\"values\": [{\"KEY\": \"Y1\", \"lower range\": 0.39, \"means\": 0.52, \"stddev\": 0.1328, \"upper range\": 0.66, \"layer_id\": 0}, {\"KEY\": \"Y2\", \"lower range\": 0.44, \"means\": 0.57, \"stddev\": 0.1321, \"upper range\": 0.7, \"layer_id\": 0}, {\"KEY\": \"Y3\", \"lower range\": 0.47, \"means\": 0.6, \"stddev\": 0.1303, \"upper range\": 0.73, \"layer_id\": 0}, {\"KEY\": \"Y4\", \"lower range\": 0.5, \"means\": 0.63, \"stddev\": 0.1266, \"upper range\": 0.75, \"layer_id\": 0}, {\"KEY\": \"Y5\", \"lower range\": 0.51, \"means\": 0.63, \"stddev\": 0.1225, \"upper range\": 0.75, \"layer_id\": 0}, {\"Value\": \"means\", \"Y5\": 0.63, \"KEY\": \"Y1\", \"VALUE\": 0.52, \"layer_id\": 1}, {\"Value\": \"stddev\", \"Y5\": 0.1225, \"KEY\": \"Y1\", \"VALUE\": 0.1328, \"layer_id\": 1}, {\"Value\": \"upper range\", \"Y5\": 0.75, \"KEY\": \"Y1\", \"VALUE\": 0.66, \"layer_id\": 1}, {\"Value\": \"lower range\", \"Y5\": 0.51, \"KEY\": \"Y1\", \"VALUE\": 0.39, \"layer_id\": 1}, {\"Value\": \"means\", \"Y5\": 0.63, \"KEY\": \"Y2\", \"VALUE\": 0.57, \"layer_id\": 1}, {\"Value\": \"stddev\", \"Y5\": 0.1225, \"KEY\": \"Y2\", \"VALUE\": 0.1321, \"layer_id\": 1}, {\"Value\": \"upper range\", \"Y5\": 0.75, \"KEY\": \"Y2\", \"VALUE\": 0.7, \"layer_id\": 1}, {\"Value\": \"lower range\", \"Y5\": 0.51, \"KEY\": \"Y2\", \"VALUE\": 0.44, \"layer_id\": 1}, {\"Value\": \"means\", \"Y5\": 0.63, \"KEY\": \"Y3\", \"VALUE\": 0.6, \"layer_id\": 1}, {\"Value\": \"stddev\", \"Y5\": 0.1225, \"KEY\": \"Y3\", \"VALUE\": 0.1303, \"layer_id\": 1}, {\"Value\": \"upper range\", \"Y5\": 0.75, \"KEY\": \"Y3\", \"VALUE\": 0.73, \"layer_id\": 1}, {\"Value\": \"lower range\", \"Y5\": 0.51, \"KEY\": \"Y3\", \"VALUE\": 0.47, \"layer_id\": 1}, {\"Value\": \"means\", \"Y5\": 0.63, \"KEY\": \"Y4\", \"VALUE\": 0.63, \"layer_id\": 1}, {\"Value\": \"stddev\", \"Y5\": 0.1225, \"KEY\": \"Y4\", \"VALUE\": 0.1266, \"layer_id\": 1}, {\"Value\": \"upper range\", \"Y5\": 0.75, \"KEY\": \"Y4\", \"VALUE\": 0.75, \"layer_id\": 1}, {\"Value\": \"lower range\", \"Y5\": 0.51, \"KEY\": \"Y4\", \"VALUE\": 0.5, \"layer_id\": 1}, {\"Value\": \"means\", \"Y5\": 0.63, \"KEY\": \"mutate_a\", \"VALUE\": 1.15, \"layer_id\": 1}, {\"Value\": \"stddev\", \"Y5\": 0.1225, \"KEY\": \"mutate_a\", \"VALUE\": 0.2553, \"layer_id\": 1}, {\"Value\": \"upper range\", \"Y5\": 0.75, \"KEY\": \"mutate_a\", \"VALUE\": 1.41, \"layer_id\": 1}, {\"Value\": \"lower range\", \"Y5\": 0.51, \"KEY\": \"mutate_a\", \"VALUE\": 0.9, \"layer_id\": 1}]}};\n",
       "const opt = {};\n",
       "const type = \"vega-lite\";\n",
       "const id = \"4b029a0f-6eab-4db9-9c1b-b8bea90b8c12\";\n",
       "\n",
       "const output_area = this;\n",
       "\n",
       "require([\"nbextensions/jupyter-vega/index\"], function(vega) {\n",
       "  const target = document.createElement(\"div\");\n",
       "  target.id = id;\n",
       "  target.className = \"vega-embed\";\n",
       "\n",
       "  const style = document.createElement(\"style\");\n",
       "  style.textContent = [\n",
       "    \".vega-embed .error p {\",\n",
       "    \"  color: firebrick;\",\n",
       "    \"  font-size: 14px;\",\n",
       "    \"}\",\n",
       "  ].join(\"\\\\n\");\n",
       "\n",
       "  // element is a jQuery wrapped DOM element inside the output area\n",
       "  // see http://ipython.readthedocs.io/en/stable/api/generated/\\\n",
       "  // IPython.display.html#IPython.display.Javascript.__init__\n",
       "  element[0].appendChild(target);\n",
       "  element[0].appendChild(style);\n",
       "\n",
       "  vega.render(\"#\" + id, spec, type, opt, output_area);\n",
       "}, function (err) {\n",
       "  if (err.requireType !== \"scripterror\") {\n",
       "    throw(err);\n",
       "  }\n",
       "});\n"
      ],
      "text/plain": [
       "<vega.vegalite.VegaLite at 0x11ca22090>"
      ]
     },
     "metadata": {
      "jupyter-vega": "#4b029a0f-6eab-4db9-9c1b-b8bea90b8c12"
     },
     "output_type": "display_data"
    },
    {
     "data": {
      "text/plain": [
       "[[gatherNeg(@param0, ['-1']), spread(gatherNeg(@param0, ['-1']), 1, 3)],\n",
       " [spread(@param0, 1, 5), gatherNeg(spread(@param0, 1, 5), ['-4'])]]"
      ]
     },
     "metadata": {},
     "output_type": "display_data"
    },
    {
     "data": {
      "application/javascript": [
       "const spec = {\"layer\": [{\"mark\": {\"type\": \"area\", \"opacity\": 0.7}, \"encoding\": {\"x\": {\"field\": \"KEY\", \"type\": \"nominal\"}, \"y\": {\"field\": \"upper range\", \"type\": \"quantitative\"}, \"y2\": {\"field\": \"lower range\"}}, \"transform\": [{\"filter\": \"datum.layer_id == 0\"}]}, {\"mark\": {\"type\": \"line\", \"opacity\": 0.7}, \"encoding\": {\"x\": {\"field\": \"KEY\", \"type\": \"nominal\"}, \"y\": {\"field\": \"VALUE\", \"type\": \"quantitative\"}, \"order\": {\"field\": \"KEY\", \"type\": \"quantitative\"}}, \"transform\": [{\"filter\": \"datum.layer_id == 1\"}]}], \"resolve\": {}, \"data\": {\"values\": [{\"KEY\": \"Y1\", \"lower range\": 0.39, \"means\": 0.52, \"stddev\": 0.1328, \"upper range\": 0.66, \"layer_id\": 0}, {\"KEY\": \"Y2\", \"lower range\": 0.44, \"means\": 0.57, \"stddev\": 0.1321, \"upper range\": 0.7, \"layer_id\": 0}, {\"KEY\": \"Y3\", \"lower range\": 0.47, \"means\": 0.6, \"stddev\": 0.1303, \"upper range\": 0.73, \"layer_id\": 0}, {\"KEY\": \"Y4\", \"lower range\": 0.5, \"means\": 0.63, \"stddev\": 0.1266, \"upper range\": 0.75, \"layer_id\": 0}, {\"KEY\": \"Y5\", \"lower range\": 0.51, \"means\": 0.63, \"stddev\": 0.1225, \"upper range\": 0.75, \"layer_id\": 0}, {\"Y5\": 0.1225, \"KEY\": \"Y1\", \"VALUE\": 0.1328, \"layer_id\": 1}, {\"Y5\": 0.51, \"KEY\": \"Y1\", \"VALUE\": 0.39, \"layer_id\": 1}, {\"Y5\": 0.63, \"KEY\": \"Y1\", \"VALUE\": 0.52, \"layer_id\": 1}, {\"Y5\": 0.75, \"KEY\": \"Y1\", \"VALUE\": 0.66, \"layer_id\": 1}, {\"Y5\": 0.1225, \"KEY\": \"Y2\", \"VALUE\": 0.1321, \"layer_id\": 1}, {\"Y5\": 0.51, \"KEY\": \"Y2\", \"VALUE\": 0.44, \"layer_id\": 1}, {\"Y5\": 0.63, \"KEY\": \"Y2\", \"VALUE\": 0.57, \"layer_id\": 1}, {\"Y5\": 0.75, \"KEY\": \"Y2\", \"VALUE\": 0.7, \"layer_id\": 1}, {\"Y5\": 0.1225, \"KEY\": \"Y3\", \"VALUE\": 0.1303, \"layer_id\": 1}, {\"Y5\": 0.51, \"KEY\": \"Y3\", \"VALUE\": 0.47, \"layer_id\": 1}, {\"Y5\": 0.63, \"KEY\": \"Y3\", \"VALUE\": 0.6, \"layer_id\": 1}, {\"Y5\": 0.75, \"KEY\": \"Y3\", \"VALUE\": 0.73, \"layer_id\": 1}, {\"Y5\": 0.1225, \"KEY\": \"lower range\", \"layer_id\": 1}, {\"Y5\": 0.51, \"KEY\": \"lower range\", \"VALUE\": 0.5, \"layer_id\": 1}, {\"Y5\": 0.63, \"KEY\": \"lower range\", \"layer_id\": 1}, {\"Y5\": 0.75, \"KEY\": \"lower range\", \"layer_id\": 1}, {\"Y5\": 0.1225, \"KEY\": \"means\", \"layer_id\": 1}, {\"Y5\": 0.51, \"KEY\": \"means\", \"layer_id\": 1}, {\"Y5\": 0.63, \"KEY\": \"means\", \"VALUE\": 0.63, \"layer_id\": 1}, {\"Y5\": 0.75, \"KEY\": \"means\", \"layer_id\": 1}, {\"Y5\": 0.1225, \"KEY\": \"stddev\", \"VALUE\": 0.1266, \"layer_id\": 1}, {\"Y5\": 0.51, \"KEY\": \"stddev\", \"layer_id\": 1}, {\"Y5\": 0.63, \"KEY\": \"stddev\", \"layer_id\": 1}, {\"Y5\": 0.75, \"KEY\": \"stddev\", \"layer_id\": 1}, {\"Y5\": 0.1225, \"KEY\": \"upper range\", \"layer_id\": 1}, {\"Y5\": 0.51, \"KEY\": \"upper range\", \"layer_id\": 1}, {\"Y5\": 0.63, \"KEY\": \"upper range\", \"layer_id\": 1}, {\"Y5\": 0.75, \"KEY\": \"upper range\", \"VALUE\": 0.75, \"layer_id\": 1}]}};\n",
       "const opt = {};\n",
       "const type = \"vega-lite\";\n",
       "const id = \"742314a3-80a4-4c8d-91b2-f3ce855cf1bc\";\n",
       "\n",
       "const output_area = this;\n",
       "\n",
       "require([\"nbextensions/jupyter-vega/index\"], function(vega) {\n",
       "  const target = document.createElement(\"div\");\n",
       "  target.id = id;\n",
       "  target.className = \"vega-embed\";\n",
       "\n",
       "  const style = document.createElement(\"style\");\n",
       "  style.textContent = [\n",
       "    \".vega-embed .error p {\",\n",
       "    \"  color: firebrick;\",\n",
       "    \"  font-size: 14px;\",\n",
       "    \"}\",\n",
       "  ].join(\"\\\\n\");\n",
       "\n",
       "  // element is a jQuery wrapped DOM element inside the output area\n",
       "  // see http://ipython.readthedocs.io/en/stable/api/generated/\\\n",
       "  // IPython.display.html#IPython.display.Javascript.__init__\n",
       "  element[0].appendChild(target);\n",
       "  element[0].appendChild(style);\n",
       "\n",
       "  vega.render(\"#\" + id, spec, type, opt, output_area);\n",
       "}, function (err) {\n",
       "  if (err.requireType !== \"scripterror\") {\n",
       "    throw(err);\n",
       "  }\n",
       "});\n"
      ],
      "text/plain": [
       "<vega.vegalite.VegaLite at 0x11ca22090>"
      ]
     },
     "metadata": {
      "jupyter-vega": "#742314a3-80a4-4c8d-91b2-f3ce855cf1bc"
     },
     "output_type": "display_data"
    },
    {
     "data": {
      "image/png": "[encoded data removed]"
     },
     "metadata": {
      "jupyter-vega": "#9607e076-fd73-4513-9233-ae856de33e3f"
     },
     "output_type": "display_data"
    },
    {
     "data": {
      "image/png": "[encoded data removed]"
     },
     "metadata": {
      "jupyter-vega": "#719e44d1-167b-4f39-9c6d-df8100c1c123"
     },
     "output_type": "display_data"
    },
    {
     "data": {
      "image/png": "[encoded data removed]"
     },
     "metadata": {
      "jupyter-vega": "#480df465-32bb-408d-8031-b7b91f473888"
     },
     "output_type": "display_data"
    },
    {
     "data": {
      "image/png": "[encoded data removed]"
     },
     "metadata": {
      "jupyter-vega": "#257cef8f-b04b-4188-b1aa-6b3b09bf427a"
     },
     "output_type": "display_data"
    },
    {
     "data": {
      "image/png": "[encoded data removed]"
     },
     "metadata": {
      "jupyter-vega": "#e4f66fcf-0360-4044-89b3-d0aca19ac7e2"
     },
     "output_type": "display_data"
    },
    {
     "data": {
      "image/png": "[encoded data removed]"
     },
     "metadata": {
      "jupyter-vega": "#4b029a0f-6eab-4db9-9c1b-b8bea90b8c12"
     },
     "output_type": "display_data"
    },
    {
     "data": {
      "image/png": "[encoded data removed]"
     },
     "metadata": {
      "jupyter-vega": "#742314a3-80a4-4c8d-91b2-f3ce855cf1bc"
     },
     "output_type": "display_data"
    }
   ],
   "source": [
    "inputs = [[\n",
    "          {\"Value\":\"means\",\"Y1\":0.52,\"Y2\":0.57,\"Y3\":0.6,\"Y4\":0.63,\"Y5\":0.63},\n",
    "          {\"Value\":\"stddev\",\"Y1\":0.1328,\"Y2\":0.1321,\"Y3\":0.1303,\"Y4\":0.1266,\"Y5\":0.1225},\n",
    "          {\"Value\":\"upper range\",\"Y1\":0.66,\"Y2\":0.7,\"Y3\":0.73,\"Y4\":0.75,\"Y5\":0.75},\n",
    "          {\"Value\":\"lower range\",\"Y1\":0.39,\"Y2\":0.44,\"Y3\":0.47,\"Y4\":0.5,\"Y5\":0.51}\n",
    "        ]]\n",
    "\n",
    "vtrace = [\n",
    "  {\"type\": \"area\", \n",
    "   \"props\": {\"x_left\": \"Y1\", \"y_top_left\": 0.66, \"y_bot_left\": 0.39,  \n",
    "             \"x_right\": \"Y2\", \"y_top_right\": 0.7, \"y_bot_right\": 0.44, \"color\": \"\", \"column\": \"\"}},\n",
    "  {\"type\": \"line\", \"props\": {\"x1\": \"Y1\", \"y1\": 0.52, \"x2\": \"Y2\", \"y2\": 0.57, \"color\": \"\", \"column\": \"\"}},\n",
    "  {\"type\": \"line\", \"props\": {\"x1\": \"Y2\", \"y1\": 0.57, \"x2\": \"Y3\", \"y2\": 0.6, \"color\": \"\", \"column\": \"\"}}\n",
    "]\n",
    "\n",
    "candidates = FalxInterface.synthesize(inputs=inputs, raw_trace=vtrace)\n",
    "\n",
    "for table_prog, vis_design in candidates:\n",
    "    display(table_prog)\n",
    "    render_vegalite(vis_design)"
   ]
  }
 ],
 "metadata": {
  "kernelspec": {
   "display_name": "Python 3",
   "language": "python",
   "name": "python3"
  },
  "language_info": {
   "codemirror_mode": {
    "name": "ipython",
    "version": 3
   },
   "file_extension": ".py",
   "mimetype": "text/x-python",
   "name": "python",
   "nbconvert_exporter": "python",
   "pygments_lexer": "ipython3",
   "version": "3.7.5"
  }
 },
 "nbformat": 4,
 "nbformat_minor": 2
}
