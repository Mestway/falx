{
 "cells": [
  {
   "cell_type": "code",
   "execution_count": 10,
   "metadata": {
    "scrolled": false
   },
   "outputs": [],
   "source": [
    "import rpy2.ipython\n",
    "import warnings\n",
    "warnings.filterwarnings('ignore')\n",
    "\n",
    "%reload_ext rpy2.ipython\n",
    "%reload_ext autoreload\n",
    "\n",
    "import json\n",
    "import pandas as pd\n",
    "import os\n",
    "from vega import VegaLite\n",
    "from ipywidgets import widgets\n",
    "\n",
    "from falx.chart.chart import *\n",
    "from falx.interface_deprecated import *\n",
    "\n",
    "DATA_DIR = os.path.join(\"..\", \"benchmarks\")\n",
    "\n",
    "def render_ggplot2(vis):\n",
    "    \"\"\"Given a visualization (VisDesign object), \n",
    "        render it using ggplot\"\"\"\n",
    "    \n",
    "    ggplot_script = vis.to_ggplot2()\n",
    "    print(\"\\n\".join(ggplot_script))\n",
    "    for l in ggplot_script:\n",
    "        %R -i l\n",
    "        %R eval(parse(text=l))\n",
    "    %R print(p)\n",
    "\n",
    "def render_vegalite(vis):\n",
    "    # Render a visualization using vegalite\n",
    "    VegaLite(vis.to_vl_obj()).display()\n",
    "    \n",
    "def view_benchmarks(dirname):\n",
    "\n",
    "    for fname in os.listdir(dirname):\n",
    "        if not fname.endswith(\".json\"): continue\n",
    "            \n",
    "        if \"003\" not in fname: continue\n",
    "    \n",
    "        with open(os.path.join(dirname, fname), \"r\") as f:\n",
    "            data = json.load(f)\n",
    "\n",
    "        input_data = table_utils.load_and_clean_table(data[\"input_data\"])\n",
    "        vis = VisDesign.load_from_vegalite(data[\"vl_spec\"], data[\"output_data\"])\n",
    "        try:\n",
    "            render_vegalite(vis)\n",
    "            render_ggplot2(vis)\n",
    "        except:\n",
    "            pass\n",
    "#view_benchmarks(DATA_DIR)"
   ]
  },
  {
   "cell_type": "code",
   "execution_count": 11,
   "metadata": {
    "scrolled": false
   },
   "outputs": [
    {
     "name": "stderr",
     "output_type": "stream",
     "text": [
      "[info] # Synthesizer configuration\n",
      "[info] {\n",
      "[info]   \"solution_limit\": 5,\n",
      "[info]   \"time_limit_sec\": 30,\n",
      "[info]   \"search_start_depth_level\": 2,\n",
      "[info]   \"search_stop_depth_level\": 2,\n",
      "[info]   \"grammar_base_file\": \"dsl/tidyverse.tyrell.base\",\n",
      "[info]   \"sketch_restriction\": null,\n",
      "[info]   \"component_restriction\": [\n",
      "[info]     \"gather\",\n",
      "[info]     \"gatherNeg\",\n",
      "[info]     \"spread\"\n",
      "[info]   ],\n",
      "[info]   \"vis_backend\": \"vegalite\"\n",
      "[info] }\n",
      "[info] Parsing spec ...\n"
     ]
    },
    {
     "name": "stdout",
     "output_type": "stream",
     "text": [
      "         Value      Y1      Y2      Y3      Y4      Y5\n",
      "1        means  0.5200  0.5700  0.6000  0.6300  0.6300\n",
      "2       stddev  0.1328  0.1321  0.1303  0.1266  0.1225\n",
      "3  upper range  0.6600  0.7000  0.7300  0.7500  0.7500\n",
      "4  lower range  0.3900  0.4400  0.4700  0.5000  0.5100\n",
      "  c_x   c_y  c_y2\n",
      "1  Y1  0.66  0.39\n",
      "2  Y2  0.70  0.44\n"
     ]
    },
    {
     "ename": "FileNotFoundError",
     "evalue": "[Errno 2] No such file or directory: 'dsl/tidyverse.tyrell.base'",
     "output_type": "error",
     "traceback": [
      "\u001b[0;31m---------------------------------------------------------------------------\u001b[0m",
      "\u001b[0;31mFileNotFoundError\u001b[0m                         Traceback (most recent call last)",
      "\u001b[0;32m<ipython-input-11-eaad5f49f37b>\u001b[0m in \u001b[0;36m<module>\u001b[0;34m\u001b[0m\n\u001b[1;32m     18\u001b[0m                                       config={\"search_start_depth_level\": 2, \n\u001b[1;32m     19\u001b[0m                                               \u001b[0;34m\"search_stop_depth_level\"\u001b[0m\u001b[0;34m:\u001b[0m \u001b[0;36m2\u001b[0m\u001b[0;34m,\u001b[0m\u001b[0;34m\u001b[0m\u001b[0;34m\u001b[0m\u001b[0m\n\u001b[0;32m---> 20\u001b[0;31m                                               \"component_restriction\": [\"gather\", \"gatherNeg\", \"spread\"]})\n\u001b[0m\u001b[1;32m     21\u001b[0m \u001b[0;34m\u001b[0m\u001b[0m\n\u001b[1;32m     22\u001b[0m \u001b[0;32mfor\u001b[0m \u001b[0mtable_prog\u001b[0m\u001b[0;34m,\u001b[0m \u001b[0mvis_design\u001b[0m \u001b[0;32min\u001b[0m \u001b[0mcandidates\u001b[0m\u001b[0;34m:\u001b[0m\u001b[0;34m\u001b[0m\u001b[0;34m\u001b[0m\u001b[0m\n",
      "\u001b[0;32m~/Research/falx-project/falx/falx/interface_deprecated.py\u001b[0m in \u001b[0;36msynthesize\u001b[0;34m(inputs, raw_trace, extra_consts, group_results, config)\u001b[0m\n\u001b[1;32m    151\u001b[0m                                             \u001b[0msearch_stop_depth_level\u001b[0m\u001b[0;34m=\u001b[0m\u001b[0mconfig\u001b[0m\u001b[0;34m[\u001b[0m\u001b[0;34m\"search_stop_depth_level\"\u001b[0m\u001b[0;34m]\u001b[0m\u001b[0;34m,\u001b[0m\u001b[0;34m\u001b[0m\u001b[0;34m\u001b[0m\u001b[0m\n\u001b[1;32m    152\u001b[0m                                             \u001b[0mcomponent_restriction\u001b[0m\u001b[0;34m=\u001b[0m\u001b[0mconfig\u001b[0m\u001b[0;34m[\u001b[0m\u001b[0;34m\"component_restriction\"\u001b[0m\u001b[0;34m]\u001b[0m\u001b[0;34m,\u001b[0m\u001b[0;34m\u001b[0m\u001b[0;34m\u001b[0m\u001b[0m\n\u001b[0;32m--> 153\u001b[0;31m                                             sketch_restriction=config[\"sketch_restriction\"]) for d in sym_data]\n\u001b[0m\u001b[1;32m    154\u001b[0m \u001b[0;34m\u001b[0m\u001b[0m\n\u001b[1;32m    155\u001b[0m                 \u001b[0;31m# iterating over combinations for different layers\u001b[0m\u001b[0;34m\u001b[0m\u001b[0;34m\u001b[0m\u001b[0;34m\u001b[0m\u001b[0m\n",
      "\u001b[0;32m~/Research/falx-project/falx/falx/interface_deprecated.py\u001b[0m in \u001b[0;36m<listcomp>\u001b[0;34m(.0)\u001b[0m\n\u001b[1;32m    151\u001b[0m                                             \u001b[0msearch_stop_depth_level\u001b[0m\u001b[0;34m=\u001b[0m\u001b[0mconfig\u001b[0m\u001b[0;34m[\u001b[0m\u001b[0;34m\"search_stop_depth_level\"\u001b[0m\u001b[0;34m]\u001b[0m\u001b[0;34m,\u001b[0m\u001b[0;34m\u001b[0m\u001b[0;34m\u001b[0m\u001b[0m\n\u001b[1;32m    152\u001b[0m                                             \u001b[0mcomponent_restriction\u001b[0m\u001b[0;34m=\u001b[0m\u001b[0mconfig\u001b[0m\u001b[0;34m[\u001b[0m\u001b[0;34m\"component_restriction\"\u001b[0m\u001b[0;34m]\u001b[0m\u001b[0;34m,\u001b[0m\u001b[0;34m\u001b[0m\u001b[0;34m\u001b[0m\u001b[0m\n\u001b[0;32m--> 153\u001b[0;31m                                             sketch_restriction=config[\"sketch_restriction\"]) for d in sym_data]\n\u001b[0m\u001b[1;32m    154\u001b[0m \u001b[0;34m\u001b[0m\u001b[0m\n\u001b[1;32m    155\u001b[0m                 \u001b[0;31m# iterating over combinations for different layers\u001b[0m\u001b[0;34m\u001b[0m\u001b[0;34m\u001b[0m\u001b[0;34m\u001b[0m\u001b[0m\n",
      "\u001b[0;32m~/Research/falx-project/falx/falx/morpheus.py\u001b[0m in \u001b[0;36msynthesize\u001b[0;34m(inputs, output, extra_consts, oracle_output, prune, grammar_base_file, solution_limit, time_limit_sec, search_start_depth_level, search_stop_depth_level, component_restriction, sketch_restriction)\u001b[0m\n\u001b[1;32m    565\u001b[0m     \u001b[0mgrammar_file\u001b[0m \u001b[0;34m=\u001b[0m \u001b[0mos\u001b[0m\u001b[0;34m.\u001b[0m\u001b[0mpath\u001b[0m\u001b[0;34m.\u001b[0m\u001b[0mjoin\u001b[0m\u001b[0;34m(\u001b[0m\u001b[0mos\u001b[0m\u001b[0;34m.\u001b[0m\u001b[0mpath\u001b[0m\u001b[0;34m.\u001b[0m\u001b[0mdirname\u001b[0m\u001b[0;34m(\u001b[0m\u001b[0mos\u001b[0m\u001b[0;34m.\u001b[0m\u001b[0mpath\u001b[0m\u001b[0;34m.\u001b[0m\u001b[0mabspath\u001b[0m\u001b[0;34m(\u001b[0m\u001b[0m__file__\u001b[0m\u001b[0;34m)\u001b[0m\u001b[0;34m)\u001b[0m\u001b[0;34m,\u001b[0m \u001b[0;34m\"dsl\"\u001b[0m\u001b[0;34m,\u001b[0m \u001b[0;34m\"__tidyverse__.tyrell\"\u001b[0m\u001b[0;34m)\u001b[0m\u001b[0;34m\u001b[0m\u001b[0;34m\u001b[0m\u001b[0m\n\u001b[1;32m    566\u001b[0m \u001b[0;34m\u001b[0m\u001b[0m\n\u001b[0;32m--> 567\u001b[0;31m     \u001b[0msynth_utils\u001b[0m\u001b[0;34m.\u001b[0m\u001b[0mupdate_search_grammar\u001b[0m\u001b[0;34m(\u001b[0m\u001b[0mextra_consts\u001b[0m\u001b[0;34m,\u001b[0m \u001b[0mgrammar_base\u001b[0m\u001b[0;34m,\u001b[0m \u001b[0mgrammar_file\u001b[0m\u001b[0;34m)\u001b[0m\u001b[0;34m\u001b[0m\u001b[0;34m\u001b[0m\u001b[0m\n\u001b[0m\u001b[1;32m    568\u001b[0m \u001b[0;34m\u001b[0m\u001b[0m\n\u001b[1;32m    569\u001b[0m     \u001b[0mspec\u001b[0m \u001b[0;34m=\u001b[0m \u001b[0mS\u001b[0m\u001b[0;34m.\u001b[0m\u001b[0mparse_file\u001b[0m\u001b[0;34m(\u001b[0m\u001b[0mgrammar_file\u001b[0m\u001b[0;34m)\u001b[0m\u001b[0;34m\u001b[0m\u001b[0;34m\u001b[0m\u001b[0m\n",
      "\u001b[0;32m~/Research/falx-project/falx/falx/synth_utils.py\u001b[0m in \u001b[0;36mupdate_search_grammar\u001b[0;34m(extra_consts, in_file, out_file)\u001b[0m\n\u001b[1;32m    164\u001b[0m \u001b[0;34m\u001b[0m\u001b[0m\n\u001b[1;32m    165\u001b[0m     \u001b[0mcurrent_grammar\u001b[0m \u001b[0;34m=\u001b[0m \u001b[0;32mNone\u001b[0m\u001b[0;34m\u001b[0m\u001b[0;34m\u001b[0m\u001b[0m\n\u001b[0;32m--> 166\u001b[0;31m     \u001b[0;32mwith\u001b[0m \u001b[0mopen\u001b[0m\u001b[0;34m(\u001b[0m\u001b[0min_file\u001b[0m\u001b[0;34m,\u001b[0m \u001b[0;34m\"r\"\u001b[0m\u001b[0;34m)\u001b[0m \u001b[0;32mas\u001b[0m \u001b[0mf\u001b[0m\u001b[0;34m:\u001b[0m\u001b[0;34m\u001b[0m\u001b[0;34m\u001b[0m\u001b[0m\n\u001b[0m\u001b[1;32m    167\u001b[0m         \u001b[0mcurrent_grammar\u001b[0m \u001b[0;34m=\u001b[0m \u001b[0mf\u001b[0m\u001b[0;34m.\u001b[0m\u001b[0mread\u001b[0m\u001b[0;34m(\u001b[0m\u001b[0;34m)\u001b[0m\u001b[0;34m\u001b[0m\u001b[0;34m\u001b[0m\u001b[0m\n\u001b[1;32m    168\u001b[0m \u001b[0;34m\u001b[0m\u001b[0m\n",
      "\u001b[0;31mFileNotFoundError\u001b[0m: [Errno 2] No such file or directory: 'dsl/tidyverse.tyrell.base'"
     ]
    }
   ],
   "source": [
    "inputs = [[\n",
    "  {\"Value\":\"means\",\"Y1\":0.52,\"Y2\":0.57,\"Y3\":0.6,\"Y4\":0.63,\"Y5\":0.63},\n",
    "  {\"Value\":\"stddev\",\"Y1\":0.1328,\"Y2\":0.1321,\"Y3\":0.1303,\"Y4\":0.1266,\"Y5\":0.1225},\n",
    "  {\"Value\":\"upper range\",\"Y1\":0.66,\"Y2\":0.7,\"Y3\":0.73,\"Y4\":0.75,\"Y5\":0.75},\n",
    "  {\"Value\":\"lower range\",\"Y1\":0.39,\"Y2\":0.44,\"Y3\":0.47,\"Y4\":0.5,\"Y5\":0.51}\n",
    "]]\n",
    "\n",
    "vtrace = [\n",
    "  {\"type\": \"area\", \n",
    "   \"props\": {\"x_left\": \"Y1\", \"y_top_left\": 0.66, \"y_bot_left\": 0.39,  \n",
    "             \"x_right\": \"Y2\", \"y_top_right\": 0.7, \"y_bot_right\": 0.44}},\n",
    "  {\"type\": \"line\", \"props\": {\"x1\": \"Y1\", \"y1\": 0.52, \"x2\": \"Y2\", \"y2\": 0.57}},\n",
    "  {\"type\": \"line\", \"props\": {\"x1\": \"Y2\", \"y1\": 0.57, \"x2\": \"Y3\", \"y2\": 0.6}}\n",
    "]\n",
    "\n",
    "candidates = FalxInterface.synthesize(inputs=inputs, \n",
    "                                      raw_trace=vtrace,\n",
    "                                      config={\"search_start_depth_level\": 2, \n",
    "                                              \"search_stop_depth_level\": 2,\n",
    "                                              \"component_restriction\": [\"gather\", \"gatherNeg\", \"spread\"],\n",
    "                                              \"grammar_base_file\": \"dsl/tidyverse.tyrell.base\"})\n",
    "\n",
    "for table_prog, vis_design in candidates:\n",
    "    display(table_prog)\n",
    "    render_vegalite(vis_design)"
   ]
  },
  {
   "cell_type": "code",
   "execution_count": null,
   "metadata": {
    "scrolled": false
   },
   "outputs": [],
   "source": [
    "import pandas as pd\n",
    "df = pd.DataFrame({'foo': ['one', 'one', 'one', 'two', 'two','two'],\n",
    "                   'bar': ['A', 'B', 'C', 'A', 'B', 'C'],\n",
    "                   'baz': [1, 2, 3, 4, 5, 6],\n",
    "                   'zoo': ['x', 'y', 'z', 'q', 'w', 't']})\n",
    "\n",
    "df0 = df.copy()\n",
    "\n",
    "#display(df)\n",
    "#df = pd.pivot_table(df, index=['foo', 'zoo'], values='baz', columns=[\"bar\"])\n",
    "df = df.set_index([\"foo\", \"baz\"])\n",
    "#display(df)\n",
    "def multiindex_pivot(df, columns=None, values=None):\n",
    "    #https://github.com/pandas-dev/pandas/issues/23955\n",
    "    names = list(df.index.names)\n",
    "    df = df.reset_index()\n",
    "    print(names)\n",
    "    print(df)\n",
    "    list_index = df[names].values\n",
    "    tuples_index = [tuple(i) for i in list_index] # hashable\n",
    "    df = df.assign(tuples_index=tuples_index)\n",
    "    df = df.pivot(index=\"tuples_index\", columns=columns, values=values)\n",
    "    tuples_index = df.index  # reduced\n",
    "    index = pd.MultiIndex.from_tuples(tuples_index, names=names)\n",
    "    df.index = index\n",
    "    return df\n",
    "df = multiindex_pivot(df, columns=\"bar\", values=\"zoo\").reset_index()\n",
    "#print(df.to_json(orient=\"records\"))\n",
    "pd.melt(df0, id_vars=[\"foo\", \"bar\"], value_vars=[\"baz\", \"zoo\"], var_name=\"KEY\", value_name=\"VALUE\")\n",
    "#pandas.melt(frame, id_vars=None, value_vars=None,\n",
    "# var_name=None, value_name='value'"
   ]
  },
  {
   "cell_type": "code",
   "execution_count": null,
   "metadata": {},
   "outputs": [],
   "source": []
  }
 ],
 "metadata": {
  "kernelspec": {
   "display_name": "Python 3",
   "language": "python",
   "name": "python3"
  },
  "language_info": {
   "codemirror_mode": {
    "name": "ipython",
    "version": 3
   },
   "file_extension": ".py",
   "mimetype": "text/x-python",
   "name": "python",
   "nbconvert_exporter": "python",
   "pygments_lexer": "ipython3",
   "version": "3.7.5"
  }
 },
 "nbformat": 4,
 "nbformat_minor": 2
}
