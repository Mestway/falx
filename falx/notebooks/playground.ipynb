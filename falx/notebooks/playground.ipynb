{
 "cells": [
  {
   "cell_type": "code",
   "execution_count": 14,
   "metadata": {
    "scrolled": false
   },
   "outputs": [],
   "source": [
    "import rpy2.ipython\n",
    "import warnings\n",
    "warnings.filterwarnings('ignore')\n",
    "\n",
    "%reload_ext rpy2.ipython\n",
    "%reload_ext autoreload\n",
    "\n",
    "import json\n",
    "import pandas as pd\n",
    "import os\n",
    "from vega import VegaLite\n",
    "from ipywidgets import widgets\n",
    "\n",
    "from falx.chart.chart import *\n",
    "from falx.interface_deprecated import *\n",
    "\n",
    "DATA_DIR = os.path.join(\"..\", \"benchmarks\")\n",
    "\n",
    "def render_ggplot2(vis):\n",
    "    \"\"\"Given a visualization (VisDesign object), \n",
    "        render it using ggplot\"\"\"\n",
    "    \n",
    "    ggplot_script = vis.to_ggplot2()\n",
    "    print(\"\\n\".join(ggplot_script))\n",
    "    for l in ggplot_script:\n",
    "        %R -i l\n",
    "        %R eval(parse(text=l))\n",
    "    %R print(p)\n",
    "\n",
    "def render_vegalite(vis):\n",
    "    # Render a visualization using vegalite\n",
    "    VegaLite(vis.to_vl_obj()).display()\n",
    "    \n",
    "def view_benchmarks(dirname):\n",
    "\n",
    "    for fname in os.listdir(dirname):\n",
    "        if not fname.endswith(\".json\"): continue\n",
    "            \n",
    "        if \"003\" not in fname: continue\n",
    "    \n",
    "        with open(os.path.join(dirname, fname), \"r\") as f:\n",
    "            data = json.load(f)\n",
    "\n",
    "        input_data = table_utils.load_and_clean_table(data[\"input_data\"])\n",
    "        vis = VisDesign.load_from_vegalite(data[\"vl_spec\"], data[\"output_data\"])\n",
    "        try:\n",
    "            render_vegalite(vis)\n",
    "            render_ggplot2(vis)\n",
    "        except:\n",
    "            pass\n",
    "#view_benchmarks(DATA_DIR)"
   ]
  },
  {
   "cell_type": "code",
   "execution_count": 15,
   "metadata": {
    "scrolled": false
   },
   "outputs": [
    {
     "name": "stderr",
     "output_type": "stream",
     "text": [
      "[info] # Synthesizer configuration\n",
      "[info] {\n",
      "[info]   \"solution_limit\": 5,\n",
      "[info]   \"time_limit_sec\": 30,\n",
      "[info]   \"search_start_depth_level\": 2,\n",
      "[info]   \"search_stop_depth_level\": 2,\n",
      "[info]   \"grammar_base_file\": \"../dsl/tidyverse.tyrell.base\",\n",
      "[info]   \"sketch_restriction\": null,\n",
      "[info]   \"component_restriction\": [\n",
      "[info]     \"gather\",\n",
      "[info]     \"gatherNeg\",\n",
      "[info]     \"spread\"\n",
      "[info]   ],\n",
      "[info]   \"vis_backend\": \"vegalite\"\n",
      "[info] }\n",
      "[info] Parsing spec ...\n",
      "[info] Parsing succeeded\n",
      "[info] Building synthesizer ...\n",
      "[info] Synthesizing programs ...\n"
     ]
    },
    {
     "name": "stdout",
     "output_type": "stream",
     "text": [
      "         Value      Y1      Y2      Y3      Y4      Y5\n",
      "1        means  0.5200  0.5700  0.6000  0.6300  0.6300\n",
      "2       stddev  0.1328  0.1321  0.1303  0.1266  0.1225\n",
      "3  upper range  0.6600  0.7000  0.7300  0.7500  0.7500\n",
      "4  lower range  0.3900  0.4400  0.4700  0.5000  0.5100\n",
      "  c_x   c_y  c_y2\n",
      "1  Y1  0.66  0.39\n",
      "2  Y2  0.70  0.44\n"
     ]
    },
    {
     "name": "stderr",
     "output_type": "stream",
     "text": [
      "R[write to console]: Error: Each row of output must be identified by a unique combination of keys.\n",
      "Keys are shared for 4 rows:\n",
      "* 9, 13\n",
      "* 11, 15\n",
      "Do you need to create unique ID with tibble::rowid_to_column()?\n",
      "Backtrace:\n",
      "\u001b[90m    \u001b[39m█\n",
      "\u001b[90m 1. \u001b[39m├─(function (expr, envir = parent.frame(), enclos = if (is.list(envir) || ...\n",
      "\u001b[90m 2. \u001b[39m│ └─(function (expr, envir = parent.frame(), enclos = if (is.list(envir) || ...\n",
      "\u001b[90m 3. \u001b[39m├─tidyr::spread(RET_DF328, 1, 3)\n",
      "\u001b[90m 4. \u001b[39m└─tidyr:::spread.data.frame(RET_DF328, 1, 3)\n",
      "\n",
      "[error] Error in interpreting spread...\n",
      "R[write to console]: Error: Each row of output must be identified by a unique combination of keys.\n",
      "Keys are shared for 4 rows:\n",
      "* 13, 17\n",
      "* 15, 19\n",
      "Do you need to create unique ID with tibble::rowid_to_column()?\n",
      "Backtrace:\n",
      "\u001b[90m    \u001b[39m█\n",
      "\u001b[90m 1. \u001b[39m├─(function (expr, envir = parent.frame(), enclos = if (is.list(envir) || ...\n",
      "\u001b[90m 2. \u001b[39m│ └─(function (expr, envir = parent.frame(), enclos = if (is.list(envir) || ...\n",
      "\u001b[90m 3. \u001b[39m├─tidyr::spread(RET_DF336, 1, 2)\n",
      "\u001b[90m 4. \u001b[39m└─tidyr:::spread.data.frame(RET_DF336, 1, 2)\n",
      "\n",
      "[error] Error in interpreting spread...\n",
      "[info] # Solutions found:\n",
      "[info]   [gatherNeg(@param0, ['-1']), spread(gatherNeg(@param0, ['-1']), 1, 3)]\n",
      "[info] # Continue searching for solutions: 1 found (expecting 5)\n",
      "[info] Parsing spec ...\n",
      "[info] Parsing succeeded\n",
      "[info] Building synthesizer ...\n",
      "[info] Synthesizing programs ...\n"
     ]
    },
    {
     "name": "stdout",
     "output_type": "stream",
     "text": [
      "         Value      Y1      Y2      Y3      Y4      Y5\n",
      "1        means  0.5200  0.5700  0.6000  0.6300  0.6300\n",
      "2       stddev  0.1328  0.1321  0.1303  0.1266  0.1225\n",
      "3  upper range  0.6600  0.7000  0.7300  0.7500  0.7500\n",
      "4  lower range  0.3900  0.4400  0.4700  0.5000  0.5100\n",
      "  c_x   c_y\n",
      "1  Y1  0.52\n",
      "2  Y2  0.57\n",
      "3  Y3  0.60\n"
     ]
    },
    {
     "name": "stderr",
     "output_type": "stream",
     "text": [
      "R[write to console]: Error: Each row of output must be identified by a unique combination of keys.\n",
      "Keys are shared for 4 rows:\n",
      "* 5, 9\n",
      "* 7, 11\n",
      "Do you need to create unique ID with tibble::rowid_to_column()?\n",
      "Backtrace:\n",
      "\u001b[90m    \u001b[39m█\n",
      "\u001b[90m 1. \u001b[39m├─(function (expr, envir = parent.frame(), enclos = if (is.list(envir) || ...\n",
      "\u001b[90m 2. \u001b[39m│ └─(function (expr, envir = parent.frame(), enclos = if (is.list(envir) || ...\n",
      "\u001b[90m 3. \u001b[39m├─tidyr::spread(RET_DF202, 1, 4)\n",
      "\u001b[90m 4. \u001b[39m└─tidyr:::spread.data.frame(RET_DF202, 1, 4)\n",
      "\n",
      "[error] Error in interpreting spread...\n",
      "R[write to console]: Error: Each row of output must be identified by a unique combination of keys.\n",
      "Keys are shared for 4 rows:\n",
      "* 5, 9\n",
      "* 7, 11\n",
      "Do you need to create unique ID with tibble::rowid_to_column()?\n",
      "Backtrace:\n",
      "\u001b[90m    \u001b[39m█\n",
      "\u001b[90m 1. \u001b[39m├─(function (expr, envir = parent.frame(), enclos = if (is.list(envir) || ...\n",
      "\u001b[90m 2. \u001b[39m│ └─(function (expr, envir = parent.frame(), enclos = if (is.list(envir) || ...\n",
      "\u001b[90m 3. \u001b[39m├─tidyr::spread(RET_DF207, 1, 4)\n",
      "\u001b[90m 4. \u001b[39m└─tidyr:::spread.data.frame(RET_DF207, 1, 4)\n",
      "\n",
      "[error] Error in interpreting spread...\n",
      "R[write to console]: Error: Each row of output must be identified by a unique combination of keys.\n",
      "Keys are shared for 4 rows:\n",
      "* 5, 9\n",
      "* 7, 11\n",
      "Do you need to create unique ID with tibble::rowid_to_column()?\n",
      "Backtrace:\n",
      "\u001b[90m    \u001b[39m█\n",
      "\u001b[90m 1. \u001b[39m├─(function (expr, envir = parent.frame(), enclos = if (is.list(envir) || ...\n",
      "\u001b[90m 2. \u001b[39m│ └─(function (expr, envir = parent.frame(), enclos = if (is.list(envir) || ...\n",
      "\u001b[90m 3. \u001b[39m├─tidyr::spread(RET_DF482, 1, 4)\n",
      "\u001b[90m 4. \u001b[39m└─tidyr:::spread.data.frame(RET_DF482, 1, 4)\n",
      "\n",
      "[error] Error in interpreting spread...\n",
      "R[write to console]: Error: Each row of output must be identified by a unique combination of keys.\n",
      "Keys are shared for 4 rows:\n",
      "* 13, 17\n",
      "* 15, 19\n",
      "Do you need to create unique ID with tibble::rowid_to_column()?\n",
      "Backtrace:\n",
      "\u001b[90m    \u001b[39m█\n",
      "\u001b[90m 1. \u001b[39m├─(function (expr, envir = parent.frame(), enclos = if (is.list(envir) || ...\n",
      "\u001b[90m 2. \u001b[39m│ └─(function (expr, envir = parent.frame(), enclos = if (is.list(envir) || ...\n",
      "\u001b[90m 3. \u001b[39m├─tidyr::spread(RET_DF723, 1, 2)\n",
      "\u001b[90m 4. \u001b[39m└─tidyr:::spread.data.frame(RET_DF723, 1, 2)\n",
      "\n",
      "[error] Error in interpreting spread...\n",
      "[info] # candidates before getting the correct solution: 5\n",
      "[info] # Solutions found:\n",
      "[info]   [gatherNeg(@param0, ['-1', '-5', '-6']), spread(gatherNeg(@param0, ['-1', '-5', '-6']), 1, 2)]\n",
      "[info]   [gatherNeg(@param0, ['-1', '-5', '-6']), spread(gatherNeg(@param0, ['-1', '-5', '-6']), 1, 3)]\n",
      "[info]   [gather(@param0, ['2', '3', '4']), spread(gather(@param0, ['2', '3', '4']), 1, 2)]\n",
      "[info]   [gatherNeg(@param0, ['-1', '-5']), spread(gatherNeg(@param0, ['-1', '-5']), 1, 2)]\n",
      "[info]   [gatherNeg(@param0, ['-1', '-6']), spread(gatherNeg(@param0, ['-1', '-6']), 1, 2)]\n"
     ]
    },
    {
     "name": "stdout",
     "output_type": "stream",
     "text": [
      "# candidates before getting the correct solution: 5\n",
      "???\n",
      "[[gatherNeg(@param0, ['-1', '-5', '-6']), spread(gatherNeg(@param0, ['-1', '-5', '-6']), 1, 2)], [gatherNeg(@param0, ['-1', '-5', '-6']), spread(gatherNeg(@param0, ['-1', '-5', '-6']), 1, 3)], [gather(@param0, ['2', '3', '4']), spread(gather(@param0, ['2', '3', '4']), 1, 2)], [gatherNeg(@param0, ['-1', '-5']), spread(gatherNeg(@param0, ['-1', '-5']), 1, 2)], [gatherNeg(@param0, ['-1', '-6']), spread(gatherNeg(@param0, ['-1', '-6']), 1, 2)]]\n",
      "[{'c_x': 'KEY', 'c_y': 'upper range', 'c_y2': 'lower range'}, {'c_x': 'KEY', 'c_y': 'VALUE'}]\n",
      "[{'c_x': 'KEY', 'c_y': 'upper range', 'c_y2': 'lower range'}, {'c_x': 'KEY', 'c_y': 'VALUE'}]\n",
      "[{'c_x': 'KEY', 'c_y': 'upper range', 'c_y2': 'lower range'}, {'c_x': 'KEY', 'c_y': 'VALUE'}]\n",
      "[{'c_x': 'KEY', 'c_y': 'upper range', 'c_y2': 'lower range'}, {'c_x': 'KEY', 'c_y': 'VALUE'}]\n",
      "[{'c_x': 'KEY', 'c_y': 'upper range', 'c_y2': 'lower range'}, {'c_x': 'KEY', 'c_y': 'VALUE'}]\n"
     ]
    },
    {
     "data": {
      "text/plain": [
       "[[gatherNeg(@param0, ['-1']), spread(gatherNeg(@param0, ['-1']), 1, 3)],\n",
       " [gatherNeg(@param0, ['-1', '-5', '-6']),\n",
       "  spread(gatherNeg(@param0, ['-1', '-5', '-6']), 1, 2)]]"
      ]
     },
     "metadata": {},
     "output_type": "display_data"
    },
    {
     "data": {
      "application/javascript": [
       "const spec = {\"layer\": [{\"mark\": {\"type\": \"area\", \"opacity\": 0.7}, \"encoding\": {\"x\": {\"field\": \"KEY\", \"type\": \"nominal\"}, \"y\": {\"field\": \"upper range\", \"type\": \"quantitative\"}, \"y2\": {\"field\": \"lower range\"}}, \"transform\": [{\"filter\": \"datum.layer_id == 0\"}]}, {\"mark\": {\"type\": \"line\", \"opacity\": 0.7}, \"encoding\": {\"x\": {\"field\": \"KEY\", \"type\": \"nominal\"}, \"y\": {\"field\": \"VALUE\", \"type\": \"quantitative\"}, \"order\": {\"field\": \"KEY\", \"type\": \"quantitative\"}}, \"transform\": [{\"filter\": \"datum.layer_id == 1\"}]}], \"resolve\": {}, \"data\": {\"values\": [{\"KEY\": \"Y1\", \"lower range\": 0.39, \"means\": 0.52, \"stddev\": 0.1328, \"upper range\": 0.66, \"layer_id\": 0}, {\"KEY\": \"Y2\", \"lower range\": 0.44, \"means\": 0.57, \"stddev\": 0.1321, \"upper range\": 0.7, \"layer_id\": 0}, {\"KEY\": \"Y3\", \"lower range\": 0.47, \"means\": 0.6, \"stddev\": 0.1303, \"upper range\": 0.73, \"layer_id\": 0}, {\"KEY\": \"Y4\", \"lower range\": 0.5, \"means\": 0.63, \"stddev\": 0.1266, \"upper range\": 0.75, \"layer_id\": 0}, {\"KEY\": \"Y5\", \"lower range\": 0.51, \"means\": 0.63, \"stddev\": 0.1225, \"upper range\": 0.75, \"layer_id\": 0}, {\"Y5\": 0.1225, \"KEY\": \"Y1\", \"VALUE\": 0.1328, \"stddev\": 0.1266, \"layer_id\": 1}, {\"Y5\": 0.1225, \"KEY\": \"Y2\", \"VALUE\": 0.1321, \"stddev\": 0.1266, \"layer_id\": 1}, {\"Y5\": 0.1225, \"KEY\": \"Y3\", \"VALUE\": 0.1303, \"stddev\": 0.1266, \"layer_id\": 1}, {\"Y5\": 0.51, \"KEY\": \"Y1\", \"VALUE\": 0.39, \"lower range\": 0.5, \"layer_id\": 1}, {\"Y5\": 0.51, \"KEY\": \"Y2\", \"VALUE\": 0.44, \"lower range\": 0.5, \"layer_id\": 1}, {\"Y5\": 0.51, \"KEY\": \"Y3\", \"VALUE\": 0.47, \"lower range\": 0.5, \"layer_id\": 1}, {\"Y5\": 0.63, \"KEY\": \"Y1\", \"VALUE\": 0.52, \"means\": 0.63, \"layer_id\": 1}, {\"Y5\": 0.63, \"KEY\": \"Y2\", \"VALUE\": 0.57, \"means\": 0.63, \"layer_id\": 1}, {\"Y5\": 0.63, \"KEY\": \"Y3\", \"VALUE\": 0.6, \"means\": 0.63, \"layer_id\": 1}, {\"Y5\": 0.75, \"KEY\": \"Y1\", \"VALUE\": 0.66, \"upper range\": 0.75, \"layer_id\": 1}, {\"Y5\": 0.75, \"KEY\": \"Y2\", \"VALUE\": 0.7, \"upper range\": 0.75, \"layer_id\": 1}, {\"Y5\": 0.75, \"KEY\": \"Y3\", \"VALUE\": 0.73, \"upper range\": 0.75, \"layer_id\": 1}]}};\n",
       "const opt = {};\n",
       "const type = \"vega-lite\";\n",
       "const id = \"c9929c9e-cd41-4086-a7e0-289a1f390a15\";\n",
       "\n",
       "const output_area = this;\n",
       "\n",
       "require([\"nbextensions/jupyter-vega/index\"], function(vega) {\n",
       "  const target = document.createElement(\"div\");\n",
       "  target.id = id;\n",
       "  target.className = \"vega-embed\";\n",
       "\n",
       "  const style = document.createElement(\"style\");\n",
       "  style.textContent = [\n",
       "    \".vega-embed .error p {\",\n",
       "    \"  color: firebrick;\",\n",
       "    \"  font-size: 14px;\",\n",
       "    \"}\",\n",
       "  ].join(\"\\\\n\");\n",
       "\n",
       "  // element is a jQuery wrapped DOM element inside the output area\n",
       "  // see http://ipython.readthedocs.io/en/stable/api/generated/\\\n",
       "  // IPython.display.html#IPython.display.Javascript.__init__\n",
       "  element[0].appendChild(target);\n",
       "  element[0].appendChild(style);\n",
       "\n",
       "  vega.render(\"#\" + id, spec, type, opt, output_area);\n",
       "}, function (err) {\n",
       "  if (err.requireType !== \"scripterror\") {\n",
       "    throw(err);\n",
       "  }\n",
       "});\n"
      ],
      "text/plain": [
       "<vega.vegalite.VegaLite at 0x12139a090>"
      ]
     },
     "metadata": {
      "jupyter-vega": "#c9929c9e-cd41-4086-a7e0-289a1f390a15"
     },
     "output_type": "display_data"
    },
    {
     "data": {
      "text/plain": [
       "[[gatherNeg(@param0, ['-1']), spread(gatherNeg(@param0, ['-1']), 1, 3)],\n",
       " [gatherNeg(@param0, ['-1', '-5', '-6']),\n",
       "  spread(gatherNeg(@param0, ['-1', '-5', '-6']), 1, 3)]]"
      ]
     },
     "metadata": {},
     "output_type": "display_data"
    },
    {
     "data": {
      "application/javascript": [
       "const spec = {\"layer\": [{\"mark\": {\"type\": \"area\", \"opacity\": 0.7}, \"encoding\": {\"x\": {\"field\": \"KEY\", \"type\": \"nominal\"}, \"y\": {\"field\": \"upper range\", \"type\": \"quantitative\"}, \"y2\": {\"field\": \"lower range\"}}, \"transform\": [{\"filter\": \"datum.layer_id == 0\"}]}, {\"mark\": {\"type\": \"line\", \"opacity\": 0.7}, \"encoding\": {\"x\": {\"field\": \"KEY\", \"type\": \"nominal\"}, \"y\": {\"field\": \"VALUE\", \"type\": \"quantitative\"}, \"order\": {\"field\": \"KEY\", \"type\": \"quantitative\"}}, \"transform\": [{\"filter\": \"datum.layer_id == 1\"}]}], \"resolve\": {}, \"data\": {\"values\": [{\"KEY\": \"Y1\", \"lower range\": 0.39, \"means\": 0.52, \"stddev\": 0.1328, \"upper range\": 0.66, \"layer_id\": 0}, {\"KEY\": \"Y2\", \"lower range\": 0.44, \"means\": 0.57, \"stddev\": 0.1321, \"upper range\": 0.7, \"layer_id\": 0}, {\"KEY\": \"Y3\", \"lower range\": 0.47, \"means\": 0.6, \"stddev\": 0.1303, \"upper range\": 0.73, \"layer_id\": 0}, {\"KEY\": \"Y4\", \"lower range\": 0.5, \"means\": 0.63, \"stddev\": 0.1266, \"upper range\": 0.75, \"layer_id\": 0}, {\"KEY\": \"Y5\", \"lower range\": 0.51, \"means\": 0.63, \"stddev\": 0.1225, \"upper range\": 0.75, \"layer_id\": 0}, {\"Y4\": 0.1266, \"KEY\": \"Y1\", \"VALUE\": 0.1328, \"stddev\": 0.1225, \"layer_id\": 1}, {\"Y4\": 0.1266, \"KEY\": \"Y2\", \"VALUE\": 0.1321, \"stddev\": 0.1225, \"layer_id\": 1}, {\"Y4\": 0.1266, \"KEY\": \"Y3\", \"VALUE\": 0.1303, \"stddev\": 0.1225, \"layer_id\": 1}, {\"Y4\": 0.5, \"KEY\": \"Y1\", \"VALUE\": 0.39, \"lower range\": 0.51, \"layer_id\": 1}, {\"Y4\": 0.5, \"KEY\": \"Y2\", \"VALUE\": 0.44, \"lower range\": 0.51, \"layer_id\": 1}, {\"Y4\": 0.5, \"KEY\": \"Y3\", \"VALUE\": 0.47, \"lower range\": 0.51, \"layer_id\": 1}, {\"Y4\": 0.63, \"KEY\": \"Y1\", \"VALUE\": 0.52, \"means\": 0.63, \"layer_id\": 1}, {\"Y4\": 0.63, \"KEY\": \"Y2\", \"VALUE\": 0.57, \"means\": 0.63, \"layer_id\": 1}, {\"Y4\": 0.63, \"KEY\": \"Y3\", \"VALUE\": 0.6, \"means\": 0.63, \"layer_id\": 1}, {\"Y4\": 0.75, \"KEY\": \"Y1\", \"VALUE\": 0.66, \"upper range\": 0.75, \"layer_id\": 1}, {\"Y4\": 0.75, \"KEY\": \"Y2\", \"VALUE\": 0.7, \"upper range\": 0.75, \"layer_id\": 1}, {\"Y4\": 0.75, \"KEY\": \"Y3\", \"VALUE\": 0.73, \"upper range\": 0.75, \"layer_id\": 1}]}};\n",
       "const opt = {};\n",
       "const type = \"vega-lite\";\n",
       "const id = \"21c9d0d8-d6d5-41ba-8b90-cb01b7e8e1d0\";\n",
       "\n",
       "const output_area = this;\n",
       "\n",
       "require([\"nbextensions/jupyter-vega/index\"], function(vega) {\n",
       "  const target = document.createElement(\"div\");\n",
       "  target.id = id;\n",
       "  target.className = \"vega-embed\";\n",
       "\n",
       "  const style = document.createElement(\"style\");\n",
       "  style.textContent = [\n",
       "    \".vega-embed .error p {\",\n",
       "    \"  color: firebrick;\",\n",
       "    \"  font-size: 14px;\",\n",
       "    \"}\",\n",
       "  ].join(\"\\\\n\");\n",
       "\n",
       "  // element is a jQuery wrapped DOM element inside the output area\n",
       "  // see http://ipython.readthedocs.io/en/stable/api/generated/\\\n",
       "  // IPython.display.html#IPython.display.Javascript.__init__\n",
       "  element[0].appendChild(target);\n",
       "  element[0].appendChild(style);\n",
       "\n",
       "  vega.render(\"#\" + id, spec, type, opt, output_area);\n",
       "}, function (err) {\n",
       "  if (err.requireType !== \"scripterror\") {\n",
       "    throw(err);\n",
       "  }\n",
       "});\n"
      ],
      "text/plain": [
       "<vega.vegalite.VegaLite at 0x11e92e150>"
      ]
     },
     "metadata": {
      "jupyter-vega": "#21c9d0d8-d6d5-41ba-8b90-cb01b7e8e1d0"
     },
     "output_type": "display_data"
    },
    {
     "data": {
      "text/plain": [
       "[[gatherNeg(@param0, ['-1']), spread(gatherNeg(@param0, ['-1']), 1, 3)],\n",
       " [gather(@param0, ['2', '3', '4']),\n",
       "  spread(gather(@param0, ['2', '3', '4']), 1, 2)]]"
      ]
     },
     "metadata": {},
     "output_type": "display_data"
    },
    {
     "data": {
      "application/javascript": [
       "const spec = {\"layer\": [{\"mark\": {\"type\": \"area\", \"opacity\": 0.7}, \"encoding\": {\"x\": {\"field\": \"KEY\", \"type\": \"nominal\"}, \"y\": {\"field\": \"upper range\", \"type\": \"quantitative\"}, \"y2\": {\"field\": \"lower range\"}}, \"transform\": [{\"filter\": \"datum.layer_id == 0\"}]}, {\"mark\": {\"type\": \"line\", \"opacity\": 0.7}, \"encoding\": {\"x\": {\"field\": \"KEY\", \"type\": \"nominal\"}, \"y\": {\"field\": \"VALUE\", \"type\": \"quantitative\"}, \"order\": {\"field\": \"KEY\", \"type\": \"quantitative\"}}, \"transform\": [{\"filter\": \"datum.layer_id == 1\"}]}], \"resolve\": {}, \"data\": {\"values\": [{\"KEY\": \"Y1\", \"lower range\": 0.39, \"means\": 0.52, \"stddev\": 0.1328, \"upper range\": 0.66, \"layer_id\": 0}, {\"KEY\": \"Y2\", \"lower range\": 0.44, \"means\": 0.57, \"stddev\": 0.1321, \"upper range\": 0.7, \"layer_id\": 0}, {\"KEY\": \"Y3\", \"lower range\": 0.47, \"means\": 0.6, \"stddev\": 0.1303, \"upper range\": 0.73, \"layer_id\": 0}, {\"KEY\": \"Y4\", \"lower range\": 0.5, \"means\": 0.63, \"stddev\": 0.1266, \"upper range\": 0.75, \"layer_id\": 0}, {\"KEY\": \"Y5\", \"lower range\": 0.51, \"means\": 0.63, \"stddev\": 0.1225, \"upper range\": 0.75, \"layer_id\": 0}, {\"Y5\": 0.1225, \"KEY\": \"Y1\", \"VALUE\": 0.1328, \"stddev\": 0.1266, \"layer_id\": 1}, {\"Y5\": 0.1225, \"KEY\": \"Y2\", \"VALUE\": 0.1321, \"stddev\": 0.1266, \"layer_id\": 1}, {\"Y5\": 0.1225, \"KEY\": \"Y3\", \"VALUE\": 0.1303, \"stddev\": 0.1266, \"layer_id\": 1}, {\"Y5\": 0.51, \"KEY\": \"Y1\", \"VALUE\": 0.39, \"lower range\": 0.5, \"layer_id\": 1}, {\"Y5\": 0.51, \"KEY\": \"Y2\", \"VALUE\": 0.44, \"lower range\": 0.5, \"layer_id\": 1}, {\"Y5\": 0.51, \"KEY\": \"Y3\", \"VALUE\": 0.47, \"lower range\": 0.5, \"layer_id\": 1}, {\"Y5\": 0.63, \"KEY\": \"Y1\", \"VALUE\": 0.52, \"means\": 0.63, \"layer_id\": 1}, {\"Y5\": 0.63, \"KEY\": \"Y2\", \"VALUE\": 0.57, \"means\": 0.63, \"layer_id\": 1}, {\"Y5\": 0.63, \"KEY\": \"Y3\", \"VALUE\": 0.6, \"means\": 0.63, \"layer_id\": 1}, {\"Y5\": 0.75, \"KEY\": \"Y1\", \"VALUE\": 0.66, \"upper range\": 0.75, \"layer_id\": 1}, {\"Y5\": 0.75, \"KEY\": \"Y2\", \"VALUE\": 0.7, \"upper range\": 0.75, \"layer_id\": 1}, {\"Y5\": 0.75, \"KEY\": \"Y3\", \"VALUE\": 0.73, \"upper range\": 0.75, \"layer_id\": 1}]}};\n",
       "const opt = {};\n",
       "const type = \"vega-lite\";\n",
       "const id = \"f93542f4-1127-44f6-b59b-8f3719a00804\";\n",
       "\n",
       "const output_area = this;\n",
       "\n",
       "require([\"nbextensions/jupyter-vega/index\"], function(vega) {\n",
       "  const target = document.createElement(\"div\");\n",
       "  target.id = id;\n",
       "  target.className = \"vega-embed\";\n",
       "\n",
       "  const style = document.createElement(\"style\");\n",
       "  style.textContent = [\n",
       "    \".vega-embed .error p {\",\n",
       "    \"  color: firebrick;\",\n",
       "    \"  font-size: 14px;\",\n",
       "    \"}\",\n",
       "  ].join(\"\\\\n\");\n",
       "\n",
       "  // element is a jQuery wrapped DOM element inside the output area\n",
       "  // see http://ipython.readthedocs.io/en/stable/api/generated/\\\n",
       "  // IPython.display.html#IPython.display.Javascript.__init__\n",
       "  element[0].appendChild(target);\n",
       "  element[0].appendChild(style);\n",
       "\n",
       "  vega.render(\"#\" + id, spec, type, opt, output_area);\n",
       "}, function (err) {\n",
       "  if (err.requireType !== \"scripterror\") {\n",
       "    throw(err);\n",
       "  }\n",
       "});\n"
      ],
      "text/plain": [
       "<vega.vegalite.VegaLite at 0x11e92e150>"
      ]
     },
     "metadata": {
      "jupyter-vega": "#f93542f4-1127-44f6-b59b-8f3719a00804"
     },
     "output_type": "display_data"
    },
    {
     "data": {
      "text/plain": [
       "[[gatherNeg(@param0, ['-1']), spread(gatherNeg(@param0, ['-1']), 1, 3)],\n",
       " [gatherNeg(@param0, ['-1', '-5']),\n",
       "  spread(gatherNeg(@param0, ['-1', '-5']), 1, 2)]]"
      ]
     },
     "metadata": {},
     "output_type": "display_data"
    },
    {
     "data": {
      "application/javascript": [
       "const spec = {\"layer\": [{\"mark\": {\"type\": \"area\", \"opacity\": 0.7}, \"encoding\": {\"x\": {\"field\": \"KEY\", \"type\": \"nominal\"}, \"y\": {\"field\": \"upper range\", \"type\": \"quantitative\"}, \"y2\": {\"field\": \"lower range\"}}, \"transform\": [{\"filter\": \"datum.layer_id == 0\"}]}, {\"mark\": {\"type\": \"line\", \"opacity\": 0.7}, \"encoding\": {\"x\": {\"field\": \"KEY\", \"type\": \"nominal\"}, \"y\": {\"field\": \"VALUE\", \"type\": \"quantitative\"}, \"order\": {\"field\": \"KEY\", \"type\": \"quantitative\"}}, \"transform\": [{\"filter\": \"datum.layer_id == 1\"}]}], \"resolve\": {}, \"data\": {\"values\": [{\"KEY\": \"Y1\", \"lower range\": 0.39, \"means\": 0.52, \"stddev\": 0.1328, \"upper range\": 0.66, \"layer_id\": 0}, {\"KEY\": \"Y2\", \"lower range\": 0.44, \"means\": 0.57, \"stddev\": 0.1321, \"upper range\": 0.7, \"layer_id\": 0}, {\"KEY\": \"Y3\", \"lower range\": 0.47, \"means\": 0.6, \"stddev\": 0.1303, \"upper range\": 0.73, \"layer_id\": 0}, {\"KEY\": \"Y4\", \"lower range\": 0.5, \"means\": 0.63, \"stddev\": 0.1266, \"upper range\": 0.75, \"layer_id\": 0}, {\"KEY\": \"Y5\", \"lower range\": 0.51, \"means\": 0.63, \"stddev\": 0.1225, \"upper range\": 0.75, \"layer_id\": 0}, {\"KEY\": \"Y1\", \"VALUE\": 0.1328, \"stddev\": 0.1266, \"layer_id\": 1}, {\"KEY\": \"Y1\", \"VALUE\": 0.39, \"lower range\": 0.5, \"layer_id\": 1}, {\"KEY\": \"Y1\", \"VALUE\": 0.52, \"means\": 0.63, \"layer_id\": 1}, {\"KEY\": \"Y1\", \"VALUE\": 0.66, \"upper range\": 0.75, \"layer_id\": 1}, {\"KEY\": \"Y2\", \"VALUE\": 0.1321, \"stddev\": 0.1266, \"layer_id\": 1}, {\"KEY\": \"Y2\", \"VALUE\": 0.44, \"lower range\": 0.5, \"layer_id\": 1}, {\"KEY\": \"Y2\", \"VALUE\": 0.57, \"means\": 0.63, \"layer_id\": 1}, {\"KEY\": \"Y2\", \"VALUE\": 0.7, \"upper range\": 0.75, \"layer_id\": 1}, {\"KEY\": \"Y3\", \"VALUE\": 0.1303, \"stddev\": 0.1266, \"layer_id\": 1}, {\"KEY\": \"Y3\", \"VALUE\": 0.47, \"lower range\": 0.5, \"layer_id\": 1}, {\"KEY\": \"Y3\", \"VALUE\": 0.6, \"means\": 0.63, \"layer_id\": 1}, {\"KEY\": \"Y3\", \"VALUE\": 0.73, \"upper range\": 0.75, \"layer_id\": 1}, {\"KEY\": \"Y5\", \"VALUE\": 0.1225, \"stddev\": 0.1266, \"layer_id\": 1}, {\"KEY\": \"Y5\", \"VALUE\": 0.51, \"lower range\": 0.5, \"layer_id\": 1}, {\"KEY\": \"Y5\", \"VALUE\": 0.63, \"means\": 0.63, \"layer_id\": 1}, {\"KEY\": \"Y5\", \"VALUE\": 0.75, \"upper range\": 0.75, \"layer_id\": 1}]}};\n",
       "const opt = {};\n",
       "const type = \"vega-lite\";\n",
       "const id = \"104b3e63-3f0b-4a3e-9b86-e3c22412a960\";\n",
       "\n",
       "const output_area = this;\n",
       "\n",
       "require([\"nbextensions/jupyter-vega/index\"], function(vega) {\n",
       "  const target = document.createElement(\"div\");\n",
       "  target.id = id;\n",
       "  target.className = \"vega-embed\";\n",
       "\n",
       "  const style = document.createElement(\"style\");\n",
       "  style.textContent = [\n",
       "    \".vega-embed .error p {\",\n",
       "    \"  color: firebrick;\",\n",
       "    \"  font-size: 14px;\",\n",
       "    \"}\",\n",
       "  ].join(\"\\\\n\");\n",
       "\n",
       "  // element is a jQuery wrapped DOM element inside the output area\n",
       "  // see http://ipython.readthedocs.io/en/stable/api/generated/\\\n",
       "  // IPython.display.html#IPython.display.Javascript.__init__\n",
       "  element[0].appendChild(target);\n",
       "  element[0].appendChild(style);\n",
       "\n",
       "  vega.render(\"#\" + id, spec, type, opt, output_area);\n",
       "}, function (err) {\n",
       "  if (err.requireType !== \"scripterror\") {\n",
       "    throw(err);\n",
       "  }\n",
       "});\n"
      ],
      "text/plain": [
       "<vega.vegalite.VegaLite at 0x12139a9d0>"
      ]
     },
     "metadata": {
      "jupyter-vega": "#104b3e63-3f0b-4a3e-9b86-e3c22412a960"
     },
     "output_type": "display_data"
    },
    {
     "data": {
      "text/plain": [
       "[[gatherNeg(@param0, ['-1']), spread(gatherNeg(@param0, ['-1']), 1, 3)],\n",
       " [gatherNeg(@param0, ['-1', '-6']),\n",
       "  spread(gatherNeg(@param0, ['-1', '-6']), 1, 2)]]"
      ]
     },
     "metadata": {},
     "output_type": "display_data"
    },
    {
     "data": {
      "application/javascript": [
       "const spec = {\"layer\": [{\"mark\": {\"type\": \"area\", \"opacity\": 0.7}, \"encoding\": {\"x\": {\"field\": \"KEY\", \"type\": \"nominal\"}, \"y\": {\"field\": \"upper range\", \"type\": \"quantitative\"}, \"y2\": {\"field\": \"lower range\"}}, \"transform\": [{\"filter\": \"datum.layer_id == 0\"}]}, {\"mark\": {\"type\": \"line\", \"opacity\": 0.7}, \"encoding\": {\"x\": {\"field\": \"KEY\", \"type\": \"nominal\"}, \"y\": {\"field\": \"VALUE\", \"type\": \"quantitative\"}, \"order\": {\"field\": \"KEY\", \"type\": \"quantitative\"}}, \"transform\": [{\"filter\": \"datum.layer_id == 1\"}]}], \"resolve\": {}, \"data\": {\"values\": [{\"KEY\": \"Y1\", \"lower range\": 0.39, \"means\": 0.52, \"stddev\": 0.1328, \"upper range\": 0.66, \"layer_id\": 0}, {\"KEY\": \"Y2\", \"lower range\": 0.44, \"means\": 0.57, \"stddev\": 0.1321, \"upper range\": 0.7, \"layer_id\": 0}, {\"KEY\": \"Y3\", \"lower range\": 0.47, \"means\": 0.6, \"stddev\": 0.1303, \"upper range\": 0.73, \"layer_id\": 0}, {\"KEY\": \"Y4\", \"lower range\": 0.5, \"means\": 0.63, \"stddev\": 0.1266, \"upper range\": 0.75, \"layer_id\": 0}, {\"KEY\": \"Y5\", \"lower range\": 0.51, \"means\": 0.63, \"stddev\": 0.1225, \"upper range\": 0.75, \"layer_id\": 0}, {\"KEY\": \"Y1\", \"VALUE\": 0.1328, \"stddev\": 0.1225, \"layer_id\": 1}, {\"KEY\": \"Y1\", \"VALUE\": 0.39, \"lower range\": 0.51, \"layer_id\": 1}, {\"KEY\": \"Y1\", \"VALUE\": 0.52, \"means\": 0.63, \"layer_id\": 1}, {\"KEY\": \"Y1\", \"VALUE\": 0.66, \"upper range\": 0.75, \"layer_id\": 1}, {\"KEY\": \"Y2\", \"VALUE\": 0.1321, \"stddev\": 0.1225, \"layer_id\": 1}, {\"KEY\": \"Y2\", \"VALUE\": 0.44, \"lower range\": 0.51, \"layer_id\": 1}, {\"KEY\": \"Y2\", \"VALUE\": 0.57, \"means\": 0.63, \"layer_id\": 1}, {\"KEY\": \"Y2\", \"VALUE\": 0.7, \"upper range\": 0.75, \"layer_id\": 1}, {\"KEY\": \"Y3\", \"VALUE\": 0.1303, \"stddev\": 0.1225, \"layer_id\": 1}, {\"KEY\": \"Y3\", \"VALUE\": 0.47, \"lower range\": 0.51, \"layer_id\": 1}, {\"KEY\": \"Y3\", \"VALUE\": 0.6, \"means\": 0.63, \"layer_id\": 1}, {\"KEY\": \"Y3\", \"VALUE\": 0.73, \"upper range\": 0.75, \"layer_id\": 1}, {\"KEY\": \"Y4\", \"VALUE\": 0.1266, \"stddev\": 0.1225, \"layer_id\": 1}, {\"KEY\": \"Y4\", \"VALUE\": 0.5, \"lower range\": 0.51, \"layer_id\": 1}, {\"KEY\": \"Y4\", \"VALUE\": 0.63, \"means\": 0.63, \"layer_id\": 1}, {\"KEY\": \"Y4\", \"VALUE\": 0.75, \"upper range\": 0.75, \"layer_id\": 1}]}};\n",
       "const opt = {};\n",
       "const type = \"vega-lite\";\n",
       "const id = \"3a07687f-3454-44e8-a3e8-bb036aad53e8\";\n",
       "\n",
       "const output_area = this;\n",
       "\n",
       "require([\"nbextensions/jupyter-vega/index\"], function(vega) {\n",
       "  const target = document.createElement(\"div\");\n",
       "  target.id = id;\n",
       "  target.className = \"vega-embed\";\n",
       "\n",
       "  const style = document.createElement(\"style\");\n",
       "  style.textContent = [\n",
       "    \".vega-embed .error p {\",\n",
       "    \"  color: firebrick;\",\n",
       "    \"  font-size: 14px;\",\n",
       "    \"}\",\n",
       "  ].join(\"\\\\n\");\n",
       "\n",
       "  // element is a jQuery wrapped DOM element inside the output area\n",
       "  // see http://ipython.readthedocs.io/en/stable/api/generated/\\\n",
       "  // IPython.display.html#IPython.display.Javascript.__init__\n",
       "  element[0].appendChild(target);\n",
       "  element[0].appendChild(style);\n",
       "\n",
       "  vega.render(\"#\" + id, spec, type, opt, output_area);\n",
       "}, function (err) {\n",
       "  if (err.requireType !== \"scripterror\") {\n",
       "    throw(err);\n",
       "  }\n",
       "});\n"
      ],
      "text/plain": [
       "<vega.vegalite.VegaLite at 0x12139a9d0>"
      ]
     },
     "metadata": {
      "jupyter-vega": "#3a07687f-3454-44e8-a3e8-bb036aad53e8"
     },
     "output_type": "display_data"
    },
    {
     "data": {
      "image/png": "[encoded data removed]"
     },
     "metadata": {
      "jupyter-vega": "#c9929c9e-cd41-4086-a7e0-289a1f390a15"
     },
     "output_type": "display_data"
    },
    {
     "data": {
      "image/png": "[encoded data removed]"
     },
     "metadata": {
      "jupyter-vega": "#21c9d0d8-d6d5-41ba-8b90-cb01b7e8e1d0"
     },
     "output_type": "display_data"
    },
    {
     "data": {
      "image/png": "[encoded data removed]"
     },
     "metadata": {
      "jupyter-vega": "#f93542f4-1127-44f6-b59b-8f3719a00804"
     },
     "output_type": "display_data"
    },
    {
     "data": {
      "image/png": "[encoded data removed]"
     },
     "metadata": {
      "jupyter-vega": "#104b3e63-3f0b-4a3e-9b86-e3c22412a960"
     },
     "output_type": "display_data"
    },
    {
     "data": {
      "image/png": "[encoded data removed]"
     },
     "metadata": {
      "jupyter-vega": "#3a07687f-3454-44e8-a3e8-bb036aad53e8"
     },
     "output_type": "display_data"
    }
   ],
   "source": [
    "inputs = [[\n",
    "  {\"Value\":\"means\",\"Y1\":0.52,\"Y2\":0.57,\"Y3\":0.6,\"Y4\":0.63,\"Y5\":0.63},\n",
    "  {\"Value\":\"stddev\",\"Y1\":0.1328,\"Y2\":0.1321,\"Y3\":0.1303,\"Y4\":0.1266,\"Y5\":0.1225},\n",
    "  {\"Value\":\"upper range\",\"Y1\":0.66,\"Y2\":0.7,\"Y3\":0.73,\"Y4\":0.75,\"Y5\":0.75},\n",
    "  {\"Value\":\"lower range\",\"Y1\":0.39,\"Y2\":0.44,\"Y3\":0.47,\"Y4\":0.5,\"Y5\":0.51}\n",
    "]]\n",
    "\n",
    "vtrace = [\n",
    "  {\"type\": \"area\", \n",
    "   \"props\": {\"x_left\": \"Y1\", \"y_top_left\": 0.66, \"y_bot_left\": 0.39,  \n",
    "             \"x_right\": \"Y2\", \"y_top_right\": 0.7, \"y_bot_right\": 0.44}},\n",
    "  {\"type\": \"line\", \"props\": {\"x1\": \"Y1\", \"y1\": 0.52, \"x2\": \"Y2\", \"y2\": 0.57}},\n",
    "  {\"type\": \"line\", \"props\": {\"x1\": \"Y2\", \"y1\": 0.57, \"x2\": \"Y3\", \"y2\": 0.6}}\n",
    "]\n",
    "\n",
    "candidates = FalxInterface.synthesize(inputs=inputs, \n",
    "                                      raw_trace=vtrace,\n",
    "                                      config={\"search_start_depth_level\": 2, \n",
    "                                              \"search_stop_depth_level\": 2,\n",
    "                                              \"component_restriction\": [\"gather\", \"gatherNeg\", \"spread\"],\n",
    "                                              \"grammar_base_file\": \"../dsl/tidyverse.tyrell.base\"})\n",
    "\n",
    "for table_prog, vis_design in candidates:\n",
    "    display(table_prog)\n",
    "    render_vegalite(vis_design)"
   ]
  },
  {
   "cell_type": "code",
   "execution_count": 13,
   "metadata": {
    "scrolled": false
   },
   "outputs": [
    {
     "name": "stdout",
     "output_type": "stream",
     "text": [
      "['foo', 'baz']\n",
      "   foo  baz bar zoo\n",
      "0  one    1   A   x\n",
      "1  one    2   B   y\n",
      "2  one    3   C   z\n",
      "3  two    4   A   q\n",
      "4  two    5   B   w\n",
      "5  two    6   C   t\n"
     ]
    },
    {
     "data": {
      "text/html": [
       "<div>\n",
       "<style scoped>\n",
       "    .dataframe tbody tr th:only-of-type {\n",
       "        vertical-align: middle;\n",
       "    }\n",
       "\n",
       "    .dataframe tbody tr th {\n",
       "        vertical-align: top;\n",
       "    }\n",
       "\n",
       "    .dataframe thead th {\n",
       "        text-align: right;\n",
       "    }\n",
       "</style>\n",
       "<table border=\"1\" class=\"dataframe\">\n",
       "  <thead>\n",
       "    <tr style=\"text-align: right;\">\n",
       "      <th></th>\n",
       "      <th>foo</th>\n",
       "      <th>bar</th>\n",
       "      <th>KEY</th>\n",
       "      <th>VALUE</th>\n",
       "    </tr>\n",
       "  </thead>\n",
       "  <tbody>\n",
       "    <tr>\n",
       "      <th>0</th>\n",
       "      <td>one</td>\n",
       "      <td>A</td>\n",
       "      <td>baz</td>\n",
       "      <td>1</td>\n",
       "    </tr>\n",
       "    <tr>\n",
       "      <th>1</th>\n",
       "      <td>one</td>\n",
       "      <td>B</td>\n",
       "      <td>baz</td>\n",
       "      <td>2</td>\n",
       "    </tr>\n",
       "    <tr>\n",
       "      <th>2</th>\n",
       "      <td>one</td>\n",
       "      <td>C</td>\n",
       "      <td>baz</td>\n",
       "      <td>3</td>\n",
       "    </tr>\n",
       "    <tr>\n",
       "      <th>3</th>\n",
       "      <td>two</td>\n",
       "      <td>A</td>\n",
       "      <td>baz</td>\n",
       "      <td>4</td>\n",
       "    </tr>\n",
       "    <tr>\n",
       "      <th>4</th>\n",
       "      <td>two</td>\n",
       "      <td>B</td>\n",
       "      <td>baz</td>\n",
       "      <td>5</td>\n",
       "    </tr>\n",
       "    <tr>\n",
       "      <th>5</th>\n",
       "      <td>two</td>\n",
       "      <td>C</td>\n",
       "      <td>baz</td>\n",
       "      <td>6</td>\n",
       "    </tr>\n",
       "    <tr>\n",
       "      <th>6</th>\n",
       "      <td>one</td>\n",
       "      <td>A</td>\n",
       "      <td>zoo</td>\n",
       "      <td>x</td>\n",
       "    </tr>\n",
       "    <tr>\n",
       "      <th>7</th>\n",
       "      <td>one</td>\n",
       "      <td>B</td>\n",
       "      <td>zoo</td>\n",
       "      <td>y</td>\n",
       "    </tr>\n",
       "    <tr>\n",
       "      <th>8</th>\n",
       "      <td>one</td>\n",
       "      <td>C</td>\n",
       "      <td>zoo</td>\n",
       "      <td>z</td>\n",
       "    </tr>\n",
       "    <tr>\n",
       "      <th>9</th>\n",
       "      <td>two</td>\n",
       "      <td>A</td>\n",
       "      <td>zoo</td>\n",
       "      <td>q</td>\n",
       "    </tr>\n",
       "    <tr>\n",
       "      <th>10</th>\n",
       "      <td>two</td>\n",
       "      <td>B</td>\n",
       "      <td>zoo</td>\n",
       "      <td>w</td>\n",
       "    </tr>\n",
       "    <tr>\n",
       "      <th>11</th>\n",
       "      <td>two</td>\n",
       "      <td>C</td>\n",
       "      <td>zoo</td>\n",
       "      <td>t</td>\n",
       "    </tr>\n",
       "  </tbody>\n",
       "</table>\n",
       "</div>"
      ],
      "text/plain": [
       "    foo bar  KEY VALUE\n",
       "0   one   A  baz     1\n",
       "1   one   B  baz     2\n",
       "2   one   C  baz     3\n",
       "3   two   A  baz     4\n",
       "4   two   B  baz     5\n",
       "5   two   C  baz     6\n",
       "6   one   A  zoo     x\n",
       "7   one   B  zoo     y\n",
       "8   one   C  zoo     z\n",
       "9   two   A  zoo     q\n",
       "10  two   B  zoo     w\n",
       "11  two   C  zoo     t"
      ]
     },
     "execution_count": 13,
     "metadata": {},
     "output_type": "execute_result"
    }
   ],
   "source": [
    "import pandas as pd\n",
    "df = pd.DataFrame({'foo': ['one', 'one', 'one', 'two', 'two','two'],\n",
    "                   'bar': ['A', 'B', 'C', 'A', 'B', 'C'],\n",
    "                   'baz': [1, 2, 3, 4, 5, 6],\n",
    "                   'zoo': ['x', 'y', 'z', 'q', 'w', 't']})\n",
    "\n",
    "df0 = df.copy()\n",
    "\n",
    "#display(df)\n",
    "#df = pd.pivot_table(df, index=['foo', 'zoo'], values='baz', columns=[\"bar\"])\n",
    "df = df.set_index([\"foo\", \"baz\"])\n",
    "#display(df)\n",
    "def multiindex_pivot(df, columns=None, values=None):\n",
    "    #https://github.com/pandas-dev/pandas/issues/23955\n",
    "    names = list(df.index.names)\n",
    "    df = df.reset_index()\n",
    "    print(names)\n",
    "    print(df)\n",
    "    list_index = df[names].values\n",
    "    tuples_index = [tuple(i) for i in list_index] # hashable\n",
    "    df = df.assign(tuples_index=tuples_index)\n",
    "    df = df.pivot(index=\"tuples_index\", columns=columns, values=values)\n",
    "    tuples_index = df.index  # reduced\n",
    "    index = pd.MultiIndex.from_tuples(tuples_index, names=names)\n",
    "    df.index = index\n",
    "    return df\n",
    "df = multiindex_pivot(df, columns=\"bar\", values=\"zoo\").reset_index()\n",
    "#print(df.to_json(orient=\"records\"))\n",
    "pd.melt(df0, id_vars=[\"foo\", \"bar\"], value_vars=[\"baz\", \"zoo\"], var_name=\"KEY\", value_name=\"VALUE\")\n",
    "#pandas.melt(frame, id_vars=None, value_vars=None,\n",
    "# var_name=None, value_name='value'"
   ]
  },
  {
   "cell_type": "code",
   "execution_count": null,
   "metadata": {},
   "outputs": [],
   "source": []
  }
 ],
 "metadata": {
  "kernelspec": {
   "display_name": "Python 3",
   "language": "python",
   "name": "python3"
  },
  "language_info": {
   "codemirror_mode": {
    "name": "ipython",
    "version": 3
   },
   "file_extension": ".py",
   "mimetype": "text/x-python",
   "name": "python",
   "nbconvert_exporter": "python",
   "pygments_lexer": "ipython3",
   "version": "3.7.5"
  }
 },
 "nbformat": 4,
 "nbformat_minor": 2
}
