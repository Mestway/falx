{
 "cells": [
  {
   "cell_type": "code",
   "execution_count": 2,
   "metadata": {
    "scrolled": false
   },
   "outputs": [
    {
     "name": "stdout",
     "output_type": "stream",
     "text": [
      "temp_0.vl.json\n",
      "__temp__/temp_0.vl.json\n",
      "{'$schema': 'https://vega.github.io/schema/vega-lite/v3.json',\n",
      " 'data': {'values': [{'COL3': 'XLOC',\n",
      "                      'COL4': '000060',\n",
      "                      'value_1': 3.6623,\n",
      "                      'value_2': 0.335},\n",
      "                     {'COL3': 'XLOC',\n",
      "                      'COL4': '000074',\n",
      "                      'value_1': 2.5681,\n",
      "                      'value_2': 0.0426}]},\n",
      " 'description': 'A simple bar chart with embedded data.',\n",
      " 'encoding': {'x': {'field': 'series', 'type': 'nominal'},\n",
      "              'y': {'field': 'count', 'type': 'quantitative'}},\n",
      " 'mark': 'bar'}\n"
     ]
    },
    {
     "data": {
      "application/javascript": [
       "var spec = {\"data\": {\"values\": [{\"value_2\": 0.335, \"COL4\": \"000060\", \"COL3\": \"XLOC\", \"value_1\": 3.6623}, {\"value_2\": 0.0426, \"COL4\": \"000074\", \"COL3\": \"XLOC\", \"value_1\": 2.5681}]}, \"encoding\": {\"x\": {\"type\": \"nominal\", \"field\": \"series\"}, \"y\": {\"type\": \"quantitative\", \"field\": \"count\"}}, \"description\": \"A simple bar chart with embedded data.\", \"$schema\": \"https://vega.github.io/schema/vega-lite/v3.json\", \"mark\": \"bar\"};\n",
       "var opt = {};\n",
       "var type = \"vega-lite\";\n",
       "var id = \"3f7313b4-0789-4f4b-9e65-6230a6cdef22\";\n",
       "\n",
       "var output_area = this;\n",
       "\n",
       "require([\"nbextensions/jupyter-vega/index\"], function(vega) {\n",
       "  var target = document.createElement(\"div\");\n",
       "  target.id = id;\n",
       "  target.className = \"vega-embed\";\n",
       "\n",
       "  var style = document.createElement(\"style\");\n",
       "  style.textContent = [\n",
       "    \".vega-embed .error p {\",\n",
       "    \"  color: firebrick;\",\n",
       "    \"  font-size: 14px;\",\n",
       "    \"}\",\n",
       "  ].join(\"\\\\n\");\n",
       "\n",
       "  // element is a jQuery wrapped DOM element inside the output area\n",
       "  // see http://ipython.readthedocs.io/en/stable/api/generated/\\\n",
       "  // IPython.display.html#IPython.display.Javascript.__init__\n",
       "  element[0].appendChild(target);\n",
       "  element[0].appendChild(style);\n",
       "\n",
       "  vega.render(\"#\" + id, spec, type, opt, output_area);\n",
       "}, function (err) {\n",
       "  if (err.requireType !== \"scripterror\") {\n",
       "    throw(err);\n",
       "  }\n",
       "});\n"
      ],
      "text/plain": [
       "<vega.vegalite.VegaLite at 0x112aefbe0>"
      ]
     },
     "metadata": {
      "jupyter-vega": "#3f7313b4-0789-4f4b-9e65-6230a6cdef22"
     },
     "output_type": "display_data"
    },
    {
     "name": "stdout",
     "output_type": "stream",
     "text": [
      "temp_1.vl.json\n",
      "__temp__/temp_1.vl.json\n",
      "{'$schema': 'https://vega.github.io/schema/vega-lite/v3.json',\n",
      " 'data': {'values': [{'KEY': 'value_1',\n",
      "                      'VALUE': 3.6623,\n",
      "                      'gene': 'XLOC_000060',\n",
      "                      'value_2': 0.335},\n",
      "                     {'KEY': 'value_1',\n",
      "                      'VALUE': 2.5681,\n",
      "                      'gene': 'XLOC_000074',\n",
      "                      'value_2': 0.0426}]},\n",
      " 'description': 'A simple bar chart with embedded data.',\n",
      " 'encoding': {'x': {'field': 'series', 'type': 'nominal'},\n",
      "              'y': {'field': 'count', 'type': 'quantitative'}},\n",
      " 'mark': 'bar'}\n"
     ]
    },
    {
     "data": {
      "application/javascript": [
       "var spec = {\"data\": {\"values\": [{\"value_2\": 0.335, \"gene\": \"XLOC_000060\", \"VALUE\": 3.6623, \"KEY\": \"value_1\"}, {\"value_2\": 0.0426, \"gene\": \"XLOC_000074\", \"VALUE\": 2.5681, \"KEY\": \"value_1\"}]}, \"encoding\": {\"x\": {\"type\": \"nominal\", \"field\": \"series\"}, \"y\": {\"type\": \"quantitative\", \"field\": \"count\"}}, \"description\": \"A simple bar chart with embedded data.\", \"$schema\": \"https://vega.github.io/schema/vega-lite/v3.json\", \"mark\": \"bar\"};\n",
       "var opt = {};\n",
       "var type = \"vega-lite\";\n",
       "var id = \"7402d79d-d0c5-4abe-a2b3-5660d64c4b5e\";\n",
       "\n",
       "var output_area = this;\n",
       "\n",
       "require([\"nbextensions/jupyter-vega/index\"], function(vega) {\n",
       "  var target = document.createElement(\"div\");\n",
       "  target.id = id;\n",
       "  target.className = \"vega-embed\";\n",
       "\n",
       "  var style = document.createElement(\"style\");\n",
       "  style.textContent = [\n",
       "    \".vega-embed .error p {\",\n",
       "    \"  color: firebrick;\",\n",
       "    \"  font-size: 14px;\",\n",
       "    \"}\",\n",
       "  ].join(\"\\\\n\");\n",
       "\n",
       "  // element is a jQuery wrapped DOM element inside the output area\n",
       "  // see http://ipython.readthedocs.io/en/stable/api/generated/\\\n",
       "  // IPython.display.html#IPython.display.Javascript.__init__\n",
       "  element[0].appendChild(target);\n",
       "  element[0].appendChild(style);\n",
       "\n",
       "  vega.render(\"#\" + id, spec, type, opt, output_area);\n",
       "}, function (err) {\n",
       "  if (err.requireType !== \"scripterror\") {\n",
       "    throw(err);\n",
       "  }\n",
       "});\n"
      ],
      "text/plain": [
       "<vega.vegalite.VegaLite at 0x112aefe10>"
      ]
     },
     "metadata": {
      "jupyter-vega": "#7402d79d-d0c5-4abe-a2b3-5660d64c4b5e"
     },
     "output_type": "display_data"
    },
    {
     "name": "stdout",
     "output_type": "stream",
     "text": [
      "temp_2.vl.json\n",
      "__temp__/temp_2.vl.json\n",
      "{'$schema': 'https://vega.github.io/schema/vega-lite/v3.json',\n",
      " 'data': {'values': [{'COL7': 10.9319,\n",
      "                      'gene': 'XLOC_000060',\n",
      "                      'value_1': 3.6623,\n",
      "                      'value_2': 0.335},\n",
      "                     {'COL7': 60.2425,\n",
      "                      'gene': 'XLOC_000074',\n",
      "                      'value_1': 2.5681,\n",
      "                      'value_2': 0.0426}]},\n",
      " 'description': 'A simple bar chart with embedded data.',\n",
      " 'encoding': {'x': {'field': 'series', 'type': 'nominal'},\n",
      "              'y': {'field': 'count', 'type': 'quantitative'}},\n",
      " 'mark': 'bar'}\n"
     ]
    },
    {
     "data": {
      "application/javascript": [
       "var spec = {\"data\": {\"values\": [{\"value_2\": 0.335, \"gene\": \"XLOC_000060\", \"value_1\": 3.6623, \"COL7\": 10.9319}, {\"value_2\": 0.0426, \"gene\": \"XLOC_000074\", \"value_1\": 2.5681, \"COL7\": 60.2425}]}, \"encoding\": {\"x\": {\"type\": \"nominal\", \"field\": \"series\"}, \"y\": {\"type\": \"quantitative\", \"field\": \"count\"}}, \"description\": \"A simple bar chart with embedded data.\", \"$schema\": \"https://vega.github.io/schema/vega-lite/v3.json\", \"mark\": \"bar\"};\n",
       "var opt = {};\n",
       "var type = \"vega-lite\";\n",
       "var id = \"f24e5724-09cb-433a-9051-aac05c69184d\";\n",
       "\n",
       "var output_area = this;\n",
       "\n",
       "require([\"nbextensions/jupyter-vega/index\"], function(vega) {\n",
       "  var target = document.createElement(\"div\");\n",
       "  target.id = id;\n",
       "  target.className = \"vega-embed\";\n",
       "\n",
       "  var style = document.createElement(\"style\");\n",
       "  style.textContent = [\n",
       "    \".vega-embed .error p {\",\n",
       "    \"  color: firebrick;\",\n",
       "    \"  font-size: 14px;\",\n",
       "    \"}\",\n",
       "  ].join(\"\\\\n\");\n",
       "\n",
       "  // element is a jQuery wrapped DOM element inside the output area\n",
       "  // see http://ipython.readthedocs.io/en/stable/api/generated/\\\n",
       "  // IPython.display.html#IPython.display.Javascript.__init__\n",
       "  element[0].appendChild(target);\n",
       "  element[0].appendChild(style);\n",
       "\n",
       "  vega.render(\"#\" + id, spec, type, opt, output_area);\n",
       "}, function (err) {\n",
       "  if (err.requireType !== \"scripterror\") {\n",
       "    throw(err);\n",
       "  }\n",
       "});\n"
      ],
      "text/plain": [
       "<vega.vegalite.VegaLite at 0x1067bf400>"
      ]
     },
     "metadata": {
      "jupyter-vega": "#f24e5724-09cb-433a-9051-aac05c69184d"
     },
     "output_type": "display_data"
    },
    {
     "name": "stdout",
     "output_type": "stream",
     "text": [
      "temp_3.vl.json\n",
      "__temp__/temp_3.vl.json\n",
      "{'$schema': 'https://vega.github.io/schema/vega-lite/v3.json',\n",
      " 'data': {'values': [{'gene': 'XLOC_000060',\n",
      "                      'value_1': 3.6623,\n",
      "                      'value_2': 0.335},\n",
      "                     {'gene': 'XLOC_000074',\n",
      "                      'value_1': 2.5681,\n",
      "                      'value_2': 0.0426}]},\n",
      " 'description': 'A simple bar chart with embedded data.',\n",
      " 'encoding': {'x': {'field': 'series', 'type': 'nominal'},\n",
      "              'y': {'field': 'count', 'type': 'quantitative'}},\n",
      " 'mark': 'bar'}\n"
     ]
    },
    {
     "data": {
      "application/javascript": [
       "var spec = {\"data\": {\"values\": [{\"value_2\": 0.335, \"gene\": \"XLOC_000060\", \"value_1\": 3.6623}, {\"value_2\": 0.0426, \"gene\": \"XLOC_000074\", \"value_1\": 2.5681}]}, \"encoding\": {\"x\": {\"type\": \"nominal\", \"field\": \"series\"}, \"y\": {\"type\": \"quantitative\", \"field\": \"count\"}}, \"description\": \"A simple bar chart with embedded data.\", \"$schema\": \"https://vega.github.io/schema/vega-lite/v3.json\", \"mark\": \"bar\"};\n",
       "var opt = {};\n",
       "var type = \"vega-lite\";\n",
       "var id = \"c93bf244-2100-4cf4-ac50-e8eb35d56f53\";\n",
       "\n",
       "var output_area = this;\n",
       "\n",
       "require([\"nbextensions/jupyter-vega/index\"], function(vega) {\n",
       "  var target = document.createElement(\"div\");\n",
       "  target.id = id;\n",
       "  target.className = \"vega-embed\";\n",
       "\n",
       "  var style = document.createElement(\"style\");\n",
       "  style.textContent = [\n",
       "    \".vega-embed .error p {\",\n",
       "    \"  color: firebrick;\",\n",
       "    \"  font-size: 14px;\",\n",
       "    \"}\",\n",
       "  ].join(\"\\\\n\");\n",
       "\n",
       "  // element is a jQuery wrapped DOM element inside the output area\n",
       "  // see http://ipython.readthedocs.io/en/stable/api/generated/\\\n",
       "  // IPython.display.html#IPython.display.Javascript.__init__\n",
       "  element[0].appendChild(target);\n",
       "  element[0].appendChild(style);\n",
       "\n",
       "  vega.render(\"#\" + id, spec, type, opt, output_area);\n",
       "}, function (err) {\n",
       "  if (err.requireType !== \"scripterror\") {\n",
       "    throw(err);\n",
       "  }\n",
       "});\n"
      ],
      "text/plain": [
       "<vega.vegalite.VegaLite at 0x112aefeb8>"
      ]
     },
     "metadata": {
      "jupyter-vega": "#c93bf244-2100-4cf4-ac50-e8eb35d56f53"
     },
     "output_type": "display_data"
    },
    {
     "name": "stdout",
     "output_type": "stream",
     "text": [
      "temp_4.vl.json\n",
      "__temp__/temp_4.vl.json\n",
      "{'$schema': 'https://vega.github.io/schema/vega-lite/v3.json',\n",
      " 'data': {'values': [{'COL14': '0.335014_XLOC_000060', 'value_1': 3.6623},\n",
      "                     {'COL14': '0.0426299_XLOC_000074', 'value_1': 2.5681}]},\n",
      " 'description': 'A simple bar chart with embedded data.',\n",
      " 'encoding': {'x': {'field': 'series', 'type': 'nominal'},\n",
      "              'y': {'field': 'count', 'type': 'quantitative'}},\n",
      " 'mark': 'bar'}\n"
     ]
    },
    {
     "data": {
      "image/png": "[encoded data removed]"
     },
     "metadata": {
      "jupyter-vega": "#3f7313b4-0789-4f4b-9e65-6230a6cdef22"
     },
     "output_type": "display_data"
    },
    {
     "data": {
      "image/png": "[encoded data removed]"
     },
     "metadata": {
      "jupyter-vega": "#7402d79d-d0c5-4abe-a2b3-5660d64c4b5e"
     },
     "output_type": "display_data"
    },
    {
     "data": {
      "application/javascript": [
       "var spec = {\"data\": {\"values\": [{\"value_1\": 3.6623, \"COL14\": \"0.335014_XLOC_000060\"}, {\"value_1\": 2.5681, \"COL14\": \"0.0426299_XLOC_000074\"}]}, \"encoding\": {\"x\": {\"type\": \"nominal\", \"field\": \"series\"}, \"y\": {\"type\": \"quantitative\", \"field\": \"count\"}}, \"description\": \"A simple bar chart with embedded data.\", \"$schema\": \"https://vega.github.io/schema/vega-lite/v3.json\", \"mark\": \"bar\"};\n",
       "var opt = {};\n",
       "var type = \"vega-lite\";\n",
       "var id = \"35898373-800d-4c56-9a3f-ed084e339b81\";\n",
       "\n",
       "var output_area = this;\n",
       "\n",
       "require([\"nbextensions/jupyter-vega/index\"], function(vega) {\n",
       "  var target = document.createElement(\"div\");\n",
       "  target.id = id;\n",
       "  target.className = \"vega-embed\";\n",
       "\n",
       "  var style = document.createElement(\"style\");\n",
       "  style.textContent = [\n",
       "    \".vega-embed .error p {\",\n",
       "    \"  color: firebrick;\",\n",
       "    \"  font-size: 14px;\",\n",
       "    \"}\",\n",
       "  ].join(\"\\\\n\");\n",
       "\n",
       "  // element is a jQuery wrapped DOM element inside the output area\n",
       "  // see http://ipython.readthedocs.io/en/stable/api/generated/\\\n",
       "  // IPython.display.html#IPython.display.Javascript.__init__\n",
       "  element[0].appendChild(target);\n",
       "  element[0].appendChild(style);\n",
       "\n",
       "  vega.render(\"#\" + id, spec, type, opt, output_area);\n",
       "}, function (err) {\n",
       "  if (err.requireType !== \"scripterror\") {\n",
       "    throw(err);\n",
       "  }\n",
       "});\n"
      ],
      "text/plain": [
       "<vega.vegalite.VegaLite at 0x1067bf400>"
      ]
     },
     "metadata": {
      "jupyter-vega": "#35898373-800d-4c56-9a3f-ed084e339b81"
     },
     "output_type": "display_data"
    },
    {
     "data": {
      "image/png": "[encoded data removed]"
     },
     "metadata": {
      "jupyter-vega": "#f24e5724-09cb-433a-9051-aac05c69184d"
     },
     "output_type": "display_data"
    },
    {
     "data": {
      "image/png": "[encoded data removed]"
     },
     "metadata": {
      "jupyter-vega": "#c93bf244-2100-4cf4-ac50-e8eb35d56f53"
     },
     "output_type": "display_data"
    },
    {
     "data": {
      "image/png": "[encoded data removed]"
     },
     "metadata": {
      "jupyter-vega": "#35898373-800d-4c56-9a3f-ed084e339b81"
     },
     "output_type": "display_data"
    }
   ],
   "source": [
    "from ipywidgets import interact, interactive, fixed, interact_manual\n",
    "import ipywidgets as widgets\n",
    "import json\n",
    "import os\n",
    "from pprint import pprint \n",
    "\n",
    "from vega import VegaLite\n",
    "\n",
    "def prepare_spec(input_file):\n",
    "    print(input_file)\n",
    "    with open(input_file) as f:\n",
    "        spec_dir = os.path.dirname(input_file)\n",
    "        spec = json.load(f)\n",
    "        pprint(spec)\n",
    "        # add data directory to the spec to fix relative import\n",
    "        if \"url\" in spec[\"data\"]:\n",
    "            spec[\"data\"][\"url\"] = os.path.join(spec_dir, spec[\"data\"][\"url\"])\n",
    "            print(spec[\"data\"][\"url\"])\n",
    "        return VegaLite(spec)\n",
    "\n",
    "# render all charts in the dir\n",
    "def render_vegalite_dir(input_dir, max_display=10):\n",
    "    for i, fname in enumerate(sorted(os.listdir(input_dir))):\n",
    "        if fname.endswith(\".vl.json\"):\n",
    "            print(fname)\n",
    "            vl = prepare_spec(os.path.join(input_dir, fname))\n",
    "            vl.display()\n",
    "            if i > 10: break\n",
    "    \n",
    "# the input_file is relative to the notebook\n",
    "#interact(render_vegalite_dir, input_dir=\"__temp__\");\n",
    "\n",
    "render_vegalite_dir(\"__temp__\")"
   ]
  }
 ],
 "metadata": {
  "celltoolbar": "Raw Cell Format",
  "kernelspec": {
   "display_name": "Python 3",
   "language": "python",
   "name": "python3"
  },
  "language_info": {
   "codemirror_mode": {
    "name": "ipython",
    "version": 3
   },
   "file_extension": ".py",
   "mimetype": "text/x-python",
   "name": "python",
   "nbconvert_exporter": "python",
   "pygments_lexer": "ipython3",
   "version": "3.7.2"
  }
 },
 "nbformat": 4,
 "nbformat_minor": 2
}
