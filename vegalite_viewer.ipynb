{
 "cells": [
  {
   "cell_type": "code",
   "execution_count": 3,
   "metadata": {
    "scrolled": false
   },
   "outputs": [
    {
     "name": "stdout",
     "output_type": "stream",
     "text": [
      "temp_0.vl.json\n",
      "__temp__/temp_0.vl.json\n",
      "{'$schema': 'https://vega.github.io/schema/vega-lite/v3.json',\n",
      " 'data': {'url': 'data/unemployment-across-industries.json'},\n",
      " 'encoding': {'x': {'axis': {'format': '%Y'},\n",
      "                    'field': 'series',\n",
      "                    'timeUnit': 'yearmonth',\n",
      "                    'type': 'temporal'},\n",
      "              'y': {'aggregate': 'sum',\n",
      "                    'axis': {'title': 'count'},\n",
      "                    'field': 'count',\n",
      "                    'type': 'quantitative'}},\n",
      " 'height': 200,\n",
      " 'mark': 'point',\n",
      " 'width': 300}\n",
      "__temp__/data/unemployment-across-industries.json\n"
     ]
    },
    {
     "data": {
      "application/javascript": [
       "var spec = {\"height\": 200, \"data\": {\"url\": \"__temp__/data/unemployment-across-industries.json\"}, \"width\": 300, \"encoding\": {\"x\": {\"type\": \"temporal\", \"axis\": {\"format\": \"%Y\"}, \"timeUnit\": \"yearmonth\", \"field\": \"series\"}, \"y\": {\"type\": \"quantitative\", \"axis\": {\"title\": \"count\"}, \"field\": \"count\", \"aggregate\": \"sum\"}}, \"$schema\": \"https://vega.github.io/schema/vega-lite/v3.json\", \"mark\": \"point\"};\n",
       "var opt = {};\n",
       "var type = \"vega-lite\";\n",
       "var id = \"ad0914e3-91df-4a37-bc06-1248ebf3af37\";\n",
       "\n",
       "var output_area = this;\n",
       "\n",
       "require([\"nbextensions/jupyter-vega/index\"], function(vega) {\n",
       "  var target = document.createElement(\"div\");\n",
       "  target.id = id;\n",
       "  target.className = \"vega-embed\";\n",
       "\n",
       "  var style = document.createElement(\"style\");\n",
       "  style.textContent = [\n",
       "    \".vega-embed .error p {\",\n",
       "    \"  color: firebrick;\",\n",
       "    \"  font-size: 14px;\",\n",
       "    \"}\",\n",
       "  ].join(\"\\\\n\");\n",
       "\n",
       "  // element is a jQuery wrapped DOM element inside the output area\n",
       "  // see http://ipython.readthedocs.io/en/stable/api/generated/\\\n",
       "  // IPython.display.html#IPython.display.Javascript.__init__\n",
       "  element[0].appendChild(target);\n",
       "  element[0].appendChild(style);\n",
       "\n",
       "  vega.render(\"#\" + id, spec, type, opt, output_area);\n",
       "}, function (err) {\n",
       "  if (err.requireType !== \"scripterror\") {\n",
       "    throw(err);\n",
       "  }\n",
       "});\n"
      ],
      "text/plain": [
       "<vega.vegalite.VegaLite at 0x10eefdeb8>"
      ]
     },
     "metadata": {
      "jupyter-vega": "#ad0914e3-91df-4a37-bc06-1248ebf3af37"
     },
     "output_type": "display_data"
    },
    {
     "name": "stdout",
     "output_type": "stream",
     "text": [
      "temp_1.vl.json\n",
      "__temp__/temp_1.vl.json\n",
      "{'$schema': 'https://vega.github.io/schema/vega-lite/v3.json',\n",
      " 'data': {'url': 'data/unemployment-across-industries.json'},\n",
      " 'encoding': {'x': {'axis': {'format': '%Y'},\n",
      "                    'field': 'series',\n",
      "                    'timeUnit': 'yearmonth',\n",
      "                    'type': 'temporal'},\n",
      "              'y': {'aggregate': 'sum',\n",
      "                    'axis': {'title': 'count'},\n",
      "                    'field': 'count',\n",
      "                    'type': 'quantitative'}},\n",
      " 'height': 200,\n",
      " 'mark': 'bar',\n",
      " 'width': 300}\n",
      "__temp__/data/unemployment-across-industries.json\n"
     ]
    },
    {
     "data": {
      "application/javascript": [
       "var spec = {\"height\": 200, \"data\": {\"url\": \"__temp__/data/unemployment-across-industries.json\"}, \"width\": 300, \"encoding\": {\"x\": {\"type\": \"temporal\", \"axis\": {\"format\": \"%Y\"}, \"timeUnit\": \"yearmonth\", \"field\": \"series\"}, \"y\": {\"type\": \"quantitative\", \"axis\": {\"title\": \"count\"}, \"field\": \"count\", \"aggregate\": \"sum\"}}, \"$schema\": \"https://vega.github.io/schema/vega-lite/v3.json\", \"mark\": \"bar\"};\n",
       "var opt = {};\n",
       "var type = \"vega-lite\";\n",
       "var id = \"5459c172-1f03-4588-bdf1-2e40c9601333\";\n",
       "\n",
       "var output_area = this;\n",
       "\n",
       "require([\"nbextensions/jupyter-vega/index\"], function(vega) {\n",
       "  var target = document.createElement(\"div\");\n",
       "  target.id = id;\n",
       "  target.className = \"vega-embed\";\n",
       "\n",
       "  var style = document.createElement(\"style\");\n",
       "  style.textContent = [\n",
       "    \".vega-embed .error p {\",\n",
       "    \"  color: firebrick;\",\n",
       "    \"  font-size: 14px;\",\n",
       "    \"}\",\n",
       "  ].join(\"\\\\n\");\n",
       "\n",
       "  // element is a jQuery wrapped DOM element inside the output area\n",
       "  // see http://ipython.readthedocs.io/en/stable/api/generated/\\\n",
       "  // IPython.display.html#IPython.display.Javascript.__init__\n",
       "  element[0].appendChild(target);\n",
       "  element[0].appendChild(style);\n",
       "\n",
       "  vega.render(\"#\" + id, spec, type, opt, output_area);\n",
       "}, function (err) {\n",
       "  if (err.requireType !== \"scripterror\") {\n",
       "    throw(err);\n",
       "  }\n",
       "});\n"
      ],
      "text/plain": [
       "<vega.vegalite.VegaLite at 0x10ef02518>"
      ]
     },
     "metadata": {
      "jupyter-vega": "#5459c172-1f03-4588-bdf1-2e40c9601333"
     },
     "output_type": "display_data"
    },
    {
     "name": "stdout",
     "output_type": "stream",
     "text": [
      "temp_10.vl.json\n",
      "__temp__/temp_10.vl.json\n",
      "{'$schema': 'https://vega.github.io/schema/vega-lite/v3.json',\n",
      " 'data': {'url': 'data/unemployment-across-industries.json'},\n",
      " 'encoding': {'x': {'aggregate': 'min',\n",
      "                    'axis': {'format': '%Y'},\n",
      "                    'field': 'series',\n",
      "                    'timeUnit': 'yearmonth',\n",
      "                    'type': 'temporal'},\n",
      "              'y': {'aggregate': 'sum',\n",
      "                    'axis': {'title': 'count'},\n",
      "                    'field': 'count',\n",
      "                    'type': 'quantitative'}},\n",
      " 'height': 200,\n",
      " 'mark': 'area',\n",
      " 'width': 300}\n",
      "__temp__/data/unemployment-across-industries.json\n"
     ]
    },
    {
     "data": {
      "application/javascript": [
       "var spec = {\"height\": 200, \"data\": {\"url\": \"__temp__/data/unemployment-across-industries.json\"}, \"width\": 300, \"encoding\": {\"x\": {\"type\": \"temporal\", \"axis\": {\"format\": \"%Y\"}, \"timeUnit\": \"yearmonth\", \"field\": \"series\", \"aggregate\": \"min\"}, \"y\": {\"type\": \"quantitative\", \"axis\": {\"title\": \"count\"}, \"field\": \"count\", \"aggregate\": \"sum\"}}, \"$schema\": \"https://vega.github.io/schema/vega-lite/v3.json\", \"mark\": \"area\"};\n",
       "var opt = {};\n",
       "var type = \"vega-lite\";\n",
       "var id = \"de9da731-440a-4442-9d2f-aa33de7be81f\";\n",
       "\n",
       "var output_area = this;\n",
       "\n",
       "require([\"nbextensions/jupyter-vega/index\"], function(vega) {\n",
       "  var target = document.createElement(\"div\");\n",
       "  target.id = id;\n",
       "  target.className = \"vega-embed\";\n",
       "\n",
       "  var style = document.createElement(\"style\");\n",
       "  style.textContent = [\n",
       "    \".vega-embed .error p {\",\n",
       "    \"  color: firebrick;\",\n",
       "    \"  font-size: 14px;\",\n",
       "    \"}\",\n",
       "  ].join(\"\\\\n\");\n",
       "\n",
       "  // element is a jQuery wrapped DOM element inside the output area\n",
       "  // see http://ipython.readthedocs.io/en/stable/api/generated/\\\n",
       "  // IPython.display.html#IPython.display.Javascript.__init__\n",
       "  element[0].appendChild(target);\n",
       "  element[0].appendChild(style);\n",
       "\n",
       "  vega.render(\"#\" + id, spec, type, opt, output_area);\n",
       "}, function (err) {\n",
       "  if (err.requireType !== \"scripterror\") {\n",
       "    throw(err);\n",
       "  }\n",
       "});\n"
      ],
      "text/plain": [
       "<vega.vegalite.VegaLite at 0x10ef02128>"
      ]
     },
     "metadata": {
      "jupyter-vega": "#de9da731-440a-4442-9d2f-aa33de7be81f"
     },
     "output_type": "display_data"
    },
    {
     "name": "stdout",
     "output_type": "stream",
     "text": [
      "temp_100.vl.json\n",
      "__temp__/temp_100.vl.json\n",
      "{'$schema': 'https://vega.github.io/schema/vega-lite/v3.json',\n",
      " 'data': {'url': 'data/unemployment-across-industries.json'},\n",
      " 'encoding': {'x': {'bin': {'maxbins': 10},\n",
      "                    'field': 'series',\n",
      "                    'type': 'ordinal'},\n",
      "              'y': {'aggregate': 'count',\n",
      "                    'field': 'count',\n",
      "                    'type': 'quantitative'}},\n",
      " 'mark': {'binSpacing': 0, 'type': 'bar'}}\n",
      "__temp__/data/unemployment-across-industries.json\n"
     ]
    },
    {
     "data": {
      "application/javascript": [
       "var spec = {\"$schema\": \"https://vega.github.io/schema/vega-lite/v3.json\", \"data\": {\"url\": \"__temp__/data/unemployment-across-industries.json\"}, \"mark\": {\"binSpacing\": 0, \"type\": \"bar\"}, \"encoding\": {\"x\": {\"bin\": {\"maxbins\": 10}, \"field\": \"series\", \"type\": \"ordinal\"}, \"y\": {\"field\": \"count\", \"type\": \"quantitative\", \"aggregate\": \"count\"}}};\n",
       "var opt = {};\n",
       "var type = \"vega-lite\";\n",
       "var id = \"f251d1dc-b518-470d-89fe-af3e74b0207d\";\n",
       "\n",
       "var output_area = this;\n",
       "\n",
       "require([\"nbextensions/jupyter-vega/index\"], function(vega) {\n",
       "  var target = document.createElement(\"div\");\n",
       "  target.id = id;\n",
       "  target.className = \"vega-embed\";\n",
       "\n",
       "  var style = document.createElement(\"style\");\n",
       "  style.textContent = [\n",
       "    \".vega-embed .error p {\",\n",
       "    \"  color: firebrick;\",\n",
       "    \"  font-size: 14px;\",\n",
       "    \"}\",\n",
       "  ].join(\"\\\\n\");\n",
       "\n",
       "  // element is a jQuery wrapped DOM element inside the output area\n",
       "  // see http://ipython.readthedocs.io/en/stable/api/generated/\\\n",
       "  // IPython.display.html#IPython.display.Javascript.__init__\n",
       "  element[0].appendChild(target);\n",
       "  element[0].appendChild(style);\n",
       "\n",
       "  vega.render(\"#\" + id, spec, type, opt, output_area);\n",
       "}, function (err) {\n",
       "  if (err.requireType !== \"scripterror\") {\n",
       "    throw(err);\n",
       "  }\n",
       "});\n"
      ],
      "text/plain": [
       "<vega.vegalite.VegaLite at 0x10ef02dd8>"
      ]
     },
     "metadata": {
      "jupyter-vega": "#f251d1dc-b518-470d-89fe-af3e74b0207d"
     },
     "output_type": "display_data"
    },
    {
     "name": "stdout",
     "output_type": "stream",
     "text": [
      "temp_101.vl.json\n",
      "__temp__/temp_101.vl.json\n",
      "{'$schema': 'https://vega.github.io/schema/vega-lite/v3.json',\n",
      " 'data': {'url': 'data/unemployment-across-industries.json'},\n",
      " 'encoding': {'x': {'bin': {'maxbins': 10},\n",
      "                    'field': 'series',\n",
      "                    'type': 'nominal'},\n",
      "              'y': {'aggregate': 'count',\n",
      "                    'field': 'count',\n",
      "                    'type': 'quantitative'}},\n",
      " 'mark': {'binSpacing': 0, 'type': 'bar'}}\n",
      "__temp__/data/unemployment-across-industries.json\n"
     ]
    },
    {
     "data": {
      "application/javascript": [
       "var spec = {\"$schema\": \"https://vega.github.io/schema/vega-lite/v3.json\", \"data\": {\"url\": \"__temp__/data/unemployment-across-industries.json\"}, \"mark\": {\"binSpacing\": 0, \"type\": \"bar\"}, \"encoding\": {\"x\": {\"bin\": {\"maxbins\": 10}, \"field\": \"series\", \"type\": \"nominal\"}, \"y\": {\"field\": \"count\", \"type\": \"quantitative\", \"aggregate\": \"count\"}}};\n",
       "var opt = {};\n",
       "var type = \"vega-lite\";\n",
       "var id = \"fe2085ed-aa00-4302-a36f-6c26564610eb\";\n",
       "\n",
       "var output_area = this;\n",
       "\n",
       "require([\"nbextensions/jupyter-vega/index\"], function(vega) {\n",
       "  var target = document.createElement(\"div\");\n",
       "  target.id = id;\n",
       "  target.className = \"vega-embed\";\n",
       "\n",
       "  var style = document.createElement(\"style\");\n",
       "  style.textContent = [\n",
       "    \".vega-embed .error p {\",\n",
       "    \"  color: firebrick;\",\n",
       "    \"  font-size: 14px;\",\n",
       "    \"}\",\n",
       "  ].join(\"\\\\n\");\n",
       "\n",
       "  // element is a jQuery wrapped DOM element inside the output area\n",
       "  // see http://ipython.readthedocs.io/en/stable/api/generated/\\\n",
       "  // IPython.display.html#IPython.display.Javascript.__init__\n",
       "  element[0].appendChild(target);\n",
       "  element[0].appendChild(style);\n",
       "\n",
       "  vega.render(\"#\" + id, spec, type, opt, output_area);\n",
       "}, function (err) {\n",
       "  if (err.requireType !== \"scripterror\") {\n",
       "    throw(err);\n",
       "  }\n",
       "});\n"
      ],
      "text/plain": [
       "<vega.vegalite.VegaLite at 0x10ef02048>"
      ]
     },
     "metadata": {
      "jupyter-vega": "#fe2085ed-aa00-4302-a36f-6c26564610eb"
     },
     "output_type": "display_data"
    },
    {
     "name": "stdout",
     "output_type": "stream",
     "text": [
      "temp_102.vl.json\n",
      "__temp__/temp_102.vl.json\n",
      "{'$schema': 'https://vega.github.io/schema/vega-lite/v3.json',\n",
      " 'data': {'url': 'data/unemployment-across-industries.json'},\n",
      " 'encoding': {'x': {'bin': {'maxbins': 10},\n",
      "                    'field': 'series',\n",
      "                    'type': 'temporal'},\n",
      "              'y': {'aggregate': 'count',\n",
      "                    'field': 'count',\n",
      "                    'type': 'quantitative'}},\n",
      " 'mark': {'binSpacing': 0, 'type': 'bar'}}\n",
      "__temp__/data/unemployment-across-industries.json\n"
     ]
    },
    {
     "data": {
      "application/javascript": [
       "var spec = {\"$schema\": \"https://vega.github.io/schema/vega-lite/v3.json\", \"data\": {\"url\": \"__temp__/data/unemployment-across-industries.json\"}, \"mark\": {\"binSpacing\": 0, \"type\": \"bar\"}, \"encoding\": {\"x\": {\"bin\": {\"maxbins\": 10}, \"field\": \"series\", \"type\": \"temporal\"}, \"y\": {\"field\": \"count\", \"type\": \"quantitative\", \"aggregate\": \"count\"}}};\n",
       "var opt = {};\n",
       "var type = \"vega-lite\";\n",
       "var id = \"20578c90-4561-48f5-a31f-f600af49fdff\";\n",
       "\n",
       "var output_area = this;\n",
       "\n",
       "require([\"nbextensions/jupyter-vega/index\"], function(vega) {\n",
       "  var target = document.createElement(\"div\");\n",
       "  target.id = id;\n",
       "  target.className = \"vega-embed\";\n",
       "\n",
       "  var style = document.createElement(\"style\");\n",
       "  style.textContent = [\n",
       "    \".vega-embed .error p {\",\n",
       "    \"  color: firebrick;\",\n",
       "    \"  font-size: 14px;\",\n",
       "    \"}\",\n",
       "  ].join(\"\\\\n\");\n",
       "\n",
       "  // element is a jQuery wrapped DOM element inside the output area\n",
       "  // see http://ipython.readthedocs.io/en/stable/api/generated/\\\n",
       "  // IPython.display.html#IPython.display.Javascript.__init__\n",
       "  element[0].appendChild(target);\n",
       "  element[0].appendChild(style);\n",
       "\n",
       "  vega.render(\"#\" + id, spec, type, opt, output_area);\n",
       "}, function (err) {\n",
       "  if (err.requireType !== \"scripterror\") {\n",
       "    throw(err);\n",
       "  }\n",
       "});\n"
      ],
      "text/plain": [
       "<vega.vegalite.VegaLite at 0x10ef02ac8>"
      ]
     },
     "metadata": {
      "jupyter-vega": "#20578c90-4561-48f5-a31f-f600af49fdff"
     },
     "output_type": "display_data"
    },
    {
     "name": "stdout",
     "output_type": "stream",
     "text": [
      "temp_103.vl.json\n",
      "__temp__/temp_103.vl.json\n",
      "{'$schema': 'https://vega.github.io/schema/vega-lite/v3.json',\n",
      " 'data': {'url': 'data/unemployment-across-industries.json'},\n",
      " 'encoding': {'x': {'bin': {'maxbins': 10},\n",
      "                    'field': 'series',\n",
      "                    'type': 'quantitative'},\n",
      "              'y': {'aggregate': 'count', 'field': 'count', 'type': 'ordinal'}},\n",
      " 'mark': {'binSpacing': 0, 'type': 'bar'}}\n",
      "__temp__/data/unemployment-across-industries.json\n"
     ]
    },
    {
     "data": {
      "application/javascript": [
       "var spec = {\"$schema\": \"https://vega.github.io/schema/vega-lite/v3.json\", \"data\": {\"url\": \"__temp__/data/unemployment-across-industries.json\"}, \"mark\": {\"binSpacing\": 0, \"type\": \"bar\"}, \"encoding\": {\"x\": {\"bin\": {\"maxbins\": 10}, \"field\": \"series\", \"type\": \"quantitative\"}, \"y\": {\"field\": \"count\", \"type\": \"ordinal\", \"aggregate\": \"count\"}}};\n",
       "var opt = {};\n",
       "var type = \"vega-lite\";\n",
       "var id = \"74377b9b-85bd-4cae-9c07-9b36ef19213f\";\n",
       "\n",
       "var output_area = this;\n",
       "\n",
       "require([\"nbextensions/jupyter-vega/index\"], function(vega) {\n",
       "  var target = document.createElement(\"div\");\n",
       "  target.id = id;\n",
       "  target.className = \"vega-embed\";\n",
       "\n",
       "  var style = document.createElement(\"style\");\n",
       "  style.textContent = [\n",
       "    \".vega-embed .error p {\",\n",
       "    \"  color: firebrick;\",\n",
       "    \"  font-size: 14px;\",\n",
       "    \"}\",\n",
       "  ].join(\"\\\\n\");\n",
       "\n",
       "  // element is a jQuery wrapped DOM element inside the output area\n",
       "  // see http://ipython.readthedocs.io/en/stable/api/generated/\\\n",
       "  // IPython.display.html#IPython.display.Javascript.__init__\n",
       "  element[0].appendChild(target);\n",
       "  element[0].appendChild(style);\n",
       "\n",
       "  vega.render(\"#\" + id, spec, type, opt, output_area);\n",
       "}, function (err) {\n",
       "  if (err.requireType !== \"scripterror\") {\n",
       "    throw(err);\n",
       "  }\n",
       "});\n"
      ],
      "text/plain": [
       "<vega.vegalite.VegaLite at 0x10ef02828>"
      ]
     },
     "metadata": {
      "jupyter-vega": "#74377b9b-85bd-4cae-9c07-9b36ef19213f"
     },
     "output_type": "display_data"
    },
    {
     "name": "stdout",
     "output_type": "stream",
     "text": [
      "temp_104.vl.json\n",
      "__temp__/temp_104.vl.json\n",
      "{'$schema': 'https://vega.github.io/schema/vega-lite/v3.json',\n",
      " 'data': {'url': 'data/unemployment-across-industries.json'},\n",
      " 'encoding': {'x': {'bin': {'maxbins': 10},\n",
      "                    'field': 'series',\n",
      "                    'type': 'quantitative'},\n",
      "              'y': {'aggregate': 'count', 'field': 'count', 'type': 'nominal'}},\n",
      " 'mark': {'binSpacing': 0, 'type': 'bar'}}\n",
      "__temp__/data/unemployment-across-industries.json\n"
     ]
    },
    {
     "data": {
      "application/javascript": [
       "var spec = {\"$schema\": \"https://vega.github.io/schema/vega-lite/v3.json\", \"data\": {\"url\": \"__temp__/data/unemployment-across-industries.json\"}, \"mark\": {\"binSpacing\": 0, \"type\": \"bar\"}, \"encoding\": {\"x\": {\"bin\": {\"maxbins\": 10}, \"field\": \"series\", \"type\": \"quantitative\"}, \"y\": {\"field\": \"count\", \"type\": \"nominal\", \"aggregate\": \"count\"}}};\n",
       "var opt = {};\n",
       "var type = \"vega-lite\";\n",
       "var id = \"af6ba103-61f2-4527-8bbb-0e9d38564ef7\";\n",
       "\n",
       "var output_area = this;\n",
       "\n",
       "require([\"nbextensions/jupyter-vega/index\"], function(vega) {\n",
       "  var target = document.createElement(\"div\");\n",
       "  target.id = id;\n",
       "  target.className = \"vega-embed\";\n",
       "\n",
       "  var style = document.createElement(\"style\");\n",
       "  style.textContent = [\n",
       "    \".vega-embed .error p {\",\n",
       "    \"  color: firebrick;\",\n",
       "    \"  font-size: 14px;\",\n",
       "    \"}\",\n",
       "  ].join(\"\\\\n\");\n",
       "\n",
       "  // element is a jQuery wrapped DOM element inside the output area\n",
       "  // see http://ipython.readthedocs.io/en/stable/api/generated/\\\n",
       "  // IPython.display.html#IPython.display.Javascript.__init__\n",
       "  element[0].appendChild(target);\n",
       "  element[0].appendChild(style);\n",
       "\n",
       "  vega.render(\"#\" + id, spec, type, opt, output_area);\n",
       "}, function (err) {\n",
       "  if (err.requireType !== \"scripterror\") {\n",
       "    throw(err);\n",
       "  }\n",
       "});\n"
      ],
      "text/plain": [
       "<vega.vegalite.VegaLite at 0x10ef02358>"
      ]
     },
     "metadata": {
      "jupyter-vega": "#af6ba103-61f2-4527-8bbb-0e9d38564ef7"
     },
     "output_type": "display_data"
    },
    {
     "name": "stdout",
     "output_type": "stream",
     "text": [
      "temp_105.vl.json\n",
      "__temp__/temp_105.vl.json\n",
      "{'$schema': 'https://vega.github.io/schema/vega-lite/v3.json',\n",
      " 'data': {'url': 'data/unemployment-across-industries.json'},\n",
      " 'encoding': {'x': {'bin': {'maxbins': 10},\n",
      "                    'field': 'series',\n",
      "                    'type': 'quantitative'},\n",
      "              'y': {'aggregate': 'count',\n",
      "                    'field': 'count',\n",
      "                    'type': 'temporal'}},\n",
      " 'mark': {'binSpacing': 0, 'type': 'bar'}}\n",
      "__temp__/data/unemployment-across-industries.json\n"
     ]
    },
    {
     "data": {
      "application/javascript": [
       "var spec = {\"$schema\": \"https://vega.github.io/schema/vega-lite/v3.json\", \"data\": {\"url\": \"__temp__/data/unemployment-across-industries.json\"}, \"mark\": {\"binSpacing\": 0, \"type\": \"bar\"}, \"encoding\": {\"x\": {\"bin\": {\"maxbins\": 10}, \"field\": \"series\", \"type\": \"quantitative\"}, \"y\": {\"field\": \"count\", \"type\": \"temporal\", \"aggregate\": \"count\"}}};\n",
       "var opt = {};\n",
       "var type = \"vega-lite\";\n",
       "var id = \"47cd4e9c-0bf9-4893-b2e5-740ca8ef83fe\";\n",
       "\n",
       "var output_area = this;\n",
       "\n",
       "require([\"nbextensions/jupyter-vega/index\"], function(vega) {\n",
       "  var target = document.createElement(\"div\");\n",
       "  target.id = id;\n",
       "  target.className = \"vega-embed\";\n",
       "\n",
       "  var style = document.createElement(\"style\");\n",
       "  style.textContent = [\n",
       "    \".vega-embed .error p {\",\n",
       "    \"  color: firebrick;\",\n",
       "    \"  font-size: 14px;\",\n",
       "    \"}\",\n",
       "  ].join(\"\\\\n\");\n",
       "\n",
       "  // element is a jQuery wrapped DOM element inside the output area\n",
       "  // see http://ipython.readthedocs.io/en/stable/api/generated/\\\n",
       "  // IPython.display.html#IPython.display.Javascript.__init__\n",
       "  element[0].appendChild(target);\n",
       "  element[0].appendChild(style);\n",
       "\n",
       "  vega.render(\"#\" + id, spec, type, opt, output_area);\n",
       "}, function (err) {\n",
       "  if (err.requireType !== \"scripterror\") {\n",
       "    throw(err);\n",
       "  }\n",
       "});\n"
      ],
      "text/plain": [
       "<vega.vegalite.VegaLite at 0x10ef022e8>"
      ]
     },
     "metadata": {
      "jupyter-vega": "#47cd4e9c-0bf9-4893-b2e5-740ca8ef83fe"
     },
     "output_type": "display_data"
    },
    {
     "name": "stdout",
     "output_type": "stream",
     "text": [
      "temp_106.vl.json\n",
      "__temp__/temp_106.vl.json\n",
      "{'$schema': 'https://vega.github.io/schema/vega-lite/v3.json',\n",
      " 'data': {'url': 'data/unemployment-across-industries.json'},\n",
      " 'encoding': {'x': {'aggregate': 'count',\n",
      "                    'bin': {'maxbins': 10},\n",
      "                    'field': 'series',\n",
      "                    'type': 'quantitative'},\n",
      "              'y': {'aggregate': 'count',\n",
      "                    'field': 'count',\n",
      "                    'type': 'quantitative'}},\n",
      " 'mark': {'binSpacing': 0, 'type': 'bar'}}\n",
      "__temp__/data/unemployment-across-industries.json\n"
     ]
    },
    {
     "data": {
      "application/javascript": [
       "var spec = {\"$schema\": \"https://vega.github.io/schema/vega-lite/v3.json\", \"data\": {\"url\": \"__temp__/data/unemployment-across-industries.json\"}, \"mark\": {\"binSpacing\": 0, \"type\": \"bar\"}, \"encoding\": {\"x\": {\"bin\": {\"maxbins\": 10}, \"type\": \"quantitative\", \"field\": \"series\", \"aggregate\": \"count\"}, \"y\": {\"field\": \"count\", \"type\": \"quantitative\", \"aggregate\": \"count\"}}};\n",
       "var opt = {};\n",
       "var type = \"vega-lite\";\n",
       "var id = \"e90af54d-5a26-4830-8ff2-bf5190bca57d\";\n",
       "\n",
       "var output_area = this;\n",
       "\n",
       "require([\"nbextensions/jupyter-vega/index\"], function(vega) {\n",
       "  var target = document.createElement(\"div\");\n",
       "  target.id = id;\n",
       "  target.className = \"vega-embed\";\n",
       "\n",
       "  var style = document.createElement(\"style\");\n",
       "  style.textContent = [\n",
       "    \".vega-embed .error p {\",\n",
       "    \"  color: firebrick;\",\n",
       "    \"  font-size: 14px;\",\n",
       "    \"}\",\n",
       "  ].join(\"\\\\n\");\n",
       "\n",
       "  // element is a jQuery wrapped DOM element inside the output area\n",
       "  // see http://ipython.readthedocs.io/en/stable/api/generated/\\\n",
       "  // IPython.display.html#IPython.display.Javascript.__init__\n",
       "  element[0].appendChild(target);\n",
       "  element[0].appendChild(style);\n",
       "\n",
       "  vega.render(\"#\" + id, spec, type, opt, output_area);\n",
       "}, function (err) {\n",
       "  if (err.requireType !== \"scripterror\") {\n",
       "    throw(err);\n",
       "  }\n",
       "});\n"
      ],
      "text/plain": [
       "<vega.vegalite.VegaLite at 0x10ef02e10>"
      ]
     },
     "metadata": {
      "jupyter-vega": "#e90af54d-5a26-4830-8ff2-bf5190bca57d"
     },
     "output_type": "display_data"
    },
    {
     "name": "stdout",
     "output_type": "stream",
     "text": [
      "temp_107.vl.json\n",
      "__temp__/temp_107.vl.json\n",
      "{'$schema': 'https://vega.github.io/schema/vega-lite/v3.json',\n",
      " 'data': {'url': 'data/unemployment-across-industries.json'},\n",
      " 'encoding': {'x': {'aggregate': 'min',\n",
      "                    'bin': {'maxbins': 10},\n",
      "                    'field': 'series',\n",
      "                    'type': 'quantitative'},\n",
      "              'y': {'aggregate': 'count',\n",
      "                    'field': 'count',\n",
      "                    'type': 'quantitative'}},\n",
      " 'mark': {'binSpacing': 0, 'type': 'bar'}}\n",
      "__temp__/data/unemployment-across-industries.json\n"
     ]
    },
    {
     "data": {
      "application/javascript": [
       "var spec = {\"$schema\": \"https://vega.github.io/schema/vega-lite/v3.json\", \"data\": {\"url\": \"__temp__/data/unemployment-across-industries.json\"}, \"mark\": {\"binSpacing\": 0, \"type\": \"bar\"}, \"encoding\": {\"x\": {\"bin\": {\"maxbins\": 10}, \"type\": \"quantitative\", \"field\": \"series\", \"aggregate\": \"min\"}, \"y\": {\"field\": \"count\", \"type\": \"quantitative\", \"aggregate\": \"count\"}}};\n",
       "var opt = {};\n",
       "var type = \"vega-lite\";\n",
       "var id = \"2e65b011-ef5d-4028-81a5-587348e4c200\";\n",
       "\n",
       "var output_area = this;\n",
       "\n",
       "require([\"nbextensions/jupyter-vega/index\"], function(vega) {\n",
       "  var target = document.createElement(\"div\");\n",
       "  target.id = id;\n",
       "  target.className = \"vega-embed\";\n",
       "\n",
       "  var style = document.createElement(\"style\");\n",
       "  style.textContent = [\n",
       "    \".vega-embed .error p {\",\n",
       "    \"  color: firebrick;\",\n",
       "    \"  font-size: 14px;\",\n",
       "    \"}\",\n",
       "  ].join(\"\\\\n\");\n",
       "\n",
       "  // element is a jQuery wrapped DOM element inside the output area\n",
       "  // see http://ipython.readthedocs.io/en/stable/api/generated/\\\n",
       "  // IPython.display.html#IPython.display.Javascript.__init__\n",
       "  element[0].appendChild(target);\n",
       "  element[0].appendChild(style);\n",
       "\n",
       "  vega.render(\"#\" + id, spec, type, opt, output_area);\n",
       "}, function (err) {\n",
       "  if (err.requireType !== \"scripterror\") {\n",
       "    throw(err);\n",
       "  }\n",
       "});\n"
      ],
      "text/plain": [
       "<vega.vegalite.VegaLite at 0x10ef027b8>"
      ]
     },
     "metadata": {
      "jupyter-vega": "#2e65b011-ef5d-4028-81a5-587348e4c200"
     },
     "output_type": "display_data"
    },
    {
     "data": {
      "image/png": "[encoded data removed]"
     },
     "metadata": {
      "jupyter-vega": "#ad0914e3-91df-4a37-bc06-1248ebf3af37"
     },
     "output_type": "display_data"
    },
    {
     "data": {
      "image/png": "[encoded data removed]"
     },
     "metadata": {
      "jupyter-vega": "#5459c172-1f03-4588-bdf1-2e40c9601333"
     },
     "output_type": "display_data"
    },
    {
     "data": {
      "image/png": "[encoded data removed]"
     },
     "metadata": {
      "jupyter-vega": "#de9da731-440a-4442-9d2f-aa33de7be81f"
     },
     "output_type": "display_data"
    },
    {
     "data": {
      "image/png": "[encoded data removed]"
     },
     "metadata": {
      "jupyter-vega": "#f251d1dc-b518-470d-89fe-af3e74b0207d"
     },
     "output_type": "display_data"
    },
    {
     "data": {
      "image/png": "[encoded data removed]"
     },
     "metadata": {
      "jupyter-vega": "#fe2085ed-aa00-4302-a36f-6c26564610eb"
     },
     "output_type": "display_data"
    },
    {
     "data": {
      "image/png": "[encoded data removed]"
     },
     "metadata": {
      "jupyter-vega": "#20578c90-4561-48f5-a31f-f600af49fdff"
     },
     "output_type": "display_data"
    },
    {
     "data": {
      "image/png": "[encoded data removed]"
     },
     "metadata": {
      "jupyter-vega": "#74377b9b-85bd-4cae-9c07-9b36ef19213f"
     },
     "output_type": "display_data"
    },
    {
     "data": {
      "image/png": "[encoded data removed]"
     },
     "metadata": {
      "jupyter-vega": "#af6ba103-61f2-4527-8bbb-0e9d38564ef7"
     },
     "output_type": "display_data"
    },
    {
     "data": {
      "image/png": "[encoded data removed]"
     },
     "metadata": {
      "jupyter-vega": "#47cd4e9c-0bf9-4893-b2e5-740ca8ef83fe"
     },
     "output_type": "display_data"
    },
    {
     "data": {
      "image/png": "[encoded data removed]"
     },
     "metadata": {
      "jupyter-vega": "#e90af54d-5a26-4830-8ff2-bf5190bca57d"
     },
     "output_type": "display_data"
    },
    {
     "data": {
      "image/png": "[encoded data removed]"
     },
     "metadata": {
      "jupyter-vega": "#2e65b011-ef5d-4028-81a5-587348e4c200"
     },
     "output_type": "display_data"
    }
   ],
   "source": [
    "from ipywidgets import interact, interactive, fixed, interact_manual\n",
    "import ipywidgets as widgets\n",
    "import json\n",
    "import os\n",
    "from pprint import pprint \n",
    "\n",
    "from vega import VegaLite\n",
    "\n",
    "def prepare_spec(input_file):\n",
    "    print(input_file)\n",
    "    with open(input_file) as f:\n",
    "        spec_dir = os.path.dirname(input_file)\n",
    "        spec = json.load(f)\n",
    "        pprint(spec)\n",
    "        # add data directory to the spec to fix relative import\n",
    "        if \"url\" in spec[\"data\"]:\n",
    "            spec[\"data\"][\"url\"] = os.path.join(spec_dir, spec[\"data\"][\"url\"])\n",
    "            print(spec[\"data\"][\"url\"])\n",
    "        return VegaLite(spec)\n",
    "\n",
    "# render all charts in the dir\n",
    "def render_vegalite_dir(input_dir, max_display=10):\n",
    "    for i, fname in enumerate(sorted(os.listdir(input_dir))):\n",
    "        if fname.endswith(\".vl.json\"):\n",
    "            print(fname)\n",
    "            vl = prepare_spec(os.path.join(input_dir, fname))\n",
    "            vl.display()\n",
    "            if i > 10: break\n",
    "    \n",
    "# the input_file is relative to the notebook\n",
    "#interact(render_vegalite_dir, input_dir=\"__temp__\");\n",
    "\n",
    "render_vegalite_dir(\"__temp__\")"
   ]
  }
 ],
 "metadata": {
  "celltoolbar": "Raw Cell Format",
  "kernelspec": {
   "display_name": "Python 3",
   "language": "python",
   "name": "python3"
  },
  "language_info": {
   "codemirror_mode": {
    "name": "ipython",
    "version": 3
   },
   "file_extension": ".py",
   "mimetype": "text/x-python",
   "name": "python",
   "nbconvert_exporter": "python",
   "pygments_lexer": "ipython3",
   "version": "3.6.3"
  }
 },
 "nbformat": 4,
 "nbformat_minor": 2
}
