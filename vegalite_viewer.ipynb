{
 "cells": [
  {
   "cell_type": "code",
   "execution_count": null,
   "metadata": {},
   "outputs": [],
   "source": []
  },
  {
   "cell_type": "code",
   "execution_count": 1,
   "metadata": {
    "scrolled": false
   },
   "outputs": [
    {
     "name": "stdout",
     "output_type": "stream",
     "text": [
      "temp_0.vl.json\n",
      "__temp__/temp_0.vl.json\n",
      "{'$schema': 'https://vega.github.io/schema/vega-lite/v3.json',\n",
      " 'data': {'values': [{'KEY': 'gene', 'value_1': 3.6623, 'value_2': 0.335},\n",
      "                     {'KEY': 'gene', 'value_1': 2.5681, 'value_2': 0.0426}]},\n",
      " 'encoding': {'color': {'aggregate': 'mean',\n",
      "                        'field': 'value_2',\n",
      "                        'type': 'quantitative'},\n",
      "              'x': {'field': 'KEY', 'type': 'nominal'},\n",
      "              'y': {'field': 'value_1', 'type': 'nominal'}},\n",
      " 'mark': 'rect'}\n"
     ]
    },
    {
     "data": {
      "application/javascript": [
       "var spec = {\"encoding\": {\"y\": {\"type\": \"nominal\", \"field\": \"value_1\"}, \"x\": {\"type\": \"nominal\", \"field\": \"KEY\"}, \"color\": {\"type\": \"quantitative\", \"field\": \"value_2\", \"aggregate\": \"mean\"}}, \"$schema\": \"https://vega.github.io/schema/vega-lite/v3.json\", \"mark\": \"rect\", \"data\": {\"values\": [{\"value_2\": 0.335, \"KEY\": \"gene\", \"value_1\": 3.6623}, {\"value_2\": 0.0426, \"KEY\": \"gene\", \"value_1\": 2.5681}]}};\n",
       "var opt = {};\n",
       "var type = \"vega-lite\";\n",
       "var id = \"e70084b7-505f-4310-8149-6634213a319b\";\n",
       "\n",
       "var output_area = this;\n",
       "\n",
       "require([\"nbextensions/jupyter-vega/index\"], function(vega) {\n",
       "  var target = document.createElement(\"div\");\n",
       "  target.id = id;\n",
       "  target.className = \"vega-embed\";\n",
       "\n",
       "  var style = document.createElement(\"style\");\n",
       "  style.textContent = [\n",
       "    \".vega-embed .error p {\",\n",
       "    \"  color: firebrick;\",\n",
       "    \"  font-size: 14px;\",\n",
       "    \"}\",\n",
       "  ].join(\"\\\\n\");\n",
       "\n",
       "  // element is a jQuery wrapped DOM element inside the output area\n",
       "  // see http://ipython.readthedocs.io/en/stable/api/generated/\\\n",
       "  // IPython.display.html#IPython.display.Javascript.__init__\n",
       "  element[0].appendChild(target);\n",
       "  element[0].appendChild(style);\n",
       "\n",
       "  vega.render(\"#\" + id, spec, type, opt, output_area);\n",
       "}, function (err) {\n",
       "  if (err.requireType !== \"scripterror\") {\n",
       "    throw(err);\n",
       "  }\n",
       "});\n"
      ],
      "text/plain": [
       "<vega.vegalite.VegaLite at 0x10a143518>"
      ]
     },
     "metadata": {
      "jupyter-vega": "#e70084b7-505f-4310-8149-6634213a319b"
     },
     "output_type": "display_data"
    },
    {
     "name": "stdout",
     "output_type": "stream",
     "text": [
      "temp_1.vl.json\n",
      "__temp__/temp_1.vl.json\n",
      "{'$schema': 'https://vega.github.io/schema/vega-lite/v3.json',\n",
      " 'data': {'values': [{'KEY': 'gene', 'value_1': 3.6623, 'value_2': 0.335},\n",
      "                     {'KEY': 'gene', 'value_1': 2.5681, 'value_2': 0.0426}]},\n",
      " 'encoding': {'color': {'aggregate': 'mean',\n",
      "                        'field': 'value_1',\n",
      "                        'type': 'quantitative'},\n",
      "              'x': {'field': 'KEY', 'type': 'nominal'},\n",
      "              'y': {'field': 'value_2', 'type': 'nominal'}},\n",
      " 'mark': 'rect'}\n"
     ]
    },
    {
     "data": {
      "application/javascript": [
       "var spec = {\"encoding\": {\"y\": {\"type\": \"nominal\", \"field\": \"value_2\"}, \"x\": {\"type\": \"nominal\", \"field\": \"KEY\"}, \"color\": {\"type\": \"quantitative\", \"field\": \"value_1\", \"aggregate\": \"mean\"}}, \"$schema\": \"https://vega.github.io/schema/vega-lite/v3.json\", \"mark\": \"rect\", \"data\": {\"values\": [{\"value_2\": 0.335, \"KEY\": \"gene\", \"value_1\": 3.6623}, {\"value_2\": 0.0426, \"KEY\": \"gene\", \"value_1\": 2.5681}]}};\n",
       "var opt = {};\n",
       "var type = \"vega-lite\";\n",
       "var id = \"561116e7-bdda-4dc6-a0fe-786d3151a82d\";\n",
       "\n",
       "var output_area = this;\n",
       "\n",
       "require([\"nbextensions/jupyter-vega/index\"], function(vega) {\n",
       "  var target = document.createElement(\"div\");\n",
       "  target.id = id;\n",
       "  target.className = \"vega-embed\";\n",
       "\n",
       "  var style = document.createElement(\"style\");\n",
       "  style.textContent = [\n",
       "    \".vega-embed .error p {\",\n",
       "    \"  color: firebrick;\",\n",
       "    \"  font-size: 14px;\",\n",
       "    \"}\",\n",
       "  ].join(\"\\\\n\");\n",
       "\n",
       "  // element is a jQuery wrapped DOM element inside the output area\n",
       "  // see http://ipython.readthedocs.io/en/stable/api/generated/\\\n",
       "  // IPython.display.html#IPython.display.Javascript.__init__\n",
       "  element[0].appendChild(target);\n",
       "  element[0].appendChild(style);\n",
       "\n",
       "  vega.render(\"#\" + id, spec, type, opt, output_area);\n",
       "}, function (err) {\n",
       "  if (err.requireType !== \"scripterror\") {\n",
       "    throw(err);\n",
       "  }\n",
       "});\n"
      ],
      "text/plain": [
       "<vega.vegalite.VegaLite at 0x11647bcc0>"
      ]
     },
     "metadata": {
      "jupyter-vega": "#561116e7-bdda-4dc6-a0fe-786d3151a82d"
     },
     "output_type": "display_data"
    },
    {
     "data": {
      "image/png": "[encoded data removed]"
     },
     "metadata": {
      "jupyter-vega": "#e70084b7-505f-4310-8149-6634213a319b"
     },
     "output_type": "display_data"
    },
    {
     "name": "stdout",
     "output_type": "stream",
     "text": [
      "temp_10.vl.json\n",
      "__temp__/temp_10.vl.json\n",
      "{'$schema': 'https://vega.github.io/schema/vega-lite/v3.json',\n",
      " 'data': {'values': [{'VALUE': 'XLOC_000060',\n",
      "                      'value_1': 3.6623,\n",
      "                      'value_2': 0.335},\n",
      "                     {'VALUE': 'XLOC_000074',\n",
      "                      'value_1': 2.5681,\n",
      "                      'value_2': 0.0426}]},\n",
      " 'encoding': {'color': {'aggregate': 'mean',\n",
      "                        'field': 'value_2',\n",
      "                        'type': 'quantitative'},\n",
      "              'x': {'field': 'value_1', 'type': 'nominal'},\n",
      "              'y': {'field': 'VALUE', 'type': 'nominal'}},\n",
      " 'mark': 'rect'}\n"
     ]
    },
    {
     "data": {
      "application/javascript": [
       "var spec = {\"encoding\": {\"y\": {\"type\": \"nominal\", \"field\": \"VALUE\"}, \"x\": {\"type\": \"nominal\", \"field\": \"value_1\"}, \"color\": {\"type\": \"quantitative\", \"field\": \"value_2\", \"aggregate\": \"mean\"}}, \"$schema\": \"https://vega.github.io/schema/vega-lite/v3.json\", \"mark\": \"rect\", \"data\": {\"values\": [{\"value_2\": 0.335, \"VALUE\": \"XLOC_000060\", \"value_1\": 3.6623}, {\"value_2\": 0.0426, \"VALUE\": \"XLOC_000074\", \"value_1\": 2.5681}]}};\n",
       "var opt = {};\n",
       "var type = \"vega-lite\";\n",
       "var id = \"aa90f65d-6ab6-4489-a9b0-340092bd6272\";\n",
       "\n",
       "var output_area = this;\n",
       "\n",
       "require([\"nbextensions/jupyter-vega/index\"], function(vega) {\n",
       "  var target = document.createElement(\"div\");\n",
       "  target.id = id;\n",
       "  target.className = \"vega-embed\";\n",
       "\n",
       "  var style = document.createElement(\"style\");\n",
       "  style.textContent = [\n",
       "    \".vega-embed .error p {\",\n",
       "    \"  color: firebrick;\",\n",
       "    \"  font-size: 14px;\",\n",
       "    \"}\",\n",
       "  ].join(\"\\\\n\");\n",
       "\n",
       "  // element is a jQuery wrapped DOM element inside the output area\n",
       "  // see http://ipython.readthedocs.io/en/stable/api/generated/\\\n",
       "  // IPython.display.html#IPython.display.Javascript.__init__\n",
       "  element[0].appendChild(target);\n",
       "  element[0].appendChild(style);\n",
       "\n",
       "  vega.render(\"#\" + id, spec, type, opt, output_area);\n",
       "}, function (err) {\n",
       "  if (err.requireType !== \"scripterror\") {\n",
       "    throw(err);\n",
       "  }\n",
       "});\n"
      ],
      "text/plain": [
       "<vega.vegalite.VegaLite at 0x10a143470>"
      ]
     },
     "metadata": {
      "jupyter-vega": "#aa90f65d-6ab6-4489-a9b0-340092bd6272"
     },
     "output_type": "display_data"
    },
    {
     "name": "stdout",
     "output_type": "stream",
     "text": [
      "temp_11.vl.json\n",
      "__temp__/temp_11.vl.json\n",
      "{'$schema': 'https://vega.github.io/schema/vega-lite/v3.json',\n",
      " 'data': {'values': [{'VALUE': 'XLOC_000060',\n",
      "                      'value_1': 3.6623,\n",
      "                      'value_2': 0.335},\n",
      "                     {'VALUE': 'XLOC_000074',\n",
      "                      'value_1': 2.5681,\n",
      "                      'value_2': 0.0426}]},\n",
      " 'encoding': {'color': {'aggregate': 'mean',\n",
      "                        'field': 'value_1',\n",
      "                        'type': 'quantitative'},\n",
      "              'x': {'field': 'value_2', 'type': 'nominal'},\n",
      "              'y': {'field': 'VALUE', 'type': 'nominal'}},\n",
      " 'mark': 'rect'}\n"
     ]
    },
    {
     "data": {
      "application/javascript": [
       "var spec = {\"encoding\": {\"y\": {\"type\": \"nominal\", \"field\": \"VALUE\"}, \"x\": {\"type\": \"nominal\", \"field\": \"value_2\"}, \"color\": {\"type\": \"quantitative\", \"field\": \"value_1\", \"aggregate\": \"mean\"}}, \"$schema\": \"https://vega.github.io/schema/vega-lite/v3.json\", \"mark\": \"rect\", \"data\": {\"values\": [{\"value_2\": 0.335, \"VALUE\": \"XLOC_000060\", \"value_1\": 3.6623}, {\"value_2\": 0.0426, \"VALUE\": \"XLOC_000074\", \"value_1\": 2.5681}]}};\n",
       "var opt = {};\n",
       "var type = \"vega-lite\";\n",
       "var id = \"6584ee17-e52e-4ef2-a0bf-ac197b9c9296\";\n",
       "\n",
       "var output_area = this;\n",
       "\n",
       "require([\"nbextensions/jupyter-vega/index\"], function(vega) {\n",
       "  var target = document.createElement(\"div\");\n",
       "  target.id = id;\n",
       "  target.className = \"vega-embed\";\n",
       "\n",
       "  var style = document.createElement(\"style\");\n",
       "  style.textContent = [\n",
       "    \".vega-embed .error p {\",\n",
       "    \"  color: firebrick;\",\n",
       "    \"  font-size: 14px;\",\n",
       "    \"}\",\n",
       "  ].join(\"\\\\n\");\n",
       "\n",
       "  // element is a jQuery wrapped DOM element inside the output area\n",
       "  // see http://ipython.readthedocs.io/en/stable/api/generated/\\\n",
       "  // IPython.display.html#IPython.display.Javascript.__init__\n",
       "  element[0].appendChild(target);\n",
       "  element[0].appendChild(style);\n",
       "\n",
       "  vega.render(\"#\" + id, spec, type, opt, output_area);\n",
       "}, function (err) {\n",
       "  if (err.requireType !== \"scripterror\") {\n",
       "    throw(err);\n",
       "  }\n",
       "});\n"
      ],
      "text/plain": [
       "<vega.vegalite.VegaLite at 0x11647bc18>"
      ]
     },
     "metadata": {
      "jupyter-vega": "#6584ee17-e52e-4ef2-a0bf-ac197b9c9296"
     },
     "output_type": "display_data"
    },
    {
     "name": "stdout",
     "output_type": "stream",
     "text": [
      "temp_12.vl.json\n",
      "__temp__/temp_12.vl.json\n",
      "{'$schema': 'https://vega.github.io/schema/vega-lite/v3.json',\n",
      " 'data': {'values': [{'VALUE': 'XLOC_000060',\n",
      "                      'value_1': 3.6623,\n",
      "                      'value_2': 0.335},\n",
      "                     {'VALUE': 'XLOC_000074',\n",
      "                      'value_1': 2.5681,\n",
      "                      'value_2': 0.0426}]},\n",
      " 'encoding': {'color': {'aggregate': 'mean',\n",
      "                        'field': 'value_2',\n",
      "                        'type': 'ordinal'},\n",
      "              'x': {'field': 'value_1', 'type': 'ordinal'},\n",
      "              'y': {'field': 'VALUE', 'type': 'nominal'}},\n",
      " 'mark': 'rect'}\n"
     ]
    },
    {
     "data": {
      "application/javascript": [
       "var spec = {\"encoding\": {\"y\": {\"type\": \"nominal\", \"field\": \"VALUE\"}, \"x\": {\"type\": \"ordinal\", \"field\": \"value_1\"}, \"color\": {\"type\": \"ordinal\", \"field\": \"value_2\", \"aggregate\": \"mean\"}}, \"$schema\": \"https://vega.github.io/schema/vega-lite/v3.json\", \"mark\": \"rect\", \"data\": {\"values\": [{\"value_2\": 0.335, \"VALUE\": \"XLOC_000060\", \"value_1\": 3.6623}, {\"value_2\": 0.0426, \"VALUE\": \"XLOC_000074\", \"value_1\": 2.5681}]}};\n",
       "var opt = {};\n",
       "var type = \"vega-lite\";\n",
       "var id = \"fb535eda-6a75-40cb-bb0b-fa102fc7ede5\";\n",
       "\n",
       "var output_area = this;\n",
       "\n",
       "require([\"nbextensions/jupyter-vega/index\"], function(vega) {\n",
       "  var target = document.createElement(\"div\");\n",
       "  target.id = id;\n",
       "  target.className = \"vega-embed\";\n",
       "\n",
       "  var style = document.createElement(\"style\");\n",
       "  style.textContent = [\n",
       "    \".vega-embed .error p {\",\n",
       "    \"  color: firebrick;\",\n",
       "    \"  font-size: 14px;\",\n",
       "    \"}\",\n",
       "  ].join(\"\\\\n\");\n",
       "\n",
       "  // element is a jQuery wrapped DOM element inside the output area\n",
       "  // see http://ipython.readthedocs.io/en/stable/api/generated/\\\n",
       "  // IPython.display.html#IPython.display.Javascript.__init__\n",
       "  element[0].appendChild(target);\n",
       "  element[0].appendChild(style);\n",
       "\n",
       "  vega.render(\"#\" + id, spec, type, opt, output_area);\n",
       "}, function (err) {\n",
       "  if (err.requireType !== \"scripterror\") {\n",
       "    throw(err);\n",
       "  }\n",
       "});\n"
      ],
      "text/plain": [
       "<vega.vegalite.VegaLite at 0x11647b978>"
      ]
     },
     "metadata": {
      "jupyter-vega": "#fb535eda-6a75-40cb-bb0b-fa102fc7ede5"
     },
     "output_type": "display_data"
    },
    {
     "name": "stdout",
     "output_type": "stream",
     "text": [
      "temp_13.vl.json\n",
      "__temp__/temp_13.vl.json\n",
      "{'$schema': 'https://vega.github.io/schema/vega-lite/v3.json',\n",
      " 'data': {'values': [{'VALUE': 'XLOC_000060',\n",
      "                      'value_1': 3.6623,\n",
      "                      'value_2': 0.335},\n",
      "                     {'VALUE': 'XLOC_000074',\n",
      "                      'value_1': 2.5681,\n",
      "                      'value_2': 0.0426}]},\n",
      " 'encoding': {'color': {'aggregate': 'mean',\n",
      "                        'field': 'value_1',\n",
      "                        'type': 'ordinal'},\n",
      "              'x': {'field': 'value_2', 'type': 'ordinal'},\n",
      "              'y': {'field': 'VALUE', 'type': 'nominal'}},\n",
      " 'mark': 'rect'}\n"
     ]
    },
    {
     "data": {
      "application/javascript": [
       "var spec = {\"encoding\": {\"y\": {\"type\": \"nominal\", \"field\": \"VALUE\"}, \"x\": {\"type\": \"ordinal\", \"field\": \"value_2\"}, \"color\": {\"type\": \"ordinal\", \"field\": \"value_1\", \"aggregate\": \"mean\"}}, \"$schema\": \"https://vega.github.io/schema/vega-lite/v3.json\", \"mark\": \"rect\", \"data\": {\"values\": [{\"value_2\": 0.335, \"VALUE\": \"XLOC_000060\", \"value_1\": 3.6623}, {\"value_2\": 0.0426, \"VALUE\": \"XLOC_000074\", \"value_1\": 2.5681}]}};\n",
       "var opt = {};\n",
       "var type = \"vega-lite\";\n",
       "var id = \"571fbb97-a7ee-42bd-bee8-8bebe91771e1\";\n",
       "\n",
       "var output_area = this;\n",
       "\n",
       "require([\"nbextensions/jupyter-vega/index\"], function(vega) {\n",
       "  var target = document.createElement(\"div\");\n",
       "  target.id = id;\n",
       "  target.className = \"vega-embed\";\n",
       "\n",
       "  var style = document.createElement(\"style\");\n",
       "  style.textContent = [\n",
       "    \".vega-embed .error p {\",\n",
       "    \"  color: firebrick;\",\n",
       "    \"  font-size: 14px;\",\n",
       "    \"}\",\n",
       "  ].join(\"\\\\n\");\n",
       "\n",
       "  // element is a jQuery wrapped DOM element inside the output area\n",
       "  // see http://ipython.readthedocs.io/en/stable/api/generated/\\\n",
       "  // IPython.display.html#IPython.display.Javascript.__init__\n",
       "  element[0].appendChild(target);\n",
       "  element[0].appendChild(style);\n",
       "\n",
       "  vega.render(\"#\" + id, spec, type, opt, output_area);\n",
       "}, function (err) {\n",
       "  if (err.requireType !== \"scripterror\") {\n",
       "    throw(err);\n",
       "  }\n",
       "});\n"
      ],
      "text/plain": [
       "<vega.vegalite.VegaLite at 0x11647bda0>"
      ]
     },
     "metadata": {
      "jupyter-vega": "#571fbb97-a7ee-42bd-bee8-8bebe91771e1"
     },
     "output_type": "display_data"
    },
    {
     "name": "stdout",
     "output_type": "stream",
     "text": [
      "temp_14.vl.json\n",
      "__temp__/temp_14.vl.json\n",
      "{'$schema': 'https://vega.github.io/schema/vega-lite/v3.json',\n",
      " 'data': {'values': [{'VALUE': 'XLOC_000060',\n",
      "                      'value_1': 3.6623,\n",
      "                      'value_2': 0.335},\n",
      "                     {'VALUE': 'XLOC_000074',\n",
      "                      'value_1': 2.5681,\n",
      "                      'value_2': 0.0426}]},\n",
      " 'encoding': {'color': {'aggregate': None,\n",
      "                        'field': 'value_2',\n",
      "                        'type': 'quantitative'},\n",
      "              'x': {'field': 'value_1', 'type': 'ordinal'},\n",
      "              'y': {'field': 'VALUE', 'type': 'nominal'}},\n",
      " 'mark': 'rect'}\n"
     ]
    },
    {
     "data": {
      "application/javascript": [
       "var spec = {\"encoding\": {\"y\": {\"type\": \"nominal\", \"field\": \"VALUE\"}, \"x\": {\"type\": \"ordinal\", \"field\": \"value_1\"}, \"color\": {\"type\": \"quantitative\", \"field\": \"value_2\", \"aggregate\": null}}, \"$schema\": \"https://vega.github.io/schema/vega-lite/v3.json\", \"mark\": \"rect\", \"data\": {\"values\": [{\"value_2\": 0.335, \"VALUE\": \"XLOC_000060\", \"value_1\": 3.6623}, {\"value_2\": 0.0426, \"VALUE\": \"XLOC_000074\", \"value_1\": 2.5681}]}};\n",
       "var opt = {};\n",
       "var type = \"vega-lite\";\n",
       "var id = \"b4af5ff6-6664-49b4-9f4b-2de348445a65\";\n",
       "\n",
       "var output_area = this;\n",
       "\n",
       "require([\"nbextensions/jupyter-vega/index\"], function(vega) {\n",
       "  var target = document.createElement(\"div\");\n",
       "  target.id = id;\n",
       "  target.className = \"vega-embed\";\n",
       "\n",
       "  var style = document.createElement(\"style\");\n",
       "  style.textContent = [\n",
       "    \".vega-embed .error p {\",\n",
       "    \"  color: firebrick;\",\n",
       "    \"  font-size: 14px;\",\n",
       "    \"}\",\n",
       "  ].join(\"\\\\n\");\n",
       "\n",
       "  // element is a jQuery wrapped DOM element inside the output area\n",
       "  // see http://ipython.readthedocs.io/en/stable/api/generated/\\\n",
       "  // IPython.display.html#IPython.display.Javascript.__init__\n",
       "  element[0].appendChild(target);\n",
       "  element[0].appendChild(style);\n",
       "\n",
       "  vega.render(\"#\" + id, spec, type, opt, output_area);\n",
       "}, function (err) {\n",
       "  if (err.requireType !== \"scripterror\") {\n",
       "    throw(err);\n",
       "  }\n",
       "});\n"
      ],
      "text/plain": [
       "<vega.vegalite.VegaLite at 0x11647beb8>"
      ]
     },
     "metadata": {
      "jupyter-vega": "#b4af5ff6-6664-49b4-9f4b-2de348445a65"
     },
     "output_type": "display_data"
    },
    {
     "name": "stdout",
     "output_type": "stream",
     "text": [
      "temp_15.vl.json\n",
      "__temp__/temp_15.vl.json\n",
      "{'$schema': 'https://vega.github.io/schema/vega-lite/v3.json',\n",
      " 'data': {'values': [{'VALUE': 'XLOC_000060',\n",
      "                      'value_1': 3.6623,\n",
      "                      'value_2': 0.335},\n",
      "                     {'VALUE': 'XLOC_000074',\n",
      "                      'value_1': 2.5681,\n",
      "                      'value_2': 0.0426}]},\n",
      " 'encoding': {'color': {'aggregate': None,\n",
      "                        'field': 'value_1',\n",
      "                        'type': 'quantitative'},\n",
      "              'x': {'field': 'value_2', 'type': 'ordinal'},\n",
      "              'y': {'field': 'VALUE', 'type': 'nominal'}},\n",
      " 'mark': 'rect'}\n"
     ]
    },
    {
     "data": {
      "application/javascript": [
       "var spec = {\"encoding\": {\"y\": {\"type\": \"nominal\", \"field\": \"VALUE\"}, \"x\": {\"type\": \"ordinal\", \"field\": \"value_2\"}, \"color\": {\"type\": \"quantitative\", \"field\": \"value_1\", \"aggregate\": null}}, \"$schema\": \"https://vega.github.io/schema/vega-lite/v3.json\", \"mark\": \"rect\", \"data\": {\"values\": [{\"value_2\": 0.335, \"VALUE\": \"XLOC_000060\", \"value_1\": 3.6623}, {\"value_2\": 0.0426, \"VALUE\": \"XLOC_000074\", \"value_1\": 2.5681}]}};\n",
       "var opt = {};\n",
       "var type = \"vega-lite\";\n",
       "var id = \"456e4fe1-e40d-494b-920e-e3df7639c577\";\n",
       "\n",
       "var output_area = this;\n",
       "\n",
       "require([\"nbextensions/jupyter-vega/index\"], function(vega) {\n",
       "  var target = document.createElement(\"div\");\n",
       "  target.id = id;\n",
       "  target.className = \"vega-embed\";\n",
       "\n",
       "  var style = document.createElement(\"style\");\n",
       "  style.textContent = [\n",
       "    \".vega-embed .error p {\",\n",
       "    \"  color: firebrick;\",\n",
       "    \"  font-size: 14px;\",\n",
       "    \"}\",\n",
       "  ].join(\"\\\\n\");\n",
       "\n",
       "  // element is a jQuery wrapped DOM element inside the output area\n",
       "  // see http://ipython.readthedocs.io/en/stable/api/generated/\\\n",
       "  // IPython.display.html#IPython.display.Javascript.__init__\n",
       "  element[0].appendChild(target);\n",
       "  element[0].appendChild(style);\n",
       "\n",
       "  vega.render(\"#\" + id, spec, type, opt, output_area);\n",
       "}, function (err) {\n",
       "  if (err.requireType !== \"scripterror\") {\n",
       "    throw(err);\n",
       "  }\n",
       "});\n"
      ],
      "text/plain": [
       "<vega.vegalite.VegaLite at 0x11647bc50>"
      ]
     },
     "metadata": {
      "jupyter-vega": "#456e4fe1-e40d-494b-920e-e3df7639c577"
     },
     "output_type": "display_data"
    },
    {
     "name": "stdout",
     "output_type": "stream",
     "text": [
      "temp_16.vl.json\n",
      "__temp__/temp_16.vl.json\n",
      "{'$schema': 'https://vega.github.io/schema/vega-lite/v3.json',\n",
      " 'data': {'values': [{'KEY': 'gene', 'VALUE': 'XLOC_000060', 'value_1': 3.6623},\n",
      "                     {'KEY': 'gene',\n",
      "                      'VALUE': 'XLOC_000074',\n",
      "                      'value_1': 2.5681}]},\n",
      " 'encoding': {'color': {'aggregate': 'mean',\n",
      "                        'field': 'value_1',\n",
      "                        'type': 'quantitative'},\n",
      "              'x': {'field': 'VALUE', 'type': 'nominal'},\n",
      "              'y': {'field': 'KEY', 'type': 'nominal'}},\n",
      " 'mark': 'rect'}\n"
     ]
    },
    {
     "data": {
      "application/javascript": [
       "var spec = {\"encoding\": {\"y\": {\"type\": \"nominal\", \"field\": \"KEY\"}, \"x\": {\"type\": \"nominal\", \"field\": \"VALUE\"}, \"color\": {\"type\": \"quantitative\", \"field\": \"value_1\", \"aggregate\": \"mean\"}}, \"$schema\": \"https://vega.github.io/schema/vega-lite/v3.json\", \"mark\": \"rect\", \"data\": {\"values\": [{\"KEY\": \"gene\", \"VALUE\": \"XLOC_000060\", \"value_1\": 3.6623}, {\"KEY\": \"gene\", \"VALUE\": \"XLOC_000074\", \"value_1\": 2.5681}]}};\n",
       "var opt = {};\n",
       "var type = \"vega-lite\";\n",
       "var id = \"7791bb42-34b5-4382-bc2a-c6f0e928b36f\";\n",
       "\n",
       "var output_area = this;\n",
       "\n",
       "require([\"nbextensions/jupyter-vega/index\"], function(vega) {\n",
       "  var target = document.createElement(\"div\");\n",
       "  target.id = id;\n",
       "  target.className = \"vega-embed\";\n",
       "\n",
       "  var style = document.createElement(\"style\");\n",
       "  style.textContent = [\n",
       "    \".vega-embed .error p {\",\n",
       "    \"  color: firebrick;\",\n",
       "    \"  font-size: 14px;\",\n",
       "    \"}\",\n",
       "  ].join(\"\\\\n\");\n",
       "\n",
       "  // element is a jQuery wrapped DOM element inside the output area\n",
       "  // see http://ipython.readthedocs.io/en/stable/api/generated/\\\n",
       "  // IPython.display.html#IPython.display.Javascript.__init__\n",
       "  element[0].appendChild(target);\n",
       "  element[0].appendChild(style);\n",
       "\n",
       "  vega.render(\"#\" + id, spec, type, opt, output_area);\n",
       "}, function (err) {\n",
       "  if (err.requireType !== \"scripterror\") {\n",
       "    throw(err);\n",
       "  }\n",
       "});\n"
      ],
      "text/plain": [
       "<vega.vegalite.VegaLite at 0x11647bd30>"
      ]
     },
     "metadata": {
      "jupyter-vega": "#7791bb42-34b5-4382-bc2a-c6f0e928b36f"
     },
     "output_type": "display_data"
    },
    {
     "name": "stdout",
     "output_type": "stream",
     "text": [
      "temp_17.vl.json\n",
      "__temp__/temp_17.vl.json\n",
      "{'$schema': 'https://vega.github.io/schema/vega-lite/v3.json',\n",
      " 'data': {'values': [{'KEY': 'gene', 'VALUE': 'XLOC_000060', 'value_1': 3.6623},\n",
      "                     {'KEY': 'gene',\n",
      "                      'VALUE': 'XLOC_000074',\n",
      "                      'value_1': 2.5681}]},\n",
      " 'encoding': {'color': {'aggregate': 'mean',\n",
      "                        'field': 'value_1',\n",
      "                        'type': 'quantitative'},\n",
      "              'x': {'field': 'KEY', 'type': 'nominal'},\n",
      "              'y': {'field': 'VALUE', 'type': 'nominal'}},\n",
      " 'mark': 'rect'}\n"
     ]
    },
    {
     "data": {
      "application/javascript": [
       "var spec = {\"encoding\": {\"y\": {\"type\": \"nominal\", \"field\": \"VALUE\"}, \"x\": {\"type\": \"nominal\", \"field\": \"KEY\"}, \"color\": {\"type\": \"quantitative\", \"field\": \"value_1\", \"aggregate\": \"mean\"}}, \"$schema\": \"https://vega.github.io/schema/vega-lite/v3.json\", \"mark\": \"rect\", \"data\": {\"values\": [{\"KEY\": \"gene\", \"VALUE\": \"XLOC_000060\", \"value_1\": 3.6623}, {\"KEY\": \"gene\", \"VALUE\": \"XLOC_000074\", \"value_1\": 2.5681}]}};\n",
       "var opt = {};\n",
       "var type = \"vega-lite\";\n",
       "var id = \"d25c4202-0803-4d9e-a6d0-296ef8f4c5a0\";\n",
       "\n",
       "var output_area = this;\n",
       "\n",
       "require([\"nbextensions/jupyter-vega/index\"], function(vega) {\n",
       "  var target = document.createElement(\"div\");\n",
       "  target.id = id;\n",
       "  target.className = \"vega-embed\";\n",
       "\n",
       "  var style = document.createElement(\"style\");\n",
       "  style.textContent = [\n",
       "    \".vega-embed .error p {\",\n",
       "    \"  color: firebrick;\",\n",
       "    \"  font-size: 14px;\",\n",
       "    \"}\",\n",
       "  ].join(\"\\\\n\");\n",
       "\n",
       "  // element is a jQuery wrapped DOM element inside the output area\n",
       "  // see http://ipython.readthedocs.io/en/stable/api/generated/\\\n",
       "  // IPython.display.html#IPython.display.Javascript.__init__\n",
       "  element[0].appendChild(target);\n",
       "  element[0].appendChild(style);\n",
       "\n",
       "  vega.render(\"#\" + id, spec, type, opt, output_area);\n",
       "}, function (err) {\n",
       "  if (err.requireType !== \"scripterror\") {\n",
       "    throw(err);\n",
       "  }\n",
       "});\n"
      ],
      "text/plain": [
       "<vega.vegalite.VegaLite at 0x11647bcc0>"
      ]
     },
     "metadata": {
      "jupyter-vega": "#d25c4202-0803-4d9e-a6d0-296ef8f4c5a0"
     },
     "output_type": "display_data"
    },
    {
     "name": "stdout",
     "output_type": "stream",
     "text": [
      "temp_18.vl.json\n",
      "__temp__/temp_18.vl.json\n",
      "{'$schema': 'https://vega.github.io/schema/vega-lite/v3.json',\n",
      " 'data': {'values': [{'KEY': 'gene', 'VALUE': 'XLOC_000060', 'value_2': 0.335},\n",
      "                     {'KEY': 'gene',\n",
      "                      'VALUE': 'XLOC_000074',\n",
      "                      'value_2': 0.0426}]},\n",
      " 'encoding': {'color': {'aggregate': 'mean',\n",
      "                        'field': 'value_2',\n",
      "                        'type': 'quantitative'},\n",
      "              'x': {'field': 'VALUE', 'type': 'nominal'},\n",
      "              'y': {'field': 'KEY', 'type': 'nominal'}},\n",
      " 'mark': 'rect'}\n"
     ]
    },
    {
     "data": {
      "application/javascript": [
       "var spec = {\"encoding\": {\"y\": {\"type\": \"nominal\", \"field\": \"KEY\"}, \"x\": {\"type\": \"nominal\", \"field\": \"VALUE\"}, \"color\": {\"type\": \"quantitative\", \"field\": \"value_2\", \"aggregate\": \"mean\"}}, \"$schema\": \"https://vega.github.io/schema/vega-lite/v3.json\", \"mark\": \"rect\", \"data\": {\"values\": [{\"value_2\": 0.335, \"VALUE\": \"XLOC_000060\", \"KEY\": \"gene\"}, {\"value_2\": 0.0426, \"VALUE\": \"XLOC_000074\", \"KEY\": \"gene\"}]}};\n",
       "var opt = {};\n",
       "var type = \"vega-lite\";\n",
       "var id = \"6a3fa6e0-698f-4e6b-914b-2a4b5da1cae5\";\n",
       "\n",
       "var output_area = this;\n",
       "\n",
       "require([\"nbextensions/jupyter-vega/index\"], function(vega) {\n",
       "  var target = document.createElement(\"div\");\n",
       "  target.id = id;\n",
       "  target.className = \"vega-embed\";\n",
       "\n",
       "  var style = document.createElement(\"style\");\n",
       "  style.textContent = [\n",
       "    \".vega-embed .error p {\",\n",
       "    \"  color: firebrick;\",\n",
       "    \"  font-size: 14px;\",\n",
       "    \"}\",\n",
       "  ].join(\"\\\\n\");\n",
       "\n",
       "  // element is a jQuery wrapped DOM element inside the output area\n",
       "  // see http://ipython.readthedocs.io/en/stable/api/generated/\\\n",
       "  // IPython.display.html#IPython.display.Javascript.__init__\n",
       "  element[0].appendChild(target);\n",
       "  element[0].appendChild(style);\n",
       "\n",
       "  vega.render(\"#\" + id, spec, type, opt, output_area);\n",
       "}, function (err) {\n",
       "  if (err.requireType !== \"scripterror\") {\n",
       "    throw(err);\n",
       "  }\n",
       "});\n"
      ],
      "text/plain": [
       "<vega.vegalite.VegaLite at 0x11647bd30>"
      ]
     },
     "metadata": {
      "jupyter-vega": "#6a3fa6e0-698f-4e6b-914b-2a4b5da1cae5"
     },
     "output_type": "display_data"
    },
    {
     "data": {
      "image/png": "[encoded data removed]"
     },
     "metadata": {
      "jupyter-vega": "#561116e7-bdda-4dc6-a0fe-786d3151a82d"
     },
     "output_type": "display_data"
    },
    {
     "name": "stdout",
     "output_type": "stream",
     "text": [
      "temp_19.vl.json\n",
      "__temp__/temp_19.vl.json\n",
      "{'$schema': 'https://vega.github.io/schema/vega-lite/v3.json',\n",
      " 'data': {'values': [{'KEY': 'gene', 'VALUE': 'XLOC_000060', 'value_2': 0.335},\n",
      "                     {'KEY': 'gene',\n",
      "                      'VALUE': 'XLOC_000074',\n",
      "                      'value_2': 0.0426}]},\n",
      " 'encoding': {'color': {'aggregate': 'mean',\n",
      "                        'field': 'value_2',\n",
      "                        'type': 'quantitative'},\n",
      "              'x': {'field': 'KEY', 'type': 'nominal'},\n",
      "              'y': {'field': 'VALUE', 'type': 'nominal'}},\n",
      " 'mark': 'rect'}\n"
     ]
    },
    {
     "data": {
      "application/javascript": [
       "var spec = {\"encoding\": {\"y\": {\"type\": \"nominal\", \"field\": \"VALUE\"}, \"x\": {\"type\": \"nominal\", \"field\": \"KEY\"}, \"color\": {\"type\": \"quantitative\", \"field\": \"value_2\", \"aggregate\": \"mean\"}}, \"$schema\": \"https://vega.github.io/schema/vega-lite/v3.json\", \"mark\": \"rect\", \"data\": {\"values\": [{\"value_2\": 0.335, \"VALUE\": \"XLOC_000060\", \"KEY\": \"gene\"}, {\"value_2\": 0.0426, \"VALUE\": \"XLOC_000074\", \"KEY\": \"gene\"}]}};\n",
       "var opt = {};\n",
       "var type = \"vega-lite\";\n",
       "var id = \"7770d9d9-3483-4bc6-abff-73a3b39fb1f3\";\n",
       "\n",
       "var output_area = this;\n",
       "\n",
       "require([\"nbextensions/jupyter-vega/index\"], function(vega) {\n",
       "  var target = document.createElement(\"div\");\n",
       "  target.id = id;\n",
       "  target.className = \"vega-embed\";\n",
       "\n",
       "  var style = document.createElement(\"style\");\n",
       "  style.textContent = [\n",
       "    \".vega-embed .error p {\",\n",
       "    \"  color: firebrick;\",\n",
       "    \"  font-size: 14px;\",\n",
       "    \"}\",\n",
       "  ].join(\"\\\\n\");\n",
       "\n",
       "  // element is a jQuery wrapped DOM element inside the output area\n",
       "  // see http://ipython.readthedocs.io/en/stable/api/generated/\\\n",
       "  // IPython.display.html#IPython.display.Javascript.__init__\n",
       "  element[0].appendChild(target);\n",
       "  element[0].appendChild(style);\n",
       "\n",
       "  vega.render(\"#\" + id, spec, type, opt, output_area);\n",
       "}, function (err) {\n",
       "  if (err.requireType !== \"scripterror\") {\n",
       "    throw(err);\n",
       "  }\n",
       "});\n"
      ],
      "text/plain": [
       "<vega.vegalite.VegaLite at 0x11647b9b0>"
      ]
     },
     "metadata": {
      "jupyter-vega": "#7770d9d9-3483-4bc6-abff-73a3b39fb1f3"
     },
     "output_type": "display_data"
    },
    {
     "name": "stdout",
     "output_type": "stream",
     "text": [
      "temp_2.vl.json\n",
      "__temp__/temp_2.vl.json\n",
      "{'$schema': 'https://vega.github.io/schema/vega-lite/v3.json',\n",
      " 'data': {'values': [{'KEY': 'gene', 'value_1': 3.6623, 'value_2': 0.335},\n",
      "                     {'KEY': 'gene', 'value_1': 2.5681, 'value_2': 0.0426}]},\n",
      " 'encoding': {'color': {'aggregate': 'mean',\n",
      "                        'field': 'value_2',\n",
      "                        'type': 'quantitative'},\n",
      "              'x': {'field': 'value_1', 'type': 'nominal'},\n",
      "              'y': {'field': 'KEY', 'type': 'nominal'}},\n",
      " 'mark': 'rect'}\n"
     ]
    },
    {
     "data": {
      "application/javascript": [
       "var spec = {\"encoding\": {\"y\": {\"type\": \"nominal\", \"field\": \"KEY\"}, \"x\": {\"type\": \"nominal\", \"field\": \"value_1\"}, \"color\": {\"type\": \"quantitative\", \"field\": \"value_2\", \"aggregate\": \"mean\"}}, \"$schema\": \"https://vega.github.io/schema/vega-lite/v3.json\", \"mark\": \"rect\", \"data\": {\"values\": [{\"value_2\": 0.335, \"KEY\": \"gene\", \"value_1\": 3.6623}, {\"value_2\": 0.0426, \"KEY\": \"gene\", \"value_1\": 2.5681}]}};\n",
       "var opt = {};\n",
       "var type = \"vega-lite\";\n",
       "var id = \"a1a05329-e943-4b9b-a2aa-fa0dbcea5951\";\n",
       "\n",
       "var output_area = this;\n",
       "\n",
       "require([\"nbextensions/jupyter-vega/index\"], function(vega) {\n",
       "  var target = document.createElement(\"div\");\n",
       "  target.id = id;\n",
       "  target.className = \"vega-embed\";\n",
       "\n",
       "  var style = document.createElement(\"style\");\n",
       "  style.textContent = [\n",
       "    \".vega-embed .error p {\",\n",
       "    \"  color: firebrick;\",\n",
       "    \"  font-size: 14px;\",\n",
       "    \"}\",\n",
       "  ].join(\"\\\\n\");\n",
       "\n",
       "  // element is a jQuery wrapped DOM element inside the output area\n",
       "  // see http://ipython.readthedocs.io/en/stable/api/generated/\\\n",
       "  // IPython.display.html#IPython.display.Javascript.__init__\n",
       "  element[0].appendChild(target);\n",
       "  element[0].appendChild(style);\n",
       "\n",
       "  vega.render(\"#\" + id, spec, type, opt, output_area);\n",
       "}, function (err) {\n",
       "  if (err.requireType !== \"scripterror\") {\n",
       "    throw(err);\n",
       "  }\n",
       "});\n"
      ],
      "text/plain": [
       "<vega.vegalite.VegaLite at 0x11647bc50>"
      ]
     },
     "metadata": {
      "jupyter-vega": "#a1a05329-e943-4b9b-a2aa-fa0dbcea5951"
     },
     "output_type": "display_data"
    },
    {
     "name": "stdout",
     "output_type": "stream",
     "text": [
      "temp_20.vl.json\n",
      "__temp__/temp_20.vl.json\n",
      "{'$schema': 'https://vega.github.io/schema/vega-lite/v3.json',\n",
      " 'data': {'values': [{'KEY': 'value_1',\n",
      "                      'gene': 'XLOC_000060',\n",
      "                      'value_2': 0.335},\n",
      "                     {'KEY': 'value_1',\n",
      "                      'gene': 'XLOC_000074',\n",
      "                      'value_2': 0.0426}]},\n",
      " 'encoding': {'color': {'aggregate': 'mean',\n",
      "                        'field': 'value_2',\n",
      "                        'type': 'quantitative'},\n",
      "              'x': {'field': 'KEY', 'type': 'nominal'},\n",
      "              'y': {'field': 'gene', 'type': 'nominal'}},\n",
      " 'mark': 'rect'}\n"
     ]
    },
    {
     "data": {
      "application/javascript": [
       "var spec = {\"encoding\": {\"y\": {\"type\": \"nominal\", \"field\": \"gene\"}, \"x\": {\"type\": \"nominal\", \"field\": \"KEY\"}, \"color\": {\"type\": \"quantitative\", \"field\": \"value_2\", \"aggregate\": \"mean\"}}, \"$schema\": \"https://vega.github.io/schema/vega-lite/v3.json\", \"mark\": \"rect\", \"data\": {\"values\": [{\"value_2\": 0.335, \"KEY\": \"value_1\", \"gene\": \"XLOC_000060\"}, {\"value_2\": 0.0426, \"KEY\": \"value_1\", \"gene\": \"XLOC_000074\"}]}};\n",
       "var opt = {};\n",
       "var type = \"vega-lite\";\n",
       "var id = \"0ab5dee5-8e16-43c6-abb3-56ebe8000238\";\n",
       "\n",
       "var output_area = this;\n",
       "\n",
       "require([\"nbextensions/jupyter-vega/index\"], function(vega) {\n",
       "  var target = document.createElement(\"div\");\n",
       "  target.id = id;\n",
       "  target.className = \"vega-embed\";\n",
       "\n",
       "  var style = document.createElement(\"style\");\n",
       "  style.textContent = [\n",
       "    \".vega-embed .error p {\",\n",
       "    \"  color: firebrick;\",\n",
       "    \"  font-size: 14px;\",\n",
       "    \"}\",\n",
       "  ].join(\"\\\\n\");\n",
       "\n",
       "  // element is a jQuery wrapped DOM element inside the output area\n",
       "  // see http://ipython.readthedocs.io/en/stable/api/generated/\\\n",
       "  // IPython.display.html#IPython.display.Javascript.__init__\n",
       "  element[0].appendChild(target);\n",
       "  element[0].appendChild(style);\n",
       "\n",
       "  vega.render(\"#\" + id, spec, type, opt, output_area);\n",
       "}, function (err) {\n",
       "  if (err.requireType !== \"scripterror\") {\n",
       "    throw(err);\n",
       "  }\n",
       "});\n"
      ],
      "text/plain": [
       "<vega.vegalite.VegaLite at 0x11647b9b0>"
      ]
     },
     "metadata": {
      "jupyter-vega": "#0ab5dee5-8e16-43c6-abb3-56ebe8000238"
     },
     "output_type": "display_data"
    },
    {
     "name": "stdout",
     "output_type": "stream",
     "text": [
      "temp_21.vl.json\n",
      "__temp__/temp_21.vl.json\n",
      "{'$schema': 'https://vega.github.io/schema/vega-lite/v3.json',\n",
      " 'data': {'values': [{'KEY': 'value_1',\n",
      "                      'gene': 'XLOC_000060',\n",
      "                      'value_2': 0.335},\n",
      "                     {'KEY': 'value_1',\n",
      "                      'gene': 'XLOC_000074',\n",
      "                      'value_2': 0.0426}]},\n",
      " 'encoding': {'color': {'aggregate': 'mean',\n",
      "                        'field': 'value_2',\n",
      "                        'type': 'quantitative'},\n",
      "              'x': {'field': 'gene', 'type': 'nominal'},\n",
      "              'y': {'field': 'KEY', 'type': 'nominal'}},\n",
      " 'mark': 'rect'}\n"
     ]
    },
    {
     "data": {
      "application/javascript": [
       "var spec = {\"encoding\": {\"y\": {\"type\": \"nominal\", \"field\": \"KEY\"}, \"x\": {\"type\": \"nominal\", \"field\": \"gene\"}, \"color\": {\"type\": \"quantitative\", \"field\": \"value_2\", \"aggregate\": \"mean\"}}, \"$schema\": \"https://vega.github.io/schema/vega-lite/v3.json\", \"mark\": \"rect\", \"data\": {\"values\": [{\"value_2\": 0.335, \"KEY\": \"value_1\", \"gene\": \"XLOC_000060\"}, {\"value_2\": 0.0426, \"KEY\": \"value_1\", \"gene\": \"XLOC_000074\"}]}};\n",
       "var opt = {};\n",
       "var type = \"vega-lite\";\n",
       "var id = \"d7000a31-f39e-410a-a3e5-3e4d8f16b55f\";\n",
       "\n",
       "var output_area = this;\n",
       "\n",
       "require([\"nbextensions/jupyter-vega/index\"], function(vega) {\n",
       "  var target = document.createElement(\"div\");\n",
       "  target.id = id;\n",
       "  target.className = \"vega-embed\";\n",
       "\n",
       "  var style = document.createElement(\"style\");\n",
       "  style.textContent = [\n",
       "    \".vega-embed .error p {\",\n",
       "    \"  color: firebrick;\",\n",
       "    \"  font-size: 14px;\",\n",
       "    \"}\",\n",
       "  ].join(\"\\\\n\");\n",
       "\n",
       "  // element is a jQuery wrapped DOM element inside the output area\n",
       "  // see http://ipython.readthedocs.io/en/stable/api/generated/\\\n",
       "  // IPython.display.html#IPython.display.Javascript.__init__\n",
       "  element[0].appendChild(target);\n",
       "  element[0].appendChild(style);\n",
       "\n",
       "  vega.render(\"#\" + id, spec, type, opt, output_area);\n",
       "}, function (err) {\n",
       "  if (err.requireType !== \"scripterror\") {\n",
       "    throw(err);\n",
       "  }\n",
       "});\n"
      ],
      "text/plain": [
       "<vega.vegalite.VegaLite at 0x11647bfd0>"
      ]
     },
     "metadata": {
      "jupyter-vega": "#d7000a31-f39e-410a-a3e5-3e4d8f16b55f"
     },
     "output_type": "display_data"
    },
    {
     "name": "stdout",
     "output_type": "stream",
     "text": [
      "temp_22.vl.json\n",
      "__temp__/temp_22.vl.json\n",
      "{'$schema': 'https://vega.github.io/schema/vega-lite/v3.json',\n",
      " 'data': {'values': [{'VALUE': 3.6623, 'gene': 'XLOC_000060', 'value_2': 0.335},\n",
      "                     {'VALUE': 2.5681,\n",
      "                      'gene': 'XLOC_000074',\n",
      "                      'value_2': 0.0426}]},\n",
      " 'encoding': {'color': {'aggregate': 'mean',\n",
      "                        'field': 'VALUE',\n",
      "                        'type': 'quantitative'},\n",
      "              'x': {'field': 'value_2', 'type': 'nominal'},\n",
      "              'y': {'field': 'gene', 'type': 'nominal'}},\n",
      " 'mark': 'rect'}\n"
     ]
    },
    {
     "data": {
      "application/javascript": [
       "var spec = {\"encoding\": {\"y\": {\"type\": \"nominal\", \"field\": \"gene\"}, \"x\": {\"type\": \"nominal\", \"field\": \"value_2\"}, \"color\": {\"type\": \"quantitative\", \"field\": \"VALUE\", \"aggregate\": \"mean\"}}, \"$schema\": \"https://vega.github.io/schema/vega-lite/v3.json\", \"mark\": \"rect\", \"data\": {\"values\": [{\"value_2\": 0.335, \"VALUE\": 3.6623, \"gene\": \"XLOC_000060\"}, {\"value_2\": 0.0426, \"VALUE\": 2.5681, \"gene\": \"XLOC_000074\"}]}};\n",
       "var opt = {};\n",
       "var type = \"vega-lite\";\n",
       "var id = \"597c487d-d9f8-47e4-bd09-416bbc5c8c42\";\n",
       "\n",
       "var output_area = this;\n",
       "\n",
       "require([\"nbextensions/jupyter-vega/index\"], function(vega) {\n",
       "  var target = document.createElement(\"div\");\n",
       "  target.id = id;\n",
       "  target.className = \"vega-embed\";\n",
       "\n",
       "  var style = document.createElement(\"style\");\n",
       "  style.textContent = [\n",
       "    \".vega-embed .error p {\",\n",
       "    \"  color: firebrick;\",\n",
       "    \"  font-size: 14px;\",\n",
       "    \"}\",\n",
       "  ].join(\"\\\\n\");\n",
       "\n",
       "  // element is a jQuery wrapped DOM element inside the output area\n",
       "  // see http://ipython.readthedocs.io/en/stable/api/generated/\\\n",
       "  // IPython.display.html#IPython.display.Javascript.__init__\n",
       "  element[0].appendChild(target);\n",
       "  element[0].appendChild(style);\n",
       "\n",
       "  vega.render(\"#\" + id, spec, type, opt, output_area);\n",
       "}, function (err) {\n",
       "  if (err.requireType !== \"scripterror\") {\n",
       "    throw(err);\n",
       "  }\n",
       "});\n"
      ],
      "text/plain": [
       "<vega.vegalite.VegaLite at 0x11647b860>"
      ]
     },
     "metadata": {
      "jupyter-vega": "#597c487d-d9f8-47e4-bd09-416bbc5c8c42"
     },
     "output_type": "display_data"
    },
    {
     "name": "stdout",
     "output_type": "stream",
     "text": [
      "temp_23.vl.json\n",
      "__temp__/temp_23.vl.json\n",
      "{'$schema': 'https://vega.github.io/schema/vega-lite/v3.json',\n",
      " 'data': {'values': [{'VALUE': 3.6623, 'gene': 'XLOC_000060', 'value_2': 0.335},\n",
      "                     {'VALUE': 2.5681,\n",
      "                      'gene': 'XLOC_000074',\n",
      "                      'value_2': 0.0426}]},\n",
      " 'encoding': {'color': {'aggregate': 'mean',\n",
      "                        'field': 'value_2',\n",
      "                        'type': 'quantitative'},\n",
      "              'x': {'field': 'VALUE', 'type': 'nominal'},\n",
      "              'y': {'field': 'gene', 'type': 'nominal'}},\n",
      " 'mark': 'rect'}\n"
     ]
    },
    {
     "data": {
      "application/javascript": [
       "var spec = {\"encoding\": {\"y\": {\"type\": \"nominal\", \"field\": \"gene\"}, \"x\": {\"type\": \"nominal\", \"field\": \"VALUE\"}, \"color\": {\"type\": \"quantitative\", \"field\": \"value_2\", \"aggregate\": \"mean\"}}, \"$schema\": \"https://vega.github.io/schema/vega-lite/v3.json\", \"mark\": \"rect\", \"data\": {\"values\": [{\"value_2\": 0.335, \"VALUE\": 3.6623, \"gene\": \"XLOC_000060\"}, {\"value_2\": 0.0426, \"VALUE\": 2.5681, \"gene\": \"XLOC_000074\"}]}};\n",
       "var opt = {};\n",
       "var type = \"vega-lite\";\n",
       "var id = \"d14cd577-5f3f-4c0c-a6d7-9fc4c7d9c8ea\";\n",
       "\n",
       "var output_area = this;\n",
       "\n",
       "require([\"nbextensions/jupyter-vega/index\"], function(vega) {\n",
       "  var target = document.createElement(\"div\");\n",
       "  target.id = id;\n",
       "  target.className = \"vega-embed\";\n",
       "\n",
       "  var style = document.createElement(\"style\");\n",
       "  style.textContent = [\n",
       "    \".vega-embed .error p {\",\n",
       "    \"  color: firebrick;\",\n",
       "    \"  font-size: 14px;\",\n",
       "    \"}\",\n",
       "  ].join(\"\\\\n\");\n",
       "\n",
       "  // element is a jQuery wrapped DOM element inside the output area\n",
       "  // see http://ipython.readthedocs.io/en/stable/api/generated/\\\n",
       "  // IPython.display.html#IPython.display.Javascript.__init__\n",
       "  element[0].appendChild(target);\n",
       "  element[0].appendChild(style);\n",
       "\n",
       "  vega.render(\"#\" + id, spec, type, opt, output_area);\n",
       "}, function (err) {\n",
       "  if (err.requireType !== \"scripterror\") {\n",
       "    throw(err);\n",
       "  }\n",
       "});\n"
      ],
      "text/plain": [
       "<vega.vegalite.VegaLite at 0x11647bc50>"
      ]
     },
     "metadata": {
      "jupyter-vega": "#d14cd577-5f3f-4c0c-a6d7-9fc4c7d9c8ea"
     },
     "output_type": "display_data"
    },
    {
     "name": "stdout",
     "output_type": "stream",
     "text": [
      "temp_24.vl.json\n",
      "__temp__/temp_24.vl.json\n",
      "{'$schema': 'https://vega.github.io/schema/vega-lite/v3.json',\n",
      " 'data': {'values': [{'VALUE': 3.6623, 'gene': 'XLOC_000060', 'value_2': 0.335},\n",
      "                     {'VALUE': 2.5681,\n",
      "                      'gene': 'XLOC_000074',\n",
      "                      'value_2': 0.0426}]},\n",
      " 'encoding': {'color': {'aggregate': 'mean',\n",
      "                        'field': 'VALUE',\n",
      "                        'type': 'quantitative'},\n",
      "              'x': {'field': 'gene', 'type': 'nominal'},\n",
      "              'y': {'field': 'value_2', 'type': 'nominal'}},\n",
      " 'mark': 'rect'}\n"
     ]
    },
    {
     "data": {
      "application/javascript": [
       "var spec = {\"encoding\": {\"y\": {\"type\": \"nominal\", \"field\": \"value_2\"}, \"x\": {\"type\": \"nominal\", \"field\": \"gene\"}, \"color\": {\"type\": \"quantitative\", \"field\": \"VALUE\", \"aggregate\": \"mean\"}}, \"$schema\": \"https://vega.github.io/schema/vega-lite/v3.json\", \"mark\": \"rect\", \"data\": {\"values\": [{\"value_2\": 0.335, \"VALUE\": 3.6623, \"gene\": \"XLOC_000060\"}, {\"value_2\": 0.0426, \"VALUE\": 2.5681, \"gene\": \"XLOC_000074\"}]}};\n",
       "var opt = {};\n",
       "var type = \"vega-lite\";\n",
       "var id = \"aa824c98-f22c-4dee-bc91-f2bca464fdbf\";\n",
       "\n",
       "var output_area = this;\n",
       "\n",
       "require([\"nbextensions/jupyter-vega/index\"], function(vega) {\n",
       "  var target = document.createElement(\"div\");\n",
       "  target.id = id;\n",
       "  target.className = \"vega-embed\";\n",
       "\n",
       "  var style = document.createElement(\"style\");\n",
       "  style.textContent = [\n",
       "    \".vega-embed .error p {\",\n",
       "    \"  color: firebrick;\",\n",
       "    \"  font-size: 14px;\",\n",
       "    \"}\",\n",
       "  ].join(\"\\\\n\");\n",
       "\n",
       "  // element is a jQuery wrapped DOM element inside the output area\n",
       "  // see http://ipython.readthedocs.io/en/stable/api/generated/\\\n",
       "  // IPython.display.html#IPython.display.Javascript.__init__\n",
       "  element[0].appendChild(target);\n",
       "  element[0].appendChild(style);\n",
       "\n",
       "  vega.render(\"#\" + id, spec, type, opt, output_area);\n",
       "}, function (err) {\n",
       "  if (err.requireType !== \"scripterror\") {\n",
       "    throw(err);\n",
       "  }\n",
       "});\n"
      ],
      "text/plain": [
       "<vega.vegalite.VegaLite at 0x10a13b390>"
      ]
     },
     "metadata": {
      "jupyter-vega": "#aa824c98-f22c-4dee-bc91-f2bca464fdbf"
     },
     "output_type": "display_data"
    },
    {
     "name": "stdout",
     "output_type": "stream",
     "text": [
      "temp_25.vl.json\n",
      "__temp__/temp_25.vl.json\n",
      "{'$schema': 'https://vega.github.io/schema/vega-lite/v3.json',\n",
      " 'data': {'values': [{'VALUE': 3.6623, 'gene': 'XLOC_000060', 'value_2': 0.335},\n",
      "                     {'VALUE': 2.5681,\n",
      "                      'gene': 'XLOC_000074',\n",
      "                      'value_2': 0.0426}]},\n",
      " 'encoding': {'color': {'aggregate': 'mean',\n",
      "                        'field': 'value_2',\n",
      "                        'type': 'quantitative'},\n",
      "              'x': {'field': 'gene', 'type': 'nominal'},\n",
      "              'y': {'field': 'VALUE', 'type': 'nominal'}},\n",
      " 'mark': 'rect'}\n"
     ]
    },
    {
     "data": {
      "application/javascript": [
       "var spec = {\"encoding\": {\"y\": {\"type\": \"nominal\", \"field\": \"VALUE\"}, \"x\": {\"type\": \"nominal\", \"field\": \"gene\"}, \"color\": {\"type\": \"quantitative\", \"field\": \"value_2\", \"aggregate\": \"mean\"}}, \"$schema\": \"https://vega.github.io/schema/vega-lite/v3.json\", \"mark\": \"rect\", \"data\": {\"values\": [{\"value_2\": 0.335, \"VALUE\": 3.6623, \"gene\": \"XLOC_000060\"}, {\"value_2\": 0.0426, \"VALUE\": 2.5681, \"gene\": \"XLOC_000074\"}]}};\n",
       "var opt = {};\n",
       "var type = \"vega-lite\";\n",
       "var id = \"751dbcf6-9a9b-4143-b6a6-cc80c5bc4add\";\n",
       "\n",
       "var output_area = this;\n",
       "\n",
       "require([\"nbextensions/jupyter-vega/index\"], function(vega) {\n",
       "  var target = document.createElement(\"div\");\n",
       "  target.id = id;\n",
       "  target.className = \"vega-embed\";\n",
       "\n",
       "  var style = document.createElement(\"style\");\n",
       "  style.textContent = [\n",
       "    \".vega-embed .error p {\",\n",
       "    \"  color: firebrick;\",\n",
       "    \"  font-size: 14px;\",\n",
       "    \"}\",\n",
       "  ].join(\"\\\\n\");\n",
       "\n",
       "  // element is a jQuery wrapped DOM element inside the output area\n",
       "  // see http://ipython.readthedocs.io/en/stable/api/generated/\\\n",
       "  // IPython.display.html#IPython.display.Javascript.__init__\n",
       "  element[0].appendChild(target);\n",
       "  element[0].appendChild(style);\n",
       "\n",
       "  vega.render(\"#\" + id, spec, type, opt, output_area);\n",
       "}, function (err) {\n",
       "  if (err.requireType !== \"scripterror\") {\n",
       "    throw(err);\n",
       "  }\n",
       "});\n"
      ],
      "text/plain": [
       "<vega.vegalite.VegaLite at 0x11647ba90>"
      ]
     },
     "metadata": {
      "jupyter-vega": "#751dbcf6-9a9b-4143-b6a6-cc80c5bc4add"
     },
     "output_type": "display_data"
    },
    {
     "name": "stdout",
     "output_type": "stream",
     "text": [
      "temp_26.vl.json\n",
      "__temp__/temp_26.vl.json\n",
      "{'$schema': 'https://vega.github.io/schema/vega-lite/v3.json',\n",
      " 'data': {'values': [{'VALUE': 3.6623, 'gene': 'XLOC_000060', 'value_2': 0.335},\n",
      "                     {'VALUE': 2.5681,\n",
      "                      'gene': 'XLOC_000074',\n",
      "                      'value_2': 0.0426}]},\n",
      " 'encoding': {'color': {'aggregate': 'mean',\n",
      "                        'field': 'VALUE',\n",
      "                        'type': 'ordinal'},\n",
      "              'x': {'field': 'value_2', 'type': 'ordinal'},\n",
      "              'y': {'field': 'gene', 'type': 'nominal'}},\n",
      " 'mark': 'rect'}\n"
     ]
    },
    {
     "data": {
      "application/javascript": [
       "var spec = {\"encoding\": {\"y\": {\"type\": \"nominal\", \"field\": \"gene\"}, \"x\": {\"type\": \"ordinal\", \"field\": \"value_2\"}, \"color\": {\"type\": \"ordinal\", \"field\": \"VALUE\", \"aggregate\": \"mean\"}}, \"$schema\": \"https://vega.github.io/schema/vega-lite/v3.json\", \"mark\": \"rect\", \"data\": {\"values\": [{\"value_2\": 0.335, \"VALUE\": 3.6623, \"gene\": \"XLOC_000060\"}, {\"value_2\": 0.0426, \"VALUE\": 2.5681, \"gene\": \"XLOC_000074\"}]}};\n",
       "var opt = {};\n",
       "var type = \"vega-lite\";\n",
       "var id = \"f4b57477-1eba-4a5a-926f-cfd9f56154f8\";\n",
       "\n",
       "var output_area = this;\n",
       "\n",
       "require([\"nbextensions/jupyter-vega/index\"], function(vega) {\n",
       "  var target = document.createElement(\"div\");\n",
       "  target.id = id;\n",
       "  target.className = \"vega-embed\";\n",
       "\n",
       "  var style = document.createElement(\"style\");\n",
       "  style.textContent = [\n",
       "    \".vega-embed .error p {\",\n",
       "    \"  color: firebrick;\",\n",
       "    \"  font-size: 14px;\",\n",
       "    \"}\",\n",
       "  ].join(\"\\\\n\");\n",
       "\n",
       "  // element is a jQuery wrapped DOM element inside the output area\n",
       "  // see http://ipython.readthedocs.io/en/stable/api/generated/\\\n",
       "  // IPython.display.html#IPython.display.Javascript.__init__\n",
       "  element[0].appendChild(target);\n",
       "  element[0].appendChild(style);\n",
       "\n",
       "  vega.render(\"#\" + id, spec, type, opt, output_area);\n",
       "}, function (err) {\n",
       "  if (err.requireType !== \"scripterror\") {\n",
       "    throw(err);\n",
       "  }\n",
       "});\n"
      ],
      "text/plain": [
       "<vega.vegalite.VegaLite at 0x11647bef0>"
      ]
     },
     "metadata": {
      "jupyter-vega": "#f4b57477-1eba-4a5a-926f-cfd9f56154f8"
     },
     "output_type": "display_data"
    },
    {
     "name": "stdout",
     "output_type": "stream",
     "text": [
      "temp_27.vl.json\n",
      "__temp__/temp_27.vl.json\n",
      "{'$schema': 'https://vega.github.io/schema/vega-lite/v3.json',\n",
      " 'data': {'values': [{'VALUE': 3.6623, 'gene': 'XLOC_000060', 'value_2': 0.335},\n",
      "                     {'VALUE': 2.5681,\n",
      "                      'gene': 'XLOC_000074',\n",
      "                      'value_2': 0.0426}]},\n",
      " 'encoding': {'color': {'aggregate': 'mean',\n",
      "                        'field': 'value_2',\n",
      "                        'type': 'ordinal'},\n",
      "              'x': {'field': 'VALUE', 'type': 'ordinal'},\n",
      "              'y': {'field': 'gene', 'type': 'nominal'}},\n",
      " 'mark': 'rect'}\n"
     ]
    },
    {
     "data": {
      "application/javascript": [
       "var spec = {\"encoding\": {\"y\": {\"type\": \"nominal\", \"field\": \"gene\"}, \"x\": {\"type\": \"ordinal\", \"field\": \"VALUE\"}, \"color\": {\"type\": \"ordinal\", \"field\": \"value_2\", \"aggregate\": \"mean\"}}, \"$schema\": \"https://vega.github.io/schema/vega-lite/v3.json\", \"mark\": \"rect\", \"data\": {\"values\": [{\"value_2\": 0.335, \"VALUE\": 3.6623, \"gene\": \"XLOC_000060\"}, {\"value_2\": 0.0426, \"VALUE\": 2.5681, \"gene\": \"XLOC_000074\"}]}};\n",
       "var opt = {};\n",
       "var type = \"vega-lite\";\n",
       "var id = \"f9039180-9599-46ed-8af2-4b3c228aeb5c\";\n",
       "\n",
       "var output_area = this;\n",
       "\n",
       "require([\"nbextensions/jupyter-vega/index\"], function(vega) {\n",
       "  var target = document.createElement(\"div\");\n",
       "  target.id = id;\n",
       "  target.className = \"vega-embed\";\n",
       "\n",
       "  var style = document.createElement(\"style\");\n",
       "  style.textContent = [\n",
       "    \".vega-embed .error p {\",\n",
       "    \"  color: firebrick;\",\n",
       "    \"  font-size: 14px;\",\n",
       "    \"}\",\n",
       "  ].join(\"\\\\n\");\n",
       "\n",
       "  // element is a jQuery wrapped DOM element inside the output area\n",
       "  // see http://ipython.readthedocs.io/en/stable/api/generated/\\\n",
       "  // IPython.display.html#IPython.display.Javascript.__init__\n",
       "  element[0].appendChild(target);\n",
       "  element[0].appendChild(style);\n",
       "\n",
       "  vega.render(\"#\" + id, spec, type, opt, output_area);\n",
       "}, function (err) {\n",
       "  if (err.requireType !== \"scripterror\") {\n",
       "    throw(err);\n",
       "  }\n",
       "});\n"
      ],
      "text/plain": [
       "<vega.vegalite.VegaLite at 0x11647be48>"
      ]
     },
     "metadata": {
      "jupyter-vega": "#f9039180-9599-46ed-8af2-4b3c228aeb5c"
     },
     "output_type": "display_data"
    },
    {
     "name": "stdout",
     "output_type": "stream",
     "text": [
      "temp_28.vl.json\n",
      "__temp__/temp_28.vl.json\n",
      "{'$schema': 'https://vega.github.io/schema/vega-lite/v3.json',\n",
      " 'data': {'values': [{'VALUE': 3.6623, 'gene': 'XLOC_000060', 'value_2': 0.335},\n",
      "                     {'VALUE': 2.5681,\n",
      "                      'gene': 'XLOC_000074',\n",
      "                      'value_2': 0.0426}]},\n",
      " 'encoding': {'color': {'aggregate': None,\n",
      "                        'field': 'VALUE',\n",
      "                        'type': 'quantitative'},\n",
      "              'x': {'field': 'value_2', 'type': 'ordinal'},\n",
      "              'y': {'field': 'gene', 'type': 'nominal'}},\n",
      " 'mark': 'rect'}\n"
     ]
    },
    {
     "data": {
      "application/javascript": [
       "var spec = {\"encoding\": {\"y\": {\"type\": \"nominal\", \"field\": \"gene\"}, \"x\": {\"type\": \"ordinal\", \"field\": \"value_2\"}, \"color\": {\"type\": \"quantitative\", \"field\": \"VALUE\", \"aggregate\": null}}, \"$schema\": \"https://vega.github.io/schema/vega-lite/v3.json\", \"mark\": \"rect\", \"data\": {\"values\": [{\"value_2\": 0.335, \"VALUE\": 3.6623, \"gene\": \"XLOC_000060\"}, {\"value_2\": 0.0426, \"VALUE\": 2.5681, \"gene\": \"XLOC_000074\"}]}};\n",
       "var opt = {};\n",
       "var type = \"vega-lite\";\n",
       "var id = \"a793244a-e1c1-42a5-903f-414dfd7d1ef1\";\n",
       "\n",
       "var output_area = this;\n",
       "\n",
       "require([\"nbextensions/jupyter-vega/index\"], function(vega) {\n",
       "  var target = document.createElement(\"div\");\n",
       "  target.id = id;\n",
       "  target.className = \"vega-embed\";\n",
       "\n",
       "  var style = document.createElement(\"style\");\n",
       "  style.textContent = [\n",
       "    \".vega-embed .error p {\",\n",
       "    \"  color: firebrick;\",\n",
       "    \"  font-size: 14px;\",\n",
       "    \"}\",\n",
       "  ].join(\"\\\\n\");\n",
       "\n",
       "  // element is a jQuery wrapped DOM element inside the output area\n",
       "  // see http://ipython.readthedocs.io/en/stable/api/generated/\\\n",
       "  // IPython.display.html#IPython.display.Javascript.__init__\n",
       "  element[0].appendChild(target);\n",
       "  element[0].appendChild(style);\n",
       "\n",
       "  vega.render(\"#\" + id, spec, type, opt, output_area);\n",
       "}, function (err) {\n",
       "  if (err.requireType !== \"scripterror\") {\n",
       "    throw(err);\n",
       "  }\n",
       "});\n"
      ],
      "text/plain": [
       "<vega.vegalite.VegaLite at 0x11647b860>"
      ]
     },
     "metadata": {
      "jupyter-vega": "#a793244a-e1c1-42a5-903f-414dfd7d1ef1"
     },
     "output_type": "display_data"
    },
    {
     "name": "stdout",
     "output_type": "stream",
     "text": [
      "temp_29.vl.json\n",
      "__temp__/temp_29.vl.json\n",
      "{'$schema': 'https://vega.github.io/schema/vega-lite/v3.json',\n",
      " 'data': {'values': [{'VALUE': 3.6623, 'gene': 'XLOC_000060', 'value_2': 0.335},\n",
      "                     {'VALUE': 2.5681,\n",
      "                      'gene': 'XLOC_000074',\n",
      "                      'value_2': 0.0426}]},\n",
      " 'encoding': {'color': {'aggregate': None,\n",
      "                        'field': 'value_2',\n",
      "                        'type': 'quantitative'},\n",
      "              'x': {'field': 'VALUE', 'type': 'ordinal'},\n",
      "              'y': {'field': 'gene', 'type': 'nominal'}},\n",
      " 'mark': 'rect'}\n"
     ]
    },
    {
     "data": {
      "application/javascript": [
       "var spec = {\"encoding\": {\"y\": {\"type\": \"nominal\", \"field\": \"gene\"}, \"x\": {\"type\": \"ordinal\", \"field\": \"VALUE\"}, \"color\": {\"type\": \"quantitative\", \"field\": \"value_2\", \"aggregate\": null}}, \"$schema\": \"https://vega.github.io/schema/vega-lite/v3.json\", \"mark\": \"rect\", \"data\": {\"values\": [{\"value_2\": 0.335, \"VALUE\": 3.6623, \"gene\": \"XLOC_000060\"}, {\"value_2\": 0.0426, \"VALUE\": 2.5681, \"gene\": \"XLOC_000074\"}]}};\n",
       "var opt = {};\n",
       "var type = \"vega-lite\";\n",
       "var id = \"7669af46-41cd-49d2-833d-5d7dbcccad8d\";\n",
       "\n",
       "var output_area = this;\n",
       "\n",
       "require([\"nbextensions/jupyter-vega/index\"], function(vega) {\n",
       "  var target = document.createElement(\"div\");\n",
       "  target.id = id;\n",
       "  target.className = \"vega-embed\";\n",
       "\n",
       "  var style = document.createElement(\"style\");\n",
       "  style.textContent = [\n",
       "    \".vega-embed .error p {\",\n",
       "    \"  color: firebrick;\",\n",
       "    \"  font-size: 14px;\",\n",
       "    \"}\",\n",
       "  ].join(\"\\\\n\");\n",
       "\n",
       "  // element is a jQuery wrapped DOM element inside the output area\n",
       "  // see http://ipython.readthedocs.io/en/stable/api/generated/\\\n",
       "  // IPython.display.html#IPython.display.Javascript.__init__\n",
       "  element[0].appendChild(target);\n",
       "  element[0].appendChild(style);\n",
       "\n",
       "  vega.render(\"#\" + id, spec, type, opt, output_area);\n",
       "}, function (err) {\n",
       "  if (err.requireType !== \"scripterror\") {\n",
       "    throw(err);\n",
       "  }\n",
       "});\n"
      ],
      "text/plain": [
       "<vega.vegalite.VegaLite at 0x11647bfd0>"
      ]
     },
     "metadata": {
      "jupyter-vega": "#7669af46-41cd-49d2-833d-5d7dbcccad8d"
     },
     "output_type": "display_data"
    },
    {
     "name": "stdout",
     "output_type": "stream",
     "text": [
      "temp_3.vl.json\n",
      "__temp__/temp_3.vl.json\n",
      "{'$schema': 'https://vega.github.io/schema/vega-lite/v3.json',\n",
      " 'data': {'values': [{'KEY': 'gene', 'value_1': 3.6623, 'value_2': 0.335},\n",
      "                     {'KEY': 'gene', 'value_1': 2.5681, 'value_2': 0.0426}]},\n",
      " 'encoding': {'color': {'aggregate': 'mean',\n",
      "                        'field': 'value_1',\n",
      "                        'type': 'quantitative'},\n",
      "              'x': {'field': 'value_2', 'type': 'nominal'},\n",
      "              'y': {'field': 'KEY', 'type': 'nominal'}},\n",
      " 'mark': 'rect'}\n"
     ]
    },
    {
     "data": {
      "application/javascript": [
       "var spec = {\"encoding\": {\"y\": {\"type\": \"nominal\", \"field\": \"KEY\"}, \"x\": {\"type\": \"nominal\", \"field\": \"value_2\"}, \"color\": {\"type\": \"quantitative\", \"field\": \"value_1\", \"aggregate\": \"mean\"}}, \"$schema\": \"https://vega.github.io/schema/vega-lite/v3.json\", \"mark\": \"rect\", \"data\": {\"values\": [{\"value_2\": 0.335, \"KEY\": \"gene\", \"value_1\": 3.6623}, {\"value_2\": 0.0426, \"KEY\": \"gene\", \"value_1\": 2.5681}]}};\n",
       "var opt = {};\n",
       "var type = \"vega-lite\";\n",
       "var id = \"0e759a6b-1ebc-494d-b026-f15310b297bd\";\n",
       "\n",
       "var output_area = this;\n",
       "\n",
       "require([\"nbextensions/jupyter-vega/index\"], function(vega) {\n",
       "  var target = document.createElement(\"div\");\n",
       "  target.id = id;\n",
       "  target.className = \"vega-embed\";\n",
       "\n",
       "  var style = document.createElement(\"style\");\n",
       "  style.textContent = [\n",
       "    \".vega-embed .error p {\",\n",
       "    \"  color: firebrick;\",\n",
       "    \"  font-size: 14px;\",\n",
       "    \"}\",\n",
       "  ].join(\"\\\\n\");\n",
       "\n",
       "  // element is a jQuery wrapped DOM element inside the output area\n",
       "  // see http://ipython.readthedocs.io/en/stable/api/generated/\\\n",
       "  // IPython.display.html#IPython.display.Javascript.__init__\n",
       "  element[0].appendChild(target);\n",
       "  element[0].appendChild(style);\n",
       "\n",
       "  vega.render(\"#\" + id, spec, type, opt, output_area);\n",
       "}, function (err) {\n",
       "  if (err.requireType !== \"scripterror\") {\n",
       "    throw(err);\n",
       "  }\n",
       "});\n"
      ],
      "text/plain": [
       "<vega.vegalite.VegaLite at 0x10a143400>"
      ]
     },
     "metadata": {
      "jupyter-vega": "#0e759a6b-1ebc-494d-b026-f15310b297bd"
     },
     "output_type": "display_data"
    },
    {
     "name": "stdout",
     "output_type": "stream",
     "text": [
      "temp_30.vl.json\n",
      "__temp__/temp_30.vl.json\n",
      "{'$schema': 'https://vega.github.io/schema/vega-lite/v3.json',\n",
      " 'data': {'values': [{'KEY': 'value_1', 'VALUE': 3.6623, 'gene': 'XLOC_000060'},\n",
      "                     {'KEY': 'value_1',\n",
      "                      'VALUE': 2.5681,\n",
      "                      'gene': 'XLOC_000074'}]},\n",
      " 'encoding': {'color': {'aggregate': 'mean',\n",
      "                        'field': 'VALUE',\n",
      "                        'type': 'quantitative'},\n",
      "              'x': {'field': 'KEY', 'type': 'nominal'},\n",
      "              'y': {'field': 'gene', 'type': 'nominal'}},\n",
      " 'mark': 'rect'}\n"
     ]
    },
    {
     "data": {
      "application/javascript": [
       "var spec = {\"encoding\": {\"y\": {\"type\": \"nominal\", \"field\": \"gene\"}, \"x\": {\"type\": \"nominal\", \"field\": \"KEY\"}, \"color\": {\"type\": \"quantitative\", \"field\": \"VALUE\", \"aggregate\": \"mean\"}}, \"$schema\": \"https://vega.github.io/schema/vega-lite/v3.json\", \"mark\": \"rect\", \"data\": {\"values\": [{\"KEY\": \"value_1\", \"VALUE\": 3.6623, \"gene\": \"XLOC_000060\"}, {\"KEY\": \"value_1\", \"VALUE\": 2.5681, \"gene\": \"XLOC_000074\"}]}};\n",
       "var opt = {};\n",
       "var type = \"vega-lite\";\n",
       "var id = \"da49fff8-8103-49cc-bf58-f9032ba40027\";\n",
       "\n",
       "var output_area = this;\n",
       "\n",
       "require([\"nbextensions/jupyter-vega/index\"], function(vega) {\n",
       "  var target = document.createElement(\"div\");\n",
       "  target.id = id;\n",
       "  target.className = \"vega-embed\";\n",
       "\n",
       "  var style = document.createElement(\"style\");\n",
       "  style.textContent = [\n",
       "    \".vega-embed .error p {\",\n",
       "    \"  color: firebrick;\",\n",
       "    \"  font-size: 14px;\",\n",
       "    \"}\",\n",
       "  ].join(\"\\\\n\");\n",
       "\n",
       "  // element is a jQuery wrapped DOM element inside the output area\n",
       "  // see http://ipython.readthedocs.io/en/stable/api/generated/\\\n",
       "  // IPython.display.html#IPython.display.Javascript.__init__\n",
       "  element[0].appendChild(target);\n",
       "  element[0].appendChild(style);\n",
       "\n",
       "  vega.render(\"#\" + id, spec, type, opt, output_area);\n",
       "}, function (err) {\n",
       "  if (err.requireType !== \"scripterror\") {\n",
       "    throw(err);\n",
       "  }\n",
       "});\n"
      ],
      "text/plain": [
       "<vega.vegalite.VegaLite at 0x1164b9160>"
      ]
     },
     "metadata": {
      "jupyter-vega": "#da49fff8-8103-49cc-bf58-f9032ba40027"
     },
     "output_type": "display_data"
    },
    {
     "data": {
      "image/png": "[encoded data removed]"
     },
     "metadata": {
      "jupyter-vega": "#aa90f65d-6ab6-4489-a9b0-340092bd6272"
     },
     "output_type": "display_data"
    },
    {
     "data": {
      "image/png": "[encoded data removed]"
     },
     "metadata": {
      "jupyter-vega": "#6584ee17-e52e-4ef2-a0bf-ac197b9c9296"
     },
     "output_type": "display_data"
    },
    {
     "data": {
      "image/png": "[encoded data removed]"
     },
     "metadata": {
      "jupyter-vega": "#fb535eda-6a75-40cb-bb0b-fa102fc7ede5"
     },
     "output_type": "display_data"
    },
    {
     "data": {
      "image/png": "[encoded data removed]"
     },
     "metadata": {
      "jupyter-vega": "#571fbb97-a7ee-42bd-bee8-8bebe91771e1"
     },
     "output_type": "display_data"
    },
    {
     "data": {
      "image/png": "[encoded data removed]"
     },
     "metadata": {
      "jupyter-vega": "#b4af5ff6-6664-49b4-9f4b-2de348445a65"
     },
     "output_type": "display_data"
    },
    {
     "data": {
      "image/png": "[encoded data removed]"
     },
     "metadata": {
      "jupyter-vega": "#456e4fe1-e40d-494b-920e-e3df7639c577"
     },
     "output_type": "display_data"
    },
    {
     "data": {
      "image/png": "[encoded data removed]"
     },
     "metadata": {
      "jupyter-vega": "#7791bb42-34b5-4382-bc2a-c6f0e928b36f"
     },
     "output_type": "display_data"
    },
    {
     "data": {
      "image/png": "[encoded data removed]"
     },
     "metadata": {
      "jupyter-vega": "#d25c4202-0803-4d9e-a6d0-296ef8f4c5a0"
     },
     "output_type": "display_data"
    },
    {
     "data": {
      "image/png": "[encoded data removed]"
     },
     "metadata": {
      "jupyter-vega": "#6a3fa6e0-698f-4e6b-914b-2a4b5da1cae5"
     },
     "output_type": "display_data"
    },
    {
     "name": "stdout",
     "output_type": "stream",
     "text": [
      "temp_31.vl.json\n",
      "__temp__/temp_31.vl.json\n",
      "{'$schema': 'https://vega.github.io/schema/vega-lite/v3.json',\n",
      " 'data': {'values': [{'KEY': 'value_1', 'VALUE': 3.6623, 'gene': 'XLOC_000060'},\n",
      "                     {'KEY': 'value_1',\n",
      "                      'VALUE': 2.5681,\n",
      "                      'gene': 'XLOC_000074'}]},\n",
      " 'encoding': {'color': {'aggregate': 'mean',\n",
      "                        'field': 'VALUE',\n",
      "                        'type': 'quantitative'},\n",
      "              'x': {'field': 'gene', 'type': 'nominal'},\n",
      "              'y': {'field': 'KEY', 'type': 'nominal'}},\n",
      " 'mark': 'rect'}\n"
     ]
    },
    {
     "data": {
      "application/javascript": [
       "var spec = {\"encoding\": {\"y\": {\"type\": \"nominal\", \"field\": \"KEY\"}, \"x\": {\"type\": \"nominal\", \"field\": \"gene\"}, \"color\": {\"type\": \"quantitative\", \"field\": \"VALUE\", \"aggregate\": \"mean\"}}, \"$schema\": \"https://vega.github.io/schema/vega-lite/v3.json\", \"mark\": \"rect\", \"data\": {\"values\": [{\"KEY\": \"value_1\", \"VALUE\": 3.6623, \"gene\": \"XLOC_000060\"}, {\"KEY\": \"value_1\", \"VALUE\": 2.5681, \"gene\": \"XLOC_000074\"}]}};\n",
       "var opt = {};\n",
       "var type = \"vega-lite\";\n",
       "var id = \"4f35c009-e444-4cd8-bcdb-f73a6c91ccae\";\n",
       "\n",
       "var output_area = this;\n",
       "\n",
       "require([\"nbextensions/jupyter-vega/index\"], function(vega) {\n",
       "  var target = document.createElement(\"div\");\n",
       "  target.id = id;\n",
       "  target.className = \"vega-embed\";\n",
       "\n",
       "  var style = document.createElement(\"style\");\n",
       "  style.textContent = [\n",
       "    \".vega-embed .error p {\",\n",
       "    \"  color: firebrick;\",\n",
       "    \"  font-size: 14px;\",\n",
       "    \"}\",\n",
       "  ].join(\"\\\\n\");\n",
       "\n",
       "  // element is a jQuery wrapped DOM element inside the output area\n",
       "  // see http://ipython.readthedocs.io/en/stable/api/generated/\\\n",
       "  // IPython.display.html#IPython.display.Javascript.__init__\n",
       "  element[0].appendChild(target);\n",
       "  element[0].appendChild(style);\n",
       "\n",
       "  vega.render(\"#\" + id, spec, type, opt, output_area);\n",
       "}, function (err) {\n",
       "  if (err.requireType !== \"scripterror\") {\n",
       "    throw(err);\n",
       "  }\n",
       "});\n"
      ],
      "text/plain": [
       "<vega.vegalite.VegaLite at 0x1164b9048>"
      ]
     },
     "metadata": {
      "jupyter-vega": "#4f35c009-e444-4cd8-bcdb-f73a6c91ccae"
     },
     "output_type": "display_data"
    },
    {
     "name": "stdout",
     "output_type": "stream",
     "text": [
      "temp_32.vl.json\n",
      "__temp__/temp_32.vl.json\n",
      "{'$schema': 'https://vega.github.io/schema/vega-lite/v3.json',\n",
      " 'data': {'values': [{'KEY': 'value_1', 'VALUE': 3.6623, 'value_2': 0.335},\n",
      "                     {'KEY': 'value_1', 'VALUE': 2.5681, 'value_2': 0.0426}]},\n",
      " 'encoding': {'color': {'aggregate': 'mean',\n",
      "                        'field': 'VALUE',\n",
      "                        'type': 'quantitative'},\n",
      "              'x': {'field': 'KEY', 'type': 'nominal'},\n",
      "              'y': {'field': 'value_2', 'type': 'nominal'}},\n",
      " 'mark': 'rect'}\n"
     ]
    },
    {
     "data": {
      "application/javascript": [
       "var spec = {\"encoding\": {\"y\": {\"type\": \"nominal\", \"field\": \"value_2\"}, \"x\": {\"type\": \"nominal\", \"field\": \"KEY\"}, \"color\": {\"type\": \"quantitative\", \"field\": \"VALUE\", \"aggregate\": \"mean\"}}, \"$schema\": \"https://vega.github.io/schema/vega-lite/v3.json\", \"mark\": \"rect\", \"data\": {\"values\": [{\"value_2\": 0.335, \"VALUE\": 3.6623, \"KEY\": \"value_1\"}, {\"value_2\": 0.0426, \"VALUE\": 2.5681, \"KEY\": \"value_1\"}]}};\n",
       "var opt = {};\n",
       "var type = \"vega-lite\";\n",
       "var id = \"e30ceb2f-27a5-45c6-9b8d-3eb47c784cd7\";\n",
       "\n",
       "var output_area = this;\n",
       "\n",
       "require([\"nbextensions/jupyter-vega/index\"], function(vega) {\n",
       "  var target = document.createElement(\"div\");\n",
       "  target.id = id;\n",
       "  target.className = \"vega-embed\";\n",
       "\n",
       "  var style = document.createElement(\"style\");\n",
       "  style.textContent = [\n",
       "    \".vega-embed .error p {\",\n",
       "    \"  color: firebrick;\",\n",
       "    \"  font-size: 14px;\",\n",
       "    \"}\",\n",
       "  ].join(\"\\\\n\");\n",
       "\n",
       "  // element is a jQuery wrapped DOM element inside the output area\n",
       "  // see http://ipython.readthedocs.io/en/stable/api/generated/\\\n",
       "  // IPython.display.html#IPython.display.Javascript.__init__\n",
       "  element[0].appendChild(target);\n",
       "  element[0].appendChild(style);\n",
       "\n",
       "  vega.render(\"#\" + id, spec, type, opt, output_area);\n",
       "}, function (err) {\n",
       "  if (err.requireType !== \"scripterror\") {\n",
       "    throw(err);\n",
       "  }\n",
       "});\n"
      ],
      "text/plain": [
       "<vega.vegalite.VegaLite at 0x1164b9358>"
      ]
     },
     "metadata": {
      "jupyter-vega": "#e30ceb2f-27a5-45c6-9b8d-3eb47c784cd7"
     },
     "output_type": "display_data"
    },
    {
     "name": "stdout",
     "output_type": "stream",
     "text": [
      "temp_33.vl.json\n",
      "__temp__/temp_33.vl.json\n",
      "{'$schema': 'https://vega.github.io/schema/vega-lite/v3.json',\n",
      " 'data': {'values': [{'KEY': 'value_1', 'VALUE': 3.6623, 'value_2': 0.335},\n",
      "                     {'KEY': 'value_1', 'VALUE': 2.5681, 'value_2': 0.0426}]},\n",
      " 'encoding': {'color': {'aggregate': 'mean',\n",
      "                        'field': 'VALUE',\n",
      "                        'type': 'quantitative'},\n",
      "              'x': {'field': 'value_2', 'type': 'nominal'},\n",
      "              'y': {'field': 'KEY', 'type': 'nominal'}},\n",
      " 'mark': 'rect'}\n"
     ]
    },
    {
     "data": {
      "application/javascript": [
       "var spec = {\"encoding\": {\"y\": {\"type\": \"nominal\", \"field\": \"KEY\"}, \"x\": {\"type\": \"nominal\", \"field\": \"value_2\"}, \"color\": {\"type\": \"quantitative\", \"field\": \"VALUE\", \"aggregate\": \"mean\"}}, \"$schema\": \"https://vega.github.io/schema/vega-lite/v3.json\", \"mark\": \"rect\", \"data\": {\"values\": [{\"value_2\": 0.335, \"VALUE\": 3.6623, \"KEY\": \"value_1\"}, {\"value_2\": 0.0426, \"VALUE\": 2.5681, \"KEY\": \"value_1\"}]}};\n",
       "var opt = {};\n",
       "var type = \"vega-lite\";\n",
       "var id = \"b8b6cc19-df86-420a-a24b-4f5e2f160825\";\n",
       "\n",
       "var output_area = this;\n",
       "\n",
       "require([\"nbextensions/jupyter-vega/index\"], function(vega) {\n",
       "  var target = document.createElement(\"div\");\n",
       "  target.id = id;\n",
       "  target.className = \"vega-embed\";\n",
       "\n",
       "  var style = document.createElement(\"style\");\n",
       "  style.textContent = [\n",
       "    \".vega-embed .error p {\",\n",
       "    \"  color: firebrick;\",\n",
       "    \"  font-size: 14px;\",\n",
       "    \"}\",\n",
       "  ].join(\"\\\\n\");\n",
       "\n",
       "  // element is a jQuery wrapped DOM element inside the output area\n",
       "  // see http://ipython.readthedocs.io/en/stable/api/generated/\\\n",
       "  // IPython.display.html#IPython.display.Javascript.__init__\n",
       "  element[0].appendChild(target);\n",
       "  element[0].appendChild(style);\n",
       "\n",
       "  vega.render(\"#\" + id, spec, type, opt, output_area);\n",
       "}, function (err) {\n",
       "  if (err.requireType !== \"scripterror\") {\n",
       "    throw(err);\n",
       "  }\n",
       "});\n"
      ],
      "text/plain": [
       "<vega.vegalite.VegaLite at 0x1164b9390>"
      ]
     },
     "metadata": {
      "jupyter-vega": "#b8b6cc19-df86-420a-a24b-4f5e2f160825"
     },
     "output_type": "display_data"
    },
    {
     "name": "stdout",
     "output_type": "stream",
     "text": [
      "temp_34.vl.json\n",
      "__temp__/temp_34.vl.json\n",
      "{'$schema': 'https://vega.github.io/schema/vega-lite/v3.json',\n",
      " 'data': {'values': [{'KEY': 'value_1', 'VALUE': 3.6623, 'value_2': 0.335},\n",
      "                     {'KEY': 'value_1', 'VALUE': 2.5681, 'value_2': 0.0426}]},\n",
      " 'encoding': {'color': {'aggregate': 'mean',\n",
      "                        'field': 'value_2',\n",
      "                        'type': 'quantitative'},\n",
      "              'x': {'field': 'VALUE', 'type': 'nominal'},\n",
      "              'y': {'field': 'KEY', 'type': 'nominal'}},\n",
      " 'mark': 'rect'}\n"
     ]
    },
    {
     "data": {
      "application/javascript": [
       "var spec = {\"encoding\": {\"y\": {\"type\": \"nominal\", \"field\": \"KEY\"}, \"x\": {\"type\": \"nominal\", \"field\": \"VALUE\"}, \"color\": {\"type\": \"quantitative\", \"field\": \"value_2\", \"aggregate\": \"mean\"}}, \"$schema\": \"https://vega.github.io/schema/vega-lite/v3.json\", \"mark\": \"rect\", \"data\": {\"values\": [{\"value_2\": 0.335, \"VALUE\": 3.6623, \"KEY\": \"value_1\"}, {\"value_2\": 0.0426, \"VALUE\": 2.5681, \"KEY\": \"value_1\"}]}};\n",
       "var opt = {};\n",
       "var type = \"vega-lite\";\n",
       "var id = \"3c0e9f0b-4332-45d5-a858-3533623402e5\";\n",
       "\n",
       "var output_area = this;\n",
       "\n",
       "require([\"nbextensions/jupyter-vega/index\"], function(vega) {\n",
       "  var target = document.createElement(\"div\");\n",
       "  target.id = id;\n",
       "  target.className = \"vega-embed\";\n",
       "\n",
       "  var style = document.createElement(\"style\");\n",
       "  style.textContent = [\n",
       "    \".vega-embed .error p {\",\n",
       "    \"  color: firebrick;\",\n",
       "    \"  font-size: 14px;\",\n",
       "    \"}\",\n",
       "  ].join(\"\\\\n\");\n",
       "\n",
       "  // element is a jQuery wrapped DOM element inside the output area\n",
       "  // see http://ipython.readthedocs.io/en/stable/api/generated/\\\n",
       "  // IPython.display.html#IPython.display.Javascript.__init__\n",
       "  element[0].appendChild(target);\n",
       "  element[0].appendChild(style);\n",
       "\n",
       "  vega.render(\"#\" + id, spec, type, opt, output_area);\n",
       "}, function (err) {\n",
       "  if (err.requireType !== \"scripterror\") {\n",
       "    throw(err);\n",
       "  }\n",
       "});\n"
      ],
      "text/plain": [
       "<vega.vegalite.VegaLite at 0x1164b90b8>"
      ]
     },
     "metadata": {
      "jupyter-vega": "#3c0e9f0b-4332-45d5-a858-3533623402e5"
     },
     "output_type": "display_data"
    },
    {
     "name": "stdout",
     "output_type": "stream",
     "text": [
      "temp_35.vl.json\n",
      "__temp__/temp_35.vl.json\n",
      "{'$schema': 'https://vega.github.io/schema/vega-lite/v3.json',\n",
      " 'data': {'values': [{'KEY': 'value_1', 'VALUE': 3.6623, 'value_2': 0.335},\n",
      "                     {'KEY': 'value_1', 'VALUE': 2.5681, 'value_2': 0.0426}]},\n",
      " 'encoding': {'color': {'aggregate': 'mean',\n",
      "                        'field': 'value_2',\n",
      "                        'type': 'quantitative'},\n",
      "              'x': {'field': 'KEY', 'type': 'nominal'},\n",
      "              'y': {'field': 'VALUE', 'type': 'nominal'}},\n",
      " 'mark': 'rect'}\n"
     ]
    },
    {
     "data": {
      "application/javascript": [
       "var spec = {\"encoding\": {\"y\": {\"type\": \"nominal\", \"field\": \"VALUE\"}, \"x\": {\"type\": \"nominal\", \"field\": \"KEY\"}, \"color\": {\"type\": \"quantitative\", \"field\": \"value_2\", \"aggregate\": \"mean\"}}, \"$schema\": \"https://vega.github.io/schema/vega-lite/v3.json\", \"mark\": \"rect\", \"data\": {\"values\": [{\"value_2\": 0.335, \"VALUE\": 3.6623, \"KEY\": \"value_1\"}, {\"value_2\": 0.0426, \"VALUE\": 2.5681, \"KEY\": \"value_1\"}]}};\n",
       "var opt = {};\n",
       "var type = \"vega-lite\";\n",
       "var id = \"8260fc8a-1014-40b7-8043-06e4e70c3310\";\n",
       "\n",
       "var output_area = this;\n",
       "\n",
       "require([\"nbextensions/jupyter-vega/index\"], function(vega) {\n",
       "  var target = document.createElement(\"div\");\n",
       "  target.id = id;\n",
       "  target.className = \"vega-embed\";\n",
       "\n",
       "  var style = document.createElement(\"style\");\n",
       "  style.textContent = [\n",
       "    \".vega-embed .error p {\",\n",
       "    \"  color: firebrick;\",\n",
       "    \"  font-size: 14px;\",\n",
       "    \"}\",\n",
       "  ].join(\"\\\\n\");\n",
       "\n",
       "  // element is a jQuery wrapped DOM element inside the output area\n",
       "  // see http://ipython.readthedocs.io/en/stable/api/generated/\\\n",
       "  // IPython.display.html#IPython.display.Javascript.__init__\n",
       "  element[0].appendChild(target);\n",
       "  element[0].appendChild(style);\n",
       "\n",
       "  vega.render(\"#\" + id, spec, type, opt, output_area);\n",
       "}, function (err) {\n",
       "  if (err.requireType !== \"scripterror\") {\n",
       "    throw(err);\n",
       "  }\n",
       "});\n"
      ],
      "text/plain": [
       "<vega.vegalite.VegaLite at 0x1164b9320>"
      ]
     },
     "metadata": {
      "jupyter-vega": "#8260fc8a-1014-40b7-8043-06e4e70c3310"
     },
     "output_type": "display_data"
    },
    {
     "name": "stdout",
     "output_type": "stream",
     "text": [
      "temp_36.vl.json\n",
      "__temp__/temp_36.vl.json\n",
      "{'$schema': 'https://vega.github.io/schema/vega-lite/v3.json',\n",
      " 'data': {'values': [{'KEY': 'value_1', 'VALUE': 3.6623, 'value_2': 0.335},\n",
      "                     {'KEY': 'value_1', 'VALUE': 2.5681, 'value_2': 0.0426}]},\n",
      " 'encoding': {'color': {'aggregate': 'mean',\n",
      "                        'field': 'VALUE',\n",
      "                        'type': 'ordinal'},\n",
      "              'x': {'field': 'value_2', 'type': 'ordinal'},\n",
      "              'y': {'field': 'KEY', 'type': 'nominal'}},\n",
      " 'mark': 'rect'}\n"
     ]
    },
    {
     "data": {
      "application/javascript": [
       "var spec = {\"encoding\": {\"y\": {\"type\": \"nominal\", \"field\": \"KEY\"}, \"x\": {\"type\": \"ordinal\", \"field\": \"value_2\"}, \"color\": {\"type\": \"ordinal\", \"field\": \"VALUE\", \"aggregate\": \"mean\"}}, \"$schema\": \"https://vega.github.io/schema/vega-lite/v3.json\", \"mark\": \"rect\", \"data\": {\"values\": [{\"value_2\": 0.335, \"VALUE\": 3.6623, \"KEY\": \"value_1\"}, {\"value_2\": 0.0426, \"VALUE\": 2.5681, \"KEY\": \"value_1\"}]}};\n",
       "var opt = {};\n",
       "var type = \"vega-lite\";\n",
       "var id = \"5217230f-3131-4b81-b010-93d57606e9a8\";\n",
       "\n",
       "var output_area = this;\n",
       "\n",
       "require([\"nbextensions/jupyter-vega/index\"], function(vega) {\n",
       "  var target = document.createElement(\"div\");\n",
       "  target.id = id;\n",
       "  target.className = \"vega-embed\";\n",
       "\n",
       "  var style = document.createElement(\"style\");\n",
       "  style.textContent = [\n",
       "    \".vega-embed .error p {\",\n",
       "    \"  color: firebrick;\",\n",
       "    \"  font-size: 14px;\",\n",
       "    \"}\",\n",
       "  ].join(\"\\\\n\");\n",
       "\n",
       "  // element is a jQuery wrapped DOM element inside the output area\n",
       "  // see http://ipython.readthedocs.io/en/stable/api/generated/\\\n",
       "  // IPython.display.html#IPython.display.Javascript.__init__\n",
       "  element[0].appendChild(target);\n",
       "  element[0].appendChild(style);\n",
       "\n",
       "  vega.render(\"#\" + id, spec, type, opt, output_area);\n",
       "}, function (err) {\n",
       "  if (err.requireType !== \"scripterror\") {\n",
       "    throw(err);\n",
       "  }\n",
       "});\n"
      ],
      "text/plain": [
       "<vega.vegalite.VegaLite at 0x1164b9438>"
      ]
     },
     "metadata": {
      "jupyter-vega": "#5217230f-3131-4b81-b010-93d57606e9a8"
     },
     "output_type": "display_data"
    },
    {
     "name": "stdout",
     "output_type": "stream",
     "text": [
      "temp_37.vl.json\n",
      "__temp__/temp_37.vl.json\n",
      "{'$schema': 'https://vega.github.io/schema/vega-lite/v3.json',\n",
      " 'data': {'values': [{'KEY': 'value_1', 'VALUE': 3.6623, 'value_2': 0.335},\n",
      "                     {'KEY': 'value_1', 'VALUE': 2.5681, 'value_2': 0.0426}]},\n",
      " 'encoding': {'color': {'aggregate': 'mean',\n",
      "                        'field': 'value_2',\n",
      "                        'type': 'ordinal'},\n",
      "              'x': {'field': 'VALUE', 'type': 'ordinal'},\n",
      "              'y': {'field': 'KEY', 'type': 'nominal'}},\n",
      " 'mark': 'rect'}\n"
     ]
    },
    {
     "data": {
      "application/javascript": [
       "var spec = {\"encoding\": {\"y\": {\"type\": \"nominal\", \"field\": \"KEY\"}, \"x\": {\"type\": \"ordinal\", \"field\": \"VALUE\"}, \"color\": {\"type\": \"ordinal\", \"field\": \"value_2\", \"aggregate\": \"mean\"}}, \"$schema\": \"https://vega.github.io/schema/vega-lite/v3.json\", \"mark\": \"rect\", \"data\": {\"values\": [{\"value_2\": 0.335, \"VALUE\": 3.6623, \"KEY\": \"value_1\"}, {\"value_2\": 0.0426, \"VALUE\": 2.5681, \"KEY\": \"value_1\"}]}};\n",
       "var opt = {};\n",
       "var type = \"vega-lite\";\n",
       "var id = \"55acfc55-4c7a-41d6-ae56-75e51ae28961\";\n",
       "\n",
       "var output_area = this;\n",
       "\n",
       "require([\"nbextensions/jupyter-vega/index\"], function(vega) {\n",
       "  var target = document.createElement(\"div\");\n",
       "  target.id = id;\n",
       "  target.className = \"vega-embed\";\n",
       "\n",
       "  var style = document.createElement(\"style\");\n",
       "  style.textContent = [\n",
       "    \".vega-embed .error p {\",\n",
       "    \"  color: firebrick;\",\n",
       "    \"  font-size: 14px;\",\n",
       "    \"}\",\n",
       "  ].join(\"\\\\n\");\n",
       "\n",
       "  // element is a jQuery wrapped DOM element inside the output area\n",
       "  // see http://ipython.readthedocs.io/en/stable/api/generated/\\\n",
       "  // IPython.display.html#IPython.display.Javascript.__init__\n",
       "  element[0].appendChild(target);\n",
       "  element[0].appendChild(style);\n",
       "\n",
       "  vega.render(\"#\" + id, spec, type, opt, output_area);\n",
       "}, function (err) {\n",
       "  if (err.requireType !== \"scripterror\") {\n",
       "    throw(err);\n",
       "  }\n",
       "});\n"
      ],
      "text/plain": [
       "<vega.vegalite.VegaLite at 0x1164b90b8>"
      ]
     },
     "metadata": {
      "jupyter-vega": "#55acfc55-4c7a-41d6-ae56-75e51ae28961"
     },
     "output_type": "display_data"
    },
    {
     "name": "stdout",
     "output_type": "stream",
     "text": [
      "temp_38.vl.json\n",
      "__temp__/temp_38.vl.json\n",
      "{'$schema': 'https://vega.github.io/schema/vega-lite/v3.json',\n",
      " 'data': {'values': [{'KEY': 'value_1', 'VALUE': 3.6623, 'value_2': 0.335},\n",
      "                     {'KEY': 'value_1', 'VALUE': 2.5681, 'value_2': 0.0426}]},\n",
      " 'encoding': {'color': {'aggregate': None,\n",
      "                        'field': 'VALUE',\n",
      "                        'type': 'quantitative'},\n",
      "              'x': {'field': 'value_2', 'type': 'ordinal'},\n",
      "              'y': {'field': 'KEY', 'type': 'nominal'}},\n",
      " 'mark': 'rect'}\n"
     ]
    },
    {
     "data": {
      "application/javascript": [
       "var spec = {\"encoding\": {\"y\": {\"type\": \"nominal\", \"field\": \"KEY\"}, \"x\": {\"type\": \"ordinal\", \"field\": \"value_2\"}, \"color\": {\"type\": \"quantitative\", \"field\": \"VALUE\", \"aggregate\": null}}, \"$schema\": \"https://vega.github.io/schema/vega-lite/v3.json\", \"mark\": \"rect\", \"data\": {\"values\": [{\"value_2\": 0.335, \"VALUE\": 3.6623, \"KEY\": \"value_1\"}, {\"value_2\": 0.0426, \"VALUE\": 2.5681, \"KEY\": \"value_1\"}]}};\n",
       "var opt = {};\n",
       "var type = \"vega-lite\";\n",
       "var id = \"4d11f0c0-dee2-444d-bb2b-c2189ecadbf3\";\n",
       "\n",
       "var output_area = this;\n",
       "\n",
       "require([\"nbextensions/jupyter-vega/index\"], function(vega) {\n",
       "  var target = document.createElement(\"div\");\n",
       "  target.id = id;\n",
       "  target.className = \"vega-embed\";\n",
       "\n",
       "  var style = document.createElement(\"style\");\n",
       "  style.textContent = [\n",
       "    \".vega-embed .error p {\",\n",
       "    \"  color: firebrick;\",\n",
       "    \"  font-size: 14px;\",\n",
       "    \"}\",\n",
       "  ].join(\"\\\\n\");\n",
       "\n",
       "  // element is a jQuery wrapped DOM element inside the output area\n",
       "  // see http://ipython.readthedocs.io/en/stable/api/generated/\\\n",
       "  // IPython.display.html#IPython.display.Javascript.__init__\n",
       "  element[0].appendChild(target);\n",
       "  element[0].appendChild(style);\n",
       "\n",
       "  vega.render(\"#\" + id, spec, type, opt, output_area);\n",
       "}, function (err) {\n",
       "  if (err.requireType !== \"scripterror\") {\n",
       "    throw(err);\n",
       "  }\n",
       "});\n"
      ],
      "text/plain": [
       "<vega.vegalite.VegaLite at 0x1164b9080>"
      ]
     },
     "metadata": {
      "jupyter-vega": "#4d11f0c0-dee2-444d-bb2b-c2189ecadbf3"
     },
     "output_type": "display_data"
    },
    {
     "name": "stdout",
     "output_type": "stream",
     "text": [
      "temp_39.vl.json\n",
      "__temp__/temp_39.vl.json\n",
      "{'$schema': 'https://vega.github.io/schema/vega-lite/v3.json',\n",
      " 'data': {'values': [{'KEY': 'value_1', 'VALUE': 3.6623, 'value_2': 0.335},\n",
      "                     {'KEY': 'value_1', 'VALUE': 2.5681, 'value_2': 0.0426}]},\n",
      " 'encoding': {'color': {'aggregate': None,\n",
      "                        'field': 'value_2',\n",
      "                        'type': 'quantitative'},\n",
      "              'x': {'field': 'VALUE', 'type': 'ordinal'},\n",
      "              'y': {'field': 'KEY', 'type': 'nominal'}},\n",
      " 'mark': 'rect'}\n"
     ]
    },
    {
     "data": {
      "application/javascript": [
       "var spec = {\"encoding\": {\"y\": {\"type\": \"nominal\", \"field\": \"KEY\"}, \"x\": {\"type\": \"ordinal\", \"field\": \"VALUE\"}, \"color\": {\"type\": \"quantitative\", \"field\": \"value_2\", \"aggregate\": null}}, \"$schema\": \"https://vega.github.io/schema/vega-lite/v3.json\", \"mark\": \"rect\", \"data\": {\"values\": [{\"value_2\": 0.335, \"VALUE\": 3.6623, \"KEY\": \"value_1\"}, {\"value_2\": 0.0426, \"VALUE\": 2.5681, \"KEY\": \"value_1\"}]}};\n",
       "var opt = {};\n",
       "var type = \"vega-lite\";\n",
       "var id = \"a32a45ab-1cad-43d6-a2c0-af5e40ec8957\";\n",
       "\n",
       "var output_area = this;\n",
       "\n",
       "require([\"nbextensions/jupyter-vega/index\"], function(vega) {\n",
       "  var target = document.createElement(\"div\");\n",
       "  target.id = id;\n",
       "  target.className = \"vega-embed\";\n",
       "\n",
       "  var style = document.createElement(\"style\");\n",
       "  style.textContent = [\n",
       "    \".vega-embed .error p {\",\n",
       "    \"  color: firebrick;\",\n",
       "    \"  font-size: 14px;\",\n",
       "    \"}\",\n",
       "  ].join(\"\\\\n\");\n",
       "\n",
       "  // element is a jQuery wrapped DOM element inside the output area\n",
       "  // see http://ipython.readthedocs.io/en/stable/api/generated/\\\n",
       "  // IPython.display.html#IPython.display.Javascript.__init__\n",
       "  element[0].appendChild(target);\n",
       "  element[0].appendChild(style);\n",
       "\n",
       "  vega.render(\"#\" + id, spec, type, opt, output_area);\n",
       "}, function (err) {\n",
       "  if (err.requireType !== \"scripterror\") {\n",
       "    throw(err);\n",
       "  }\n",
       "});\n"
      ],
      "text/plain": [
       "<vega.vegalite.VegaLite at 0x1164b9048>"
      ]
     },
     "metadata": {
      "jupyter-vega": "#a32a45ab-1cad-43d6-a2c0-af5e40ec8957"
     },
     "output_type": "display_data"
    },
    {
     "name": "stdout",
     "output_type": "stream",
     "text": [
      "temp_4.vl.json\n",
      "__temp__/temp_4.vl.json\n",
      "{'$schema': 'https://vega.github.io/schema/vega-lite/v3.json',\n",
      " 'data': {'values': [{'KEY': 'gene', 'value_1': 3.6623, 'value_2': 0.335},\n",
      "                     {'KEY': 'gene', 'value_1': 2.5681, 'value_2': 0.0426}]},\n",
      " 'encoding': {'color': {'aggregate': 'mean',\n",
      "                        'field': 'value_2',\n",
      "                        'type': 'ordinal'},\n",
      "              'x': {'field': 'value_1', 'type': 'ordinal'},\n",
      "              'y': {'field': 'KEY', 'type': 'nominal'}},\n",
      " 'mark': 'rect'}\n"
     ]
    },
    {
     "data": {
      "application/javascript": [
       "var spec = {\"encoding\": {\"y\": {\"type\": \"nominal\", \"field\": \"KEY\"}, \"x\": {\"type\": \"ordinal\", \"field\": \"value_1\"}, \"color\": {\"type\": \"ordinal\", \"field\": \"value_2\", \"aggregate\": \"mean\"}}, \"$schema\": \"https://vega.github.io/schema/vega-lite/v3.json\", \"mark\": \"rect\", \"data\": {\"values\": [{\"value_2\": 0.335, \"KEY\": \"gene\", \"value_1\": 3.6623}, {\"value_2\": 0.0426, \"KEY\": \"gene\", \"value_1\": 2.5681}]}};\n",
       "var opt = {};\n",
       "var type = \"vega-lite\";\n",
       "var id = \"f73e5f13-3d58-439a-990f-30fd9123ca9b\";\n",
       "\n",
       "var output_area = this;\n",
       "\n",
       "require([\"nbextensions/jupyter-vega/index\"], function(vega) {\n",
       "  var target = document.createElement(\"div\");\n",
       "  target.id = id;\n",
       "  target.className = \"vega-embed\";\n",
       "\n",
       "  var style = document.createElement(\"style\");\n",
       "  style.textContent = [\n",
       "    \".vega-embed .error p {\",\n",
       "    \"  color: firebrick;\",\n",
       "    \"  font-size: 14px;\",\n",
       "    \"}\",\n",
       "  ].join(\"\\\\n\");\n",
       "\n",
       "  // element is a jQuery wrapped DOM element inside the output area\n",
       "  // see http://ipython.readthedocs.io/en/stable/api/generated/\\\n",
       "  // IPython.display.html#IPython.display.Javascript.__init__\n",
       "  element[0].appendChild(target);\n",
       "  element[0].appendChild(style);\n",
       "\n",
       "  vega.render(\"#\" + id, spec, type, opt, output_area);\n",
       "}, function (err) {\n",
       "  if (err.requireType !== \"scripterror\") {\n",
       "    throw(err);\n",
       "  }\n",
       "});\n"
      ],
      "text/plain": [
       "<vega.vegalite.VegaLite at 0x1164b9128>"
      ]
     },
     "metadata": {
      "jupyter-vega": "#f73e5f13-3d58-439a-990f-30fd9123ca9b"
     },
     "output_type": "display_data"
    },
    {
     "name": "stdout",
     "output_type": "stream",
     "text": [
      "temp_40.vl.json\n",
      "__temp__/temp_40.vl.json\n",
      "{'$schema': 'https://vega.github.io/schema/vega-lite/v3.json',\n",
      " 'data': {'values': [{'KEY': 'value_2',\n",
      "                      'gene': 'XLOC_000060',\n",
      "                      'value_1': 3.6623},\n",
      "                     {'KEY': 'value_2',\n",
      "                      'gene': 'XLOC_000074',\n",
      "                      'value_1': 2.5681}]},\n",
      " 'encoding': {'color': {'aggregate': 'mean',\n",
      "                        'field': 'value_1',\n",
      "                        'type': 'quantitative'},\n",
      "              'x': {'field': 'KEY', 'type': 'nominal'},\n",
      "              'y': {'field': 'gene', 'type': 'nominal'}},\n",
      " 'mark': 'rect'}\n"
     ]
    },
    {
     "data": {
      "application/javascript": [
       "var spec = {\"encoding\": {\"y\": {\"type\": \"nominal\", \"field\": \"gene\"}, \"x\": {\"type\": \"nominal\", \"field\": \"KEY\"}, \"color\": {\"type\": \"quantitative\", \"field\": \"value_1\", \"aggregate\": \"mean\"}}, \"$schema\": \"https://vega.github.io/schema/vega-lite/v3.json\", \"mark\": \"rect\", \"data\": {\"values\": [{\"value_1\": 3.6623, \"KEY\": \"value_2\", \"gene\": \"XLOC_000060\"}, {\"value_1\": 2.5681, \"KEY\": \"value_2\", \"gene\": \"XLOC_000074\"}]}};\n",
       "var opt = {};\n",
       "var type = \"vega-lite\";\n",
       "var id = \"d20f791c-2d6b-4f5d-973a-573c326195ba\";\n",
       "\n",
       "var output_area = this;\n",
       "\n",
       "require([\"nbextensions/jupyter-vega/index\"], function(vega) {\n",
       "  var target = document.createElement(\"div\");\n",
       "  target.id = id;\n",
       "  target.className = \"vega-embed\";\n",
       "\n",
       "  var style = document.createElement(\"style\");\n",
       "  style.textContent = [\n",
       "    \".vega-embed .error p {\",\n",
       "    \"  color: firebrick;\",\n",
       "    \"  font-size: 14px;\",\n",
       "    \"}\",\n",
       "  ].join(\"\\\\n\");\n",
       "\n",
       "  // element is a jQuery wrapped DOM element inside the output area\n",
       "  // see http://ipython.readthedocs.io/en/stable/api/generated/\\\n",
       "  // IPython.display.html#IPython.display.Javascript.__init__\n",
       "  element[0].appendChild(target);\n",
       "  element[0].appendChild(style);\n",
       "\n",
       "  vega.render(\"#\" + id, spec, type, opt, output_area);\n",
       "}, function (err) {\n",
       "  if (err.requireType !== \"scripterror\") {\n",
       "    throw(err);\n",
       "  }\n",
       "});\n"
      ],
      "text/plain": [
       "<vega.vegalite.VegaLite at 0x1164b9470>"
      ]
     },
     "metadata": {
      "jupyter-vega": "#d20f791c-2d6b-4f5d-973a-573c326195ba"
     },
     "output_type": "display_data"
    },
    {
     "name": "stdout",
     "output_type": "stream",
     "text": [
      "temp_41.vl.json\n",
      "__temp__/temp_41.vl.json\n",
      "{'$schema': 'https://vega.github.io/schema/vega-lite/v3.json',\n",
      " 'data': {'values': [{'KEY': 'value_2',\n",
      "                      'gene': 'XLOC_000060',\n",
      "                      'value_1': 3.6623},\n",
      "                     {'KEY': 'value_2',\n",
      "                      'gene': 'XLOC_000074',\n",
      "                      'value_1': 2.5681}]},\n",
      " 'encoding': {'color': {'aggregate': 'mean',\n",
      "                        'field': 'value_1',\n",
      "                        'type': 'quantitative'},\n",
      "              'x': {'field': 'gene', 'type': 'nominal'},\n",
      "              'y': {'field': 'KEY', 'type': 'nominal'}},\n",
      " 'mark': 'rect'}\n"
     ]
    },
    {
     "data": {
      "application/javascript": [
       "var spec = {\"encoding\": {\"y\": {\"type\": \"nominal\", \"field\": \"KEY\"}, \"x\": {\"type\": \"nominal\", \"field\": \"gene\"}, \"color\": {\"type\": \"quantitative\", \"field\": \"value_1\", \"aggregate\": \"mean\"}}, \"$schema\": \"https://vega.github.io/schema/vega-lite/v3.json\", \"mark\": \"rect\", \"data\": {\"values\": [{\"value_1\": 3.6623, \"KEY\": \"value_2\", \"gene\": \"XLOC_000060\"}, {\"value_1\": 2.5681, \"KEY\": \"value_2\", \"gene\": \"XLOC_000074\"}]}};\n",
       "var opt = {};\n",
       "var type = \"vega-lite\";\n",
       "var id = \"19e55708-1624-4e7a-bdef-d27efbf9a7bb\";\n",
       "\n",
       "var output_area = this;\n",
       "\n",
       "require([\"nbextensions/jupyter-vega/index\"], function(vega) {\n",
       "  var target = document.createElement(\"div\");\n",
       "  target.id = id;\n",
       "  target.className = \"vega-embed\";\n",
       "\n",
       "  var style = document.createElement(\"style\");\n",
       "  style.textContent = [\n",
       "    \".vega-embed .error p {\",\n",
       "    \"  color: firebrick;\",\n",
       "    \"  font-size: 14px;\",\n",
       "    \"}\",\n",
       "  ].join(\"\\\\n\");\n",
       "\n",
       "  // element is a jQuery wrapped DOM element inside the output area\n",
       "  // see http://ipython.readthedocs.io/en/stable/api/generated/\\\n",
       "  // IPython.display.html#IPython.display.Javascript.__init__\n",
       "  element[0].appendChild(target);\n",
       "  element[0].appendChild(style);\n",
       "\n",
       "  vega.render(\"#\" + id, spec, type, opt, output_area);\n",
       "}, function (err) {\n",
       "  if (err.requireType !== \"scripterror\") {\n",
       "    throw(err);\n",
       "  }\n",
       "});\n"
      ],
      "text/plain": [
       "<vega.vegalite.VegaLite at 0x1164b9588>"
      ]
     },
     "metadata": {
      "jupyter-vega": "#19e55708-1624-4e7a-bdef-d27efbf9a7bb"
     },
     "output_type": "display_data"
    },
    {
     "name": "stdout",
     "output_type": "stream",
     "text": [
      "temp_42.vl.json\n",
      "__temp__/temp_42.vl.json\n",
      "{'$schema': 'https://vega.github.io/schema/vega-lite/v3.json',\n",
      " 'data': {'values': [{'VALUE': 0.335, 'gene': 'XLOC_000060', 'value_1': 3.6623},\n",
      "                     {'VALUE': 0.0426,\n",
      "                      'gene': 'XLOC_000074',\n",
      "                      'value_1': 2.5681}]},\n",
      " 'encoding': {'color': {'aggregate': 'mean',\n",
      "                        'field': 'VALUE',\n",
      "                        'type': 'quantitative'},\n",
      "              'x': {'field': 'value_1', 'type': 'nominal'},\n",
      "              'y': {'field': 'gene', 'type': 'nominal'}},\n",
      " 'mark': 'rect'}\n"
     ]
    },
    {
     "data": {
      "application/javascript": [
       "var spec = {\"encoding\": {\"y\": {\"type\": \"nominal\", \"field\": \"gene\"}, \"x\": {\"type\": \"nominal\", \"field\": \"value_1\"}, \"color\": {\"type\": \"quantitative\", \"field\": \"VALUE\", \"aggregate\": \"mean\"}}, \"$schema\": \"https://vega.github.io/schema/vega-lite/v3.json\", \"mark\": \"rect\", \"data\": {\"values\": [{\"value_1\": 3.6623, \"VALUE\": 0.335, \"gene\": \"XLOC_000060\"}, {\"value_1\": 2.5681, \"VALUE\": 0.0426, \"gene\": \"XLOC_000074\"}]}};\n",
       "var opt = {};\n",
       "var type = \"vega-lite\";\n",
       "var id = \"d5e09d79-f203-44a7-91c7-97ce7bac37fd\";\n",
       "\n",
       "var output_area = this;\n",
       "\n",
       "require([\"nbextensions/jupyter-vega/index\"], function(vega) {\n",
       "  var target = document.createElement(\"div\");\n",
       "  target.id = id;\n",
       "  target.className = \"vega-embed\";\n",
       "\n",
       "  var style = document.createElement(\"style\");\n",
       "  style.textContent = [\n",
       "    \".vega-embed .error p {\",\n",
       "    \"  color: firebrick;\",\n",
       "    \"  font-size: 14px;\",\n",
       "    \"}\",\n",
       "  ].join(\"\\\\n\");\n",
       "\n",
       "  // element is a jQuery wrapped DOM element inside the output area\n",
       "  // see http://ipython.readthedocs.io/en/stable/api/generated/\\\n",
       "  // IPython.display.html#IPython.display.Javascript.__init__\n",
       "  element[0].appendChild(target);\n",
       "  element[0].appendChild(style);\n",
       "\n",
       "  vega.render(\"#\" + id, spec, type, opt, output_area);\n",
       "}, function (err) {\n",
       "  if (err.requireType !== \"scripterror\") {\n",
       "    throw(err);\n",
       "  }\n",
       "});\n"
      ],
      "text/plain": [
       "<vega.vegalite.VegaLite at 0x1164b9748>"
      ]
     },
     "metadata": {
      "jupyter-vega": "#d5e09d79-f203-44a7-91c7-97ce7bac37fd"
     },
     "output_type": "display_data"
    },
    {
     "name": "stdout",
     "output_type": "stream",
     "text": [
      "temp_43.vl.json\n",
      "__temp__/temp_43.vl.json\n",
      "{'$schema': 'https://vega.github.io/schema/vega-lite/v3.json',\n",
      " 'data': {'values': [{'VALUE': 0.335, 'gene': 'XLOC_000060', 'value_1': 3.6623},\n",
      "                     {'VALUE': 0.0426,\n",
      "                      'gene': 'XLOC_000074',\n",
      "                      'value_1': 2.5681}]},\n",
      " 'encoding': {'color': {'aggregate': 'mean',\n",
      "                        'field': 'value_1',\n",
      "                        'type': 'quantitative'},\n",
      "              'x': {'field': 'VALUE', 'type': 'nominal'},\n",
      "              'y': {'field': 'gene', 'type': 'nominal'}},\n",
      " 'mark': 'rect'}\n"
     ]
    },
    {
     "data": {
      "application/javascript": [
       "var spec = {\"encoding\": {\"y\": {\"type\": \"nominal\", \"field\": \"gene\"}, \"x\": {\"type\": \"nominal\", \"field\": \"VALUE\"}, \"color\": {\"type\": \"quantitative\", \"field\": \"value_1\", \"aggregate\": \"mean\"}}, \"$schema\": \"https://vega.github.io/schema/vega-lite/v3.json\", \"mark\": \"rect\", \"data\": {\"values\": [{\"value_1\": 3.6623, \"VALUE\": 0.335, \"gene\": \"XLOC_000060\"}, {\"value_1\": 2.5681, \"VALUE\": 0.0426, \"gene\": \"XLOC_000074\"}]}};\n",
       "var opt = {};\n",
       "var type = \"vega-lite\";\n",
       "var id = \"35511b64-c266-44a6-a607-14a5a3f22080\";\n",
       "\n",
       "var output_area = this;\n",
       "\n",
       "require([\"nbextensions/jupyter-vega/index\"], function(vega) {\n",
       "  var target = document.createElement(\"div\");\n",
       "  target.id = id;\n",
       "  target.className = \"vega-embed\";\n",
       "\n",
       "  var style = document.createElement(\"style\");\n",
       "  style.textContent = [\n",
       "    \".vega-embed .error p {\",\n",
       "    \"  color: firebrick;\",\n",
       "    \"  font-size: 14px;\",\n",
       "    \"}\",\n",
       "  ].join(\"\\\\n\");\n",
       "\n",
       "  // element is a jQuery wrapped DOM element inside the output area\n",
       "  // see http://ipython.readthedocs.io/en/stable/api/generated/\\\n",
       "  // IPython.display.html#IPython.display.Javascript.__init__\n",
       "  element[0].appendChild(target);\n",
       "  element[0].appendChild(style);\n",
       "\n",
       "  vega.render(\"#\" + id, spec, type, opt, output_area);\n",
       "}, function (err) {\n",
       "  if (err.requireType !== \"scripterror\") {\n",
       "    throw(err);\n",
       "  }\n",
       "});\n"
      ],
      "text/plain": [
       "<vega.vegalite.VegaLite at 0x1164b93c8>"
      ]
     },
     "metadata": {
      "jupyter-vega": "#35511b64-c266-44a6-a607-14a5a3f22080"
     },
     "output_type": "display_data"
    },
    {
     "name": "stdout",
     "output_type": "stream",
     "text": [
      "temp_44.vl.json\n",
      "__temp__/temp_44.vl.json\n",
      "{'$schema': 'https://vega.github.io/schema/vega-lite/v3.json',\n",
      " 'data': {'values': [{'VALUE': 0.335, 'gene': 'XLOC_000060', 'value_1': 3.6623},\n",
      "                     {'VALUE': 0.0426,\n",
      "                      'gene': 'XLOC_000074',\n",
      "                      'value_1': 2.5681}]},\n",
      " 'encoding': {'color': {'aggregate': 'mean',\n",
      "                        'field': 'VALUE',\n",
      "                        'type': 'quantitative'},\n",
      "              'x': {'field': 'gene', 'type': 'nominal'},\n",
      "              'y': {'field': 'value_1', 'type': 'nominal'}},\n",
      " 'mark': 'rect'}\n"
     ]
    },
    {
     "data": {
      "application/javascript": [
       "var spec = {\"encoding\": {\"y\": {\"type\": \"nominal\", \"field\": \"value_1\"}, \"x\": {\"type\": \"nominal\", \"field\": \"gene\"}, \"color\": {\"type\": \"quantitative\", \"field\": \"VALUE\", \"aggregate\": \"mean\"}}, \"$schema\": \"https://vega.github.io/schema/vega-lite/v3.json\", \"mark\": \"rect\", \"data\": {\"values\": [{\"value_1\": 3.6623, \"VALUE\": 0.335, \"gene\": \"XLOC_000060\"}, {\"value_1\": 2.5681, \"VALUE\": 0.0426, \"gene\": \"XLOC_000074\"}]}};\n",
       "var opt = {};\n",
       "var type = \"vega-lite\";\n",
       "var id = \"847f51d6-b1da-42d6-8b23-8204bc5eedee\";\n",
       "\n",
       "var output_area = this;\n",
       "\n",
       "require([\"nbextensions/jupyter-vega/index\"], function(vega) {\n",
       "  var target = document.createElement(\"div\");\n",
       "  target.id = id;\n",
       "  target.className = \"vega-embed\";\n",
       "\n",
       "  var style = document.createElement(\"style\");\n",
       "  style.textContent = [\n",
       "    \".vega-embed .error p {\",\n",
       "    \"  color: firebrick;\",\n",
       "    \"  font-size: 14px;\",\n",
       "    \"}\",\n",
       "  ].join(\"\\\\n\");\n",
       "\n",
       "  // element is a jQuery wrapped DOM element inside the output area\n",
       "  // see http://ipython.readthedocs.io/en/stable/api/generated/\\\n",
       "  // IPython.display.html#IPython.display.Javascript.__init__\n",
       "  element[0].appendChild(target);\n",
       "  element[0].appendChild(style);\n",
       "\n",
       "  vega.render(\"#\" + id, spec, type, opt, output_area);\n",
       "}, function (err) {\n",
       "  if (err.requireType !== \"scripterror\") {\n",
       "    throw(err);\n",
       "  }\n",
       "});\n"
      ],
      "text/plain": [
       "<vega.vegalite.VegaLite at 0x1164b9588>"
      ]
     },
     "metadata": {
      "jupyter-vega": "#847f51d6-b1da-42d6-8b23-8204bc5eedee"
     },
     "output_type": "display_data"
    },
    {
     "name": "stdout",
     "output_type": "stream",
     "text": [
      "temp_45.vl.json\n",
      "__temp__/temp_45.vl.json\n",
      "{'$schema': 'https://vega.github.io/schema/vega-lite/v3.json',\n",
      " 'data': {'values': [{'VALUE': 0.335, 'gene': 'XLOC_000060', 'value_1': 3.6623},\n",
      "                     {'VALUE': 0.0426,\n",
      "                      'gene': 'XLOC_000074',\n",
      "                      'value_1': 2.5681}]},\n",
      " 'encoding': {'color': {'aggregate': 'mean',\n",
      "                        'field': 'value_1',\n",
      "                        'type': 'quantitative'},\n",
      "              'x': {'field': 'gene', 'type': 'nominal'},\n",
      "              'y': {'field': 'VALUE', 'type': 'nominal'}},\n",
      " 'mark': 'rect'}\n"
     ]
    },
    {
     "data": {
      "application/javascript": [
       "var spec = {\"encoding\": {\"y\": {\"type\": \"nominal\", \"field\": \"VALUE\"}, \"x\": {\"type\": \"nominal\", \"field\": \"gene\"}, \"color\": {\"type\": \"quantitative\", \"field\": \"value_1\", \"aggregate\": \"mean\"}}, \"$schema\": \"https://vega.github.io/schema/vega-lite/v3.json\", \"mark\": \"rect\", \"data\": {\"values\": [{\"value_1\": 3.6623, \"VALUE\": 0.335, \"gene\": \"XLOC_000060\"}, {\"value_1\": 2.5681, \"VALUE\": 0.0426, \"gene\": \"XLOC_000074\"}]}};\n",
       "var opt = {};\n",
       "var type = \"vega-lite\";\n",
       "var id = \"86452811-c756-4856-a379-d72237b804a6\";\n",
       "\n",
       "var output_area = this;\n",
       "\n",
       "require([\"nbextensions/jupyter-vega/index\"], function(vega) {\n",
       "  var target = document.createElement(\"div\");\n",
       "  target.id = id;\n",
       "  target.className = \"vega-embed\";\n",
       "\n",
       "  var style = document.createElement(\"style\");\n",
       "  style.textContent = [\n",
       "    \".vega-embed .error p {\",\n",
       "    \"  color: firebrick;\",\n",
       "    \"  font-size: 14px;\",\n",
       "    \"}\",\n",
       "  ].join(\"\\\\n\");\n",
       "\n",
       "  // element is a jQuery wrapped DOM element inside the output area\n",
       "  // see http://ipython.readthedocs.io/en/stable/api/generated/\\\n",
       "  // IPython.display.html#IPython.display.Javascript.__init__\n",
       "  element[0].appendChild(target);\n",
       "  element[0].appendChild(style);\n",
       "\n",
       "  vega.render(\"#\" + id, spec, type, opt, output_area);\n",
       "}, function (err) {\n",
       "  if (err.requireType !== \"scripterror\") {\n",
       "    throw(err);\n",
       "  }\n",
       "});\n"
      ],
      "text/plain": [
       "<vega.vegalite.VegaLite at 0x1164b9630>"
      ]
     },
     "metadata": {
      "jupyter-vega": "#86452811-c756-4856-a379-d72237b804a6"
     },
     "output_type": "display_data"
    },
    {
     "name": "stdout",
     "output_type": "stream",
     "text": [
      "temp_46.vl.json\n",
      "__temp__/temp_46.vl.json\n",
      "{'$schema': 'https://vega.github.io/schema/vega-lite/v3.json',\n",
      " 'data': {'values': [{'VALUE': 0.335, 'gene': 'XLOC_000060', 'value_1': 3.6623},\n",
      "                     {'VALUE': 0.0426,\n",
      "                      'gene': 'XLOC_000074',\n",
      "                      'value_1': 2.5681}]},\n",
      " 'encoding': {'color': {'aggregate': 'mean',\n",
      "                        'field': 'VALUE',\n",
      "                        'type': 'ordinal'},\n",
      "              'x': {'field': 'value_1', 'type': 'ordinal'},\n",
      "              'y': {'field': 'gene', 'type': 'nominal'}},\n",
      " 'mark': 'rect'}\n"
     ]
    },
    {
     "data": {
      "application/javascript": [
       "var spec = {\"encoding\": {\"y\": {\"type\": \"nominal\", \"field\": \"gene\"}, \"x\": {\"type\": \"ordinal\", \"field\": \"value_1\"}, \"color\": {\"type\": \"ordinal\", \"field\": \"VALUE\", \"aggregate\": \"mean\"}}, \"$schema\": \"https://vega.github.io/schema/vega-lite/v3.json\", \"mark\": \"rect\", \"data\": {\"values\": [{\"value_1\": 3.6623, \"VALUE\": 0.335, \"gene\": \"XLOC_000060\"}, {\"value_1\": 2.5681, \"VALUE\": 0.0426, \"gene\": \"XLOC_000074\"}]}};\n",
       "var opt = {};\n",
       "var type = \"vega-lite\";\n",
       "var id = \"fbbc8d29-cfa6-4fef-94e7-16e51fdec6bf\";\n",
       "\n",
       "var output_area = this;\n",
       "\n",
       "require([\"nbextensions/jupyter-vega/index\"], function(vega) {\n",
       "  var target = document.createElement(\"div\");\n",
       "  target.id = id;\n",
       "  target.className = \"vega-embed\";\n",
       "\n",
       "  var style = document.createElement(\"style\");\n",
       "  style.textContent = [\n",
       "    \".vega-embed .error p {\",\n",
       "    \"  color: firebrick;\",\n",
       "    \"  font-size: 14px;\",\n",
       "    \"}\",\n",
       "  ].join(\"\\\\n\");\n",
       "\n",
       "  // element is a jQuery wrapped DOM element inside the output area\n",
       "  // see http://ipython.readthedocs.io/en/stable/api/generated/\\\n",
       "  // IPython.display.html#IPython.display.Javascript.__init__\n",
       "  element[0].appendChild(target);\n",
       "  element[0].appendChild(style);\n",
       "\n",
       "  vega.render(\"#\" + id, spec, type, opt, output_area);\n",
       "}, function (err) {\n",
       "  if (err.requireType !== \"scripterror\") {\n",
       "    throw(err);\n",
       "  }\n",
       "});\n"
      ],
      "text/plain": [
       "<vega.vegalite.VegaLite at 0x1164b90f0>"
      ]
     },
     "metadata": {
      "jupyter-vega": "#fbbc8d29-cfa6-4fef-94e7-16e51fdec6bf"
     },
     "output_type": "display_data"
    },
    {
     "name": "stdout",
     "output_type": "stream",
     "text": [
      "temp_47.vl.json\n",
      "__temp__/temp_47.vl.json\n",
      "{'$schema': 'https://vega.github.io/schema/vega-lite/v3.json',\n",
      " 'data': {'values': [{'VALUE': 0.335, 'gene': 'XLOC_000060', 'value_1': 3.6623},\n",
      "                     {'VALUE': 0.0426,\n",
      "                      'gene': 'XLOC_000074',\n",
      "                      'value_1': 2.5681}]},\n",
      " 'encoding': {'color': {'aggregate': 'mean',\n",
      "                        'field': 'value_1',\n",
      "                        'type': 'ordinal'},\n",
      "              'x': {'field': 'VALUE', 'type': 'ordinal'},\n",
      "              'y': {'field': 'gene', 'type': 'nominal'}},\n",
      " 'mark': 'rect'}\n"
     ]
    },
    {
     "data": {
      "application/javascript": [
       "var spec = {\"encoding\": {\"y\": {\"type\": \"nominal\", \"field\": \"gene\"}, \"x\": {\"type\": \"ordinal\", \"field\": \"VALUE\"}, \"color\": {\"type\": \"ordinal\", \"field\": \"value_1\", \"aggregate\": \"mean\"}}, \"$schema\": \"https://vega.github.io/schema/vega-lite/v3.json\", \"mark\": \"rect\", \"data\": {\"values\": [{\"value_1\": 3.6623, \"VALUE\": 0.335, \"gene\": \"XLOC_000060\"}, {\"value_1\": 2.5681, \"VALUE\": 0.0426, \"gene\": \"XLOC_000074\"}]}};\n",
       "var opt = {};\n",
       "var type = \"vega-lite\";\n",
       "var id = \"fc3b74c9-f2b1-4d3b-b621-058b197c42b7\";\n",
       "\n",
       "var output_area = this;\n",
       "\n",
       "require([\"nbextensions/jupyter-vega/index\"], function(vega) {\n",
       "  var target = document.createElement(\"div\");\n",
       "  target.id = id;\n",
       "  target.className = \"vega-embed\";\n",
       "\n",
       "  var style = document.createElement(\"style\");\n",
       "  style.textContent = [\n",
       "    \".vega-embed .error p {\",\n",
       "    \"  color: firebrick;\",\n",
       "    \"  font-size: 14px;\",\n",
       "    \"}\",\n",
       "  ].join(\"\\\\n\");\n",
       "\n",
       "  // element is a jQuery wrapped DOM element inside the output area\n",
       "  // see http://ipython.readthedocs.io/en/stable/api/generated/\\\n",
       "  // IPython.display.html#IPython.display.Javascript.__init__\n",
       "  element[0].appendChild(target);\n",
       "  element[0].appendChild(style);\n",
       "\n",
       "  vega.render(\"#\" + id, spec, type, opt, output_area);\n",
       "}, function (err) {\n",
       "  if (err.requireType !== \"scripterror\") {\n",
       "    throw(err);\n",
       "  }\n",
       "});\n"
      ],
      "text/plain": [
       "<vega.vegalite.VegaLite at 0x1164b94a8>"
      ]
     },
     "metadata": {
      "jupyter-vega": "#fc3b74c9-f2b1-4d3b-b621-058b197c42b7"
     },
     "output_type": "display_data"
    },
    {
     "name": "stdout",
     "output_type": "stream",
     "text": [
      "temp_48.vl.json\n",
      "__temp__/temp_48.vl.json\n",
      "{'$schema': 'https://vega.github.io/schema/vega-lite/v3.json',\n",
      " 'data': {'values': [{'VALUE': 0.335, 'gene': 'XLOC_000060', 'value_1': 3.6623},\n",
      "                     {'VALUE': 0.0426,\n",
      "                      'gene': 'XLOC_000074',\n",
      "                      'value_1': 2.5681}]},\n",
      " 'encoding': {'color': {'aggregate': None,\n",
      "                        'field': 'VALUE',\n",
      "                        'type': 'quantitative'},\n",
      "              'x': {'field': 'value_1', 'type': 'ordinal'},\n",
      "              'y': {'field': 'gene', 'type': 'nominal'}},\n",
      " 'mark': 'rect'}\n"
     ]
    },
    {
     "data": {
      "application/javascript": [
       "var spec = {\"encoding\": {\"y\": {\"type\": \"nominal\", \"field\": \"gene\"}, \"x\": {\"type\": \"ordinal\", \"field\": \"value_1\"}, \"color\": {\"type\": \"quantitative\", \"field\": \"VALUE\", \"aggregate\": null}}, \"$schema\": \"https://vega.github.io/schema/vega-lite/v3.json\", \"mark\": \"rect\", \"data\": {\"values\": [{\"value_1\": 3.6623, \"VALUE\": 0.335, \"gene\": \"XLOC_000060\"}, {\"value_1\": 2.5681, \"VALUE\": 0.0426, \"gene\": \"XLOC_000074\"}]}};\n",
       "var opt = {};\n",
       "var type = \"vega-lite\";\n",
       "var id = \"8f5ebd44-63b2-4d2f-abf0-f72ad33a59d7\";\n",
       "\n",
       "var output_area = this;\n",
       "\n",
       "require([\"nbextensions/jupyter-vega/index\"], function(vega) {\n",
       "  var target = document.createElement(\"div\");\n",
       "  target.id = id;\n",
       "  target.className = \"vega-embed\";\n",
       "\n",
       "  var style = document.createElement(\"style\");\n",
       "  style.textContent = [\n",
       "    \".vega-embed .error p {\",\n",
       "    \"  color: firebrick;\",\n",
       "    \"  font-size: 14px;\",\n",
       "    \"}\",\n",
       "  ].join(\"\\\\n\");\n",
       "\n",
       "  // element is a jQuery wrapped DOM element inside the output area\n",
       "  // see http://ipython.readthedocs.io/en/stable/api/generated/\\\n",
       "  // IPython.display.html#IPython.display.Javascript.__init__\n",
       "  element[0].appendChild(target);\n",
       "  element[0].appendChild(style);\n",
       "\n",
       "  vega.render(\"#\" + id, spec, type, opt, output_area);\n",
       "}, function (err) {\n",
       "  if (err.requireType !== \"scripterror\") {\n",
       "    throw(err);\n",
       "  }\n",
       "});\n"
      ],
      "text/plain": [
       "<vega.vegalite.VegaLite at 0x1164b90b8>"
      ]
     },
     "metadata": {
      "jupyter-vega": "#8f5ebd44-63b2-4d2f-abf0-f72ad33a59d7"
     },
     "output_type": "display_data"
    },
    {
     "name": "stdout",
     "output_type": "stream",
     "text": [
      "temp_49.vl.json\n",
      "__temp__/temp_49.vl.json\n",
      "{'$schema': 'https://vega.github.io/schema/vega-lite/v3.json',\n",
      " 'data': {'values': [{'VALUE': 0.335, 'gene': 'XLOC_000060', 'value_1': 3.6623},\n",
      "                     {'VALUE': 0.0426,\n",
      "                      'gene': 'XLOC_000074',\n",
      "                      'value_1': 2.5681}]},\n",
      " 'encoding': {'color': {'aggregate': None,\n",
      "                        'field': 'value_1',\n",
      "                        'type': 'quantitative'},\n",
      "              'x': {'field': 'VALUE', 'type': 'ordinal'},\n",
      "              'y': {'field': 'gene', 'type': 'nominal'}},\n",
      " 'mark': 'rect'}\n"
     ]
    },
    {
     "data": {
      "application/javascript": [
       "var spec = {\"encoding\": {\"y\": {\"type\": \"nominal\", \"field\": \"gene\"}, \"x\": {\"type\": \"ordinal\", \"field\": \"VALUE\"}, \"color\": {\"type\": \"quantitative\", \"field\": \"value_1\", \"aggregate\": null}}, \"$schema\": \"https://vega.github.io/schema/vega-lite/v3.json\", \"mark\": \"rect\", \"data\": {\"values\": [{\"value_1\": 3.6623, \"VALUE\": 0.335, \"gene\": \"XLOC_000060\"}, {\"value_1\": 2.5681, \"VALUE\": 0.0426, \"gene\": \"XLOC_000074\"}]}};\n",
       "var opt = {};\n",
       "var type = \"vega-lite\";\n",
       "var id = \"5da14285-f71c-4eb1-9422-e0f2b69d01e1\";\n",
       "\n",
       "var output_area = this;\n",
       "\n",
       "require([\"nbextensions/jupyter-vega/index\"], function(vega) {\n",
       "  var target = document.createElement(\"div\");\n",
       "  target.id = id;\n",
       "  target.className = \"vega-embed\";\n",
       "\n",
       "  var style = document.createElement(\"style\");\n",
       "  style.textContent = [\n",
       "    \".vega-embed .error p {\",\n",
       "    \"  color: firebrick;\",\n",
       "    \"  font-size: 14px;\",\n",
       "    \"}\",\n",
       "  ].join(\"\\\\n\");\n",
       "\n",
       "  // element is a jQuery wrapped DOM element inside the output area\n",
       "  // see http://ipython.readthedocs.io/en/stable/api/generated/\\\n",
       "  // IPython.display.html#IPython.display.Javascript.__init__\n",
       "  element[0].appendChild(target);\n",
       "  element[0].appendChild(style);\n",
       "\n",
       "  vega.render(\"#\" + id, spec, type, opt, output_area);\n",
       "}, function (err) {\n",
       "  if (err.requireType !== \"scripterror\") {\n",
       "    throw(err);\n",
       "  }\n",
       "});\n"
      ],
      "text/plain": [
       "<vega.vegalite.VegaLite at 0x1164b97f0>"
      ]
     },
     "metadata": {
      "jupyter-vega": "#5da14285-f71c-4eb1-9422-e0f2b69d01e1"
     },
     "output_type": "display_data"
    },
    {
     "name": "stdout",
     "output_type": "stream",
     "text": [
      "temp_5.vl.json\n",
      "__temp__/temp_5.vl.json\n",
      "{'$schema': 'https://vega.github.io/schema/vega-lite/v3.json',\n",
      " 'data': {'values': [{'KEY': 'gene', 'value_1': 3.6623, 'value_2': 0.335},\n",
      "                     {'KEY': 'gene', 'value_1': 2.5681, 'value_2': 0.0426}]},\n",
      " 'encoding': {'color': {'aggregate': 'mean',\n",
      "                        'field': 'value_1',\n",
      "                        'type': 'ordinal'},\n",
      "              'x': {'field': 'value_2', 'type': 'ordinal'},\n",
      "              'y': {'field': 'KEY', 'type': 'nominal'}},\n",
      " 'mark': 'rect'}\n"
     ]
    },
    {
     "data": {
      "application/javascript": [
       "var spec = {\"encoding\": {\"y\": {\"type\": \"nominal\", \"field\": \"KEY\"}, \"x\": {\"type\": \"ordinal\", \"field\": \"value_2\"}, \"color\": {\"type\": \"ordinal\", \"field\": \"value_1\", \"aggregate\": \"mean\"}}, \"$schema\": \"https://vega.github.io/schema/vega-lite/v3.json\", \"mark\": \"rect\", \"data\": {\"values\": [{\"value_2\": 0.335, \"KEY\": \"gene\", \"value_1\": 3.6623}, {\"value_2\": 0.0426, \"KEY\": \"gene\", \"value_1\": 2.5681}]}};\n",
       "var opt = {};\n",
       "var type = \"vega-lite\";\n",
       "var id = \"0191a18e-d32f-4e45-a01c-13f8073d4b88\";\n",
       "\n",
       "var output_area = this;\n",
       "\n",
       "require([\"nbextensions/jupyter-vega/index\"], function(vega) {\n",
       "  var target = document.createElement(\"div\");\n",
       "  target.id = id;\n",
       "  target.className = \"vega-embed\";\n",
       "\n",
       "  var style = document.createElement(\"style\");\n",
       "  style.textContent = [\n",
       "    \".vega-embed .error p {\",\n",
       "    \"  color: firebrick;\",\n",
       "    \"  font-size: 14px;\",\n",
       "    \"}\",\n",
       "  ].join(\"\\\\n\");\n",
       "\n",
       "  // element is a jQuery wrapped DOM element inside the output area\n",
       "  // see http://ipython.readthedocs.io/en/stable/api/generated/\\\n",
       "  // IPython.display.html#IPython.display.Javascript.__init__\n",
       "  element[0].appendChild(target);\n",
       "  element[0].appendChild(style);\n",
       "\n",
       "  vega.render(\"#\" + id, spec, type, opt, output_area);\n",
       "}, function (err) {\n",
       "  if (err.requireType !== \"scripterror\") {\n",
       "    throw(err);\n",
       "  }\n",
       "});\n"
      ],
      "text/plain": [
       "<vega.vegalite.VegaLite at 0x1164b90b8>"
      ]
     },
     "metadata": {
      "jupyter-vega": "#0191a18e-d32f-4e45-a01c-13f8073d4b88"
     },
     "output_type": "display_data"
    },
    {
     "name": "stdout",
     "output_type": "stream",
     "text": [
      "temp_50.vl.json\n",
      "__temp__/temp_50.vl.json\n",
      "{'$schema': 'https://vega.github.io/schema/vega-lite/v3.json',\n",
      " 'data': {'values': [{'KEY': 'value_2', 'VALUE': 0.335, 'gene': 'XLOC_000060'},\n",
      "                     {'KEY': 'value_2',\n",
      "                      'VALUE': 0.0426,\n",
      "                      'gene': 'XLOC_000074'}]},\n",
      " 'encoding': {'color': {'aggregate': 'mean',\n",
      "                        'field': 'VALUE',\n",
      "                        'type': 'quantitative'},\n",
      "              'x': {'field': 'KEY', 'type': 'nominal'},\n",
      "              'y': {'field': 'gene', 'type': 'nominal'}},\n",
      " 'mark': 'rect'}\n"
     ]
    },
    {
     "data": {
      "application/javascript": [
       "var spec = {\"encoding\": {\"y\": {\"type\": \"nominal\", \"field\": \"gene\"}, \"x\": {\"type\": \"nominal\", \"field\": \"KEY\"}, \"color\": {\"type\": \"quantitative\", \"field\": \"VALUE\", \"aggregate\": \"mean\"}}, \"$schema\": \"https://vega.github.io/schema/vega-lite/v3.json\", \"mark\": \"rect\", \"data\": {\"values\": [{\"KEY\": \"value_2\", \"VALUE\": 0.335, \"gene\": \"XLOC_000060\"}, {\"KEY\": \"value_2\", \"VALUE\": 0.0426, \"gene\": \"XLOC_000074\"}]}};\n",
       "var opt = {};\n",
       "var type = \"vega-lite\";\n",
       "var id = \"8487c7fb-1ff9-48a1-9280-19b1b46c51b8\";\n",
       "\n",
       "var output_area = this;\n",
       "\n",
       "require([\"nbextensions/jupyter-vega/index\"], function(vega) {\n",
       "  var target = document.createElement(\"div\");\n",
       "  target.id = id;\n",
       "  target.className = \"vega-embed\";\n",
       "\n",
       "  var style = document.createElement(\"style\");\n",
       "  style.textContent = [\n",
       "    \".vega-embed .error p {\",\n",
       "    \"  color: firebrick;\",\n",
       "    \"  font-size: 14px;\",\n",
       "    \"}\",\n",
       "  ].join(\"\\\\n\");\n",
       "\n",
       "  // element is a jQuery wrapped DOM element inside the output area\n",
       "  // see http://ipython.readthedocs.io/en/stable/api/generated/\\\n",
       "  // IPython.display.html#IPython.display.Javascript.__init__\n",
       "  element[0].appendChild(target);\n",
       "  element[0].appendChild(style);\n",
       "\n",
       "  vega.render(\"#\" + id, spec, type, opt, output_area);\n",
       "}, function (err) {\n",
       "  if (err.requireType !== \"scripterror\") {\n",
       "    throw(err);\n",
       "  }\n",
       "});\n"
      ],
      "text/plain": [
       "<vega.vegalite.VegaLite at 0x1164b9860>"
      ]
     },
     "metadata": {
      "jupyter-vega": "#8487c7fb-1ff9-48a1-9280-19b1b46c51b8"
     },
     "output_type": "display_data"
    },
    {
     "name": "stdout",
     "output_type": "stream",
     "text": [
      "temp_51.vl.json\n",
      "__temp__/temp_51.vl.json\n",
      "{'$schema': 'https://vega.github.io/schema/vega-lite/v3.json',\n",
      " 'data': {'values': [{'KEY': 'value_2', 'VALUE': 0.335, 'gene': 'XLOC_000060'},\n",
      "                     {'KEY': 'value_2',\n",
      "                      'VALUE': 0.0426,\n",
      "                      'gene': 'XLOC_000074'}]},\n",
      " 'encoding': {'color': {'aggregate': 'mean',\n",
      "                        'field': 'VALUE',\n",
      "                        'type': 'quantitative'},\n",
      "              'x': {'field': 'gene', 'type': 'nominal'},\n",
      "              'y': {'field': 'KEY', 'type': 'nominal'}},\n",
      " 'mark': 'rect'}\n"
     ]
    },
    {
     "data": {
      "application/javascript": [
       "var spec = {\"encoding\": {\"y\": {\"type\": \"nominal\", \"field\": \"KEY\"}, \"x\": {\"type\": \"nominal\", \"field\": \"gene\"}, \"color\": {\"type\": \"quantitative\", \"field\": \"VALUE\", \"aggregate\": \"mean\"}}, \"$schema\": \"https://vega.github.io/schema/vega-lite/v3.json\", \"mark\": \"rect\", \"data\": {\"values\": [{\"KEY\": \"value_2\", \"VALUE\": 0.335, \"gene\": \"XLOC_000060\"}, {\"KEY\": \"value_2\", \"VALUE\": 0.0426, \"gene\": \"XLOC_000074\"}]}};\n",
       "var opt = {};\n",
       "var type = \"vega-lite\";\n",
       "var id = \"ac9a834f-cf55-4b45-9613-f9ba2dc721b4\";\n",
       "\n",
       "var output_area = this;\n",
       "\n",
       "require([\"nbextensions/jupyter-vega/index\"], function(vega) {\n",
       "  var target = document.createElement(\"div\");\n",
       "  target.id = id;\n",
       "  target.className = \"vega-embed\";\n",
       "\n",
       "  var style = document.createElement(\"style\");\n",
       "  style.textContent = [\n",
       "    \".vega-embed .error p {\",\n",
       "    \"  color: firebrick;\",\n",
       "    \"  font-size: 14px;\",\n",
       "    \"}\",\n",
       "  ].join(\"\\\\n\");\n",
       "\n",
       "  // element is a jQuery wrapped DOM element inside the output area\n",
       "  // see http://ipython.readthedocs.io/en/stable/api/generated/\\\n",
       "  // IPython.display.html#IPython.display.Javascript.__init__\n",
       "  element[0].appendChild(target);\n",
       "  element[0].appendChild(style);\n",
       "\n",
       "  vega.render(\"#\" + id, spec, type, opt, output_area);\n",
       "}, function (err) {\n",
       "  if (err.requireType !== \"scripterror\") {\n",
       "    throw(err);\n",
       "  }\n",
       "});\n"
      ],
      "text/plain": [
       "<vega.vegalite.VegaLite at 0x1164b9940>"
      ]
     },
     "metadata": {
      "jupyter-vega": "#ac9a834f-cf55-4b45-9613-f9ba2dc721b4"
     },
     "output_type": "display_data"
    },
    {
     "name": "stdout",
     "output_type": "stream",
     "text": [
      "temp_52.vl.json\n",
      "__temp__/temp_52.vl.json\n",
      "{'$schema': 'https://vega.github.io/schema/vega-lite/v3.json',\n",
      " 'data': {'values': [{'KEY': 'value_2', 'VALUE': 0.335, 'value_1': 3.6623},\n",
      "                     {'KEY': 'value_2', 'VALUE': 0.0426, 'value_1': 2.5681}]},\n",
      " 'encoding': {'color': {'aggregate': 'mean',\n",
      "                        'field': 'VALUE',\n",
      "                        'type': 'quantitative'},\n",
      "              'x': {'field': 'KEY', 'type': 'nominal'},\n",
      "              'y': {'field': 'value_1', 'type': 'nominal'}},\n",
      " 'mark': 'rect'}\n"
     ]
    },
    {
     "data": {
      "application/javascript": [
       "var spec = {\"encoding\": {\"y\": {\"type\": \"nominal\", \"field\": \"value_1\"}, \"x\": {\"type\": \"nominal\", \"field\": \"KEY\"}, \"color\": {\"type\": \"quantitative\", \"field\": \"VALUE\", \"aggregate\": \"mean\"}}, \"$schema\": \"https://vega.github.io/schema/vega-lite/v3.json\", \"mark\": \"rect\", \"data\": {\"values\": [{\"KEY\": \"value_2\", \"VALUE\": 0.335, \"value_1\": 3.6623}, {\"KEY\": \"value_2\", \"VALUE\": 0.0426, \"value_1\": 2.5681}]}};\n",
       "var opt = {};\n",
       "var type = \"vega-lite\";\n",
       "var id = \"9dba23cd-0fc4-4753-8f3a-283251acec79\";\n",
       "\n",
       "var output_area = this;\n",
       "\n",
       "require([\"nbextensions/jupyter-vega/index\"], function(vega) {\n",
       "  var target = document.createElement(\"div\");\n",
       "  target.id = id;\n",
       "  target.className = \"vega-embed\";\n",
       "\n",
       "  var style = document.createElement(\"style\");\n",
       "  style.textContent = [\n",
       "    \".vega-embed .error p {\",\n",
       "    \"  color: firebrick;\",\n",
       "    \"  font-size: 14px;\",\n",
       "    \"}\",\n",
       "  ].join(\"\\\\n\");\n",
       "\n",
       "  // element is a jQuery wrapped DOM element inside the output area\n",
       "  // see http://ipython.readthedocs.io/en/stable/api/generated/\\\n",
       "  // IPython.display.html#IPython.display.Javascript.__init__\n",
       "  element[0].appendChild(target);\n",
       "  element[0].appendChild(style);\n",
       "\n",
       "  vega.render(\"#\" + id, spec, type, opt, output_area);\n",
       "}, function (err) {\n",
       "  if (err.requireType !== \"scripterror\") {\n",
       "    throw(err);\n",
       "  }\n",
       "});\n"
      ],
      "text/plain": [
       "<vega.vegalite.VegaLite at 0x1164b96a0>"
      ]
     },
     "metadata": {
      "jupyter-vega": "#9dba23cd-0fc4-4753-8f3a-283251acec79"
     },
     "output_type": "display_data"
    },
    {
     "name": "stdout",
     "output_type": "stream",
     "text": [
      "temp_53.vl.json\n",
      "__temp__/temp_53.vl.json\n",
      "{'$schema': 'https://vega.github.io/schema/vega-lite/v3.json',\n",
      " 'data': {'values': [{'KEY': 'value_2', 'VALUE': 0.335, 'value_1': 3.6623},\n",
      "                     {'KEY': 'value_2', 'VALUE': 0.0426, 'value_1': 2.5681}]},\n",
      " 'encoding': {'color': {'aggregate': 'mean',\n",
      "                        'field': 'VALUE',\n",
      "                        'type': 'quantitative'},\n",
      "              'x': {'field': 'value_1', 'type': 'nominal'},\n",
      "              'y': {'field': 'KEY', 'type': 'nominal'}},\n",
      " 'mark': 'rect'}\n"
     ]
    },
    {
     "data": {
      "application/javascript": [
       "var spec = {\"encoding\": {\"y\": {\"type\": \"nominal\", \"field\": \"KEY\"}, \"x\": {\"type\": \"nominal\", \"field\": \"value_1\"}, \"color\": {\"type\": \"quantitative\", \"field\": \"VALUE\", \"aggregate\": \"mean\"}}, \"$schema\": \"https://vega.github.io/schema/vega-lite/v3.json\", \"mark\": \"rect\", \"data\": {\"values\": [{\"KEY\": \"value_2\", \"VALUE\": 0.335, \"value_1\": 3.6623}, {\"KEY\": \"value_2\", \"VALUE\": 0.0426, \"value_1\": 2.5681}]}};\n",
       "var opt = {};\n",
       "var type = \"vega-lite\";\n",
       "var id = \"a55a7f62-7a65-4e7d-9d78-1cb13a7d7a6d\";\n",
       "\n",
       "var output_area = this;\n",
       "\n",
       "require([\"nbextensions/jupyter-vega/index\"], function(vega) {\n",
       "  var target = document.createElement(\"div\");\n",
       "  target.id = id;\n",
       "  target.className = \"vega-embed\";\n",
       "\n",
       "  var style = document.createElement(\"style\");\n",
       "  style.textContent = [\n",
       "    \".vega-embed .error p {\",\n",
       "    \"  color: firebrick;\",\n",
       "    \"  font-size: 14px;\",\n",
       "    \"}\",\n",
       "  ].join(\"\\\\n\");\n",
       "\n",
       "  // element is a jQuery wrapped DOM element inside the output area\n",
       "  // see http://ipython.readthedocs.io/en/stable/api/generated/\\\n",
       "  // IPython.display.html#IPython.display.Javascript.__init__\n",
       "  element[0].appendChild(target);\n",
       "  element[0].appendChild(style);\n",
       "\n",
       "  vega.render(\"#\" + id, spec, type, opt, output_area);\n",
       "}, function (err) {\n",
       "  if (err.requireType !== \"scripterror\") {\n",
       "    throw(err);\n",
       "  }\n",
       "});\n"
      ],
      "text/plain": [
       "<vega.vegalite.VegaLite at 0x1164b9940>"
      ]
     },
     "metadata": {
      "jupyter-vega": "#a55a7f62-7a65-4e7d-9d78-1cb13a7d7a6d"
     },
     "output_type": "display_data"
    },
    {
     "name": "stdout",
     "output_type": "stream",
     "text": [
      "temp_54.vl.json\n",
      "__temp__/temp_54.vl.json\n",
      "{'$schema': 'https://vega.github.io/schema/vega-lite/v3.json',\n",
      " 'data': {'values': [{'KEY': 'value_2', 'VALUE': 0.335, 'value_1': 3.6623},\n",
      "                     {'KEY': 'value_2', 'VALUE': 0.0426, 'value_1': 2.5681}]},\n",
      " 'encoding': {'color': {'aggregate': 'mean',\n",
      "                        'field': 'value_1',\n",
      "                        'type': 'quantitative'},\n",
      "              'x': {'field': 'VALUE', 'type': 'nominal'},\n",
      "              'y': {'field': 'KEY', 'type': 'nominal'}},\n",
      " 'mark': 'rect'}\n"
     ]
    },
    {
     "data": {
      "application/javascript": [
       "var spec = {\"encoding\": {\"y\": {\"type\": \"nominal\", \"field\": \"KEY\"}, \"x\": {\"type\": \"nominal\", \"field\": \"VALUE\"}, \"color\": {\"type\": \"quantitative\", \"field\": \"value_1\", \"aggregate\": \"mean\"}}, \"$schema\": \"https://vega.github.io/schema/vega-lite/v3.json\", \"mark\": \"rect\", \"data\": {\"values\": [{\"KEY\": \"value_2\", \"VALUE\": 0.335, \"value_1\": 3.6623}, {\"KEY\": \"value_2\", \"VALUE\": 0.0426, \"value_1\": 2.5681}]}};\n",
       "var opt = {};\n",
       "var type = \"vega-lite\";\n",
       "var id = \"5875931b-cbac-48d6-af63-e8cd5050c6e6\";\n",
       "\n",
       "var output_area = this;\n",
       "\n",
       "require([\"nbextensions/jupyter-vega/index\"], function(vega) {\n",
       "  var target = document.createElement(\"div\");\n",
       "  target.id = id;\n",
       "  target.className = \"vega-embed\";\n",
       "\n",
       "  var style = document.createElement(\"style\");\n",
       "  style.textContent = [\n",
       "    \".vega-embed .error p {\",\n",
       "    \"  color: firebrick;\",\n",
       "    \"  font-size: 14px;\",\n",
       "    \"}\",\n",
       "  ].join(\"\\\\n\");\n",
       "\n",
       "  // element is a jQuery wrapped DOM element inside the output area\n",
       "  // see http://ipython.readthedocs.io/en/stable/api/generated/\\\n",
       "  // IPython.display.html#IPython.display.Javascript.__init__\n",
       "  element[0].appendChild(target);\n",
       "  element[0].appendChild(style);\n",
       "\n",
       "  vega.render(\"#\" + id, spec, type, opt, output_area);\n",
       "}, function (err) {\n",
       "  if (err.requireType !== \"scripterror\") {\n",
       "    throw(err);\n",
       "  }\n",
       "});\n"
      ],
      "text/plain": [
       "<vega.vegalite.VegaLite at 0x1164b99e8>"
      ]
     },
     "metadata": {
      "jupyter-vega": "#5875931b-cbac-48d6-af63-e8cd5050c6e6"
     },
     "output_type": "display_data"
    },
    {
     "name": "stdout",
     "output_type": "stream",
     "text": [
      "temp_55.vl.json\n",
      "__temp__/temp_55.vl.json\n",
      "{'$schema': 'https://vega.github.io/schema/vega-lite/v3.json',\n",
      " 'data': {'values': [{'KEY': 'value_2', 'VALUE': 0.335, 'value_1': 3.6623},\n",
      "                     {'KEY': 'value_2', 'VALUE': 0.0426, 'value_1': 2.5681}]},\n",
      " 'encoding': {'color': {'aggregate': 'mean',\n",
      "                        'field': 'value_1',\n",
      "                        'type': 'quantitative'},\n",
      "              'x': {'field': 'KEY', 'type': 'nominal'},\n",
      "              'y': {'field': 'VALUE', 'type': 'nominal'}},\n",
      " 'mark': 'rect'}\n"
     ]
    },
    {
     "data": {
      "application/javascript": [
       "var spec = {\"encoding\": {\"y\": {\"type\": \"nominal\", \"field\": \"VALUE\"}, \"x\": {\"type\": \"nominal\", \"field\": \"KEY\"}, \"color\": {\"type\": \"quantitative\", \"field\": \"value_1\", \"aggregate\": \"mean\"}}, \"$schema\": \"https://vega.github.io/schema/vega-lite/v3.json\", \"mark\": \"rect\", \"data\": {\"values\": [{\"KEY\": \"value_2\", \"VALUE\": 0.335, \"value_1\": 3.6623}, {\"KEY\": \"value_2\", \"VALUE\": 0.0426, \"value_1\": 2.5681}]}};\n",
       "var opt = {};\n",
       "var type = \"vega-lite\";\n",
       "var id = \"a49eb82b-50df-4a76-95a5-5d30c1bcf0ae\";\n",
       "\n",
       "var output_area = this;\n",
       "\n",
       "require([\"nbextensions/jupyter-vega/index\"], function(vega) {\n",
       "  var target = document.createElement(\"div\");\n",
       "  target.id = id;\n",
       "  target.className = \"vega-embed\";\n",
       "\n",
       "  var style = document.createElement(\"style\");\n",
       "  style.textContent = [\n",
       "    \".vega-embed .error p {\",\n",
       "    \"  color: firebrick;\",\n",
       "    \"  font-size: 14px;\",\n",
       "    \"}\",\n",
       "  ].join(\"\\\\n\");\n",
       "\n",
       "  // element is a jQuery wrapped DOM element inside the output area\n",
       "  // see http://ipython.readthedocs.io/en/stable/api/generated/\\\n",
       "  // IPython.display.html#IPython.display.Javascript.__init__\n",
       "  element[0].appendChild(target);\n",
       "  element[0].appendChild(style);\n",
       "\n",
       "  vega.render(\"#\" + id, spec, type, opt, output_area);\n",
       "}, function (err) {\n",
       "  if (err.requireType !== \"scripterror\") {\n",
       "    throw(err);\n",
       "  }\n",
       "});\n"
      ],
      "text/plain": [
       "<vega.vegalite.VegaLite at 0x1164b9908>"
      ]
     },
     "metadata": {
      "jupyter-vega": "#a49eb82b-50df-4a76-95a5-5d30c1bcf0ae"
     },
     "output_type": "display_data"
    },
    {
     "name": "stdout",
     "output_type": "stream",
     "text": [
      "temp_56.vl.json\n",
      "__temp__/temp_56.vl.json\n",
      "{'$schema': 'https://vega.github.io/schema/vega-lite/v3.json',\n",
      " 'data': {'values': [{'KEY': 'value_2', 'VALUE': 0.335, 'value_1': 3.6623},\n",
      "                     {'KEY': 'value_2', 'VALUE': 0.0426, 'value_1': 2.5681}]},\n",
      " 'encoding': {'color': {'aggregate': 'mean',\n",
      "                        'field': 'VALUE',\n",
      "                        'type': 'ordinal'},\n",
      "              'x': {'field': 'value_1', 'type': 'ordinal'},\n",
      "              'y': {'field': 'KEY', 'type': 'nominal'}},\n",
      " 'mark': 'rect'}\n"
     ]
    },
    {
     "data": {
      "application/javascript": [
       "var spec = {\"encoding\": {\"y\": {\"type\": \"nominal\", \"field\": \"KEY\"}, \"x\": {\"type\": \"ordinal\", \"field\": \"value_1\"}, \"color\": {\"type\": \"ordinal\", \"field\": \"VALUE\", \"aggregate\": \"mean\"}}, \"$schema\": \"https://vega.github.io/schema/vega-lite/v3.json\", \"mark\": \"rect\", \"data\": {\"values\": [{\"KEY\": \"value_2\", \"VALUE\": 0.335, \"value_1\": 3.6623}, {\"KEY\": \"value_2\", \"VALUE\": 0.0426, \"value_1\": 2.5681}]}};\n",
       "var opt = {};\n",
       "var type = \"vega-lite\";\n",
       "var id = \"1313641c-ae28-47ff-974d-93674ecebcd7\";\n",
       "\n",
       "var output_area = this;\n",
       "\n",
       "require([\"nbextensions/jupyter-vega/index\"], function(vega) {\n",
       "  var target = document.createElement(\"div\");\n",
       "  target.id = id;\n",
       "  target.className = \"vega-embed\";\n",
       "\n",
       "  var style = document.createElement(\"style\");\n",
       "  style.textContent = [\n",
       "    \".vega-embed .error p {\",\n",
       "    \"  color: firebrick;\",\n",
       "    \"  font-size: 14px;\",\n",
       "    \"}\",\n",
       "  ].join(\"\\\\n\");\n",
       "\n",
       "  // element is a jQuery wrapped DOM element inside the output area\n",
       "  // see http://ipython.readthedocs.io/en/stable/api/generated/\\\n",
       "  // IPython.display.html#IPython.display.Javascript.__init__\n",
       "  element[0].appendChild(target);\n",
       "  element[0].appendChild(style);\n",
       "\n",
       "  vega.render(\"#\" + id, spec, type, opt, output_area);\n",
       "}, function (err) {\n",
       "  if (err.requireType !== \"scripterror\") {\n",
       "    throw(err);\n",
       "  }\n",
       "});\n"
      ],
      "text/plain": [
       "<vega.vegalite.VegaLite at 0x1164b9550>"
      ]
     },
     "metadata": {
      "jupyter-vega": "#1313641c-ae28-47ff-974d-93674ecebcd7"
     },
     "output_type": "display_data"
    },
    {
     "name": "stdout",
     "output_type": "stream",
     "text": [
      "temp_57.vl.json\n",
      "__temp__/temp_57.vl.json\n",
      "{'$schema': 'https://vega.github.io/schema/vega-lite/v3.json',\n",
      " 'data': {'values': [{'KEY': 'value_2', 'VALUE': 0.335, 'value_1': 3.6623},\n",
      "                     {'KEY': 'value_2', 'VALUE': 0.0426, 'value_1': 2.5681}]},\n",
      " 'encoding': {'color': {'aggregate': 'mean',\n",
      "                        'field': 'value_1',\n",
      "                        'type': 'ordinal'},\n",
      "              'x': {'field': 'VALUE', 'type': 'ordinal'},\n",
      "              'y': {'field': 'KEY', 'type': 'nominal'}},\n",
      " 'mark': 'rect'}\n"
     ]
    },
    {
     "data": {
      "application/javascript": [
       "var spec = {\"encoding\": {\"y\": {\"type\": \"nominal\", \"field\": \"KEY\"}, \"x\": {\"type\": \"ordinal\", \"field\": \"VALUE\"}, \"color\": {\"type\": \"ordinal\", \"field\": \"value_1\", \"aggregate\": \"mean\"}}, \"$schema\": \"https://vega.github.io/schema/vega-lite/v3.json\", \"mark\": \"rect\", \"data\": {\"values\": [{\"KEY\": \"value_2\", \"VALUE\": 0.335, \"value_1\": 3.6623}, {\"KEY\": \"value_2\", \"VALUE\": 0.0426, \"value_1\": 2.5681}]}};\n",
       "var opt = {};\n",
       "var type = \"vega-lite\";\n",
       "var id = \"87758da1-b483-425a-9caf-dd12e7edd7c7\";\n",
       "\n",
       "var output_area = this;\n",
       "\n",
       "require([\"nbextensions/jupyter-vega/index\"], function(vega) {\n",
       "  var target = document.createElement(\"div\");\n",
       "  target.id = id;\n",
       "  target.className = \"vega-embed\";\n",
       "\n",
       "  var style = document.createElement(\"style\");\n",
       "  style.textContent = [\n",
       "    \".vega-embed .error p {\",\n",
       "    \"  color: firebrick;\",\n",
       "    \"  font-size: 14px;\",\n",
       "    \"}\",\n",
       "  ].join(\"\\\\n\");\n",
       "\n",
       "  // element is a jQuery wrapped DOM element inside the output area\n",
       "  // see http://ipython.readthedocs.io/en/stable/api/generated/\\\n",
       "  // IPython.display.html#IPython.display.Javascript.__init__\n",
       "  element[0].appendChild(target);\n",
       "  element[0].appendChild(style);\n",
       "\n",
       "  vega.render(\"#\" + id, spec, type, opt, output_area);\n",
       "}, function (err) {\n",
       "  if (err.requireType !== \"scripterror\") {\n",
       "    throw(err);\n",
       "  }\n",
       "});\n"
      ],
      "text/plain": [
       "<vega.vegalite.VegaLite at 0x1164b98d0>"
      ]
     },
     "metadata": {
      "jupyter-vega": "#87758da1-b483-425a-9caf-dd12e7edd7c7"
     },
     "output_type": "display_data"
    },
    {
     "name": "stdout",
     "output_type": "stream",
     "text": [
      "temp_58.vl.json\n",
      "__temp__/temp_58.vl.json\n",
      "{'$schema': 'https://vega.github.io/schema/vega-lite/v3.json',\n",
      " 'data': {'values': [{'KEY': 'value_2', 'VALUE': 0.335, 'value_1': 3.6623},\n",
      "                     {'KEY': 'value_2', 'VALUE': 0.0426, 'value_1': 2.5681}]},\n",
      " 'encoding': {'color': {'aggregate': None,\n",
      "                        'field': 'VALUE',\n",
      "                        'type': 'quantitative'},\n",
      "              'x': {'field': 'value_1', 'type': 'ordinal'},\n",
      "              'y': {'field': 'KEY', 'type': 'nominal'}},\n",
      " 'mark': 'rect'}\n"
     ]
    },
    {
     "data": {
      "application/javascript": [
       "var spec = {\"encoding\": {\"y\": {\"type\": \"nominal\", \"field\": \"KEY\"}, \"x\": {\"type\": \"ordinal\", \"field\": \"value_1\"}, \"color\": {\"type\": \"quantitative\", \"field\": \"VALUE\", \"aggregate\": null}}, \"$schema\": \"https://vega.github.io/schema/vega-lite/v3.json\", \"mark\": \"rect\", \"data\": {\"values\": [{\"KEY\": \"value_2\", \"VALUE\": 0.335, \"value_1\": 3.6623}, {\"KEY\": \"value_2\", \"VALUE\": 0.0426, \"value_1\": 2.5681}]}};\n",
       "var opt = {};\n",
       "var type = \"vega-lite\";\n",
       "var id = \"e50f7eb1-9011-4001-a44f-23556932dce6\";\n",
       "\n",
       "var output_area = this;\n",
       "\n",
       "require([\"nbextensions/jupyter-vega/index\"], function(vega) {\n",
       "  var target = document.createElement(\"div\");\n",
       "  target.id = id;\n",
       "  target.className = \"vega-embed\";\n",
       "\n",
       "  var style = document.createElement(\"style\");\n",
       "  style.textContent = [\n",
       "    \".vega-embed .error p {\",\n",
       "    \"  color: firebrick;\",\n",
       "    \"  font-size: 14px;\",\n",
       "    \"}\",\n",
       "  ].join(\"\\\\n\");\n",
       "\n",
       "  // element is a jQuery wrapped DOM element inside the output area\n",
       "  // see http://ipython.readthedocs.io/en/stable/api/generated/\\\n",
       "  // IPython.display.html#IPython.display.Javascript.__init__\n",
       "  element[0].appendChild(target);\n",
       "  element[0].appendChild(style);\n",
       "\n",
       "  vega.render(\"#\" + id, spec, type, opt, output_area);\n",
       "}, function (err) {\n",
       "  if (err.requireType !== \"scripterror\") {\n",
       "    throw(err);\n",
       "  }\n",
       "});\n"
      ],
      "text/plain": [
       "<vega.vegalite.VegaLite at 0x1164b9198>"
      ]
     },
     "metadata": {
      "jupyter-vega": "#e50f7eb1-9011-4001-a44f-23556932dce6"
     },
     "output_type": "display_data"
    },
    {
     "name": "stdout",
     "output_type": "stream",
     "text": [
      "temp_59.vl.json\n",
      "__temp__/temp_59.vl.json\n",
      "{'$schema': 'https://vega.github.io/schema/vega-lite/v3.json',\n",
      " 'data': {'values': [{'KEY': 'value_2', 'VALUE': 0.335, 'value_1': 3.6623},\n",
      "                     {'KEY': 'value_2', 'VALUE': 0.0426, 'value_1': 2.5681}]},\n",
      " 'encoding': {'color': {'aggregate': None,\n",
      "                        'field': 'value_1',\n",
      "                        'type': 'quantitative'},\n",
      "              'x': {'field': 'VALUE', 'type': 'ordinal'},\n",
      "              'y': {'field': 'KEY', 'type': 'nominal'}},\n",
      " 'mark': 'rect'}\n"
     ]
    },
    {
     "data": {
      "application/javascript": [
       "var spec = {\"encoding\": {\"y\": {\"type\": \"nominal\", \"field\": \"KEY\"}, \"x\": {\"type\": \"ordinal\", \"field\": \"VALUE\"}, \"color\": {\"type\": \"quantitative\", \"field\": \"value_1\", \"aggregate\": null}}, \"$schema\": \"https://vega.github.io/schema/vega-lite/v3.json\", \"mark\": \"rect\", \"data\": {\"values\": [{\"KEY\": \"value_2\", \"VALUE\": 0.335, \"value_1\": 3.6623}, {\"KEY\": \"value_2\", \"VALUE\": 0.0426, \"value_1\": 2.5681}]}};\n",
       "var opt = {};\n",
       "var type = \"vega-lite\";\n",
       "var id = \"595f61c9-5280-4750-bf56-5d83c0fb66cb\";\n",
       "\n",
       "var output_area = this;\n",
       "\n",
       "require([\"nbextensions/jupyter-vega/index\"], function(vega) {\n",
       "  var target = document.createElement(\"div\");\n",
       "  target.id = id;\n",
       "  target.className = \"vega-embed\";\n",
       "\n",
       "  var style = document.createElement(\"style\");\n",
       "  style.textContent = [\n",
       "    \".vega-embed .error p {\",\n",
       "    \"  color: firebrick;\",\n",
       "    \"  font-size: 14px;\",\n",
       "    \"}\",\n",
       "  ].join(\"\\\\n\");\n",
       "\n",
       "  // element is a jQuery wrapped DOM element inside the output area\n",
       "  // see http://ipython.readthedocs.io/en/stable/api/generated/\\\n",
       "  // IPython.display.html#IPython.display.Javascript.__init__\n",
       "  element[0].appendChild(target);\n",
       "  element[0].appendChild(style);\n",
       "\n",
       "  vega.render(\"#\" + id, spec, type, opt, output_area);\n",
       "}, function (err) {\n",
       "  if (err.requireType !== \"scripterror\") {\n",
       "    throw(err);\n",
       "  }\n",
       "});\n"
      ],
      "text/plain": [
       "<vega.vegalite.VegaLite at 0x1164b91d0>"
      ]
     },
     "metadata": {
      "jupyter-vega": "#595f61c9-5280-4750-bf56-5d83c0fb66cb"
     },
     "output_type": "display_data"
    },
    {
     "name": "stdout",
     "output_type": "stream",
     "text": [
      "temp_6.vl.json\n",
      "__temp__/temp_6.vl.json\n",
      "{'$schema': 'https://vega.github.io/schema/vega-lite/v3.json',\n",
      " 'data': {'values': [{'KEY': 'gene', 'value_1': 3.6623, 'value_2': 0.335},\n",
      "                     {'KEY': 'gene', 'value_1': 2.5681, 'value_2': 0.0426}]},\n",
      " 'encoding': {'color': {'aggregate': None,\n",
      "                        'field': 'value_2',\n",
      "                        'type': 'quantitative'},\n",
      "              'x': {'field': 'value_1', 'type': 'ordinal'},\n",
      "              'y': {'field': 'KEY', 'type': 'nominal'}},\n",
      " 'mark': 'rect'}\n"
     ]
    },
    {
     "data": {
      "application/javascript": [
       "var spec = {\"encoding\": {\"y\": {\"type\": \"nominal\", \"field\": \"KEY\"}, \"x\": {\"type\": \"ordinal\", \"field\": \"value_1\"}, \"color\": {\"type\": \"quantitative\", \"field\": \"value_2\", \"aggregate\": null}}, \"$schema\": \"https://vega.github.io/schema/vega-lite/v3.json\", \"mark\": \"rect\", \"data\": {\"values\": [{\"value_2\": 0.335, \"KEY\": \"gene\", \"value_1\": 3.6623}, {\"value_2\": 0.0426, \"KEY\": \"gene\", \"value_1\": 2.5681}]}};\n",
       "var opt = {};\n",
       "var type = \"vega-lite\";\n",
       "var id = \"461699a1-51f6-4459-aeb7-360c75a9c6b6\";\n",
       "\n",
       "var output_area = this;\n",
       "\n",
       "require([\"nbextensions/jupyter-vega/index\"], function(vega) {\n",
       "  var target = document.createElement(\"div\");\n",
       "  target.id = id;\n",
       "  target.className = \"vega-embed\";\n",
       "\n",
       "  var style = document.createElement(\"style\");\n",
       "  style.textContent = [\n",
       "    \".vega-embed .error p {\",\n",
       "    \"  color: firebrick;\",\n",
       "    \"  font-size: 14px;\",\n",
       "    \"}\",\n",
       "  ].join(\"\\\\n\");\n",
       "\n",
       "  // element is a jQuery wrapped DOM element inside the output area\n",
       "  // see http://ipython.readthedocs.io/en/stable/api/generated/\\\n",
       "  // IPython.display.html#IPython.display.Javascript.__init__\n",
       "  element[0].appendChild(target);\n",
       "  element[0].appendChild(style);\n",
       "\n",
       "  vega.render(\"#\" + id, spec, type, opt, output_area);\n",
       "}, function (err) {\n",
       "  if (err.requireType !== \"scripterror\") {\n",
       "    throw(err);\n",
       "  }\n",
       "});\n"
      ],
      "text/plain": [
       "<vega.vegalite.VegaLite at 0x1164b9668>"
      ]
     },
     "metadata": {
      "jupyter-vega": "#461699a1-51f6-4459-aeb7-360c75a9c6b6"
     },
     "output_type": "display_data"
    },
    {
     "name": "stdout",
     "output_type": "stream",
     "text": [
      "temp_7.vl.json\n",
      "__temp__/temp_7.vl.json\n",
      "{'$schema': 'https://vega.github.io/schema/vega-lite/v3.json',\n",
      " 'data': {'values': [{'KEY': 'gene', 'value_1': 3.6623, 'value_2': 0.335},\n",
      "                     {'KEY': 'gene', 'value_1': 2.5681, 'value_2': 0.0426}]},\n",
      " 'encoding': {'color': {'aggregate': None,\n",
      "                        'field': 'value_1',\n",
      "                        'type': 'quantitative'},\n",
      "              'x': {'field': 'value_2', 'type': 'ordinal'},\n",
      "              'y': {'field': 'KEY', 'type': 'nominal'}},\n",
      " 'mark': 'rect'}\n"
     ]
    },
    {
     "data": {
      "application/javascript": [
       "var spec = {\"encoding\": {\"y\": {\"type\": \"nominal\", \"field\": \"KEY\"}, \"x\": {\"type\": \"ordinal\", \"field\": \"value_2\"}, \"color\": {\"type\": \"quantitative\", \"field\": \"value_1\", \"aggregate\": null}}, \"$schema\": \"https://vega.github.io/schema/vega-lite/v3.json\", \"mark\": \"rect\", \"data\": {\"values\": [{\"value_2\": 0.335, \"KEY\": \"gene\", \"value_1\": 3.6623}, {\"value_2\": 0.0426, \"KEY\": \"gene\", \"value_1\": 2.5681}]}};\n",
       "var opt = {};\n",
       "var type = \"vega-lite\";\n",
       "var id = \"167108bc-e983-4051-bf9d-8d760c7961d7\";\n",
       "\n",
       "var output_area = this;\n",
       "\n",
       "require([\"nbextensions/jupyter-vega/index\"], function(vega) {\n",
       "  var target = document.createElement(\"div\");\n",
       "  target.id = id;\n",
       "  target.className = \"vega-embed\";\n",
       "\n",
       "  var style = document.createElement(\"style\");\n",
       "  style.textContent = [\n",
       "    \".vega-embed .error p {\",\n",
       "    \"  color: firebrick;\",\n",
       "    \"  font-size: 14px;\",\n",
       "    \"}\",\n",
       "  ].join(\"\\\\n\");\n",
       "\n",
       "  // element is a jQuery wrapped DOM element inside the output area\n",
       "  // see http://ipython.readthedocs.io/en/stable/api/generated/\\\n",
       "  // IPython.display.html#IPython.display.Javascript.__init__\n",
       "  element[0].appendChild(target);\n",
       "  element[0].appendChild(style);\n",
       "\n",
       "  vega.render(\"#\" + id, spec, type, opt, output_area);\n",
       "}, function (err) {\n",
       "  if (err.requireType !== \"scripterror\") {\n",
       "    throw(err);\n",
       "  }\n",
       "});\n"
      ],
      "text/plain": [
       "<vega.vegalite.VegaLite at 0x1164b97f0>"
      ]
     },
     "metadata": {
      "jupyter-vega": "#167108bc-e983-4051-bf9d-8d760c7961d7"
     },
     "output_type": "display_data"
    },
    {
     "name": "stdout",
     "output_type": "stream",
     "text": [
      "temp_8.vl.json\n",
      "__temp__/temp_8.vl.json\n",
      "{'$schema': 'https://vega.github.io/schema/vega-lite/v3.json',\n",
      " 'data': {'values': [{'VALUE': 'XLOC_000060',\n",
      "                      'value_1': 3.6623,\n",
      "                      'value_2': 0.335},\n",
      "                     {'VALUE': 'XLOC_000074',\n",
      "                      'value_1': 2.5681,\n",
      "                      'value_2': 0.0426}]},\n",
      " 'encoding': {'color': {'aggregate': 'mean',\n",
      "                        'field': 'value_2',\n",
      "                        'type': 'quantitative'},\n",
      "              'x': {'field': 'VALUE', 'type': 'nominal'},\n",
      "              'y': {'field': 'value_1', 'type': 'nominal'}},\n",
      " 'mark': 'rect'}\n"
     ]
    },
    {
     "data": {
      "application/javascript": [
       "var spec = {\"encoding\": {\"y\": {\"type\": \"nominal\", \"field\": \"value_1\"}, \"x\": {\"type\": \"nominal\", \"field\": \"VALUE\"}, \"color\": {\"type\": \"quantitative\", \"field\": \"value_2\", \"aggregate\": \"mean\"}}, \"$schema\": \"https://vega.github.io/schema/vega-lite/v3.json\", \"mark\": \"rect\", \"data\": {\"values\": [{\"value_2\": 0.335, \"VALUE\": \"XLOC_000060\", \"value_1\": 3.6623}, {\"value_2\": 0.0426, \"VALUE\": \"XLOC_000074\", \"value_1\": 2.5681}]}};\n",
       "var opt = {};\n",
       "var type = \"vega-lite\";\n",
       "var id = \"256b034e-4413-44bc-ae51-7d5285187c13\";\n",
       "\n",
       "var output_area = this;\n",
       "\n",
       "require([\"nbextensions/jupyter-vega/index\"], function(vega) {\n",
       "  var target = document.createElement(\"div\");\n",
       "  target.id = id;\n",
       "  target.className = \"vega-embed\";\n",
       "\n",
       "  var style = document.createElement(\"style\");\n",
       "  style.textContent = [\n",
       "    \".vega-embed .error p {\",\n",
       "    \"  color: firebrick;\",\n",
       "    \"  font-size: 14px;\",\n",
       "    \"}\",\n",
       "  ].join(\"\\\\n\");\n",
       "\n",
       "  // element is a jQuery wrapped DOM element inside the output area\n",
       "  // see http://ipython.readthedocs.io/en/stable/api/generated/\\\n",
       "  // IPython.display.html#IPython.display.Javascript.__init__\n",
       "  element[0].appendChild(target);\n",
       "  element[0].appendChild(style);\n",
       "\n",
       "  vega.render(\"#\" + id, spec, type, opt, output_area);\n",
       "}, function (err) {\n",
       "  if (err.requireType !== \"scripterror\") {\n",
       "    throw(err);\n",
       "  }\n",
       "});\n"
      ],
      "text/plain": [
       "<vega.vegalite.VegaLite at 0x1164b96d8>"
      ]
     },
     "metadata": {
      "jupyter-vega": "#256b034e-4413-44bc-ae51-7d5285187c13"
     },
     "output_type": "display_data"
    },
    {
     "name": "stdout",
     "output_type": "stream",
     "text": [
      "temp_9.vl.json\n",
      "__temp__/temp_9.vl.json\n",
      "{'$schema': 'https://vega.github.io/schema/vega-lite/v3.json',\n",
      " 'data': {'values': [{'VALUE': 'XLOC_000060',\n",
      "                      'value_1': 3.6623,\n",
      "                      'value_2': 0.335},\n",
      "                     {'VALUE': 'XLOC_000074',\n",
      "                      'value_1': 2.5681,\n",
      "                      'value_2': 0.0426}]},\n",
      " 'encoding': {'color': {'aggregate': 'mean',\n",
      "                        'field': 'value_1',\n",
      "                        'type': 'quantitative'},\n",
      "              'x': {'field': 'VALUE', 'type': 'nominal'},\n",
      "              'y': {'field': 'value_2', 'type': 'nominal'}},\n",
      " 'mark': 'rect'}\n"
     ]
    },
    {
     "data": {
      "application/javascript": [
       "var spec = {\"encoding\": {\"y\": {\"type\": \"nominal\", \"field\": \"value_2\"}, \"x\": {\"type\": \"nominal\", \"field\": \"VALUE\"}, \"color\": {\"type\": \"quantitative\", \"field\": \"value_1\", \"aggregate\": \"mean\"}}, \"$schema\": \"https://vega.github.io/schema/vega-lite/v3.json\", \"mark\": \"rect\", \"data\": {\"values\": [{\"value_2\": 0.335, \"VALUE\": \"XLOC_000060\", \"value_1\": 3.6623}, {\"value_2\": 0.0426, \"VALUE\": \"XLOC_000074\", \"value_1\": 2.5681}]}};\n",
       "var opt = {};\n",
       "var type = \"vega-lite\";\n",
       "var id = \"23b007bf-32ee-4ed9-9555-ce53a29f7a66\";\n",
       "\n",
       "var output_area = this;\n",
       "\n",
       "require([\"nbextensions/jupyter-vega/index\"], function(vega) {\n",
       "  var target = document.createElement(\"div\");\n",
       "  target.id = id;\n",
       "  target.className = \"vega-embed\";\n",
       "\n",
       "  var style = document.createElement(\"style\");\n",
       "  style.textContent = [\n",
       "    \".vega-embed .error p {\",\n",
       "    \"  color: firebrick;\",\n",
       "    \"  font-size: 14px;\",\n",
       "    \"}\",\n",
       "  ].join(\"\\\\n\");\n",
       "\n",
       "  // element is a jQuery wrapped DOM element inside the output area\n",
       "  // see http://ipython.readthedocs.io/en/stable/api/generated/\\\n",
       "  // IPython.display.html#IPython.display.Javascript.__init__\n",
       "  element[0].appendChild(target);\n",
       "  element[0].appendChild(style);\n",
       "\n",
       "  vega.render(\"#\" + id, spec, type, opt, output_area);\n",
       "}, function (err) {\n",
       "  if (err.requireType !== \"scripterror\") {\n",
       "    throw(err);\n",
       "  }\n",
       "});\n"
      ],
      "text/plain": [
       "<vega.vegalite.VegaLite at 0x1164b95f8>"
      ]
     },
     "metadata": {
      "jupyter-vega": "#23b007bf-32ee-4ed9-9555-ce53a29f7a66"
     },
     "output_type": "display_data"
    },
    {
     "data": {
      "image/png": "[encoded data removed]"
     },
     "metadata": {
      "jupyter-vega": "#7770d9d9-3483-4bc6-abff-73a3b39fb1f3"
     },
     "output_type": "display_data"
    },
    {
     "data": {
      "image/png": "[encoded data removed]"
     },
     "metadata": {
      "jupyter-vega": "#a1a05329-e943-4b9b-a2aa-fa0dbcea5951"
     },
     "output_type": "display_data"
    },
    {
     "data": {
      "image/png": "[encoded data removed]"
     },
     "metadata": {
      "jupyter-vega": "#0ab5dee5-8e16-43c6-abb3-56ebe8000238"
     },
     "output_type": "display_data"
    },
    {
     "data": {
      "image/png": "[encoded data removed]"
     },
     "metadata": {
      "jupyter-vega": "#d7000a31-f39e-410a-a3e5-3e4d8f16b55f"
     },
     "output_type": "display_data"
    },
    {
     "data": {
      "image/png": "[encoded data removed]"
     },
     "metadata": {
      "jupyter-vega": "#597c487d-d9f8-47e4-bd09-416bbc5c8c42"
     },
     "output_type": "display_data"
    },
    {
     "data": {
      "image/png": "[encoded data removed]"
     },
     "metadata": {
      "jupyter-vega": "#d14cd577-5f3f-4c0c-a6d7-9fc4c7d9c8ea"
     },
     "output_type": "display_data"
    },
    {
     "data": {
      "image/png": "[encoded data removed]"
     },
     "metadata": {
      "jupyter-vega": "#aa824c98-f22c-4dee-bc91-f2bca464fdbf"
     },
     "output_type": "display_data"
    },
    {
     "data": {
      "image/png": "[encoded data removed]"
     },
     "metadata": {
      "jupyter-vega": "#751dbcf6-9a9b-4143-b6a6-cc80c5bc4add"
     },
     "output_type": "display_data"
    },
    {
     "data": {
      "image/png": "[encoded data removed]"
     },
     "metadata": {
      "jupyter-vega": "#f4b57477-1eba-4a5a-926f-cfd9f56154f8"
     },
     "output_type": "display_data"
    },
    {
     "data": {
      "image/png": "[encoded data removed]"
     },
     "metadata": {
      "jupyter-vega": "#f9039180-9599-46ed-8af2-4b3c228aeb5c"
     },
     "output_type": "display_data"
    },
    {
     "data": {
      "image/png": "[encoded data removed]"
     },
     "metadata": {
      "jupyter-vega": "#a793244a-e1c1-42a5-903f-414dfd7d1ef1"
     },
     "output_type": "display_data"
    },
    {
     "data": {
      "image/png": "[encoded data removed]"
     },
     "metadata": {
      "jupyter-vega": "#7669af46-41cd-49d2-833d-5d7dbcccad8d"
     },
     "output_type": "display_data"
    },
    {
     "data": {
      "image/png": "[encoded data removed]"
     },
     "metadata": {
      "jupyter-vega": "#0e759a6b-1ebc-494d-b026-f15310b297bd"
     },
     "output_type": "display_data"
    },
    {
     "data": {
      "image/png": "[encoded data removed]"
     },
     "metadata": {
      "jupyter-vega": "#da49fff8-8103-49cc-bf58-f9032ba40027"
     },
     "output_type": "display_data"
    },
    {
     "data": {
      "image/png": "[encoded data removed]"
     },
     "metadata": {
      "jupyter-vega": "#4f35c009-e444-4cd8-bcdb-f73a6c91ccae"
     },
     "output_type": "display_data"
    },
    {
     "data": {
      "image/png": "[encoded data removed]"
     },
     "metadata": {
      "jupyter-vega": "#e30ceb2f-27a5-45c6-9b8d-3eb47c784cd7"
     },
     "output_type": "display_data"
    },
    {
     "data": {
      "image/png": "[encoded data removed]"
     },
     "metadata": {
      "jupyter-vega": "#b8b6cc19-df86-420a-a24b-4f5e2f160825"
     },
     "output_type": "display_data"
    },
    {
     "data": {
      "image/png": "[encoded data removed]"
     },
     "metadata": {
      "jupyter-vega": "#3c0e9f0b-4332-45d5-a858-3533623402e5"
     },
     "output_type": "display_data"
    },
    {
     "data": {
      "image/png": "[encoded data removed]"
     },
     "metadata": {
      "jupyter-vega": "#8260fc8a-1014-40b7-8043-06e4e70c3310"
     },
     "output_type": "display_data"
    },
    {
     "data": {
      "image/png": "[encoded data removed]"
     },
     "metadata": {
      "jupyter-vega": "#5217230f-3131-4b81-b010-93d57606e9a8"
     },
     "output_type": "display_data"
    },
    {
     "data": {
      "image/png": "[encoded data removed]"
     },
     "metadata": {
      "jupyter-vega": "#55acfc55-4c7a-41d6-ae56-75e51ae28961"
     },
     "output_type": "display_data"
    },
    {
     "data": {
      "image/png": "[encoded data removed]"
     },
     "metadata": {
      "jupyter-vega": "#4d11f0c0-dee2-444d-bb2b-c2189ecadbf3"
     },
     "output_type": "display_data"
    },
    {
     "data": {
      "image/png": "[encoded data removed]"
     },
     "metadata": {
      "jupyter-vega": "#a32a45ab-1cad-43d6-a2c0-af5e40ec8957"
     },
     "output_type": "display_data"
    },
    {
     "data": {
      "image/png": "[encoded data removed]"
     },
     "metadata": {
      "jupyter-vega": "#f73e5f13-3d58-439a-990f-30fd9123ca9b"
     },
     "output_type": "display_data"
    },
    {
     "data": {
      "image/png": "[encoded data removed]"
     },
     "metadata": {
      "jupyter-vega": "#d20f791c-2d6b-4f5d-973a-573c326195ba"
     },
     "output_type": "display_data"
    },
    {
     "data": {
      "image/png": "[encoded data removed]"
     },
     "metadata": {
      "jupyter-vega": "#19e55708-1624-4e7a-bdef-d27efbf9a7bb"
     },
     "output_type": "display_data"
    },
    {
     "data": {
      "image/png": "[encoded data removed]"
     },
     "metadata": {
      "jupyter-vega": "#d5e09d79-f203-44a7-91c7-97ce7bac37fd"
     },
     "output_type": "display_data"
    },
    {
     "data": {
      "image/png": "[encoded data removed]"
     },
     "metadata": {
      "jupyter-vega": "#35511b64-c266-44a6-a607-14a5a3f22080"
     },
     "output_type": "display_data"
    },
    {
     "data": {
      "image/png": "[encoded data removed]"
     },
     "metadata": {
      "jupyter-vega": "#847f51d6-b1da-42d6-8b23-8204bc5eedee"
     },
     "output_type": "display_data"
    },
    {
     "data": {
      "image/png": "[encoded data removed]"
     },
     "metadata": {
      "jupyter-vega": "#86452811-c756-4856-a379-d72237b804a6"
     },
     "output_type": "display_data"
    },
    {
     "data": {
      "image/png": "[encoded data removed]"
     },
     "metadata": {
      "jupyter-vega": "#fbbc8d29-cfa6-4fef-94e7-16e51fdec6bf"
     },
     "output_type": "display_data"
    },
    {
     "data": {
      "image/png": "[encoded data removed]"
     },
     "metadata": {
      "jupyter-vega": "#fc3b74c9-f2b1-4d3b-b621-058b197c42b7"
     },
     "output_type": "display_data"
    },
    {
     "data": {
      "image/png": "[encoded data removed]"
     },
     "metadata": {
      "jupyter-vega": "#8f5ebd44-63b2-4d2f-abf0-f72ad33a59d7"
     },
     "output_type": "display_data"
    },
    {
     "data": {
      "image/png": "[encoded data removed]"
     },
     "metadata": {
      "jupyter-vega": "#5da14285-f71c-4eb1-9422-e0f2b69d01e1"
     },
     "output_type": "display_data"
    },
    {
     "data": {
      "image/png": "[encoded data removed]"
     },
     "metadata": {
      "jupyter-vega": "#0191a18e-d32f-4e45-a01c-13f8073d4b88"
     },
     "output_type": "display_data"
    },
    {
     "data": {
      "image/png": "[encoded data removed]"
     },
     "metadata": {
      "jupyter-vega": "#8487c7fb-1ff9-48a1-9280-19b1b46c51b8"
     },
     "output_type": "display_data"
    },
    {
     "data": {
      "image/png": "[encoded data removed]"
     },
     "metadata": {
      "jupyter-vega": "#ac9a834f-cf55-4b45-9613-f9ba2dc721b4"
     },
     "output_type": "display_data"
    },
    {
     "data": {
      "image/png": "[encoded data removed]"
     },
     "metadata": {
      "jupyter-vega": "#9dba23cd-0fc4-4753-8f3a-283251acec79"
     },
     "output_type": "display_data"
    },
    {
     "data": {
      "image/png": "[encoded data removed]"
     },
     "metadata": {
      "jupyter-vega": "#a55a7f62-7a65-4e7d-9d78-1cb13a7d7a6d"
     },
     "output_type": "display_data"
    },
    {
     "data": {
      "image/png": "[encoded data removed]"
     },
     "metadata": {
      "jupyter-vega": "#5875931b-cbac-48d6-af63-e8cd5050c6e6"
     },
     "output_type": "display_data"
    },
    {
     "data": {
      "image/png": "[encoded data removed]"
     },
     "metadata": {
      "jupyter-vega": "#a49eb82b-50df-4a76-95a5-5d30c1bcf0ae"
     },
     "output_type": "display_data"
    },
    {
     "data": {
      "image/png": "[encoded data removed]"
     },
     "metadata": {
      "jupyter-vega": "#1313641c-ae28-47ff-974d-93674ecebcd7"
     },
     "output_type": "display_data"
    },
    {
     "data": {
      "image/png": "[encoded data removed]"
     },
     "metadata": {
      "jupyter-vega": "#87758da1-b483-425a-9caf-dd12e7edd7c7"
     },
     "output_type": "display_data"
    },
    {
     "data": {
      "image/png": "[encoded data removed]"
     },
     "metadata": {
      "jupyter-vega": "#e50f7eb1-9011-4001-a44f-23556932dce6"
     },
     "output_type": "display_data"
    },
    {
     "data": {
      "image/png": "[encoded data removed]"
     },
     "metadata": {
      "jupyter-vega": "#595f61c9-5280-4750-bf56-5d83c0fb66cb"
     },
     "output_type": "display_data"
    },
    {
     "data": {
      "image/png": "[encoded data removed]"
     },
     "metadata": {
      "jupyter-vega": "#461699a1-51f6-4459-aeb7-360c75a9c6b6"
     },
     "output_type": "display_data"
    },
    {
     "data": {
      "image/png": "[encoded data removed]"
     },
     "metadata": {
      "jupyter-vega": "#167108bc-e983-4051-bf9d-8d760c7961d7"
     },
     "output_type": "display_data"
    },
    {
     "data": {
      "image/png": "[encoded data removed]"
     },
     "metadata": {
      "jupyter-vega": "#256b034e-4413-44bc-ae51-7d5285187c13"
     },
     "output_type": "display_data"
    },
    {
     "data": {
      "image/png": "[encoded data removed]"
     },
     "metadata": {
      "jupyter-vega": "#23b007bf-32ee-4ed9-9555-ce53a29f7a66"
     },
     "output_type": "display_data"
    }
   ],
   "source": [
    "from ipywidgets import interact, interactive, fixed, interact_manual\n",
    "import ipywidgets as widgets\n",
    "import json\n",
    "import os\n",
    "from pprint import pprint \n",
    "\n",
    "from vega import VegaLite\n",
    "\n",
    "def prepare_spec(input_file):\n",
    "    print(input_file)\n",
    "    with open(input_file) as f:\n",
    "        spec_dir = os.path.dirname(input_file)\n",
    "        spec = json.load(f)\n",
    "        pprint(spec)\n",
    "        # add data directory to the spec to fix relative import\n",
    "        if \"url\" in spec[\"data\"]:\n",
    "            spec[\"data\"][\"url\"] = os.path.join(spec_dir, spec[\"data\"][\"url\"])\n",
    "            print(spec[\"data\"][\"url\"])\n",
    "        return VegaLite(spec)\n",
    "\n",
    "# render all charts in the dir\n",
    "def render_vegalite_dir(input_dir, max_display=10):\n",
    "    for i, fname in enumerate(sorted(os.listdir(input_dir))):\n",
    "        if fname.endswith(\".vl.json\"):\n",
    "            print(fname)\n",
    "            vl = prepare_spec(os.path.join(input_dir, fname))\n",
    "            vl.display()\n",
    "    \n",
    "# the input_file is relative to the notebook\n",
    "#interact(render_vegalite_dir, input_dir=\"__temp__\");\n",
    "\n",
    "render_vegalite_dir(\"__temp__\")"
   ]
  }
 ],
 "metadata": {
  "celltoolbar": "Raw Cell Format",
  "kernelspec": {
   "display_name": "Python 3",
   "language": "python",
   "name": "python3"
  },
  "language_info": {
   "codemirror_mode": {
    "name": "ipython",
    "version": 3
   },
   "file_extension": ".py",
   "mimetype": "text/x-python",
   "name": "python",
   "nbconvert_exporter": "python",
   "pygments_lexer": "ipython3",
   "version": "3.7.2"
  }
 },
 "nbformat": 4,
 "nbformat_minor": 2
}
