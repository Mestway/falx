{
 "cells": [
  {
   "cell_type": "code",
   "execution_count": 1,
   "metadata": {
    "scrolled": false
   },
   "outputs": [
    {
     "data": {
      "application/vnd.jupyter.widget-view+json": {
       "model_id": "1914f1d37f4a482d86a9e1d0334d20be",
       "version_major": 2,
       "version_minor": 0
      },
      "text/plain": [
       "interactive(children=(Text(value='__temp__', description='input_dir'), Output()), _dom_classes=('widget-intera…"
      ]
     },
     "metadata": {},
     "output_type": "display_data"
    }
   ],
   "source": [
    "from ipywidgets import interact, interactive, fixed, interact_manual\n",
    "import ipywidgets as widgets\n",
    "import json\n",
    "import os\n",
    "\n",
    "from vega import VegaLite\n",
    "\n",
    "def prepare_spec(input_file):\n",
    "    print(input_file)\n",
    "    with open(input_file) as f:\n",
    "        spec_dir = os.path.dirname(input_file)\n",
    "        spec = json.load(f)\n",
    "        # add data directory to the spec to fix relative import\n",
    "        if \"url\" in spec[\"data\"]:\n",
    "            spec[\"data\"][\"url\"] = os.path.join(spec_dir, spec[\"data\"][\"url\"])\n",
    "        return VegaLite(spec)\n",
    "\n",
    "# render all charts in the dir\n",
    "def render_vegalite_dir(input_dir):\n",
    "    for fname in sorted(os.listdir(input_dir)):\n",
    "        if fname.endswith(\".vl.json\"):\n",
    "            print(fname)\n",
    "            vl = prepare_spec(os.path.join(input_dir, fname))\n",
    "            vl.display()\n",
    "    \n",
    "# the input_file is relative to the notebook\n",
    "interact(render_vegalite_dir, input_dir=\"__temp__\");\n",
    "\n",
    "#render_vegalite_dir(\"__temp__\")"
   ]
  }
 ],
 "metadata": {
  "celltoolbar": "Raw Cell Format",
  "kernelspec": {
   "display_name": "Python 3",
   "language": "python",
   "name": "python3"
  },
  "language_info": {
   "codemirror_mode": {
    "name": "ipython",
    "version": 3
   },
   "file_extension": ".py",
   "mimetype": "text/x-python",
   "name": "python",
   "nbconvert_exporter": "python",
   "pygments_lexer": "ipython3",
   "version": "3.7.0"
  }
 },
 "nbformat": 4,
 "nbformat_minor": 2
}
