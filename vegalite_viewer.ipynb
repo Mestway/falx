{
 "cells": [
  {
   "cell_type": "code",
   "execution_count": 5,
   "metadata": {},
   "outputs": [
    {
     "data": {
      "application/vnd.jupyter.widget-view+json": {
       "model_id": "84433d669c0e4ff3b4087197e6bf1322",
       "version_major": 2,
       "version_minor": 0
      },
      "text/plain": [
       "A Jupyter Widget"
      ]
     },
     "metadata": {},
     "output_type": "display_data"
    }
   ],
   "source": [
    "from ipywidgets import interact, interactive, fixed, interact_manual\n",
    "import ipywidgets as widgets\n",
    "import json\n",
    "import os\n",
    "\n",
    "from vega import VegaLite\n",
    "\n",
    "def prepare_spec(input_file):\n",
    "    with open(input_file) as f:\n",
    "        spec_dir = os.path.dirname(input_file)\n",
    "        spec = json.load(f)\n",
    "        # add data directory to the spec to fix relative import\n",
    "        if \"url\" in spec[\"data\"]:\n",
    "            spec[\"data\"][\"url\"] = os.path.join(spec_dir, spec[\"data\"][\"url\"])\n",
    "        return VegaLite(spec)\n",
    "\n",
    "# render all charts in the dir\n",
    "def render_vegalite_dir(input_dir):\n",
    "    for fname in os.listdir(input_dir):\n",
    "        if fname.endswith(\".vl.json\"):\n",
    "            vl = prepare_spec(os.path.join(input_dir, fname))\n",
    "            vl.display()\n",
    "    \n",
    "# the input_file is relative to the notebook\n",
    "interact(render_vegalite_dir, input_dir=\"vl_examples\");\n",
    "\n",
    "#render_vegalite_lists(\"vl_examples\")"
   ]
  }
 ],
 "metadata": {
  "celltoolbar": "Raw Cell Format",
  "kernelspec": {
   "display_name": "Python 3",
   "language": "python",
   "name": "python3"
  },
  "language_info": {
   "codemirror_mode": {
    "name": "ipython",
    "version": 3
   },
   "file_extension": ".py",
   "mimetype": "text/x-python",
   "name": "python",
   "nbconvert_exporter": "python",
   "pygments_lexer": "ipython3",
   "version": "3.6.3"
  }
 },
 "nbformat": 4,
 "nbformat_minor": 2
}
