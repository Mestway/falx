{
 "cells": [
  {
   "cell_type": "code",
   "execution_count": 2,
   "metadata": {},
   "outputs": [
    {
     "data": {
      "application/vnd.jupyter.widget-view+json": {
       "model_id": "c4b4995d0bab4329b05639d24562c018",
       "version_major": 2,
       "version_minor": 0
      },
      "text/plain": [
       "A Jupyter Widget"
      ]
     },
     "metadata": {},
     "output_type": "display_data"
    }
   ],
   "source": [
    "# from ipywidgets import interact, interactive, fixed, interact_manual\n",
    "import ipywidgets as widgets\n",
    "import json\n",
    "import os\n",
    "\n",
    "from vega import VegaLite\n",
    "\n",
    "def render_vegalite(input_file, data_dir):\n",
    "    with open(input_file) as f:\n",
    "        spec = json.load(f)\n",
    "        # add data directory to the spec to fix relative import\n",
    "        if \"url\" in spec[\"data\"] and data_dir != \"\":\n",
    "            spec[\"data\"][\"url\"] = os.path.join(data_dir, spec[\"data\"][\"url\"])\n",
    "        return VegaLite(spec)\n",
    "\n",
    "interact(render_vegalite,\n",
    "         input_file=\"vl_spec/histogram.json\",\n",
    "         data_dir=\"vl_data/\");\n"
   ]
  }
 ],
 "metadata": {
  "celltoolbar": "Raw Cell Format",
  "kernelspec": {
   "display_name": "Python 3",
   "language": "python",
   "name": "python3"
  },
  "language_info": {
   "codemirror_mode": {
    "name": "ipython",
    "version": 3
   },
   "file_extension": ".py",
   "mimetype": "text/x-python",
   "name": "python",
   "nbconvert_exporter": "python",
   "pygments_lexer": "ipython3",
   "version": "3.6.3"
  }
 },
 "nbformat": 4,
 "nbformat_minor": 2
}
